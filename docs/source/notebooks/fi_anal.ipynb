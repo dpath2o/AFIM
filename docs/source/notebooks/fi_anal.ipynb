{
 "cells": [
  {
   "cell_type": "code",
   "execution_count": 1,
   "id": "c8a1f3b2-7007-44e3-9206-1b18eae4c194",
   "metadata": {},
   "outputs": [],
   "source": [
    "import sys, os, pygmt\n",
    "sys.path.insert(0, '/home/581/da1339/AFIM/src/python')\n",
    "from fast_ice_processor import FastIceProcessor\n",
    "#from fast_ice_plotter   import FastIcePlotter\n",
    "from pack_ice_processor import PackIceProcessor\n",
    "from sea_ice_plotter    import SeaIcePlotter\n",
    "#from grounded_iceberg_processor import GroundedIcebergProcessor\n",
    "import numpy            as np\n",
    "import pandas           as pd\n",
    "import xarray           as xr\n",
    "from datetime           import timedelta, date, datetime"
   ]
  },
  {
   "cell_type": "code",
   "execution_count": 3,
   "id": "6c923346-8555-4f14-ad7f-d041691a5d76",
   "metadata": {
    "collapsed": true,
    "jupyter": {
     "outputs_hidden": true,
     "source_hidden": true
    }
   },
   "outputs": [
    {
     "name": "stderr",
     "output_type": "stream",
     "text": [
      "2025-03-30 06:32:41,527 - INFO - \n",
      "\n",
      "Processing PI window centered on 1993-08-14 00:00:00 for southern hemisphere\n",
      "2025-03-30 06:32:57,266 - INFO - Loaded dataset with shape: Frozen({'time': 15, 'nj': 1080, 'ni': 1440})\n",
      "INFO:Cstar-max_PI:Loaded dataset with shape: Frozen({'time': 15, 'nj': 1080, 'ni': 1440})\n",
      "2025-03-30 06:32:57,821 - INFO - Regridding uvel and vvel to T-grid...\n",
      "INFO:Cstar-max_PI:Regridding uvel and vvel to T-grid...\n",
      "--------------------------------------------------------------------------\n",
      "WARNING: There was an error initializing an OpenFabrics device.\n",
      "\n",
      "  Local host:   gadi-hmem-clx-0039\n",
      "  Local device: mlx5_0\n",
      "--------------------------------------------------------------------------\n",
      "2025-03-30 06:37:39,690 - INFO - compute pack ice 1D variables:\n",
      "INFO:Cstar-max_PI:compute pack ice 1D variables:\n",
      "2025-03-30 06:37:41,078 - INFO - \ttime taken: 1.3746061325073242 seconds\n",
      "INFO:Cstar-max_PI:\ttime taken: 1.3746061325073242 seconds\n",
      "2025-03-30 06:37:41,081 - INFO - \ttime taken: 1.3779168128967285 seconds\n",
      "INFO:Cstar-max_PI:\ttime taken: 1.3779168128967285 seconds\n",
      "2025-03-30 06:37:41,082 - INFO - coarsen pack ice rolling averages to 15-days--i.e. 3D variables\n",
      "INFO:Cstar-max_PI:coarsen pack ice rolling averages to 15-days--i.e. 3D variables\n",
      "2025-03-30 06:37:41,842 - INFO - \ttime taken: 0.7585623264312744 seconds\n",
      "INFO:Cstar-max_PI:\ttime taken: 0.7585623264312744 seconds\n",
      "2025-03-30 06:37:41,844 - INFO - compute temporal sums to give spatial distributions over time--i.e. 2D variables\n",
      "INFO:Cstar-max_PI:compute temporal sums to give spatial distributions over time--i.e. 2D variables\n",
      "2025-03-30 06:37:41,846 - INFO - \ttemporal mean over the period 1993-08-07 to 1993-08-21\n",
      "INFO:Cstar-max_PI:\ttemporal mean over the period 1993-08-07 to 1993-08-21\n",
      "2025-03-30 06:37:42,041 - INFO - \ttime taken: 0.1925971508026123 seconds\n",
      "INFO:Cstar-max_PI:\ttime taken: 0.1925971508026123 seconds\n",
      "2025-03-30 06:37:42,042 - INFO - create output dataset:\n",
      "INFO:Cstar-max_PI:create output dataset:\n",
      "2025-03-30 06:37:42,049 - INFO - \ttime taken: 0.0058422088623046875 seconds\n",
      "INFO:Cstar-max_PI:\ttime taken: 0.0058422088623046875 seconds\n",
      "2025-03-30 06:37:42,054 - INFO - Pack ice processing complete.\n",
      "INFO:Cstar-max_PI:Pack ice processing complete.\n"
     ]
    }
   ],
   "source": [
    "dt_test  = datetime(1993,8,14)\n",
    "sim_name  = 'Cstar-max'\n",
    "PI_proc  = PackIceProcessor(sim_name)\n",
    "PI       = PI_proc.process_window(dt_test, save_zarr=False)"
   ]
  },
  {
   "cell_type": "code",
   "execution_count": null,
   "id": "c8edc380-86f1-4f0c-b4e1-fb9cf5d469eb",
   "metadata": {},
   "outputs": [],
   "source": [
    "dt0_str  = \"1993-01-01\"\n",
    "dtN_str  = \"1993-12-31\"\n",
    "sim_names = [\n",
    "    \"ustar-low\", \"Cstar-max\", \"Cstar-min\", \"Pstar-max\", \"Pstar-min\",\n",
    "    \"ktens-nil\", \"ktens-min\", \"ktens-max\", \"gi-max\", \"gi-min\",\n",
    "    \"Rothrock\", \"elps-pack\", \"elps-fast\", \"elps-max\", \"elps-def\",\n",
    "    \"elps-mid\", \"baseline\"\n",
    "]\n",
    "for sim_name in sim_names:\n",
    "    FI_plot  = FastIcePlotter(sim_name, dt0_str, dtN_str, show_figs=False, overwrite=True, single_figure=False)\n",
    "    FI_plot.prepare_data_for_plotting(var_name='FISH_SD')\n",
    "    FI_plot.plot_regions()"
   ]
  },
  {
   "cell_type": "code",
   "execution_count": 2,
   "id": "6e290a55-f765-4a6c-a9b9-39cc73c84cf0",
   "metadata": {},
   "outputs": [
    {
     "ename": "FileNotFoundError",
     "evalue": "No Zarr files found in /g/data/gv90/da1339/afim_output/ktens-max/PI",
     "output_type": "error",
     "traceback": [
      "\u001b[0;31m---------------------------------------------------------------------------\u001b[0m",
      "\u001b[0;31mFileNotFoundError\u001b[0m                         Traceback (most recent call last)",
      "Cell \u001b[0;32mIn[2], line 4\u001b[0m\n\u001b[1;32m      2\u001b[0m dtN_str  \u001b[38;5;241m=\u001b[39m \u001b[38;5;124m\"\u001b[39m\u001b[38;5;124m1994-12-31\u001b[39m\u001b[38;5;124m\"\u001b[39m\n\u001b[1;32m      3\u001b[0m sim_name \u001b[38;5;241m=\u001b[39m \u001b[38;5;124m'\u001b[39m\u001b[38;5;124mktens-max\u001b[39m\u001b[38;5;124m'\u001b[39m\n\u001b[0;32m----> 4\u001b[0m plotter \u001b[38;5;241m=\u001b[39m \u001b[43mSeaIcePlotter\u001b[49m\u001b[43m(\u001b[49m\u001b[43msim_name\u001b[49m\u001b[43m,\u001b[49m\u001b[43m \u001b[49m\u001b[43mdt0_str\u001b[49m\u001b[43m,\u001b[49m\u001b[43m \u001b[49m\u001b[43mdtN_str\u001b[49m\u001b[43m,\u001b[49m\u001b[43m \u001b[49m\u001b[43mshow_figs\u001b[49m\u001b[38;5;241;43m=\u001b[39;49m\u001b[38;5;28;43;01mTrue\u001b[39;49;00m\u001b[43m,\u001b[49m\u001b[43m \u001b[49m\u001b[43mice_type\u001b[49m\u001b[38;5;241;43m=\u001b[39;49m\u001b[38;5;124;43m'\u001b[39;49m\u001b[38;5;124;43mPI\u001b[39;49m\u001b[38;5;124;43m'\u001b[39;49m\u001b[43m)\u001b[49m\n\u001b[1;32m      5\u001b[0m plotter\u001b[38;5;241m.\u001b[39mplot_timeseries(var_names\u001b[38;5;241m=\u001b[39m[\u001b[38;5;124m\"\u001b[39m\u001b[38;5;124mPI_STRESS\u001b[39m\u001b[38;5;124m\"\u001b[39m])\n\u001b[1;32m      6\u001b[0m plotter\u001b[38;5;241m.\u001b[39mplot_timeseries_compare(\n\u001b[1;32m      7\u001b[0m     comparison_name \u001b[38;5;241m=\u001b[39m \u001b[38;5;124m\"\u001b[39m\u001b[38;5;124mtensile-stars\u001b[39m\u001b[38;5;124m\"\u001b[39m,\n\u001b[1;32m      8\u001b[0m     sim_names       \u001b[38;5;241m=\u001b[39m [\u001b[38;5;124m\"\u001b[39m\u001b[38;5;124mbaseline\u001b[39m\u001b[38;5;124m\"\u001b[39m, \u001b[38;5;124m\"\u001b[39m\u001b[38;5;124mktens-max\u001b[39m\u001b[38;5;124m\"\u001b[39m, \u001b[38;5;124m\"\u001b[39m\u001b[38;5;124mPstar-max\u001b[39m\u001b[38;5;124m\"\u001b[39m, \u001b[38;5;124m\"\u001b[39m\u001b[38;5;124mCstar-min\u001b[39m\u001b[38;5;124m\"\u001b[39m],\n\u001b[0;32m   (...)\u001b[0m\n\u001b[1;32m     12\u001b[0m                        \u001b[38;5;124m\"\u001b[39m\u001b[38;5;124mPstar-max\u001b[39m\u001b[38;5;124m\"\u001b[39m : \u001b[38;5;124m\"\u001b[39m\u001b[38;5;124mtensile = 0.2, Pstar = 5e4   , Cstar = 20\u001b[39m\u001b[38;5;124m\"\u001b[39m,\n\u001b[1;32m     13\u001b[0m                        \u001b[38;5;124m\"\u001b[39m\u001b[38;5;124mCstar-min\u001b[39m\u001b[38;5;124m\"\u001b[39m : \u001b[38;5;124m\"\u001b[39m\u001b[38;5;124mtensile = 0.2, Pstar = 2.75e4, Cstar = 10\u001b[39m\u001b[38;5;124m\"\u001b[39m})\n",
      "File \u001b[0;32m~/AFIM/src/python/sea_ice_plotter.py:138\u001b[0m, in \u001b[0;36mSeaIcePlotter.__init__\u001b[0;34m(self, sim_name, dt0_str, dtN_str, json_path, hemisphere, overwrite, show_figs, prepare, single_figure, ice_type)\u001b[0m\n\u001b[1;32m    136\u001b[0m     \u001b[38;5;28mself\u001b[39m\u001b[38;5;241m.\u001b[39mdtN_str \u001b[38;5;241m=\u001b[39m \u001b[38;5;28;01mNone\u001b[39;00m\n\u001b[1;32m    137\u001b[0m \u001b[38;5;28;01melse\u001b[39;00m:\n\u001b[0;32m--> 138\u001b[0m     zarr_pairs \u001b[38;5;241m=\u001b[39m \u001b[38;5;28;43mself\u001b[39;49m\u001b[38;5;241;43m.\u001b[39;49m\u001b[43m_find_nearest_zarr_file\u001b[49m\u001b[43m(\u001b[49m\u001b[43mdt0_str\u001b[49m\u001b[43m,\u001b[49m\u001b[43m \u001b[49m\u001b[43mend_date_str\u001b[49m\u001b[38;5;241;43m=\u001b[39;49m\u001b[43mdtN_str\u001b[49m\u001b[43m)\u001b[49m\n\u001b[1;32m    139\u001b[0m     \u001b[38;5;28mself\u001b[39m\u001b[38;5;241m.\u001b[39mP_zarr_list     \u001b[38;5;241m=\u001b[39m [p \u001b[38;5;28;01mfor\u001b[39;00m p, _ \u001b[38;5;129;01min\u001b[39;00m zarr_pairs]\n\u001b[1;32m    140\u001b[0m     \u001b[38;5;28mself\u001b[39m\u001b[38;5;241m.\u001b[39mplt_dt_str_list \u001b[38;5;241m=\u001b[39m [d \u001b[38;5;28;01mfor\u001b[39;00m _, d \u001b[38;5;129;01min\u001b[39;00m zarr_pairs]\n",
      "File \u001b[0;32m~/AFIM/src/python/sea_ice_plotter.py:186\u001b[0m, in \u001b[0;36mSeaIcePlotter._find_nearest_zarr_file\u001b[0;34m(self, start_date_str, end_date_str)\u001b[0m\n\u001b[1;32m    184\u001b[0m all_files \u001b[38;5;241m=\u001b[39m \u001b[38;5;28msorted\u001b[39m(\u001b[38;5;28mself\u001b[39m\u001b[38;5;241m.\u001b[39mD_FI\u001b[38;5;241m.\u001b[39mglob(\u001b[38;5;124mf\u001b[39m\u001b[38;5;124m\"\u001b[39m\u001b[38;5;132;01m{\u001b[39;00mF_prefix\u001b[38;5;132;01m}\u001b[39;00m\u001b[38;5;124m_ice_*.zarr\u001b[39m\u001b[38;5;124m\"\u001b[39m))\n\u001b[1;32m    185\u001b[0m \u001b[38;5;28;01mif\u001b[39;00m \u001b[38;5;129;01mnot\u001b[39;00m all_files:\n\u001b[0;32m--> 186\u001b[0m     \u001b[38;5;28;01mraise\u001b[39;00m \u001b[38;5;167;01mFileNotFoundError\u001b[39;00m(\u001b[38;5;124mf\u001b[39m\u001b[38;5;124m\"\u001b[39m\u001b[38;5;124mNo Zarr files found in \u001b[39m\u001b[38;5;132;01m{\u001b[39;00m\u001b[38;5;28mself\u001b[39m\u001b[38;5;241m.\u001b[39mD_FI\u001b[38;5;132;01m}\u001b[39;00m\u001b[38;5;124m\"\u001b[39m)\n\u001b[1;32m    187\u001b[0m file_dates \u001b[38;5;241m=\u001b[39m [(f, extract_date(f)) \u001b[38;5;28;01mfor\u001b[39;00m f \u001b[38;5;129;01min\u001b[39;00m all_files]\n\u001b[1;32m    188\u001b[0m \u001b[38;5;28;01mif\u001b[39;00m end_date_str \u001b[38;5;129;01mis\u001b[39;00m \u001b[38;5;28;01mNone\u001b[39;00m:\n",
      "\u001b[0;31mFileNotFoundError\u001b[0m: No Zarr files found in /g/data/gv90/da1339/afim_output/ktens-max/PI"
     ]
    }
   ],
   "source": [
    "dt0_str  = \"1993-01-30\"\n",
    "dtN_str  = \"1994-12-31\"\n",
    "sim_name = 'ktens-max'\n",
    "plotter = SeaIcePlotter(sim_name, dt0_str, dtN_str, show_figs=True, ice_type='PI')\n",
    "plotter.plot_timeseries(var_names=[\"PI_STRESS\"])\n",
    "plotter.plot_timeseries_compare(\n",
    "    comparison_name = \"tensile-stars\",\n",
    "    sim_names       = [\"baseline\", \"ktens-max\", \"Pstar-max\", \"Cstar-min\"],\n",
    "    var_name        = \"PIA\",\n",
    "    label_dict      = {\"baseline\"  : \"tensile = 0.2, Pstar = 2.75e4, Cstar = 20\",\n",
    "                       \"ktens-max\" : \"tensile = 0.3, Pstar = 2.75e4, Cstar = 20\",\n",
    "                       \"Pstar-max\" : \"tensile = 0.2, Pstar = 5e4   , Cstar = 20\",\n",
    "                       \"Cstar-min\" : \"tensile = 0.2, Pstar = 2.75e4, Cstar = 10\"})"
   ]
  },
  {
   "cell_type": "code",
   "execution_count": null,
   "id": "529a065e-352e-42ad-95a0-06bbcdb00fdb",
   "metadata": {},
   "outputs": [],
   "source": [
    "afim_anal = AFIM.analysis()\n",
    "if 'hs' in list(afim_anal.plot_var_dict.keys()):\n",
    "    print(False)"
   ]
  },
  {
   "cell_type": "code",
   "execution_count": null,
   "id": "9e1384ea-4f22-4134-bd30-f6e49a6edc89",
   "metadata": {},
   "outputs": [],
   "source": [
    "# After the loop, create an animation using ffmpeg (example command)\n",
    "# Assuming you're working in a Unix-like environment with ffmpeg installed:\n",
    "for region_name in regions:\n",
    "    D_save = f\"/g/data/jk72/da1339/GRAPHICAL/AFIM/{run_name}/{var_name}/regional_cartopy/{region_name}\"\n",
    "    D_ani  = f\"/g/data/jk72/da1339/GRAPHICAL/animations\"\n",
    "    os.system(f\"ffmpeg -framerate 2 -pattern_type glob -i '{D_save}/*.png' -c:v libx264 -pix_fmt yuv420p {D_ani}/{run_name}_{var_name}_{region_name}.mp4\")"
   ]
  },
  {
   "cell_type": "code",
   "execution_count": null,
   "id": "8fdbe334-5b18-4ca2-9ed2-77cbf7bd5af4",
   "metadata": {},
   "outputs": [],
   "source": [
    "from pathlib import Path\n",
    "\n",
    "sim_names = [\n",
    "    \"Cstar-max\", \"Cstar-min\", \"Pstar-max\", \"Pstar-min\", \"Rothrock\", \"baseline\",\n",
    "    \"elps-def\", \"elps-fast\", \"elps-max\", \"elps-mid\", \"elps-pack\", \"gi-max\",\n",
    "    \"gi-min\", \"ktens-max\", \"ktens-min\", \"ktens-nil\", \"oras-sfc-ctl\", \"ustar-low\", \"van_achter\"]\n",
    "\n",
    "pbs_template = \"\"\"#!/bin/bash\n",
    "#PBS -N PI-proc-{name}\n",
    "#PBS -P gv90\n",
    "#PBS -l walltime=10:00:00\n",
    "#PBS -q normalbw\n",
    "#PBS -l mem=20GB\n",
    "#PBS -l ncpus=28\n",
    "#PBS -l storage=gdata/cj50+gdata/jk72+scratch/jk72+gdata/ik11+gdata/hh5+gdata/rt52+gdata/gb6+gdata/gv90\n",
    "#PBS -M daniel.atwater@utas.edu.au\n",
    "\n",
    "module purge\n",
    "module use /g/data/hh5/public/modules\n",
    "module load conda/analysis3\n",
    "\n",
    "cd ~/AFIM/src/python/\n",
    "python3 ./compute_pack_ice.py {name}\n",
    "\"\"\"\n",
    "\n",
    "output_dir = Path(\"/home/581/da1339/AFIM/src/sh/analysis\")\n",
    "output_dir.mkdir(exist_ok=True)\n",
    "\n",
    "for sim in sim_names:\n",
    "    script_content = pbs_template.format(name=sim)\n",
    "    script_path = Path(output_dir,f\"PI-proc_{sim}.pbs\")\n",
    "    with open(script_path, \"w\") as f:\n",
    "        f.write(script_content)\n",
    "print(f\"✓ Generated {len(sim_names)} PBS scripts in: {output_dir.resolve()}\")"
   ]
  },
  {
   "cell_type": "code",
   "execution_count": null,
   "id": "6e4db5b6-84b4-45e3-8813-e58466093078",
   "metadata": {},
   "outputs": [],
   "source": []
  }
 ],
 "metadata": {
  "kernelspec": {
   "display_name": "Python [conda env:analysis3-24.04] *",
   "language": "python",
   "name": "conda-env-analysis3-24.04-py"
  },
  "language_info": {
   "codemirror_mode": {
    "name": "ipython",
    "version": 3
   },
   "file_extension": ".py",
   "mimetype": "text/x-python",
   "name": "python",
   "nbconvert_exporter": "python",
   "pygments_lexer": "ipython3",
   "version": "3.10.14"
  }
 },
 "nbformat": 4,
 "nbformat_minor": 5
}
