{
 "cells": [
  {
   "cell_type": "code",
   "execution_count": 1,
   "id": "c94baf4e-8455-4287-8b7e-303d6feb8159",
   "metadata": {},
   "outputs": [],
   "source": [
    "import sys, os, pygmt\n",
    "sys.path.insert(0, '/home/581/da1339/AFIM/src/AFIM/src')\n",
    "from sea_ice_processor          import SeaIceProcessor\n",
    "from sea_ice_plotter            import SeaIcePlotter\n",
    "from grounded_iceberg_processor import GroundedIcebergProcessor\n",
    "from datetime                   import timedelta, date, datetime\n",
    "from pathlib                    import Path\n",
    "from dask.distributed           import Client, LocalCluster\n",
    "import numpy                    as np\n",
    "import pandas                   as pd\n",
    "import xarray                   as xr\n",
    "import xesmf                    as xe\n",
    "import matplotlib.pyplot        as plt\n",
    "import matplotlib.dates         as mdates"
   ]
  },
  {
   "cell_type": "code",
   "execution_count": 28,
   "id": "b23eae6c-80db-4c83-ae56-a9e36d6cc1a7",
   "metadata": {},
   "outputs": [],
   "source": [
    "import sys\n",
    "import importlib\n",
    "# Add your local module path only once\n",
    "mod_path = '/home/581/da1339/AFIM/src/AFIM/src'\n",
    "if mod_path not in sys.path:\n",
    "    sys.path.insert(0, mod_path)\n",
    "# Import module *objects* first\n",
    "import sea_ice_processor\n",
    "import sea_ice_plotter\n",
    "import grounded_iceberg_processor\n",
    "# Reload them if they were edited\n",
    "importlib.reload(sea_ice_processor)\n",
    "importlib.reload(sea_ice_plotter)\n",
    "importlib.reload(grounded_iceberg_processor)\n",
    "# Then (re)import the classes from the reloaded modules\n",
    "from sea_ice_processor import SeaIceProcessor\n",
    "from sea_ice_plotter import SeaIcePlotter\n",
    "from grounded_iceberg_processor import GroundedIcebergProcessor"
   ]
  },
  {
   "cell_type": "markdown",
   "id": "06f6a975-728f-4256-b2e2-c63ea634726b",
   "metadata": {},
   "source": [
    "# grounded icebergs"
   ]
  },
  {
   "cell_type": "code",
   "execution_count": null,
   "id": "5e66eac8-29a4-4ea2-8873-68718cfe7777",
   "metadata": {},
   "outputs": [],
   "source": [
    "GI_proc = GroundedIcebergProcessor()\n",
    "GI_proc.process_raw_grounded_iceberg_database()\n",
    "GI_proc.modify_landmask_with_grounded_icebergs(p_min=0.1, p_max=0.9, scaling_exponent=.35)"
   ]
  },
  {
   "cell_type": "code",
   "execution_count": null,
   "id": "6ace0ef4-b8f5-4f12-be3a-882cac657fc5",
   "metadata": {},
   "outputs": [],
   "source": [
    "GI_proc.write_modified_landmask_and_counts_to_disk(write=True, overwrite=True)"
   ]
  },
  {
   "cell_type": "code",
   "execution_count": null,
   "id": "a1ecaecd-14ca-4bda-b712-3d4d5bc6c80e",
   "metadata": {},
   "outputs": [],
   "source": [
    "SP = SeaIcePlotter(ice_type='GI', sim_name='baseline', show_fig = True, save_fig = True, )\n",
    "KMT1 = xr.open_dataset(\"/g/data/gv90/da1339/grounded_icebergs/MyThin_db/kmt_mod_thinned-0p75_v1p50_POSSIBLE_ERROR.nc\")\n",
    "KMT2 = xr.open_dataset(\"/g/data/gv90/da1339/grounded_icebergs/MyThin_db/kmt_mod_thinned-0p75_v1p50.nc\")\n",
    "SP.plot_sectors_grounded_icebergs(KMT2=KMT2,save_dir=\"0p25\", filename_extras=\"POSSIBLE-ERRORS_v_Revised\")"
   ]
  },
  {
   "cell_type": "code",
   "execution_count": 6,
   "id": "ebea1bcf-ee5d-454c-b8df-bd02440fe95a",
   "metadata": {},
   "outputs": [
    {
     "name": "stdout",
     "output_type": "stream",
     "text": [
      "MOD KMT LAND CELL COUNT: 969226\n",
      "ORG KMT LAND CELL COUNT: 969809\n",
      "Total mismatches: 583\n",
      "Unique values in KMT MODIFIED: [0. 1.]\n",
      "Unique values in KMT ORIGINAL: [0. 1.]\n",
      "🔍 Found 583 grid cells where 1s were removed\n"
     ]
    }
   ],
   "source": [
    "P_kmt_mod = \"/g/data/gv90/da1339/grounded_icebergs/MyThin_db/kmt_mod_thinned-0p75_v1p50.nc\"\n",
    "P_kmt_org = \"/g/data/gv90/da1339/grounded_icebergs/MyThin_db/KMT_original_reformatted_with_coordinates.nc\"\n",
    "ds_mod    = xr.open_dataset(P_kmt_mod)\n",
    "ds_org    = xr.open_dataset(P_kmt_org)\n",
    "kmt_mod   = ds_mod['kmt'].values\n",
    "kmt_org   = ds_org['kmt'].values\n",
    "lat       = ds_mod['lat']\n",
    "lon       = ds_mod['lon']\n",
    "print(\"MOD KMT LAND CELL COUNT:\", np.sum(kmt_mod == 1))\n",
    "print(\"ORG KMT LAND CELL COUNT:\", np.sum(kmt_org == 1))\n",
    "print(\"Total mismatches:\", np.sum(kmt_mod != kmt_org))\n",
    "print(\"Unique values in KMT MODIFIED:\", np.unique(kmt_mod))\n",
    "print(\"Unique values in KMT ORIGINAL:\", np.unique(kmt_org))\n",
    "assert kmt_mod.shape == kmt_org.shape == lat.shape == lon.shape\n",
    "mask_diff = (kmt_org == 1) & (kmt_mod != 1)\n",
    "lat_diff  = lat.where(mask_diff)\n",
    "lon_diff  = lon.where(mask_diff)\n",
    "mask_flat = ~np.isnan(lat_diff)\n",
    "lat_diff  = lat_diff.values[mask_flat]\n",
    "lon_diff  = lon_diff.values[mask_flat]\n",
    "print(f\"🔍 Found {lat_diff.size} grid cells where 1s were removed\")"
   ]
  },
  {
   "cell_type": "markdown",
   "id": "a825c77b-15eb-45b8-a70e-a390adb04128",
   "metadata": {},
   "source": [
    "# process for fast ice using SeaIceProcessor()"
   ]
  },
  {
   "cell_type": "code",
   "execution_count": null,
   "id": "16ceb608-434c-44cd-b138-75b9b1f29906",
   "metadata": {
    "jupyter": {
     "source_hidden": true
    }
   },
   "outputs": [],
   "source": [
    "cluster = LocalCluster(n_workers=28, threads_per_worker=1, memory_limit='6GB')\n",
    "client = Client(cluster)\n",
    "print(\"✅ Dask dashboard:\", client.dashboard_link)"
   ]
  },
  {
   "cell_type": "code",
   "execution_count": null,
   "id": "5eb5cd47-be7c-45fe-96bd-7d40e95e6978",
   "metadata": {
    "jupyter": {
     "source_hidden": true
    },
    "scrolled": true
   },
   "outputs": [],
   "source": [
    "sim_name   = \"gi-mid\"\n",
    "SI_proc    = SeaIceProcessor(sim_name=sim_name)\n",
    "SI_proc.process_daily_cice( dt0_str=\"1993-09-01\", dtN_str=\"1993-09-30\" , ispd_thresh=5e-4 )\n",
    "SI_proc.process_rolling_cice( dt0_str=\"1993-09-01\", dtN_str=\"1993-09-30\" , ispd_thresh=5e-4 )"
   ]
  },
  {
   "cell_type": "code",
   "execution_count": 2,
   "id": "76105dab-51b4-489c-919a-c9f2b4ffc28c",
   "metadata": {},
   "outputs": [
    {
     "name": "stderr",
     "output_type": "stream",
     "text": [
      "2025-05-18 15:52:32,596 - INFO - log file intialised: /g/data/gv90/da1339/logs/SeaIceProcessor_FI_gi-mid.log\n",
      "2025-05-18 15:52:40,524 - INFO - hemisphere initialised: south\n",
      "INFO:gi-mid:hemisphere initialised: south\n",
      "2025-05-18 15:52:56,294 - INFO - ✅ Loaded FI_B: 2556 time steps from 84 files\n",
      "INFO:gi-mid:✅ Loaded FI_B: 2556 time steps from 84 files\n",
      "2025-05-18 15:53:12,312 - INFO - ✅ Loaded FI_Ta: 2556 time steps from 84 files\n",
      "INFO:gi-mid:✅ Loaded FI_Ta: 2556 time steps from 84 files\n",
      "2025-05-18 15:53:26,411 - INFO - ✅ Loaded FI_Tx: 2556 time steps from 84 files\n",
      "INFO:gi-mid:✅ Loaded FI_Tx: 2556 time steps from 84 files\n",
      "2025-05-18 15:53:40,119 - INFO - ✅ Loaded FI_B: 2556 time steps from 84 files\n",
      "INFO:gi-mid:✅ Loaded FI_B: 2556 time steps from 84 files\n",
      "2025-05-18 15:53:55,319 - INFO - ✅ Loaded FI_Ta: 2556 time steps from 84 files\n",
      "INFO:gi-mid:✅ Loaded FI_Ta: 2556 time steps from 84 files\n",
      "2025-05-18 15:54:05,773 - INFO - ✅ Loaded FI_Tx: 2556 time steps from 84 files\n",
      "INFO:gi-mid:✅ Loaded FI_Tx: 2556 time steps from 84 files\n",
      "2025-05-18 15:54:26,968 - INFO - ✅ Loaded SO: 2556 time steps from 84 files\n",
      "INFO:gi-mid:✅ Loaded SO: 2556 time steps from 84 files\n"
     ]
    }
   ],
   "source": [
    "sim_name    = \"gi-mid\"\n",
    "ispd_thresh = 1e-3\n",
    "ispd_str    = f\"{ispd_thresh:.1e}\".replace(\"e-0\", \"e-\") \n",
    "SI_proc     = SeaIceProcessor(sim_name=sim_name)\n",
    "FI_B        = SI_proc.load_processed_cice( ispd_thresh=ispd_thresh, rolling=False, ice_type=\"FI_B\" , chunks={\"time\": 10})\n",
    "FI_Ta       = SI_proc.load_processed_cice( ispd_thresh=ispd_thresh, rolling=False, ice_type=\"FI_Ta\", chunks={\"time\": 10})\n",
    "FI_Tx       = SI_proc.load_processed_cice( ispd_thresh=ispd_thresh, rolling=False, ice_type=\"FI_Tx\", chunks={\"time\": 10})\n",
    "FI_B_roll   = SI_proc.load_processed_cice( ispd_thresh=ispd_thresh, rolling=True , ice_type=\"FI_B\" , chunks={\"time\": 10})\n",
    "FI_Ta_roll  = SI_proc.load_processed_cice( ispd_thresh=ispd_thresh, rolling=True , ice_type=\"FI_Ta\", chunks={\"time\": 10}) \n",
    "FI_Tx_roll  = SI_proc.load_processed_cice( ispd_thresh=ispd_thresh, rolling=True , ice_type=\"FI_Tx\", chunks={\"time\": 10})\n",
    "SO          = SI_proc.load_processed_cice( ice_type=\"SO\" )"
   ]
  },
  {
   "cell_type": "code",
   "execution_count": 3,
   "id": "b5bb5d2e-84e1-42bd-a1eb-95b939d3888a",
   "metadata": {},
   "outputs": [
    {
     "name": "stderr",
     "output_type": "stream",
     "text": [
      "2025-05-18 15:54:27,001 - INFO - 🔁 Rolling boolean presence: window = 7, min_count = 6\n",
      "INFO:gi-mid:🔁 Rolling boolean presence: window = 7, min_count = 6\n",
      "2025-05-18 16:12:19,328 - INFO - 🔁 Rolling boolean presence: window = 7, min_count = 6\n",
      "INFO:gi-mid:🔁 Rolling boolean presence: window = 7, min_count = 6\n"
     ]
    }
   ],
   "source": [
    "FI_B_bool_mask  = SI_proc.boolean_fast_ice(FI_B['FI_mask'], dim=\"time\", window=7, min_count=6)\n",
    "FI_Ta_bool_mask = SI_proc.boolean_fast_ice(FI_Ta['FI_mask'], dim=\"time\", window=7, min_count=6)\n",
    "FI_B_bool       = SO.where(FI_B_bool_mask)\n",
    "FI_Ta_bool      = SO.where(FI_Ta_bool_mask)"
   ]
  },
  {
   "cell_type": "code",
   "execution_count": 27,
   "id": "38465d40-fc16-4233-92ca-943c0d59539f",
   "metadata": {},
   "outputs": [
    {
     "name": "stderr",
     "output_type": "stream",
     "text": [
      "2025-05-18 18:50:17,191 - INFO - 🧮 Spatially-integrating the product of sea ice concentrations and grid cell areas\n",
      "INFO:gi-mid:🧮 Spatially-integrating the product of sea ice concentrations and grid cell areas\n",
      "2025-05-18 18:51:25,304 - INFO - 🧮 Spatially-integrating the product of sea ice concentrations and grid cell areas\n",
      "INFO:gi-mid:🧮 Spatially-integrating the product of sea ice concentrations and grid cell areas\n",
      "2025-05-18 18:52:32,421 - INFO - 🧮 Spatially-integrating the product of sea ice concentrations and grid cell areas\n",
      "INFO:gi-mid:🧮 Spatially-integrating the product of sea ice concentrations and grid cell areas\n",
      "2025-05-18 18:53:44,160 - INFO - 🧮 Spatially-integrating the product of sea ice concentrations and grid cell areas\n",
      "INFO:gi-mid:🧮 Spatially-integrating the product of sea ice concentrations and grid cell areas\n",
      "2025-05-18 18:54:28,033 - INFO - 🧮 Spatially-integrating the product of sea ice concentrations and grid cell areas\n",
      "INFO:gi-mid:🧮 Spatially-integrating the product of sea ice concentrations and grid cell areas\n",
      "2025-05-18 18:55:15,647 - INFO - 🧮 Spatially-integrating the product of sea ice concentrations and grid cell areas\n",
      "INFO:gi-mid:🧮 Spatially-integrating the product of sea ice concentrations and grid cell areas\n",
      "2025-05-18 18:55:58,625 - INFO - 🧮 Spatially-integrating the product of sea ice concentrations and grid cell areas\n",
      "INFO:gi-mid:🧮 Spatially-integrating the product of sea ice concentrations and grid cell areas\n",
      "2025-05-18 18:57:07,083 - INFO - 🧮 Spatially-integrating the product of sea ice concentrations and grid cell areas\n",
      "INFO:gi-mid:🧮 Spatially-integrating the product of sea ice concentrations and grid cell areas\n"
     ]
    }
   ],
   "source": [
    "FIA_comp               = {}\n",
    "FIA_comp[\"FI_B\"]       = SI_proc.compute_ice_area(FI_B['aice'],FI_B['tarea']).compute()\n",
    "FIA_comp[\"FI_Ta\"]      = SI_proc.compute_ice_area(FI_Ta['aice'],FI_Ta['tarea']).compute()\n",
    "FIA_comp[\"FI_Tx\"]      = SI_proc.compute_ice_area(FI_Tx['aice'],FI_Tx['tarea']).compute()\n",
    "FIA_comp[\"FI_B_roll\"]  = SI_proc.compute_ice_area(FI_B_roll['aice'],FI_B_roll['tarea']).compute()\n",
    "FIA_comp[\"FI_Ta_roll\"] = SI_proc.compute_ice_area(FI_Ta_roll['aice'],FI_Ta_roll['tarea']).compute()\n",
    "FIA_comp[\"FI_Tx_roll\"] = SI_proc.compute_ice_area(FI_Tx_roll['aice'],FI_Tx_roll['tarea']).compute()\n",
    "FIA_comp[\"FI_B_bool\"]  = SI_proc.compute_ice_area(FI_B_bool['aice'],FI_B_bool['tarea']).compute()\n",
    "FIA_comp[\"FI_Ta_bool\"] = SI_proc.compute_ice_area(FI_Ta_bool['aice'],FI_Ta_bool['tarea']).compute()"
   ]
  },
  {
   "cell_type": "code",
   "execution_count": null,
   "id": "583bc922-fee4-4166-b13d-c7854aaa712c",
   "metadata": {},
   "outputs": [],
   "source": [
    "FIP_comp               = {}\n",
    "FIP_comp[\"FI_B\"]       = SI_proc.compute_variable_aggregate(FI_B['aice']).compute()\n",
    "FIP_comp[\"FI_Ta\"]      = SI_proc.compute_variable_aggregate(FI_Ta['aice']).compute()\n",
    "FIP_comp[\"FI_Tx\"]      = SI_proc.compute_variable_aggregate(FI_Tx['aice']).compute()\n",
    "FIP_comp[\"FI_B_roll\"]  = SI_proc.compute_variable_aggregate(FI_B_roll['aice']).compute()\n",
    "FIP_comp[\"FI_Ta_roll\"] = SI_proc.compute_variable_aggregate(FI_Ta_roll['aice']).compute()\n",
    "FIP_comp[\"FI_Tx_roll\"] = SI_proc.compute_variable_aggregate(FI_Tx_roll['aice']).compute()\n",
    "FIP_comp[\"FI_B_bool\"]  = SI_proc.compute_variable_aggregate(FI_B_bool['aice']).compute()\n",
    "FIP_comp[\"FI_Ta_bool\"] = SI_proc.compute_variable_aggregate(FI_Ta_bool['aice']).compute()"
   ]
  },
  {
   "cell_type": "code",
   "execution_count": 7,
   "id": "d8280aac-1cc5-4a66-8198-206c86728f0b",
   "metadata": {},
   "outputs": [],
   "source": [
    "def plot_fast_ice_compare( x1, y1, z1,  \n",
    "                           title, \n",
    "                           region,\n",
    "                           cmap=\"cmocean/haline\",\n",
    "                           cmap_series=[0.9,1],\n",
    "                           GI_coords=None,\n",
    "                           GI_color=\"red\",\n",
    "                           var_style=\"s0.5c\",\n",
    "                           GI_style=\"c0.3c\",\n",
    "                           projection=\"S75/-90/?\",\n",
    "                           cbar_label=\"sea ice concentration\",\n",
    "                           units=\"1/100\"):\n",
    "    \"\"\"\n",
    "    Plot a scalar field with dual colormap logic and optional grounded iceberg overlay.\n",
    "    \"\"\"\n",
    "    fig = pygmt.Figure()\n",
    "    pygmt.config(FORMAT_GEO_MAP=\"ddd.x\", FONT_TITLE=\"16p,Courier-Bold\", FONT_ANNOT_PRIMARY=\"14p,Helvetica\")\n",
    "    pygmt.makecpt(cmap=cmap, series=cmap_series)\n",
    "    fig.basemap(projection=projection, region=region, frame=[\"af\",f\"+t{title}\"])\n",
    "    fig.plot(x=x1, y=y1, fill=z1, cmap=True, style=var_style)\n",
    "    #fig.text(x=region[0]+.1, y=region[2]+.5, text=f\"Valid: {count1:,}\\nSum: {sum1:.2f}\", font=\"12p,Helvetica-Bold\", justify=\"LB\")\n",
    "    if GI_coords is not None:\n",
    "        lon_gi, lat_gi = GI_coords\n",
    "        fig.plot(x=lon_gi, y=lat_gi, fill=GI_color, style=GI_style)\n",
    "    fig.coast(land='gray')\n",
    "    fig.colorbar(position=\"JBC+o0c/1.5c\", frame=[f\"x+l{cbar_label}\", f\"y+l{units}\"])\n",
    "    return fig"
   ]
  },
  {
   "cell_type": "code",
   "execution_count": 8,
   "id": "27da3733-d9ef-4661-ab2c-6b0245538460",
   "metadata": {},
   "outputs": [
    {
     "name": "stdout",
     "output_type": "stream",
     "text": [
      "saving figure: /g/data/gv90/da1339/GRAPHICAL/AFIM/gi-mid/DML/FIP/ispd_thresh_1.0e-3/FI_B/FIP_1993-1999.png\n",
      "saving figure: /g/data/gv90/da1339/GRAPHICAL/AFIM/gi-mid/WIO/FIP/ispd_thresh_1.0e-3/FI_B/FIP_1993-1999.png\n",
      "saving figure: /g/data/gv90/da1339/GRAPHICAL/AFIM/gi-mid/EIO/FIP/ispd_thresh_1.0e-3/FI_B/FIP_1993-1999.png\n",
      "saving figure: /g/data/gv90/da1339/GRAPHICAL/AFIM/gi-mid/Aus/FIP/ispd_thresh_1.0e-3/FI_B/FIP_1993-1999.png\n",
      "saving figure: /g/data/gv90/da1339/GRAPHICAL/AFIM/gi-mid/VOL/FIP/ispd_thresh_1.0e-3/FI_B/FIP_1993-1999.png\n",
      "saving figure: /g/data/gv90/da1339/GRAPHICAL/AFIM/gi-mid/AS/FIP/ispd_thresh_1.0e-3/FI_B/FIP_1993-1999.png\n",
      "saving figure: /g/data/gv90/da1339/GRAPHICAL/AFIM/gi-mid/BS/FIP/ispd_thresh_1.0e-3/FI_B/FIP_1993-1999.png\n",
      "saving figure: /g/data/gv90/da1339/GRAPHICAL/AFIM/gi-mid/WS/FIP/ispd_thresh_1.0e-3/FI_B/FIP_1993-1999.png\n",
      "saving figure: /g/data/gv90/da1339/GRAPHICAL/AFIM/gi-mid/DML/FIP/ispd_thresh_1.0e-3/FI_Ta/FIP_1993-1999.png\n",
      "saving figure: /g/data/gv90/da1339/GRAPHICAL/AFIM/gi-mid/WIO/FIP/ispd_thresh_1.0e-3/FI_Ta/FIP_1993-1999.png\n",
      "saving figure: /g/data/gv90/da1339/GRAPHICAL/AFIM/gi-mid/EIO/FIP/ispd_thresh_1.0e-3/FI_Ta/FIP_1993-1999.png\n",
      "saving figure: /g/data/gv90/da1339/GRAPHICAL/AFIM/gi-mid/Aus/FIP/ispd_thresh_1.0e-3/FI_Ta/FIP_1993-1999.png\n",
      "saving figure: /g/data/gv90/da1339/GRAPHICAL/AFIM/gi-mid/VOL/FIP/ispd_thresh_1.0e-3/FI_Ta/FIP_1993-1999.png\n",
      "saving figure: /g/data/gv90/da1339/GRAPHICAL/AFIM/gi-mid/AS/FIP/ispd_thresh_1.0e-3/FI_Ta/FIP_1993-1999.png\n",
      "saving figure: /g/data/gv90/da1339/GRAPHICAL/AFIM/gi-mid/BS/FIP/ispd_thresh_1.0e-3/FI_Ta/FIP_1993-1999.png\n",
      "saving figure: /g/data/gv90/da1339/GRAPHICAL/AFIM/gi-mid/WS/FIP/ispd_thresh_1.0e-3/FI_Ta/FIP_1993-1999.png\n",
      "saving figure: /g/data/gv90/da1339/GRAPHICAL/AFIM/gi-mid/DML/FIP/ispd_thresh_1.0e-3/FI_Tx/FIP_1993-1999.png\n",
      "saving figure: /g/data/gv90/da1339/GRAPHICAL/AFIM/gi-mid/WIO/FIP/ispd_thresh_1.0e-3/FI_Tx/FIP_1993-1999.png\n",
      "saving figure: /g/data/gv90/da1339/GRAPHICAL/AFIM/gi-mid/EIO/FIP/ispd_thresh_1.0e-3/FI_Tx/FIP_1993-1999.png\n",
      "saving figure: /g/data/gv90/da1339/GRAPHICAL/AFIM/gi-mid/Aus/FIP/ispd_thresh_1.0e-3/FI_Tx/FIP_1993-1999.png\n",
      "saving figure: /g/data/gv90/da1339/GRAPHICAL/AFIM/gi-mid/VOL/FIP/ispd_thresh_1.0e-3/FI_Tx/FIP_1993-1999.png\n",
      "saving figure: /g/data/gv90/da1339/GRAPHICAL/AFIM/gi-mid/AS/FIP/ispd_thresh_1.0e-3/FI_Tx/FIP_1993-1999.png\n",
      "saving figure: /g/data/gv90/da1339/GRAPHICAL/AFIM/gi-mid/BS/FIP/ispd_thresh_1.0e-3/FI_Tx/FIP_1993-1999.png\n",
      "saving figure: /g/data/gv90/da1339/GRAPHICAL/AFIM/gi-mid/WS/FIP/ispd_thresh_1.0e-3/FI_Tx/FIP_1993-1999.png\n",
      "saving figure: /g/data/gv90/da1339/GRAPHICAL/AFIM/gi-mid/DML/FIP/ispd_thresh_1.0e-3/FI_B_roll/FIP_1993-1999.png\n",
      "saving figure: /g/data/gv90/da1339/GRAPHICAL/AFIM/gi-mid/WIO/FIP/ispd_thresh_1.0e-3/FI_B_roll/FIP_1993-1999.png\n",
      "saving figure: /g/data/gv90/da1339/GRAPHICAL/AFIM/gi-mid/EIO/FIP/ispd_thresh_1.0e-3/FI_B_roll/FIP_1993-1999.png\n",
      "saving figure: /g/data/gv90/da1339/GRAPHICAL/AFIM/gi-mid/Aus/FIP/ispd_thresh_1.0e-3/FI_B_roll/FIP_1993-1999.png\n",
      "saving figure: /g/data/gv90/da1339/GRAPHICAL/AFIM/gi-mid/VOL/FIP/ispd_thresh_1.0e-3/FI_B_roll/FIP_1993-1999.png\n",
      "saving figure: /g/data/gv90/da1339/GRAPHICAL/AFIM/gi-mid/AS/FIP/ispd_thresh_1.0e-3/FI_B_roll/FIP_1993-1999.png\n",
      "saving figure: /g/data/gv90/da1339/GRAPHICAL/AFIM/gi-mid/BS/FIP/ispd_thresh_1.0e-3/FI_B_roll/FIP_1993-1999.png\n",
      "saving figure: /g/data/gv90/da1339/GRAPHICAL/AFIM/gi-mid/WS/FIP/ispd_thresh_1.0e-3/FI_B_roll/FIP_1993-1999.png\n",
      "saving figure: /g/data/gv90/da1339/GRAPHICAL/AFIM/gi-mid/DML/FIP/ispd_thresh_1.0e-3/FI_Ta_roll/FIP_1993-1999.png\n",
      "saving figure: /g/data/gv90/da1339/GRAPHICAL/AFIM/gi-mid/WIO/FIP/ispd_thresh_1.0e-3/FI_Ta_roll/FIP_1993-1999.png\n",
      "saving figure: /g/data/gv90/da1339/GRAPHICAL/AFIM/gi-mid/EIO/FIP/ispd_thresh_1.0e-3/FI_Ta_roll/FIP_1993-1999.png\n",
      "saving figure: /g/data/gv90/da1339/GRAPHICAL/AFIM/gi-mid/Aus/FIP/ispd_thresh_1.0e-3/FI_Ta_roll/FIP_1993-1999.png\n",
      "saving figure: /g/data/gv90/da1339/GRAPHICAL/AFIM/gi-mid/VOL/FIP/ispd_thresh_1.0e-3/FI_Ta_roll/FIP_1993-1999.png\n",
      "saving figure: /g/data/gv90/da1339/GRAPHICAL/AFIM/gi-mid/AS/FIP/ispd_thresh_1.0e-3/FI_Ta_roll/FIP_1993-1999.png\n",
      "saving figure: /g/data/gv90/da1339/GRAPHICAL/AFIM/gi-mid/BS/FIP/ispd_thresh_1.0e-3/FI_Ta_roll/FIP_1993-1999.png\n",
      "saving figure: /g/data/gv90/da1339/GRAPHICAL/AFIM/gi-mid/WS/FIP/ispd_thresh_1.0e-3/FI_Ta_roll/FIP_1993-1999.png\n",
      "saving figure: /g/data/gv90/da1339/GRAPHICAL/AFIM/gi-mid/DML/FIP/ispd_thresh_1.0e-3/FI_Tx_roll/FIP_1993-1999.png\n",
      "saving figure: /g/data/gv90/da1339/GRAPHICAL/AFIM/gi-mid/WIO/FIP/ispd_thresh_1.0e-3/FI_Tx_roll/FIP_1993-1999.png\n",
      "saving figure: /g/data/gv90/da1339/GRAPHICAL/AFIM/gi-mid/EIO/FIP/ispd_thresh_1.0e-3/FI_Tx_roll/FIP_1993-1999.png\n",
      "saving figure: /g/data/gv90/da1339/GRAPHICAL/AFIM/gi-mid/Aus/FIP/ispd_thresh_1.0e-3/FI_Tx_roll/FIP_1993-1999.png\n",
      "saving figure: /g/data/gv90/da1339/GRAPHICAL/AFIM/gi-mid/VOL/FIP/ispd_thresh_1.0e-3/FI_Tx_roll/FIP_1993-1999.png\n",
      "saving figure: /g/data/gv90/da1339/GRAPHICAL/AFIM/gi-mid/AS/FIP/ispd_thresh_1.0e-3/FI_Tx_roll/FIP_1993-1999.png\n",
      "saving figure: /g/data/gv90/da1339/GRAPHICAL/AFIM/gi-mid/BS/FIP/ispd_thresh_1.0e-3/FI_Tx_roll/FIP_1993-1999.png\n",
      "saving figure: /g/data/gv90/da1339/GRAPHICAL/AFIM/gi-mid/WS/FIP/ispd_thresh_1.0e-3/FI_Tx_roll/FIP_1993-1999.png\n",
      "saving figure: /g/data/gv90/da1339/GRAPHICAL/AFIM/gi-mid/DML/FIP/ispd_thresh_1.0e-3/FI_B_bool/FIP_1993-1999.png\n",
      "saving figure: /g/data/gv90/da1339/GRAPHICAL/AFIM/gi-mid/WIO/FIP/ispd_thresh_1.0e-3/FI_B_bool/FIP_1993-1999.png\n",
      "saving figure: /g/data/gv90/da1339/GRAPHICAL/AFIM/gi-mid/EIO/FIP/ispd_thresh_1.0e-3/FI_B_bool/FIP_1993-1999.png\n",
      "saving figure: /g/data/gv90/da1339/GRAPHICAL/AFIM/gi-mid/Aus/FIP/ispd_thresh_1.0e-3/FI_B_bool/FIP_1993-1999.png\n",
      "saving figure: /g/data/gv90/da1339/GRAPHICAL/AFIM/gi-mid/VOL/FIP/ispd_thresh_1.0e-3/FI_B_bool/FIP_1993-1999.png\n",
      "saving figure: /g/data/gv90/da1339/GRAPHICAL/AFIM/gi-mid/AS/FIP/ispd_thresh_1.0e-3/FI_B_bool/FIP_1993-1999.png\n",
      "saving figure: /g/data/gv90/da1339/GRAPHICAL/AFIM/gi-mid/BS/FIP/ispd_thresh_1.0e-3/FI_B_bool/FIP_1993-1999.png\n",
      "saving figure: /g/data/gv90/da1339/GRAPHICAL/AFIM/gi-mid/WS/FIP/ispd_thresh_1.0e-3/FI_B_bool/FIP_1993-1999.png\n",
      "saving figure: /g/data/gv90/da1339/GRAPHICAL/AFIM/gi-mid/DML/FIP/ispd_thresh_1.0e-3/FI_Ta_bool/FIP_1993-1999.png\n",
      "saving figure: /g/data/gv90/da1339/GRAPHICAL/AFIM/gi-mid/WIO/FIP/ispd_thresh_1.0e-3/FI_Ta_bool/FIP_1993-1999.png\n",
      "saving figure: /g/data/gv90/da1339/GRAPHICAL/AFIM/gi-mid/EIO/FIP/ispd_thresh_1.0e-3/FI_Ta_bool/FIP_1993-1999.png\n",
      "saving figure: /g/data/gv90/da1339/GRAPHICAL/AFIM/gi-mid/Aus/FIP/ispd_thresh_1.0e-3/FI_Ta_bool/FIP_1993-1999.png\n",
      "saving figure: /g/data/gv90/da1339/GRAPHICAL/AFIM/gi-mid/VOL/FIP/ispd_thresh_1.0e-3/FI_Ta_bool/FIP_1993-1999.png\n",
      "saving figure: /g/data/gv90/da1339/GRAPHICAL/AFIM/gi-mid/AS/FIP/ispd_thresh_1.0e-3/FI_Ta_bool/FIP_1993-1999.png\n",
      "saving figure: /g/data/gv90/da1339/GRAPHICAL/AFIM/gi-mid/BS/FIP/ispd_thresh_1.0e-3/FI_Ta_bool/FIP_1993-1999.png\n",
      "saving figure: /g/data/gv90/da1339/GRAPHICAL/AFIM/gi-mid/WS/FIP/ispd_thresh_1.0e-3/FI_Ta_bool/FIP_1993-1999.png\n"
     ]
    }
   ],
   "source": [
    "for method in FIP_comp.keys():\n",
    "    SI_plot = SeaIcePlotter(sim_name=sim_name)\n",
    "    for reg_name, reg_cfg in SI_plot.reg_dict.items(): \n",
    "        MC      = SI_plot.get_meridian_center_from_geographic_extent(reg_cfg['plt_ext'])\n",
    "        da      = FIP_comp[method].values\n",
    "        lon     = FIP_comp[method][\"TLON\"].values\n",
    "        lat     = FIP_comp[method][\"TLAT\"].values\n",
    "        mask    = ~np.isnan(da)\n",
    "        lat_plt = lat.ravel()[mask.ravel()]\n",
    "        lon_plt = lon.ravel()[mask.ravel()]\n",
    "        da_plt  = da.ravel()[mask.ravel()]\n",
    "        fig_reg = plot_fast_ice_compare( lon_plt, lat_plt, da_plt,  \n",
    "                                         f\"gi-mid {method} ispd_thresh={ispd_str}: ktens=0.2, elps=2.0, GI-thin=0.25\", \n",
    "                                         region=reg_cfg['plt_ext'],\n",
    "                                         cmap=\"/home/581/da1339/graphical/CPTs/AF2020_YlGnBu.cpt\",\n",
    "                                         cmap_series=[0,1],\n",
    "                                         GI_coords=(lon_diff,lat_diff),\n",
    "                                         GI_color=\"red\",\n",
    "                                         var_style=\"s0.3c\",\n",
    "                                         GI_style=\"c0.1c\",\n",
    "                                         projection=f\"S{MC}/-90/30c\",\n",
    "                                         cbar_label=\"fast ice persistence\",\n",
    "                                         units=\"1/100\")\n",
    "        #fig_reg.show()\n",
    "        D_plt = Path(SI_plot.D_graph,sim_name,reg_name,\"FIP\",f\"ispd_thresh_{ispd_str}\",method)\n",
    "        D_plt.mkdir(parents=True, exist_ok=True)\n",
    "        P_plt = Path(D_plt,\"FIP_1993-1999.png\")\n",
    "        print(f\"saving figure: {P_plt}\")\n",
    "        fig_reg.savefig(P_plt)"
   ]
  },
  {
   "cell_type": "code",
   "execution_count": null,
   "id": "539ede65-17b0-4d06-9de6-718a051c022e",
   "metadata": {
    "jupyter": {
     "source_hidden": true
    }
   },
   "outputs": [],
   "source": [
    "FIP_comp  = {}\n",
    "FIA_comp  = {}\n",
    "sim_names = ['FI_B','FI_Ta','FI_Tx','FI_B_roll', 'FI_Ta_roll', 'FI_Tx_roll']\n",
    "for sim_name in sim_names:\n",
    "    #SI_proc            = SeaIceProcessor(sim_name=sim_name)\n",
    "    #FI                 = SI_proc.load_raw_ice_type(ice_type=\"FI\")\n",
    "    #FI_bool            = SI_proc.boolean_fast_ice(FI['mask']).persist()\n",
    "    FIC                = FI['aice'].where(FI_bool).persist()\n",
    "    GC_area            = FI['uarea'].where(FI_bool).persist()\n",
    "    FIP_comp[sim_name] = SI_proc.compute_variable_aggregate(FIC).compute()\n",
    "    FIA_comp[sim_name] = SI_proc.compute_ice_area(FIC,GC_area).compute()"
   ]
  },
  {
   "cell_type": "code",
   "execution_count": null,
   "id": "97b95fdc-f0ef-46f6-8562-044e82741fc9",
   "metadata": {
    "jupyter": {
     "source_hidden": true
    }
   },
   "outputs": [],
   "source": [
    "plotter = SeaIcePlotter(sim_name  = sim_name,\n",
    "                        ice_type  = 'FI',\n",
    "                        plot_type = 'aggregate',\n",
    "                        var_name  = 'FIP',\n",
    "                        show_fig  = True,\n",
    "                        save_fig  = True,\n",
    "                        overwrite = True)\n",
    "plotter.plot_facet_regions( da_dict = FIP_comp , figure_size = (\"100c\",\"12c\"), panel_margins=\"0.25c\", cbar_position=\"JBC+w40c/1c+h\")"
   ]
  },
  {
   "cell_type": "code",
   "execution_count": 29,
   "id": "0b00883a-fadf-4753-bcc4-31ee9e9e4903",
   "metadata": {},
   "outputs": [
    {
     "name": "stderr",
     "output_type": "stream",
     "text": [
      "/home/581/da1339/AFIM/src/AFIM/src/sea_ice_plotter.py:926: UserWarning: Tight layout not applied. The bottom and top margins cannot be made large enough to accommodate all Axes decorations.\n",
      "  print(f\"💾 Saved plot to {P_png}\")\n",
      "/home/581/da1339/AFIM/src/AFIM/src/sea_ice_plotter.py:926: UserWarning: The figure layout has changed to tight\n",
      "  print(f\"💾 Saved plot to {P_png}\")\n"
     ]
    },
    {
     "name": "stdout",
     "output_type": "stream",
     "text": [
      "💾 Saved plot to /g/data/gv90/da1339/GRAPHICAL/timeseries/FIA_gi-mid_1.0e-3_smoothed.png\n"
     ]
    },
    {
     "ename": "ValueError",
     "evalue": "Image size of 1634x469464 pixels is too large. It must be less than 2^16 in each direction.",
     "output_type": "error",
     "traceback": [
      "\u001b[0;31m---------------------------------------------------------------------------\u001b[0m",
      "\u001b[0;31mValueError\u001b[0m                                Traceback (most recent call last)",
      "File \u001b[0;32m/g/data/hh5/public/apps/miniconda3/envs/analysis3-24.04/lib/python3.10/site-packages/IPython/core/formatters.py:343\u001b[0m, in \u001b[0;36mBaseFormatter.__call__\u001b[0;34m(self, obj)\u001b[0m\n\u001b[1;32m    341\u001b[0m     \u001b[38;5;28;01mpass\u001b[39;00m\n\u001b[1;32m    342\u001b[0m \u001b[38;5;28;01melse\u001b[39;00m:\n\u001b[0;32m--> 343\u001b[0m     \u001b[38;5;28;01mreturn\u001b[39;00m \u001b[43mprinter\u001b[49m\u001b[43m(\u001b[49m\u001b[43mobj\u001b[49m\u001b[43m)\u001b[49m\n\u001b[1;32m    344\u001b[0m \u001b[38;5;66;03m# Finally look for special method names\u001b[39;00m\n\u001b[1;32m    345\u001b[0m method \u001b[38;5;241m=\u001b[39m get_real_method(obj, \u001b[38;5;28mself\u001b[39m\u001b[38;5;241m.\u001b[39mprint_method)\n",
      "File \u001b[0;32m/g/data/hh5/public/apps/miniconda3/envs/analysis3-24.04/lib/python3.10/site-packages/IPython/core/pylabtools.py:170\u001b[0m, in \u001b[0;36mprint_figure\u001b[0;34m(fig, fmt, bbox_inches, base64, **kwargs)\u001b[0m\n\u001b[1;32m    167\u001b[0m     \u001b[38;5;28;01mfrom\u001b[39;00m \u001b[38;5;21;01mmatplotlib\u001b[39;00m\u001b[38;5;21;01m.\u001b[39;00m\u001b[38;5;21;01mbackend_bases\u001b[39;00m \u001b[38;5;28;01mimport\u001b[39;00m FigureCanvasBase\n\u001b[1;32m    168\u001b[0m     FigureCanvasBase(fig)\n\u001b[0;32m--> 170\u001b[0m \u001b[43mfig\u001b[49m\u001b[38;5;241;43m.\u001b[39;49m\u001b[43mcanvas\u001b[49m\u001b[38;5;241;43m.\u001b[39;49m\u001b[43mprint_figure\u001b[49m\u001b[43m(\u001b[49m\u001b[43mbytes_io\u001b[49m\u001b[43m,\u001b[49m\u001b[43m \u001b[49m\u001b[38;5;241;43m*\u001b[39;49m\u001b[38;5;241;43m*\u001b[39;49m\u001b[43mkw\u001b[49m\u001b[43m)\u001b[49m\n\u001b[1;32m    171\u001b[0m data \u001b[38;5;241m=\u001b[39m bytes_io\u001b[38;5;241m.\u001b[39mgetvalue()\n\u001b[1;32m    172\u001b[0m \u001b[38;5;28;01mif\u001b[39;00m fmt \u001b[38;5;241m==\u001b[39m \u001b[38;5;124m'\u001b[39m\u001b[38;5;124msvg\u001b[39m\u001b[38;5;124m'\u001b[39m:\n",
      "File \u001b[0;32m/g/data/hh5/public/apps/miniconda3/envs/analysis3-24.04/lib/python3.10/site-packages/matplotlib/backend_bases.py:2204\u001b[0m, in \u001b[0;36mFigureCanvasBase.print_figure\u001b[0;34m(self, filename, dpi, facecolor, edgecolor, orientation, format, bbox_inches, pad_inches, bbox_extra_artists, backend, **kwargs)\u001b[0m\n\u001b[1;32m   2200\u001b[0m \u001b[38;5;28;01mtry\u001b[39;00m:\n\u001b[1;32m   2201\u001b[0m     \u001b[38;5;66;03m# _get_renderer may change the figure dpi (as vector formats\u001b[39;00m\n\u001b[1;32m   2202\u001b[0m     \u001b[38;5;66;03m# force the figure dpi to 72), so we need to set it again here.\u001b[39;00m\n\u001b[1;32m   2203\u001b[0m     \u001b[38;5;28;01mwith\u001b[39;00m cbook\u001b[38;5;241m.\u001b[39m_setattr_cm(\u001b[38;5;28mself\u001b[39m\u001b[38;5;241m.\u001b[39mfigure, dpi\u001b[38;5;241m=\u001b[39mdpi):\n\u001b[0;32m-> 2204\u001b[0m         result \u001b[38;5;241m=\u001b[39m \u001b[43mprint_method\u001b[49m\u001b[43m(\u001b[49m\n\u001b[1;32m   2205\u001b[0m \u001b[43m            \u001b[49m\u001b[43mfilename\u001b[49m\u001b[43m,\u001b[49m\n\u001b[1;32m   2206\u001b[0m \u001b[43m            \u001b[49m\u001b[43mfacecolor\u001b[49m\u001b[38;5;241;43m=\u001b[39;49m\u001b[43mfacecolor\u001b[49m\u001b[43m,\u001b[49m\n\u001b[1;32m   2207\u001b[0m \u001b[43m            \u001b[49m\u001b[43medgecolor\u001b[49m\u001b[38;5;241;43m=\u001b[39;49m\u001b[43medgecolor\u001b[49m\u001b[43m,\u001b[49m\n\u001b[1;32m   2208\u001b[0m \u001b[43m            \u001b[49m\u001b[43morientation\u001b[49m\u001b[38;5;241;43m=\u001b[39;49m\u001b[43morientation\u001b[49m\u001b[43m,\u001b[49m\n\u001b[1;32m   2209\u001b[0m \u001b[43m            \u001b[49m\u001b[43mbbox_inches_restore\u001b[49m\u001b[38;5;241;43m=\u001b[39;49m\u001b[43m_bbox_inches_restore\u001b[49m\u001b[43m,\u001b[49m\n\u001b[1;32m   2210\u001b[0m \u001b[43m            \u001b[49m\u001b[38;5;241;43m*\u001b[39;49m\u001b[38;5;241;43m*\u001b[39;49m\u001b[43mkwargs\u001b[49m\u001b[43m)\u001b[49m\n\u001b[1;32m   2211\u001b[0m \u001b[38;5;28;01mfinally\u001b[39;00m:\n\u001b[1;32m   2212\u001b[0m     \u001b[38;5;28;01mif\u001b[39;00m bbox_inches \u001b[38;5;129;01mand\u001b[39;00m restore_bbox:\n",
      "File \u001b[0;32m/g/data/hh5/public/apps/miniconda3/envs/analysis3-24.04/lib/python3.10/site-packages/matplotlib/backend_bases.py:2054\u001b[0m, in \u001b[0;36mFigureCanvasBase._switch_canvas_and_return_print_method.<locals>.<lambda>\u001b[0;34m(*args, **kwargs)\u001b[0m\n\u001b[1;32m   2050\u001b[0m     optional_kws \u001b[38;5;241m=\u001b[39m {  \u001b[38;5;66;03m# Passed by print_figure for other renderers.\u001b[39;00m\n\u001b[1;32m   2051\u001b[0m         \u001b[38;5;124m\"\u001b[39m\u001b[38;5;124mdpi\u001b[39m\u001b[38;5;124m\"\u001b[39m, \u001b[38;5;124m\"\u001b[39m\u001b[38;5;124mfacecolor\u001b[39m\u001b[38;5;124m\"\u001b[39m, \u001b[38;5;124m\"\u001b[39m\u001b[38;5;124medgecolor\u001b[39m\u001b[38;5;124m\"\u001b[39m, \u001b[38;5;124m\"\u001b[39m\u001b[38;5;124morientation\u001b[39m\u001b[38;5;124m\"\u001b[39m,\n\u001b[1;32m   2052\u001b[0m         \u001b[38;5;124m\"\u001b[39m\u001b[38;5;124mbbox_inches_restore\u001b[39m\u001b[38;5;124m\"\u001b[39m}\n\u001b[1;32m   2053\u001b[0m     skip \u001b[38;5;241m=\u001b[39m optional_kws \u001b[38;5;241m-\u001b[39m {\u001b[38;5;241m*\u001b[39minspect\u001b[38;5;241m.\u001b[39msignature(meth)\u001b[38;5;241m.\u001b[39mparameters}\n\u001b[0;32m-> 2054\u001b[0m     print_method \u001b[38;5;241m=\u001b[39m functools\u001b[38;5;241m.\u001b[39mwraps(meth)(\u001b[38;5;28;01mlambda\u001b[39;00m \u001b[38;5;241m*\u001b[39margs, \u001b[38;5;241m*\u001b[39m\u001b[38;5;241m*\u001b[39mkwargs: \u001b[43mmeth\u001b[49m\u001b[43m(\u001b[49m\n\u001b[1;32m   2055\u001b[0m \u001b[43m        \u001b[49m\u001b[38;5;241;43m*\u001b[39;49m\u001b[43margs\u001b[49m\u001b[43m,\u001b[49m\u001b[43m \u001b[49m\u001b[38;5;241;43m*\u001b[39;49m\u001b[38;5;241;43m*\u001b[39;49m\u001b[43m{\u001b[49m\u001b[43mk\u001b[49m\u001b[43m:\u001b[49m\u001b[43m \u001b[49m\u001b[43mv\u001b[49m\u001b[43m \u001b[49m\u001b[38;5;28;43;01mfor\u001b[39;49;00m\u001b[43m \u001b[49m\u001b[43mk\u001b[49m\u001b[43m,\u001b[49m\u001b[43m \u001b[49m\u001b[43mv\u001b[49m\u001b[43m \u001b[49m\u001b[38;5;129;43;01min\u001b[39;49;00m\u001b[43m \u001b[49m\u001b[43mkwargs\u001b[49m\u001b[38;5;241;43m.\u001b[39;49m\u001b[43mitems\u001b[49m\u001b[43m(\u001b[49m\u001b[43m)\u001b[49m\u001b[43m \u001b[49m\u001b[38;5;28;43;01mif\u001b[39;49;00m\u001b[43m \u001b[49m\u001b[43mk\u001b[49m\u001b[43m \u001b[49m\u001b[38;5;129;43;01mnot\u001b[39;49;00m\u001b[43m \u001b[49m\u001b[38;5;129;43;01min\u001b[39;49;00m\u001b[43m \u001b[49m\u001b[43mskip\u001b[49m\u001b[43m}\u001b[49m\u001b[43m)\u001b[49m)\n\u001b[1;32m   2056\u001b[0m \u001b[38;5;28;01melse\u001b[39;00m:  \u001b[38;5;66;03m# Let third-parties do as they see fit.\u001b[39;00m\n\u001b[1;32m   2057\u001b[0m     print_method \u001b[38;5;241m=\u001b[39m meth\n",
      "File \u001b[0;32m/g/data/hh5/public/apps/miniconda3/envs/analysis3-24.04/lib/python3.10/site-packages/matplotlib/backends/backend_agg.py:496\u001b[0m, in \u001b[0;36mFigureCanvasAgg.print_png\u001b[0;34m(self, filename_or_obj, metadata, pil_kwargs)\u001b[0m\n\u001b[1;32m    449\u001b[0m \u001b[38;5;28;01mdef\u001b[39;00m \u001b[38;5;21mprint_png\u001b[39m(\u001b[38;5;28mself\u001b[39m, filename_or_obj, \u001b[38;5;241m*\u001b[39m, metadata\u001b[38;5;241m=\u001b[39m\u001b[38;5;28;01mNone\u001b[39;00m, pil_kwargs\u001b[38;5;241m=\u001b[39m\u001b[38;5;28;01mNone\u001b[39;00m):\n\u001b[1;32m    450\u001b[0m \u001b[38;5;250m    \u001b[39m\u001b[38;5;124;03m\"\"\"\u001b[39;00m\n\u001b[1;32m    451\u001b[0m \u001b[38;5;124;03m    Write the figure to a PNG file.\u001b[39;00m\n\u001b[1;32m    452\u001b[0m \n\u001b[0;32m   (...)\u001b[0m\n\u001b[1;32m    494\u001b[0m \u001b[38;5;124;03m        *metadata*, including the default 'Software' key.\u001b[39;00m\n\u001b[1;32m    495\u001b[0m \u001b[38;5;124;03m    \"\"\"\u001b[39;00m\n\u001b[0;32m--> 496\u001b[0m     \u001b[38;5;28;43mself\u001b[39;49m\u001b[38;5;241;43m.\u001b[39;49m\u001b[43m_print_pil\u001b[49m\u001b[43m(\u001b[49m\u001b[43mfilename_or_obj\u001b[49m\u001b[43m,\u001b[49m\u001b[43m \u001b[49m\u001b[38;5;124;43m\"\u001b[39;49m\u001b[38;5;124;43mpng\u001b[39;49m\u001b[38;5;124;43m\"\u001b[39;49m\u001b[43m,\u001b[49m\u001b[43m \u001b[49m\u001b[43mpil_kwargs\u001b[49m\u001b[43m,\u001b[49m\u001b[43m \u001b[49m\u001b[43mmetadata\u001b[49m\u001b[43m)\u001b[49m\n",
      "File \u001b[0;32m/g/data/hh5/public/apps/miniconda3/envs/analysis3-24.04/lib/python3.10/site-packages/matplotlib/backends/backend_agg.py:444\u001b[0m, in \u001b[0;36mFigureCanvasAgg._print_pil\u001b[0;34m(self, filename_or_obj, fmt, pil_kwargs, metadata)\u001b[0m\n\u001b[1;32m    439\u001b[0m \u001b[38;5;28;01mdef\u001b[39;00m \u001b[38;5;21m_print_pil\u001b[39m(\u001b[38;5;28mself\u001b[39m, filename_or_obj, fmt, pil_kwargs, metadata\u001b[38;5;241m=\u001b[39m\u001b[38;5;28;01mNone\u001b[39;00m):\n\u001b[1;32m    440\u001b[0m \u001b[38;5;250m    \u001b[39m\u001b[38;5;124;03m\"\"\"\u001b[39;00m\n\u001b[1;32m    441\u001b[0m \u001b[38;5;124;03m    Draw the canvas, then save it using `.image.imsave` (to which\u001b[39;00m\n\u001b[1;32m    442\u001b[0m \u001b[38;5;124;03m    *pil_kwargs* and *metadata* are forwarded).\u001b[39;00m\n\u001b[1;32m    443\u001b[0m \u001b[38;5;124;03m    \"\"\"\u001b[39;00m\n\u001b[0;32m--> 444\u001b[0m     \u001b[43mFigureCanvasAgg\u001b[49m\u001b[38;5;241;43m.\u001b[39;49m\u001b[43mdraw\u001b[49m\u001b[43m(\u001b[49m\u001b[38;5;28;43mself\u001b[39;49m\u001b[43m)\u001b[49m\n\u001b[1;32m    445\u001b[0m     mpl\u001b[38;5;241m.\u001b[39mimage\u001b[38;5;241m.\u001b[39mimsave(\n\u001b[1;32m    446\u001b[0m         filename_or_obj, \u001b[38;5;28mself\u001b[39m\u001b[38;5;241m.\u001b[39mbuffer_rgba(), \u001b[38;5;28mformat\u001b[39m\u001b[38;5;241m=\u001b[39mfmt, origin\u001b[38;5;241m=\u001b[39m\u001b[38;5;124m\"\u001b[39m\u001b[38;5;124mupper\u001b[39m\u001b[38;5;124m\"\u001b[39m,\n\u001b[1;32m    447\u001b[0m         dpi\u001b[38;5;241m=\u001b[39m\u001b[38;5;28mself\u001b[39m\u001b[38;5;241m.\u001b[39mfigure\u001b[38;5;241m.\u001b[39mdpi, metadata\u001b[38;5;241m=\u001b[39mmetadata, pil_kwargs\u001b[38;5;241m=\u001b[39mpil_kwargs)\n",
      "File \u001b[0;32m/g/data/hh5/public/apps/miniconda3/envs/analysis3-24.04/lib/python3.10/site-packages/matplotlib/backends/backend_agg.py:382\u001b[0m, in \u001b[0;36mFigureCanvasAgg.draw\u001b[0;34m(self)\u001b[0m\n\u001b[1;32m    380\u001b[0m \u001b[38;5;28;01mdef\u001b[39;00m \u001b[38;5;21mdraw\u001b[39m(\u001b[38;5;28mself\u001b[39m):\n\u001b[1;32m    381\u001b[0m     \u001b[38;5;66;03m# docstring inherited\u001b[39;00m\n\u001b[0;32m--> 382\u001b[0m     \u001b[38;5;28mself\u001b[39m\u001b[38;5;241m.\u001b[39mrenderer \u001b[38;5;241m=\u001b[39m \u001b[38;5;28;43mself\u001b[39;49m\u001b[38;5;241;43m.\u001b[39;49m\u001b[43mget_renderer\u001b[49m\u001b[43m(\u001b[49m\u001b[43m)\u001b[49m\n\u001b[1;32m    383\u001b[0m     \u001b[38;5;28mself\u001b[39m\u001b[38;5;241m.\u001b[39mrenderer\u001b[38;5;241m.\u001b[39mclear()\n\u001b[1;32m    384\u001b[0m     \u001b[38;5;66;03m# Acquire a lock on the shared font cache.\u001b[39;00m\n",
      "File \u001b[0;32m/g/data/hh5/public/apps/miniconda3/envs/analysis3-24.04/lib/python3.10/site-packages/matplotlib/backends/backend_agg.py:397\u001b[0m, in \u001b[0;36mFigureCanvasAgg.get_renderer\u001b[0;34m(self)\u001b[0m\n\u001b[1;32m    395\u001b[0m reuse_renderer \u001b[38;5;241m=\u001b[39m (\u001b[38;5;28mself\u001b[39m\u001b[38;5;241m.\u001b[39m_lastKey \u001b[38;5;241m==\u001b[39m key)\n\u001b[1;32m    396\u001b[0m \u001b[38;5;28;01mif\u001b[39;00m \u001b[38;5;129;01mnot\u001b[39;00m reuse_renderer:\n\u001b[0;32m--> 397\u001b[0m     \u001b[38;5;28mself\u001b[39m\u001b[38;5;241m.\u001b[39mrenderer \u001b[38;5;241m=\u001b[39m \u001b[43mRendererAgg\u001b[49m\u001b[43m(\u001b[49m\u001b[43mw\u001b[49m\u001b[43m,\u001b[49m\u001b[43m \u001b[49m\u001b[43mh\u001b[49m\u001b[43m,\u001b[49m\u001b[43m \u001b[49m\u001b[38;5;28;43mself\u001b[39;49m\u001b[38;5;241;43m.\u001b[39;49m\u001b[43mfigure\u001b[49m\u001b[38;5;241;43m.\u001b[39;49m\u001b[43mdpi\u001b[49m\u001b[43m)\u001b[49m\n\u001b[1;32m    398\u001b[0m     \u001b[38;5;28mself\u001b[39m\u001b[38;5;241m.\u001b[39m_lastKey \u001b[38;5;241m=\u001b[39m key\n\u001b[1;32m    399\u001b[0m \u001b[38;5;28;01mreturn\u001b[39;00m \u001b[38;5;28mself\u001b[39m\u001b[38;5;241m.\u001b[39mrenderer\n",
      "File \u001b[0;32m/g/data/hh5/public/apps/miniconda3/envs/analysis3-24.04/lib/python3.10/site-packages/matplotlib/backends/backend_agg.py:70\u001b[0m, in \u001b[0;36mRendererAgg.__init__\u001b[0;34m(self, width, height, dpi)\u001b[0m\n\u001b[1;32m     68\u001b[0m \u001b[38;5;28mself\u001b[39m\u001b[38;5;241m.\u001b[39mwidth \u001b[38;5;241m=\u001b[39m width\n\u001b[1;32m     69\u001b[0m \u001b[38;5;28mself\u001b[39m\u001b[38;5;241m.\u001b[39mheight \u001b[38;5;241m=\u001b[39m height\n\u001b[0;32m---> 70\u001b[0m \u001b[38;5;28mself\u001b[39m\u001b[38;5;241m.\u001b[39m_renderer \u001b[38;5;241m=\u001b[39m \u001b[43m_RendererAgg\u001b[49m\u001b[43m(\u001b[49m\u001b[38;5;28;43mint\u001b[39;49m\u001b[43m(\u001b[49m\u001b[43mwidth\u001b[49m\u001b[43m)\u001b[49m\u001b[43m,\u001b[49m\u001b[43m \u001b[49m\u001b[38;5;28;43mint\u001b[39;49m\u001b[43m(\u001b[49m\u001b[43mheight\u001b[49m\u001b[43m)\u001b[49m\u001b[43m,\u001b[49m\u001b[43m \u001b[49m\u001b[43mdpi\u001b[49m\u001b[43m)\u001b[49m\n\u001b[1;32m     71\u001b[0m \u001b[38;5;28mself\u001b[39m\u001b[38;5;241m.\u001b[39m_filter_renderers \u001b[38;5;241m=\u001b[39m []\n\u001b[1;32m     73\u001b[0m \u001b[38;5;28mself\u001b[39m\u001b[38;5;241m.\u001b[39m_update_methods()\n",
      "\u001b[0;31mValueError\u001b[0m: Image size of 1634x469464 pixels is too large. It must be less than 2^16 in each direction."
     ]
    },
    {
     "data": {
      "text/plain": [
       "<Figure size 2000x1200 with 1 Axes>"
      ]
     },
     "metadata": {},
     "output_type": "display_data"
    }
   ],
   "source": [
    "plotter = SeaIcePlotter(sim_name  = sim_name,\n",
    "                        ice_type  = 'FI',\n",
    "                        plot_type = 'timeseries',\n",
    "                        var_name  = 'FIA',\n",
    "                        show_fig  = True,\n",
    "                        save_fig  = True,\n",
    "                        overwrite = True)\n",
    "plotter.plot_ice_area(FIA_comp, roll_days=15, boolean_method=False, tit_str=f\"gi-mid ispd_thresh={ispd_str}: ktens=0.2, elps=2.0, GI-thin=0.25\",\n",
    "                      P_png=os.path.join(plotter.config['D_dict']['graph'],'timeseries',f'FIA_gi-mid_{ispd_str}_smoothed.png'))"
   ]
  },
  {
   "cell_type": "code",
   "execution_count": null,
   "id": "b4afa2a1-5790-4267-a093-8caf416d5005",
   "metadata": {
    "jupyter": {
     "source_hidden": true
    }
   },
   "outputs": [],
   "source": [
    "FIP_comp2  = {}\n",
    "FIA_comp2  = {}\n",
    "sim_names = ['baseline','gi-min','gi-min-elps-def','gi-max', 'gi-mid']\n",
    "for sim_name in sim_names:\n",
    "    SI_proc            = SeaIceProcessor(sim_name=sim_name)\n",
    "    SI                 = SI_proc.load_raw_ice_type(ice_type=\"SO\")\n",
    "    SI_roll            = SI_proc.compute_rolling_mean_on_dataset(SI)\n",
    "    sic_mask           = SI_roll['aice'] > SI_proc.icon_thresh\n",
    "    ispd_mask          = (SI_roll['ispd'] >= SI_proc.ispd_lo_thresh) & (SI_roll['ispd'] <= SI_proc.ispd_hi_thresh)\n",
    "    FI_mask            = sic_mask & ispd_mask\n",
    "    FI_bool            = SI_proc.boolean_fast_ice(FI_mask).persist()\n",
    "    FIC                = FI['aice'].where(FI_bool).persist()\n",
    "    GC_area            = FI['uarea'].where(FI_bool).persist()\n",
    "    FIP_comp2[sim_name] = SI_proc.compute_variable_aggregate(FIC).compute()\n",
    "    FIA_comp2[sim_name] = SI_proc.compute_ice_area(FIC,GC_area).compute()"
   ]
  },
  {
   "cell_type": "code",
   "execution_count": null,
   "id": "a75845a9-c993-4c3c-9537-20d41c0c6e0c",
   "metadata": {
    "jupyter": {
     "source_hidden": true
    }
   },
   "outputs": [],
   "source": [
    "plotter = SeaIcePlotter(sim_name  = sim_name,\n",
    "                        ice_type  = 'FI',\n",
    "                        plot_type = 'timeseries',\n",
    "                        var_name  = 'FIA',\n",
    "                        show_fig  = True,\n",
    "                        save_fig  = True,\n",
    "                        overwrite = True)\n",
    "plotter.plot_ice_area(FIA_comp2, roll_days=15, \n",
    "                      P_png=os.path.join(plotter.config['D_dict']['graph'],'timeseries','FIA_GI-comp_average-first_boolean-method_15day-smooth_1993-1999.png'))"
   ]
  },
  {
   "cell_type": "code",
   "execution_count": null,
   "id": "9699c744-fac3-46e4-9509-95ea074ddb81",
   "metadata": {
    "jupyter": {
     "source_hidden": true
    }
   },
   "outputs": [],
   "source": [
    "SI_proc = SeaIceProcessor(sim_name='gi-mid')\n",
    "SI      = SI_proc.load_raw_ice_type(ice_type=\"SO\")\n",
    "SI"
   ]
  },
  {
   "cell_type": "code",
   "execution_count": null,
   "id": "603a7346-b991-4374-a3e9-be21ac2a8912",
   "metadata": {
    "jupyter": {
     "source_hidden": true
    }
   },
   "outputs": [],
   "source": [
    "SI_proc = SeaIceProcessor(sim_name='gi-mid')\n",
    "SI_proc.process_daily_fast_ice(sim_name='gi-mid', dt0_str=\"1994-09-01\", dtN_str=\"1994-09-02\")"
   ]
  },
  {
   "cell_type": "code",
   "execution_count": null,
   "id": "ab508a42-8dd0-42ed-833d-842bd1f72e9b",
   "metadata": {
    "jupyter": {
     "source_hidden": true
    }
   },
   "outputs": [],
   "source": [
    "def prepare_data(lon, lat, dat):\n",
    "    mask = ~np.isnan(lon) & ~np.isnan(lat) & ~np.isnan(dat)\n",
    "    x = lon[mask]\n",
    "    y = lat[mask]\n",
    "    z = dat[mask]\n",
    "    #print(\"x:\", x.shape, \"y:\", y.shape, \"z:\", z.shape)\n",
    "    return x, y, z\n",
    "    \n",
    "def plot_field_with_pygmt(lon, lat, dat, title):\n",
    "    fig = pygmt.Figure()\n",
    "    pygmt.makecpt(cmap=\"cmocean/balance\", series=[-0.01, 0.01])\n",
    "    region = [65, 88, -70, -66]\n",
    "    fig.basemap(projection=\"S75/-90/20c\", region=region, frame=[\"af\", f\"+t{title}\"])\n",
    "    fig.coast(land=\"gray\")\n",
    "    fig.plot(x=x, y=y, fill=z, cmap=True, style=\"s0.15c\")\n",
    "    fig.plot(x=lon_diff, y=lat_diff, fill='green', style=\"s0.1c\")\n",
    "    fig.colorbar(frame=\"x+lm/s\")\n",
    "    return fig\n",
    "    \n",
    "def prepare_dual_colormap_data(x, y, z, cmap_inner, cmap_outer, thresh_low, thresh_high):\n",
    "    \"\"\"\n",
    "    Masks data into two value domains:\n",
    "    - Inner domain: values between [thresh_low, thresh_high] → cmap_inner\n",
    "    - Outer domain: values outside that range               → cmap_outer\n",
    "    \"\"\"\n",
    "    x, y, z = np.array(x), np.array(y), np.array(z)\n",
    "    mask_inner = (z >= thresh_low) & (z <= thresh_high) & ~np.isnan(z)\n",
    "    mask_outer = ((z < thresh_low) | (z > thresh_high)) & ~np.isnan(z)\n",
    "\n",
    "    xa, ya, za = x[mask_inner], y[mask_inner], z[mask_inner]\n",
    "    xb, yb, zb = x[mask_outer], y[mask_outer], z[mask_outer]\n",
    "\n",
    "    return (xa, ya, za, cmap_inner, [thresh_low, thresh_high]), \\\n",
    "           (xb, yb, zb, cmap_outer, [np.nanmin(zb), np.nanmax(zb)])\n",
    "\n",
    "def compute_regional_stats(x, y, z, region):\n",
    "    \"\"\"\n",
    "    Returns count of valid (non-NaN) z values and their sum within a geographic region.\n",
    "    \"\"\"\n",
    "    lon_min, lon_max, lat_min, lat_max = region\n",
    "    mask = (\n",
    "        (x >= lon_min) & (x <= lon_max) &\n",
    "        (y >= lat_min) & (y <= lat_max) &\n",
    "        ~np.isnan(z)\n",
    "    )\n",
    "    count = np.count_nonzero(mask)\n",
    "    z_sum = np.nansum(z[mask])\n",
    "    return count, z_sum\n",
    "\n",
    "def plot_fast_ice_compare( x1, y1, z1, \n",
    "                           x2, y2, z2, \n",
    "                           title, \n",
    "                           region,\n",
    "                           cmap=\"cmocean/haline\",\n",
    "                           cmap_series=[0.9,1],\n",
    "                           GI_coords=None,\n",
    "                           GI_color=\"red\",\n",
    "                           var_style=\"s0.5c\",\n",
    "                           GI_style=\"c0.3c\",\n",
    "                           projection=\"S75/-90/?\",\n",
    "                           figsize=(\"30c\", \"30c\")):\n",
    "    \"\"\"\n",
    "    Plot a scalar field with dual colormap logic and optional grounded iceberg overlay.\n",
    "    \"\"\"\n",
    "    count1, sum1 = compute_regional_stats(x1, y1, z1, region)\n",
    "    count2, sum2 = compute_regional_stats(x2, y2, z2, region)\n",
    "    fig = pygmt.Figure()\n",
    "    pygmt.config(FORMAT_GEO_MAP=\"ddd.x\", FONT_TITLE=\"16p,Courier-Bold\", FONT_ANNOT_PRIMARY=\"14p,Helvetica\")\n",
    "    pygmt.makecpt(cmap=cmap, series=cmap_series)\n",
    "    with fig.subplot(nrows=2, ncols=1, figsize=figsize, title=title ):\n",
    "        with fig.set_panel(panel=0):\n",
    "            fig.basemap(projection=projection, region=region, frame=True)\n",
    "            fig.coast(land='gray')\n",
    "            fig.plot(x=x1, y=y1, fill=z1, cmap=True, style=var_style)\n",
    "            fig.text(x=region[0]+.1, y=region[2]+.5, text=f\"Valid: {count1:,}\\nSum: {sum1:.2f}\", font=\"12p,Helvetica-Bold\", justify=\"LB\")\n",
    "            if GI_coords is not None:\n",
    "                lon_gi, lat_gi = GI_coords\n",
    "                fig.plot(x=lon_gi, y=lat_gi, fill=GI_color, style=GI_style)\n",
    "        with fig.set_panel(panel=1):\n",
    "            fig.basemap(projection=projection, region=region, frame=True)\n",
    "            fig.coast(land='gray')\n",
    "            fig.plot(x=x2, y=y2, fill=z2, cmap=True, style=var_style)\n",
    "            fig.text(x=region[0]+.1, y=region[2]+.5, text=f\"Valid: {count2:,}\\nSum: {sum2:.2f}\", font=\"12p,Helvetica-Bold\", justify=\"LB\")\n",
    "            if GI_coords is not None:\n",
    "                lon_gi, lat_gi = GI_coords\n",
    "                fig.plot(x=lon_gi, y=lat_gi, fill=GI_color, style=GI_style)\n",
    "    fig.colorbar(position=\"JBC+o0c/1.5c\", frame=\"x+lm/s\")\n",
    "    return fig\n",
    "\n",
    "def compute_fast_ice(aice, hi, ispd_b, ispd_thresh=1e-3):\n",
    "    # tarea = ds['tarea']\n",
    "    # aice  = ds['aice']\n",
    "    # hi    = ds['hi']\n",
    "    #u_b    = CICE_raw['uvel']\n",
    "    #v_b    = CICE_raw['vvel']\n",
    "    #ispd_b = np.sqrt( u_b**2 + v_b**2 )\n",
    "    TLON      = aice['TLON'].values\n",
    "    TLAT      = aice['TLAT'].values\n",
    "    ULON      = ispd_b['ULON'].values\n",
    "    ULAT      = ispd_b['ULAT'].values\n",
    "    ulon_flat = ULON.ravel()\n",
    "    ulat_flat = ULAT.ravel()\n",
    "    tlon_flat = TLON.ravel()\n",
    "    tlat_flat = TLAT.ravel()\n",
    "    # B-grid points (u/v):\n",
    "    # (i,j)     (i,j+1)\n",
    "    #    +--------+\n",
    "    #    |   t    |   ← t-grid point (i,j)\n",
    "    #    +--------+\n",
    "    # (i+1,j) (i+1,j+1)\n",
    "    # Average B-grid to T-grid\n",
    "    ispd_avg           = (ispd_b[:-1, :-1] + ispd_b[:-1, 1:] + ispd_b[1:, :-1] + ispd_b[1:, 1:])/4\n",
    "    #u_avg              = (u_b[:-1, :-1] + u_b[:-1, 1:] + u_b[1:, :-1] + u_b[1:, 1:])/4\n",
    "    #v_avg              = (v_b[:-1, :-1] + v_b[:-1, 1:] + v_b[1:, :-1] + v_b[1:, 1:])/4\n",
    "    ispd_t_full        = np.full_like(ispd_b.values, np.nan)\n",
    "    #u_t_full           = np.full_like(u_b.values, np.nan)\n",
    "    #v_t_full           = np.full_like(v_b.values, np.nan)\n",
    "    ispd_t_full[:-1, :-1] = ispd_avg\n",
    "    #u_t_full[:-1, :-1] = u_avg\n",
    "    #v_t_full[:-1, :-1] = v_avg\n",
    "    ispd_t             = xr.DataArray(ispd_t_full, \n",
    "                                      name   = 'ispd_tgrid',\n",
    "                                      attrs  = {'units':'m/s','long_name':'sea ice velocity magnitude'},\n",
    "                                      dims   = ('nj', 'ni'), \n",
    "                                      coords = {'TLON': (('nj', 'ni'),TLON), 'TLAT': (('nj', 'ni'),TLAT)})\n",
    "    #u_t                = xr.DataArray(u_t_full, dims=('nj', 'ni'), coords={'TLON': (('nj', 'ni'),TLON), 'TLAT': (('nj', 'ni'),TLAT)})\n",
    "    #v_t                = xr.DataArray(v_t_full, dims=('nj', 'ni'), coords={'TLON': (('nj', 'ni'),TLON), 'TLAT': (('nj', 'ni'),TLAT)})\n",
    "    # u_t.name           = \"uvel_tgrid\"\n",
    "    # v_t.name           = \"vvel_tgrid\"\n",
    "    # u_t.attrs          = u_b.attrs\n",
    "    # v_t.attrs          = v_b.attrs\n",
    "    print(\"ispd_b >0 count:\", np.sum(ispd_b.values > 0))\n",
    "    print(\"ispd_t >0 count:\", np.sum(ispd_t.values > 0))\n",
    "    #ispd_b     = np.sqrt( u_b**2 + v_b**2 )\n",
    "    #ispd_t      = np.sqrt( u_t**2 + v_t**2 )\n",
    "    FI_mask_b = (aice >= 0.15) & ( ispd_b <= ispd_thresh )\n",
    "    FI_mask_t = (aice >= 0.15) & ( ispd_t <= ispd_thresh )\n",
    "    FIC_b     = aice.where(FI_mask_b)\n",
    "    FIC_t     = aice.where(FI_mask_t)\n",
    "    FIH_b     = hi.where(FI_mask_b)\n",
    "    FIH_t     = hi.where(FI_mask_t)\n",
    "    n_valid_b = np.count_nonzero(~np.isnan(FIC_b.values))\n",
    "    n_valid_t = np.count_nonzero(~np.isnan(FIC_t.values))\n",
    "    print(\"Valid FIC_b grid cells:\", n_valid_b)\n",
    "    print(\"Valid FIC_t grid cells:\", n_valid_t)\n",
    "    sum_fic_b = np.nansum(FIC_b.values)\n",
    "    sum_fic_t = np.nansum(FIC_t.values)\n",
    "    print(\"Sum FIC_b:\", sum_fic_b)\n",
    "    print(\"Sum FIC_t:\", sum_fic_t)\n",
    "    mean_fic_b = np.nanmean(FIC_b.values)\n",
    "    mean_fic_t = np.nanmean(FIC_t.values)\n",
    "    print(\"Mean FIC_b:\", mean_fic_b)\n",
    "    print(\"Mean FIC_t:\", mean_fic_t)\n",
    "    total_cells = np.prod(aice.shape)\n",
    "    percent_b = 100 * n_valid_b / total_cells\n",
    "    percent_t = 100 * n_valid_t / total_cells\n",
    "    print(f\"Fast ice coverage (B-grid): {percent_b:.2f}%\")\n",
    "    print(f\"Fast ice coverage (T-grid): {percent_t:.2f}%\")\n",
    "    common_mask = (~np.isnan(FIC_b)) & (~np.isnan(FIC_t))\n",
    "    diff = FIC_b.where(common_mask) - FIC_t.where(common_mask)\n",
    "    rmse = np.sqrt(np.nanmean(diff.values**2))\n",
    "    print(\"RMSE between FIC_b and FIC_t:\", rmse)\n",
    "    FIC_b_flat  = FIC_b.values.ravel()\n",
    "    FIC_t_flat  = FIC_t.values.ravel()\n",
    "    FIH_b_flat  = FIH_b.values.ravel()\n",
    "    FIH_t_flat  = FIH_t.values.ravel()\n",
    "    return ulon_flat, ulat_flat, tlon_flat, tlat_flat, FIC_b_flat, FIC_t_flat, FIH_b_flat, FIH_t_flat"
   ]
  },
  {
   "cell_type": "code",
   "execution_count": null,
   "id": "e73e0c12-cc84-4fef-9896-8cb7a022fae0",
   "metadata": {},
   "outputs": [],
   "source": [
    "FI_vars = [\"aice\", \"uvel\", \"vvel\", \"hi\", \"tarea\", \"uarea\"]\n",
    "def _preprocess(ds):\n",
    "    return ds[FI_vars]\n",
    "CICE_mf = xr.open_mfdataset(\"/g/data/gv90/da1339/afim_output/gi-mid/history/daily/iceh.1997*\", engine=\"netcdf4\", preprocess=_preprocess)"
   ]
  },
  {
   "cell_type": "code",
   "execution_count": null,
   "id": "d9867d8a-9b32-433c-b103-ecc6c23d9bc6",
   "metadata": {},
   "outputs": [],
   "source": [
    "CICE_mf   = CICE_mf.chunk({'time': 15})\n",
    "aice_mf   = CICE_mf['aice']\n",
    "uvel_mf   = CICE_mf['uvel']\n",
    "vvel_mf   = CICE_mf['vvel']\n",
    "hi_mf     = CICE_mf['hi']\n",
    "ispd_mf   = xr.apply_ufunc( np.hypot, uvel_mf, vvel_mf, dask='allowed', output_dtypes=[uvel_mf.dtype] )\n",
    "FI_mask_mf = (aice_mf>0.15) & (ispd_mf<=1e-3)\n",
    "\n",
    "aice_roll = CICE_mf['aice'].rolling(time=15, center=True, min_periods=1).mean()\n",
    "hi_roll   = CICE_mf['aice'].rolling(time=15, center=True, min_periods=1).mean()\n",
    "ispd_roll = ispd_mf.rolling(time=15, center=True, min_periods=1).mean()\n"
   ]
  },
  {
   "cell_type": "code",
   "execution_count": null,
   "id": "928bce19-331e-4d8b-90cf-4ade14e77437",
   "metadata": {},
   "outputs": [],
   "source": [
    "sim_name    = 'gi-mid'\n",
    "year        = 1997\n",
    "ispd_thresh = 1e-3\n",
    "D_cice      = Path(f\"/g/data/gv90/da1339/afim_output/{sim_name}/history/daily/\")\n",
    "D_graph     = Path(f\"/g/data/gv90/da1339/GRAPHICAL/AFIM/{sim_name}\")\n",
    "SI_plot     = SeaIcePlotter(sim_name=sim_name)\n",
    "reg_dict    = SI_plot.reg_dict\n",
    "P_kmt_mod   = \"/g/data/gv90/da1339/grounded_icebergs/MyThin_db/kmt_mod_thinned-0p75_v1p50.nc\"\n",
    "P_kmt_org   = \"/g/data/gv90/da1339/grounded_icebergs/MyThin_db/KMT_original_reformatted_with_coordinates.nc\"\n",
    "ds_mod      = xr.open_dataset(P_kmt_mod)\n",
    "ds_org      = xr.open_dataset(P_kmt_org)\n",
    "kmt_mod     = ds_mod['kmt'].values\n",
    "kmt_org     = ds_org['kmt'].values\n",
    "lat         = ds_mod['lat']\n",
    "lon         = ds_mod['lon']\n",
    "print(\"MOD KMT LAND CELL COUNT:\", np.sum(kmt_mod == 1))\n",
    "print(\"ORG KMT LAND CELL COUNT:\", np.sum(kmt_org == 1))\n",
    "print(\"Total mismatches:\", np.sum(kmt_mod != kmt_org))\n",
    "print(\"Unique values in KMT MODIFIED:\", np.unique(kmt_mod))\n",
    "print(\"Unique values in KMT ORIGINAL:\", np.unique(kmt_org))\n",
    "assert kmt_mod.shape == kmt_org.shape == lat.shape == lon.shape\n",
    "mask_diff = (kmt_org == 1) & (kmt_mod != 1)\n",
    "lat_diff  = lat.where(mask_diff)\n",
    "lon_diff  = lon.where(mask_diff)\n",
    "mask_flat = ~np.isnan(lat_diff)\n",
    "lat_diff  = lat_diff.values[mask_flat]\n",
    "lon_diff  = lon_diff.values[mask_flat]\n",
    "print(f\"🔍 Found {lat_diff.size} grid cells where 1s were removed\")\n",
    "dt0       = date(year, 1, 1)\n",
    "dtN       = date(year, 12, 31)\n",
    "dt_delta  = timedelta(days=1)\n",
    "dti       = dt0\n",
    "cnt       = 0\n",
    "while dti <= dtN:\n",
    "    P_ = Path(D_cice,f\"iceh.{dti:%Y-%m-%d}.nc\")\n",
    "    if P_.exists():\n",
    "        print(f\"\\n\\nOpening: {P_}\")\n",
    "        CICE_raw    = xr.open_dataset(P_).isel(time=0)\n",
    "        print(\"computing fast ice on raw dataset\")\n",
    "        aice_raw    = CICE_raw['aice']\n",
    "        hi_raw      = CICE_raw['hi']\n",
    "        ispd_raw    = xr.apply_ufunc(np.hypot, CICE_raw['uvel'], CICE_raw['vvel'], output_dtypes=[CICE_raw['uvel'].dtype])\n",
    "        [ulon_raw, ulat_raw, tlon_raw, tlat_raw, FIC_b_raw, FIC_t_raw, FIH_b_raw, FIH_t_raw] = compute_fast_ice(aice_raw,\n",
    "                                                                                                                hi_raw,\n",
    "                                                                                                                ispd_raw,\n",
    "                                                                                                                ispd_thresh=ispd_thresh)\n",
    "        print(f\"selecting and persisting rolling average data\")\n",
    "        aice_roll_i = aice_roll.sel(time=f\"{dti:%Y-%m-%d}\", method='nearest').compute()\n",
    "        hi_roll_i   = hi_roll.sel(time=f\"{dti:%Y-%m-%d}\", method='nearest').compute()\n",
    "        ispd_roll_i = ispd_roll.sel(time=f\"{dti:%Y-%m-%d}\", method='nearest').compute()\n",
    "        print(\"computing fast ice on rolling average dataset\")\n",
    "        [ulon_mean, ulat_mean, tlon_mean, tlat_mean, FIC_b_mean, FIC_t_mean, FIH_b_mean, FIH_t_mean] = compute_fast_ice(aice_roll_i,\n",
    "                                                                                                                        hi_roll_i,\n",
    "                                                                                                                        ispd_roll_i,\n",
    "                                                                                                                        ispd_thresh=ispd_thresh)\n",
    "        \n",
    "        ulon_raw_plt, ulat_raw_plt, FIC_b_raw_plt = prepare_data(ulon_raw, ulat_raw, FIH_b_raw)\n",
    "        ulon_mean_plt, ulat_mean_plt, FIC_b_mean_plt = prepare_data(ulon_mean, ulat_mean, FIH_b_mean)\n",
    "        for reg_name, reg_cfg in reg_dict.items():\n",
    "            fig_FIH = plot_fast_ice_compare(x1 = ulon_raw_plt , y1 = ulat_raw_plt , z1 = FIH_b_raw_plt,\n",
    "                                            x2 = ulon_mean_plt, y2 = ulat_mean_plt, z2 = FIH_b_mean_plt,\n",
    "                                            title       = f\"{dti:%Y-%m-%d} : Fast Ice Thickness , B-grid, raw (top), mean (bottom)\",\n",
    "                                            cmap        = \"cmocean/matter\",\n",
    "                                            cmap_series = [0,2],\n",
    "                                            region      = reg_cfg['plt_ext'],\n",
    "                                            GI_coords   = (lon_diff, lat_diff),\n",
    "                                            var_style   = \"s0.4c\",\n",
    "                                            GI_style    = \"c0.2c\",\n",
    "                                            GI_color    = \"red\")\n",
    "            fig_FIH.show()\n",
    "            D_plt = Path(D_graph,\"FI\",regional,reg_name,\"FIH\")\n",
    "            D_plt.mkdir(parents=True, exist_ok=True)\n",
    "            #fig_FIH.savefig(D_plt,f\"FIH_{dti:%Y-%m-%d}.png\"))\n",
    "        CICE_raw.close()  # good practice when not using a context manager\n",
    "    else:\n",
    "        print(f\"⚠️ Missing file: {P_}\")\n",
    "    dti += dt_delta\n",
    "    cnt += 1"
   ]
  },
  {
   "cell_type": "code",
   "execution_count": null,
   "id": "c119acca-dc12-4efe-82d4-da90271c28b9",
   "metadata": {
    "jupyter": {
     "source_hidden": true
    }
   },
   "outputs": [],
   "source": [
    "SI_plot  = SeaIcePlotter(sim_name  = sim_name,\n",
    "                        ice_type  = 'FI',\n",
    "                        plot_type = 'regional',\n",
    "                        var_name  = 'FIA',\n",
    "                        show_fig  = True,\n",
    "                        save_fig  = True,\n",
    "                        overwrite = True)\n",
    "ds     = xr.open_dataset(\"/g/data/gv90/da1339/afim_output/gi-mid/zarr/SO/SO_1994-09.zarr\")\n",
    "lonmin = ds['lon'].isel(nj=slice(130,160),ni=slice(100,150)).min().values\n",
    "lonmax = ds['lon'].isel(nj=slice(130,160),ni=slice(100,150)).max().values\n",
    "latmin = ds['lat'].isel(nj=slice(130,160),ni=slice(100,150)).min().values\n",
    "latmax = ds['lat'].isel(nj=slice(130,160),ni=slice(100,150)).max().values\n",
    "region = [lonmin, lonmax, latmin, latmax]\n",
    "fig   = pygmt.Figure()\n",
    "pygmt.makecpt(cmap=\"cmocean/speed\", series=[0,1])\n",
    "da_full  = ds['ispd'].isel(time=0)\n",
    "lat_full = da_full['lat'].values\n",
    "lon_full = da_full['lon'].values\n",
    "da_np    = da_full.values\n",
    "mask_na  = ~np.isnan(da_np)\n",
    "lat_plt  = lat_full.ravel()[mask_na.ravel()]\n",
    "lon_plt  = lon_full.ravel()[mask_na.ravel()]\n",
    "da_plt   = da_np.ravel()[mask_na.ravel()]\n",
    "GI_proc  = GroundedIcebergProcessor(sim_name=sim_name)\n",
    "GI_proc.load_AFIM_GI()\n",
    "use_gi   = GI_proc.use_gi\n",
    "region_items = list(SI_plot.reg_dict.items())\n",
    "region_name  = \"EIO\"\n",
    "region_config = SI_plot.reg_dict[region_name]\n",
    "region_extent = region_config['plt_ext']   \n",
    "region_MC     = SI_plot.get_meridian_center_from_geographic_extent(region_extent)\n",
    "projection    = f\"S{region_MC}/-90/20c\"#20c\n",
    "frame         = [\"af\",f\"+t{sim_name}\"]\n",
    "fig.basemap(projection=projection, region=region_extent, frame=frame)\n",
    "fig.plot(x=lon_plt, y=lat_plt, cmap=True, fill=da_plt, style=f\"s0.15c\")\n",
    "fig.plot(x=lon_diff, y=lat_diff, fill='red', style=\"s0.08c\")\n",
    "#fig.plot(x=GI_proc.GI_lon_cells, y=GI_proc.GI_lat_cells, fill='red', style=f\"c0.05c\")\n",
    "fig.show()\n",
    "#ds['aice'].isel(time=0,nj=slice(130,160),ni=slice(100,150)).plot(figsize=(30,20))\n",
    "#GI_proc  = GroundedIcebergProcessor(sim_name='gi-mid')\n",
    "#GI_proc.load_AFIM_GI()\n",
    "#fig.plot(x=GI_proc.GI_lon_cells, y=GI_proc.GI_lat_cells, fill='red', style=f\"c{sq_size_GI}c\", panel=i)"
   ]
  },
  {
   "cell_type": "code",
   "execution_count": null,
   "id": "4d1640fe-5667-45e8-b900-3776f4243680",
   "metadata": {
    "jupyter": {
     "source_hidden": true
    }
   },
   "outputs": [],
   "source": [
    "plotter = SeaIcePlotter(sim_name  = sim_name,\n",
    "                        ice_type  = 'FI',\n",
    "                        plot_type = 'regional',\n",
    "                        var_name  = 'FIC',\n",
    "                        dt0_str   = dt0_str,\n",
    "                        dtN_str   = dtN_str,\n",
    "                        show_fig  = False,\n",
    "                        save_fig  = True,\n",
    "                        overwrite = True)\n",
    "options = {'sq_size_GI' : 0.1 }\n",
    "plotter.animate_over_time( FI_div, \"FIC\" , region_name=\"EIO\" , time_coordinate_name='t_dim', **options)"
   ]
  },
  {
   "cell_type": "code",
   "execution_count": null,
   "id": "55050561-88b2-4600-b39d-626fd5e5e0c8",
   "metadata": {
    "jupyter": {
     "source_hidden": true
    }
   },
   "outputs": [],
   "source": [
    "plotter = SeaIcePlotter(sim_name  = sim_name,\n",
    "                        ice_type  = 'FI',\n",
    "                        plot_type = 'regional',\n",
    "                        var_name  = 'FIC_4D',\n",
    "                        dt0_str   = dt0_str,\n",
    "                        dtN_str   = dtN_str,\n",
    "                        show_fig  = False,\n",
    "                        save_fig  = True,\n",
    "                        overwrite = True)\n",
    "options = {'sq_size_GI' : 0.1 }\n",
    "plotter.animate_over_time( FI_div, \"FIC_4D\" , region_name=\"EIO\" , time_coordinate_name='time', **options)"
   ]
  },
  {
   "cell_type": "markdown",
   "id": "88a41468-ce11-4b94-834d-ea69e72935c7",
   "metadata": {},
   "source": [
    "## re-work fast ice classification"
   ]
  },
  {
   "cell_type": "code",
   "execution_count": null,
   "id": "bb30678e-d40d-45f5-b747-dc17853c32d1",
   "metadata": {},
   "outputs": [],
   "source": [
    "sim_name       = 'gi-min'\n",
    "year           = 1998\n",
    "win            = 15\n",
    "bool_win       = 6\n",
    "bool_min       = 4\n",
    "ispd_thresh    = 1.0e-3\n",
    "aice_thresh    = 0.15\n",
    "SO_slice       = slice(0,540)\n",
    "nj_slice       = slice(130,150)\n",
    "ni_slice       = slice(100,200)"
   ]
  },
  {
   "cell_type": "code",
   "execution_count": null,
   "id": "c1fe3f02-78fd-411a-ac29-93d5a0aed4e8",
   "metadata": {},
   "outputs": [],
   "source": [
    "ispd_thresh    = 2.5e-4\n",
    "### interpreting ice speed threshold in terms of physical displacement over time, relative to the grid resolution\n",
    "m_per_day = ispd_thresh * 86400\n",
    "print(f\"ice displacement in meters per day with a given ice speed threshold of {ispd_thresh:0.1e} m/s = {m_per_day:0.1f} meters\")\n",
    "G_res        = 0.25\n",
    "m_per_deg_eq = 111*1e3\n",
    "GC_len_eq    = G_res * m_per_deg_eq\n",
    "GC_len_ant   = GC_len_eq * np.cos(-70) #average latitude of Antarctic coastline\n",
    "pct_GC_disp  = m_per_day / GC_len_ant\n",
    "days_per_GC  = GC_len_ant / m_per_day\n",
    "print(f\"percent of grid cell displacement per day is {pct_GC_disp*100:0.3f}% based on above ice speed threshold\")\n",
    "print(f\"or at the rate of {ispd_thresh:0.1e} (m/s) it would take {days_per_GC:0.1f} days for ice to completely replaced by displacement alone\")"
   ]
  },
  {
   "cell_type": "markdown",
   "id": "ceae6d22-80a9-4dd3-ac5d-83fe3fc3be9a",
   "metadata": {
    "jp-MarkdownHeadingCollapsed": true
   },
   "source": [
    "### fast ice area"
   ]
  },
  {
   "cell_type": "code",
   "execution_count": null,
   "id": "0ca640cb-782b-46ab-9403-a7f86e55ee65",
   "metadata": {},
   "outputs": [],
   "source": [
    "aice_FI = FI_DS['aice'].chunk({'time':win})\n",
    "FIA_results = {}\n",
    "print(\"computing raw\")\n",
    "FIA_results['raw']  = (((aice_FI * grid_cell_area).sum(dim=('nj', 'ni')) / 1e9)+SI_proc.GI_total_area).compute()\n",
    "print(\"computing raw smooth\")\n",
    "FIA_results['mean'] = (FIA_results['raw'].rolling(time=win, center=True, min_periods=1).mean()).compute()"
   ]
  },
  {
   "cell_type": "code",
   "execution_count": null,
   "id": "29ec4d9e-d0d4-4634-8345-274afe529a3c",
   "metadata": {},
   "outputs": [],
   "source": [
    "print(\"putting data into a dataframe\")\n",
    "df = pd.DataFrame({'time'    : FIA_results['raw'].time.values,\n",
    "                   'raw'     : FIA_results['raw'].compute(),\n",
    "                   'mean'    : FIA_results['mean'].compute(),\n",
    "                   'boolean' : FIA_bool.compute()})\n",
    "df.set_index('time', inplace=True)"
   ]
  },
  {
   "cell_type": "code",
   "execution_count": null,
   "id": "1aaba734-2cd6-416f-a511-5c9734c398f0",
   "metadata": {
    "jp-MarkdownHeadingCollapsed": true
   },
   "outputs": [],
   "source": [
    "plt.figure(figsize=(20,12))\n",
    "time = np.arange(np.datetime64('1993-01-01'), np.datetime64('2000-01-01'))\n",
    "plt.plot(time, df['raw']    , label='no mean')\n",
    "plt.plot(time, df['mean']   , label='rolling mean')\n",
    "plt.plot(time, df['boolean'], label='boolean method')\n",
    "# Add vertical gridlines for each 30 Sep\n",
    "sep30s = pd.date_range(start=time.min(), end=time.max(), freq='YE-SEP')\n",
    "for dt in sep30s:\n",
    "    plt.axvline(dt, color='gray', linestyle='--', linewidth=0.8)\n",
    "years = list(range(pd.Timestamp(time.min()).year, pd.Timestamp(time.max()).year + 1))\n",
    "for i, year in enumerate(years):\n",
    "    yr_mask = (df.index.year == year)\n",
    "    for label, series in df.items():\n",
    "        # Skip 'raw' annotations completely\n",
    "        if label == 'raw':\n",
    "            continue\n",
    "        subset = series[yr_mask].dropna()\n",
    "        if subset.empty:\n",
    "            continue\n",
    "        # Max\n",
    "        dt_max = subset.idxmax()\n",
    "        val_max = subset.max()\n",
    "        plt.plot(dt_max, val_max, marker='^', color='black')\n",
    "        plt.text(dt_max, val_max + 10, f'{val_max:.0f}', ha='center', fontsize=8)\n",
    "        # Min — but skip first and last year\n",
    "        if i == 0 or i == len(years) - 1:\n",
    "            continue\n",
    "        dt_min = subset.idxmin()\n",
    "        val_min = subset.min()\n",
    "        plt.plot(dt_min, val_min, marker='v', color='black')\n",
    "        plt.text(dt_min, val_min - 25, f'{val_min:.0f}', ha='center', fontsize=8)\n",
    "# Labels and styling\n",
    "plt.title(f\"FIA Masking First → Then Averaging\\nISP Threshold = {ispd_thresh:.1e}, Window = {win} days, Boolean window = {bool_win:d} days & min-days = {bool_min:d} \")\n",
    "plt.ylabel(\"Fast Ice Area (1000-km²)\")\n",
    "plt.xlabel(\"Time\")\n",
    "plt.grid(True)\n",
    "plt.ylim([100, 1200])\n",
    "start_year = pd.Timestamp(time.min()).year\n",
    "end_year   = pd.Timestamp(time.max()).year\n",
    "plt.xlim(pd.Timestamp(f\"{start_year}-01-01\"), pd.Timestamp(f\"{end_year}-12-31\"))\n",
    "plt.legend()\n",
    "plt.tight_layout()\n",
    "plt.show()"
   ]
  },
  {
   "cell_type": "markdown",
   "id": "92031ae2-3745-460e-822a-03ad32b10202",
   "metadata": {
    "jp-MarkdownHeadingCollapsed": true
   },
   "source": [
    "### spatial maps"
   ]
  },
  {
   "cell_type": "code",
   "execution_count": null,
   "id": "7234e7e9-f66c-4f71-a4e2-9e002850cab1",
   "metadata": {},
   "outputs": [],
   "source": [
    "ds = xr.open_dataset(\"/g/data/gv90/da1339/afim_output/gi-min/zarr/SO/SO_1993-03.zarr\", engine=\"zarr\")\n",
    "ds"
   ]
  },
  {
   "cell_type": "code",
   "execution_count": null,
   "id": "6d4399bd-4011-4371-be63-fdc3699119eb",
   "metadata": {},
   "outputs": [],
   "source": [
    "D_fi     = Path(\"/g/data/gv90/da1339/afim_output/gi-min/zarr/FI\")\n",
    "D_pi     = Path(\"/g/data/gv90/da1339/afim_output/gi-min/zarr/PI\")\n",
    "D_so     = Path(\"/g/data/gv90/da1339/afim_output/gi-min/zarr/SO\")\n",
    "P_zarrs  = sorted(D_fi.glob(\"FI_*.zarr\"))\n",
    "months   = [f.stem.split(\"_\")[1] for f in P_zarrs]  # e.g. \"1993-01\", \"1993-02\"\n",
    "plt_vars = ['ispd', 'aice', 'hi', 'divu']\n",
    "for yr_mo_str in months:\n",
    "    FI_zarr = Path(D_fi,f\"FI_{yr_mo_str}.zarr\")\n",
    "    PI_zarr = Path(D_pi,f\"PI_{yr_mo_str}.zarr\")\n",
    "    SO_zarr = Path(D_so,f\"SO_{yr_mo_str}.zarr\")\n",
    "    if not FI_zarr.exists() or not PI_zarr.exists() or not SO_zarr.exists():\n",
    "        print(f\"⚠️ Missing one or all datasets for {yr_mo_str}\")\n",
    "        continue\n",
    "    #FI_DS = xr.open_zarr(FI_zarr)\n",
    "    #PI_DS = xr.open_zarr(PI_zarr)\n",
    "    SO_DS = xr.open_zarr(SO_zarr)\n",
    "    # Parse start and end of the month\n",
    "    dt_start        = pd.Timestamp(f\"{yr_mo_str}-01\")\n",
    "    dt_end          = dt_start + pd.offsets.MonthEnd(0)\n",
    "    yr_mo_start_str = dt_start.strftime(\"%Y-%m-%d\")\n",
    "    yr_mo_end_str   = dt_end.strftime(\"%Y-%m-%d\")\n",
    "    plotter         = SeaIcePlotter(sim_name   = sim_name,\n",
    "                                    ice_type   = 'SI',\n",
    "                                    plot_type  = 'regional',\n",
    "                                    hemisphere = 'south',\n",
    "                                    save_fig   = True,\n",
    "                                    show_fig   = False,\n",
    "                                    overwrite  = True)\n",
    "    #for var in plt_vars:\n",
    "    var = 'ispd'\n",
    "    if var not in SO_DS:\n",
    "        print(f\"⚠️ Skipping {var}: not found in dataset for {yr_mo_str}\")\n",
    "        continue\n",
    "    print(f\"📡 Plotting {var} for {yr_mo_str}\")\n",
    "    extra_kwargs = {}\n",
    "    if var == \"aice\":\n",
    "        extra_kwargs = {\"cmap\": \"viridis\", \"series\": [0.9, 1], \"cmap_reverse\": True}\n",
    "    elif var == \"divu\":\n",
    "        extra_kwargs = {\"cmap\": \"mag\", \"series\": [-10, 10], \"cmap_reverse\": False}\n",
    "    plotter.plot_map(ds              = SO_DS,\n",
    "                     var_name        = var,\n",
    "                     ispd_thresh     = ispd_thresh,\n",
    "                     #ds_back         = PI_DS,\n",
    "                     #var_name_back   = \"ispd\",\n",
    "                     dt0_str         = yr_mo_start_str,\n",
    "                     dtN_str         = yr_mo_end_str,\n",
    "                     single_figure   = False,\n",
    "                     #title_extras    = f\"ispd_thresh = {ispd_thresh:.1e} m/s\",\n",
    "                     time_coord_name = \"time\",\n",
    "                     lon_coord_name  = \"TLON\",\n",
    "                     lat_coord_name  = \"TLAT\",\n",
    "                     **extra_kwargs)"
   ]
  },
  {
   "cell_type": "code",
   "execution_count": null,
   "id": "5a799299-e382-436a-aedb-b6d7699b31ef",
   "metadata": {
    "jupyter": {
     "source_hidden": true
    }
   },
   "outputs": [],
   "source": [
    "# --- Parameters ---\n",
    "win = 15\n",
    "ispd_thresh = 5.e-4\n",
    "year_str = \"1998\"\n",
    "var_list = ['aice', 'hi', 'divu']\n",
    "\n",
    "# --- Load and prepare fields ---\n",
    "print(\"slicing\")\n",
    "CICE_SO = CICE.isel(nj=slice(0, 540)).copy()\n",
    "uvel = CICE_SO['uvel']\n",
    "vvel = CICE_SO['vvel']\n",
    "ispd = np.sqrt(uvel**2 + vvel**2)\n",
    "CICE_SO['ispd'] = ispd\n",
    "\n",
    "# --- Apply centered mean ---\n",
    "print(\"averaging\")\n",
    "CICE_smoothed = CICE_SO.rolling(time=win, center=True, min_periods=1).construct(\"window_dim\").quantile(0.5, dim=\"window_dim\")\n",
    "\n",
    "# --- Fast Ice Masking THEN Centered Mean ---\n",
    "print(\"masking\")\n",
    "sic_mask = CICE_smoothed['aice'] > 0.15\n",
    "spd_mask = CICE_smoothed['ispd'] <= ispd_thresh\n",
    "FI_mask = sic_mask & spd_mask\n",
    "CICE_FI_masked = CICE_smoothed.where(FI_mask)\n",
    "\n",
    "# --- Plot each variable ---\n",
    "for var in var_list:\n",
    "    if var not in CICE_smoothed:\n",
    "        print(f\"⚠️ Skipping {var}: not found in smoothed dataset.\")\n",
    "        continue\n",
    "    print(f\"📡 Plotting: {var}\")\n",
    "    extra_kwargs = {}\n",
    "    if var==\"aice\":\n",
    "        extra_kwargs = {\"cmap\"         : \"viridis\",\n",
    "                        \"series\"       : [0.9, 1],\n",
    "                        \"cmap_reverse\" : True}\n",
    "    elif var==\"divu\":\n",
    "        extra_kwargs = {\"cmap\"         : \"mag\",\n",
    "                        \"series\"       : [-10,10],\n",
    "                        \"cmap_reverse\" : False} if var == \"divu\" else {}\n",
    "    print(extra_kwargs)\n",
    "    plotter.plot_map(\n",
    "        ds=CICE_FI_masked,\n",
    "        var_name=var,\n",
    "        dt0_str=f\"{year_str}-09-01\",\n",
    "        dtN_str=f\"{year_str}-10-31\",\n",
    "        single_figure=False,\n",
    "        region_name='EIO',  # Or use 'Weddell', 'Amundsen', etc.\n",
    "        time_coord_name=\"time\",\n",
    "        lon_coord_name=\"TLON\",\n",
    "        lat_coord_name=\"TLAT\",\n",
    "        **extra_kwargs\n",
    "    )"
   ]
  },
  {
   "cell_type": "markdown",
   "id": "8da158f8-8c83-4415-8238-47a972178646",
   "metadata": {
    "jp-MarkdownHeadingCollapsed": true
   },
   "source": [
    "# process sea ice"
   ]
  },
  {
   "cell_type": "code",
   "execution_count": null,
   "id": "6593172f-4ee0-4b77-b61f-1cd5c18b003f",
   "metadata": {},
   "outputs": [],
   "source": [
    "SI_proc  = SeaIceProcessor(sim_name = sim_name,\n",
    "                           sea_ice  = True)\n",
    "SI_base = SI_proc.process_window(dt0_str   = dt0_str,\n",
    "                                dtN_str    = dtN_str, \n",
    "                                write_zarr = False,\n",
    "                                ow_zarrs   = False)"
   ]
  },
  {
   "cell_type": "code",
   "execution_count": null,
   "id": "78d1d4c7-4477-4af5-8cf0-a2f2c8df20f8",
   "metadata": {},
   "outputs": [],
   "source": [
    "plotter = SeaIcePlotter(sim_name  = sim_name,\n",
    "                        ice_type  = 'SI',\n",
    "                        plot_type = 'regional',\n",
    "                        var_name  = 'SI_SPEED',\n",
    "                        dt0_str   = dt0_str,\n",
    "                        dtN_str   = dtN_str,\n",
    "                        show_fig  = False,\n",
    "                        save_fig  = True,\n",
    "                        overwrite = True)\n",
    "options = {'sq_size_GI' : 0.1 }\n",
    "plotter.animate_over_time( SI_base, \"SI_SPEED\" , region_name=\"EIO\" , time_coordinate_name='t_dim', **options)"
   ]
  },
  {
   "cell_type": "code",
   "execution_count": null,
   "id": "c384d0c2-c12a-4388-b16a-a2abf66de3f0",
   "metadata": {},
   "outputs": [],
   "source": [
    "ds = xr.open_mfdataset(\"/g/data/gv90/da1339/afim_output/elps-def/history/daily/iceh.1994-09-*.nc\", engine=\"netcdf\")\n"
   ]
  },
  {
   "cell_type": "code",
   "execution_count": null,
   "id": "736c0385-4275-49b8-a911-1e7c2e12962b",
   "metadata": {},
   "outputs": [],
   "source": [
    "ds.uvel.isel(time=0,nj=slice(100,200),ni=slice(1300,1440)).plot(figsize=(30,15),vmin=0,vmax=1)"
   ]
  },
  {
   "cell_type": "code",
   "execution_count": null,
   "id": "b2719119-2502-4513-90a7-7fd086e90490",
   "metadata": {},
   "outputs": [],
   "source": [
    "ds.aice.isel(time=1,nj=slice(100,200),ni=slice(1300,1440)).plot(figsize=(30,15),vmin=0,vmax=1)"
   ]
  },
  {
   "cell_type": "code",
   "execution_count": null,
   "id": "6b5ba8e4-9472-4257-a1d9-5582c7fb6b4b",
   "metadata": {},
   "outputs": [],
   "source": []
  },
  {
   "cell_type": "code",
   "execution_count": null,
   "id": "89435aa2-a492-4a13-92ed-0ef7cb8d2621",
   "metadata": {},
   "outputs": [],
   "source": []
  },
  {
   "cell_type": "code",
   "execution_count": null,
   "id": "e80d13a2-64dc-497d-b788-3fb4df9d7d76",
   "metadata": {},
   "outputs": [],
   "source": [
    "ds.aice.isel(time=3,nj=slice(100,200),ni=slice(1300,1440)).plot(figsize=(30,15),vmin=0,vmax=1)"
   ]
  },
  {
   "cell_type": "code",
   "execution_count": null,
   "id": "292a0e16-1b6c-49c6-b778-44d1acc73cba",
   "metadata": {},
   "outputs": [],
   "source": []
  },
  {
   "cell_type": "code",
   "execution_count": null,
   "id": "e5c13e65-fc7c-4bde-81c1-e824e0fae496",
   "metadata": {},
   "outputs": [],
   "source": []
  },
  {
   "cell_type": "code",
   "execution_count": null,
   "id": "0f5fc0a8-5426-47e7-95b2-9d4140c09aed",
   "metadata": {},
   "outputs": [],
   "source": [
    "ds.aice.isel(time=4,nj=slice(100,200),ni=slice(1300,1440)).plot(figsize=(30,15),vmin=0,vmax=1)"
   ]
  },
  {
   "cell_type": "code",
   "execution_count": null,
   "id": "d91c4a5c-e7fc-4776-a491-1450587a5cfc",
   "metadata": {},
   "outputs": [],
   "source": []
  },
  {
   "cell_type": "code",
   "execution_count": null,
   "id": "0cb49f3e-9715-4a86-a46d-3e1bd714bcda",
   "metadata": {},
   "outputs": [],
   "source": [
    "ds.aice.isel(time=5,nj=slice(100,200),ni=slice(1300,1440)).plot(figsize=(30,15),vmin=0,vmax=1)"
   ]
  },
  {
   "cell_type": "code",
   "execution_count": null,
   "id": "37e7d676-ddfb-4e45-9bd5-017f3b41eaaf",
   "metadata": {},
   "outputs": [],
   "source": [
    "for i in range(29):\n",
    "    ds.uvel.isel(time=i,nj=slice(100,200),ni=slice(1300,1440)).plot(figsize=(30,15),vmin=-.5,vmax=.5,cmap=\"RdBu\")\n",
    "# ds.uvel.isel(time=1,nj=slice(100,200),ni=slice(1300,1440)).plot(figsize=(30,15),vmin=-.5,vmax=.5,cmap=\"RdBu\")\n",
    "# ds.uvel.isel(time=2,nj=slice(100,200),ni=slice(1300,1440)).plot(figsize=(30,15),vmin=-.5,vmax=.5,cmap=\"RdBu\")\n",
    "# ds.uvel.isel(time=3,nj=slice(100,200),ni=slice(1300,1440)).plot(figsize=(30,15),vmin=-.5,vmax=.5,cmap=\"RdBu\")\n",
    "# ds.uvel.isel(time=4,nj=slice(100,200),ni=slice(1300,1440)).plot(figsize=(30,15),vmin=-.5,vmax=.5,cmap=\"RdBu\")"
   ]
  },
  {
   "cell_type": "code",
   "execution_count": null,
   "id": "d524a525-eef3-4ea7-aecc-aa1aff8e88cb",
   "metadata": {},
   "outputs": [],
   "source": [
    "for i in range(29):\n",
    "    ds.vvel.isel(time=i,nj=slice(100,200),ni=slice(1300,1440)).plot(figsize=(30,15),vmin=-.5,vmax=.5,cmap=\"RdBu\")\n",
    "# ds.vvel.isel(time=1,nj=slice(100,200),ni=slice(1300,1440)).plot(figsize=(30,15),vmin=-.5,vmax=.5,cmap=\"RdBu\")\n",
    "# ds.vvel.isel(time=2,nj=slice(100,200),ni=slice(1300,1440)).plot(figsize=(30,15),vmin=-.5,vmax=.5,cmap=\"RdBu\")\n",
    "# ds.vvel.isel(time=3,nj=slice(100,200),ni=slice(1300,1440)).plot(figsize=(30,15),vmin=-.5,vmax=.5,cmap=\"RdBu\")\n",
    "# ds.vvel.isel(time=4,nj=slice(100,200),ni=slice(1300,1440)).plot(figsize=(30,15),vmin=-.5,vmax=.5,cmap=\"RdBu\")"
   ]
  },
  {
   "cell_type": "markdown",
   "id": "b368adbb-43ce-4790-a42c-c331fb7093fd",
   "metadata": {
    "jp-MarkdownHeadingCollapsed": true
   },
   "source": [
    "# plot 1D analysis"
   ]
  },
  {
   "cell_type": "code",
   "execution_count": null,
   "id": "c946497f-9cf3-4d0e-a7cb-f85d07dbb154",
   "metadata": {
    "scrolled": true
   },
   "outputs": [],
   "source": [
    "sim_name = 'baseline'\n",
    "ds = xr.open_mfdataset(f\"/g/data/gv90/da1339/afim_output/{sim_name}/FI/fast_ice_199*.zarr\", engine='zarr')\n",
    "time = pd.to_datetime(ds['t_dim'].values)\n",
    "fia = ds['FIA']\n",
    "fia_obs = ds['FIA_OBS'].sel(sector='circumpolar')\n",
    "# --- Model: Monthly cycle by year ---\n",
    "fia_df = pd.DataFrame({'FIA': fia.values}, index=time)\n",
    "fia_df['Year'] = fia_df.index.year\n",
    "fia_df['Month'] = fia_df.index.month\n",
    "monthly_fia = fia_df.groupby(['Year', 'Month']).mean().reset_index()\n",
    "monthly_cycle = monthly_fia.pivot(index='Month', columns='Year', values='FIA')\n",
    "# --- Obs: Monthly climatology (mean over available time) ---\n",
    "# If FIA_OBS is already time-averaged, we assume it has a 12-month length\n",
    "obs_df = fia_obs.to_dataframe().dropna().reset_index()\n",
    "# Try parsing month info from the time (or fallback if no datetime index)\n",
    "if 't_dim' in obs_df.columns and np.issubdtype(obs_df['t_dim'].dtype, np.datetime64):\n",
    "    obs_df['Month'] = obs_df['t_dim'].dt.month\n",
    "elif 'Month' not in obs_df.columns:\n",
    "    obs_df['Month'] = range(1, len(obs_df)+1)\n",
    "monthly_obs = obs_df.groupby('Month')['FIA_OBS'].mean()\n",
    "\n",
    "# --- Plot ---\n",
    "plt.figure(figsize=(12, 6))\n",
    "plt.style.use('ggplot')\n",
    "\n",
    "# Plot each year from model\n",
    "for year in monthly_cycle.columns:\n",
    "    plt.plot(monthly_cycle.index, monthly_cycle[year], label=f\"{year}\", linewidth=2)\n",
    "\n",
    "# Plot observed climatology\n",
    "plt.plot(monthly_obs.index, monthly_obs.values, label='Observed FIA (AF2020db)', \n",
    "         color='black', linestyle='--', linewidth=3)\n",
    "\n",
    "plt.title(\"Monthly Fast Ice Area Cycle (1993–1999)\", fontsize=16)\n",
    "plt.xlabel(\"Month\", fontsize=14)\n",
    "plt.ylabel(f\"Fast Ice Area ({fia.attrs.get('units', 'unknown')})\", fontsize=14)\n",
    "plt.xticks(ticks=range(1,13), labels=['Jan','Feb','Mar','Apr','May','Jun','Jul','Aug','Sep','Oct','Nov','Dec'])\n",
    "plt.grid(True, linestyle='--', alpha=0.5)\n",
    "plt.legend(loc='upper right', fontsize=10, title='Year')\n",
    "plt.tight_layout()\n",
    "plt.show()\n",
    "plt.savefig(f\"/g/data/gv90/da1339/GRAPHICAL/timeseries/{sim_name}_FIA_grouped_by_month.png\")"
   ]
  },
  {
   "cell_type": "code",
   "execution_count": null,
   "id": "210de4ee-58b2-44fd-b712-8d1da50ff876",
   "metadata": {},
   "outputs": [],
   "source": [
    "# sim_name = 'baseline'\n",
    "ds = xr.open_mfdataset(f\"/g/data/gv90/da1339/afim_output/{sim_name}/FI/fast_ice_199*.zarr\", engine='zarr')\n",
    "var_name = 'FIV'\n",
    "# Convert time to datetime index\n",
    "time = pd.to_datetime(ds['t_dim'].values)\n",
    "plot_da = ds[var_name]/1e12\n",
    "# --- Model: Monthly cycle by year ---\n",
    "plot_df = pd.DataFrame({var_name: plot_da.values}, index=time)\n",
    "plot_df['Year'] = plot_df.index.year\n",
    "plot_df['Month'] = plot_df.index.month\n",
    "monthly_plot = plot_df.groupby(['Year', 'Month']).mean().reset_index()\n",
    "monthly_cycle = monthly_plot.pivot(index='Month', columns='Year', values=var_name)\n",
    "plt.figure(figsize=(12, 6))\n",
    "plt.style.use('ggplot')\n",
    "for year in monthly_cycle.columns:\n",
    "    plt.plot(monthly_cycle.index, monthly_cycle[year], label=f\"{year}\", linewidth=2)\n",
    "plt.title(\"Monthly Fast Ice Thickness Cycle (1993–1999)\", fontsize=16)\n",
    "plt.xlabel(\"Month\", fontsize=14)\n",
    "plt.ylabel(f\"Fast Ice Volume ({fia.attrs.get('units', 'unknown')})\", fontsize=14)\n",
    "plt.xticks(ticks=range(1,13), labels=['Jan','Feb','Mar','Apr','May','Jun','Jul','Aug','Sep','Oct','Nov','Dec'])\n",
    "plt.grid(True, linestyle='--', alpha=0.5)\n",
    "plt.legend(loc='upper right', fontsize=10, title='Year')\n",
    "plt.tight_layout()\n",
    "plt.show()\n",
    "plt.savefig(f\"/g/data/gv90/da1339/GRAPHICAL/timeseries/{sim_name}_{var_name}_grouped_by_month.png\")"
   ]
  },
  {
   "cell_type": "code",
   "execution_count": null,
   "id": "7383022e-adf4-4d91-85c5-b153735b9d28",
   "metadata": {},
   "outputs": [],
   "source": [
    "dt0_str  = \"1993-01-01\"\n",
    "dtN_str  = \"1993-12-31\"\n",
    "sim_name = 'ktens-max'\n",
    "plotter  = SeaIcePlotter(sim_name, dt0_str, dtN_str, show_figs=True, ice_type='FI')\n",
    "plotter.plot_timeseries()"
   ]
  },
  {
   "cell_type": "code",
   "execution_count": null,
   "id": "8e90ea4e-594f-4c38-9afe-74ba57b2e7f2",
   "metadata": {},
   "outputs": [],
   "source": [
    "#plotter.plot_timeseries(var_names=[\"PI_STRESS\"])\n",
    "plotter.plot_timeseries_compare(\n",
    "    comparison_name = \"tensile-stars\",\n",
    "    sim_names       = [\"baseline\", \"ktens-max\", \"Pstar-max\", \"Cstar-min\"],\n",
    "    var_name        = \"PIA\",\n",
    "    label_dict      = {\"baseline\"  : \"tensile = 0.2, Pstar = 2.75e4, Cstar = 20\",\n",
    "                       \"ktens-max\" : \"tensile = 0.3, Pstar = 2.75e4, Cstar = 20\",\n",
    "                       \"Pstar-max\" : \"tensile = 0.2, Pstar = 5e4   , Cstar = 20\",\n",
    "                       \"Cstar-min\" : \"tensile = 0.2, Pstar = 2.75e4, Cstar = 10\"})"
   ]
  },
  {
   "cell_type": "code",
   "execution_count": null,
   "id": "bc426076-877a-40c3-888d-cc518a228c0a",
   "metadata": {},
   "outputs": [],
   "source": [
    "ds = xr.open_dataset(\"/g/data/gv90/da1339/afim_output/baseline/SI/sea_ice_1996-09-12.zarr\", engine=\"zarr\")\n",
    "ds.SIC.isel(t_dim=0).plot(figsize=(30,15))"
   ]
  },
  {
   "cell_type": "code",
   "execution_count": null,
   "id": "a63bee15-437e-4274-8781-aac8a82fcc35",
   "metadata": {},
   "outputs": [],
   "source": [
    "ds = xr.open_mfdataset(\"/g/data/gv90/da1339/afim_output/baseline/FI/fast_ice_1996*\", engine=\"zarr\")\n",
    "ds.FIC.isel(t_dim=0).plot(figsize=(30,15))"
   ]
  },
  {
   "cell_type": "code",
   "execution_count": null,
   "id": "c0c815f6-43e7-47dd-b419-13a2093b7395",
   "metadata": {},
   "outputs": [],
   "source": [
    "ds"
   ]
  },
  {
   "cell_type": "markdown",
   "id": "71d24fef-1237-43e6-aeed-5a53e27260ec",
   "metadata": {
    "jp-MarkdownHeadingCollapsed": true
   },
   "source": [
    "# plot 2D analysis"
   ]
  },
  {
   "cell_type": "code",
   "execution_count": null,
   "id": "c8edc380-86f1-4f0c-b4e1-fb9cf5d469eb",
   "metadata": {},
   "outputs": [],
   "source": [
    "dt0_str  = \"1993-01-01\"\n",
    "dtN_str  = \"1999-12-31\"\n",
    "sim_name = 'gi-min'\n",
    "plotter = SeaIcePlotter(sim_name  = sim_name,\n",
    "                        ice_type  = 'FI',\n",
    "                        plot_type = 'regional',\n",
    "                        var_name  = 'FIP',\n",
    "                        dt0_str   = dt0_str,\n",
    "                        dtN_str   = dtN_str,\n",
    "                        show_fig  = False,\n",
    "                        save_fig  = True,\n",
    "                        overwrite = True)\n",
    "kwargs = {'fill_color': 'red' , 'sq_size_GI' : 0.1 }\n",
    "plotter.plot_map( plot_native_spatial_distributions = True, **kwargs )"
   ]
  },
  {
   "cell_type": "markdown",
   "id": "55e3e8e3-378e-4165-988d-a9b08dda4138",
   "metadata": {
    "jp-MarkdownHeadingCollapsed": true
   },
   "source": [
    "# generate PBS jobs for analysis"
   ]
  },
  {
   "cell_type": "code",
   "execution_count": null,
   "id": "8fdbe334-5b18-4ca2-9ed2-77cbf7bd5af4",
   "metadata": {},
   "outputs": [],
   "source": [
    "from pathlib import Path\n",
    "from datetime import datetime, timedelta\n",
    "\n",
    "#type_of_sea_ice = 'sea_ice'     #'pack_ice' or 'sea_ice'\n",
    "# turn_on_overwrite = True\n",
    "\n",
    "# if turn_on_overwrite:\n",
    "#     overwrite = '--overwrite'\n",
    "# else:\n",
    "#     overwrite = ''\n",
    "\n",
    "# if type_of_sea_ice=='fast_ice':\n",
    "#     abbreviation = 'FI'\n",
    "#     switch       = ''\n",
    "# elif type_of_sea_ice=='pack_ice':\n",
    "#     abbreviation = 'PI'\n",
    "#     switch       = '--pack_ice'\n",
    "# elif type_of_sea_ice=='sea_ice':\n",
    "#     abbreviation = 'SI'\n",
    "#     switch       = '--sea_ice'\n",
    "\n",
    "sim_names = [\"gi-min\", \"gi-min-elps-def\", \"Cstar-max\", \"Cstar-min\",\n",
    "             \"Pstar-max\", \"Pstar-min\", \"Rothrock\", \"baseline\",\n",
    "             \"elps-def\", \"elps-fast\", \"elps-max\", \"elps-mid\",\n",
    "             \"elps-pack\", \"gi-max\",\"ktens-max\", \"ktens-min\", \"ktens-nil\", \"ustar-low\"]\n",
    "\n",
    "# Base time: 2 minutes from now\n",
    "base_time = datetime.now() + timedelta(minutes=2)\n",
    "\n",
    "pbs_template = \"\"\"#!/bin/bash\n",
    "#PBS -N {name}-process_daily_fast_ice\n",
    "#PBS -P gv90\n",
    "#PBS -l walltime=24:00:00\n",
    "#PBS -q normalbw\n",
    "#PBS -l mem=64GB\n",
    "#PBS -l ncpus=28\n",
    "#PBS -o {name}-process_daily_fast_ice.out\n",
    "#PBS -e {name}-process_daily_fast_ice.err\n",
    "#PBS -l storage=gdata/cj50+gdata/jk72+scratch/jk72+gdata/ik11+gdata/hh5+gdata/rt52+gdata/gb6+gdata/gv90\n",
    "#PBS -M daniel.atwater@utas.edu.au\n",
    "#PBS -a {start_time}\n",
    "\n",
    "module purge\n",
    "module use /g/data/hh5/public/modules\n",
    "module load conda/analysis3\n",
    "\n",
    "cd ~/AFIM/src/AFIM/scripts\n",
    "python3 ./process_daily_fast_ice.py {name}\n",
    "\"\"\"\n",
    "\n",
    "output_dir = Path(f\"/home/581/da1339/AFIM/src/AFIM/scripts/process_daily_fast_ice\")#/{type_of_sea_ice}\")\n",
    "output_dir.mkdir(exist_ok=True)\n",
    "for i, sim in enumerate(sim_names):\n",
    "    start_dt       = base_time + timedelta(minutes=2 * i)\n",
    "    start_str      = start_dt.strftime(\"%y%m%d%H%M\")  # YYMMDDhhmm format\n",
    "    script_content = pbs_template.format(name=sim, start_time=start_str)#, switch=switch, overwrite=overwrite, abbrev=abbreviation)\n",
    "    script_path    = output_dir / f\"{sim}-process_daily_fast_ice.pbs\"\n",
    "    print(f\"writing file: {script_path}\")\n",
    "    with open(script_path, \"w\") as f:\n",
    "        f.write(script_content)\n",
    "\n",
    "print(f\"✓ Generated {len(sim_names)} staggered PBS scripts in: {output_dir.resolve()}\")\n"
   ]
  },
  {
   "cell_type": "markdown",
   "id": "9f07209c-6355-4ce0-9c33-0639682f7fd2",
   "metadata": {
    "jp-MarkdownHeadingCollapsed": true
   },
   "source": [
    "# generate AF2020 CPT"
   ]
  },
  {
   "cell_type": "code",
   "execution_count": null,
   "id": "7f1e80f1-e813-42fd-ac05-f55b8e3f996f",
   "metadata": {},
   "outputs": [],
   "source": [
    "import numpy as np\n",
    "from matplotlib.colors import LinearSegmentedColormap, to_rgb\n",
    "\n",
    "# Step 1: Define your ColorBrewer hex codes\n",
    "hex_colors = [\n",
    "    \"#ffffff\",  # added white start\n",
    "    \"#ffffd9\", \"#edf8b1\", \"#c7e9b4\", \"#7fcdbb\",\n",
    "    \"#41b6c4\", \"#1d91c0\", \"#225ea8\", \"#253494\", \"#081d58\"\n",
    "]\n",
    "\n",
    "# Step 2: Convert hex to RGB (0–1 range)\n",
    "rgb_colors = [to_rgb(hex) for hex in hex_colors]\n",
    "\n",
    "# Step 3: Create a matplotlib colormap and sample 256 values\n",
    "cmap = LinearSegmentedColormap.from_list(\"custom_ygnbu\", rgb_colors, N=256)\n",
    "sampled_rgb = cmap(np.linspace(0, 1, 256))[:, :3]  # strip alpha channel\n",
    "\n",
    "# Step 4: Generate CPT lines\n",
    "cpt_lines = []\n",
    "for i in range(255):\n",
    "    val1 = i\n",
    "    val2 = i + 1\n",
    "    r1, g1, b1 = (sampled_rgb[i] * 255).astype(int)\n",
    "    r2, g2, b2 = (sampled_rgb[i+1] * 255).astype(int)\n",
    "    cpt_lines.append(f\"{val1} {r1} {g1} {b1} {val2} {r2} {g2} {b2}\")\n",
    "\n",
    "# Add background (B), foreground (F), and NaN (N) colors\n",
    "cpt_lines.append(\"B 255 255 255\")\n",
    "cpt_lines.append(\"F 0 0 0\")\n",
    "cpt_lines.append(\"N 128 128 128\")\n",
    "\n",
    "# Save to a .cpt file\n",
    "with open(\"/g/data/gv90/da1339/GRAPHICAL/CPTs/AF2020_YlGnBu.cpt\", \"w\") as f:\n",
    "    f.write(\"\\n\".join(cpt_lines))\n"
   ]
  }
 ],
 "metadata": {
  "kernelspec": {
   "display_name": "Python [conda env:analysis3-24.04] *",
   "language": "python",
   "name": "conda-env-analysis3-24.04-py"
  },
  "language_info": {
   "codemirror_mode": {
    "name": "ipython",
    "version": 3
   },
   "file_extension": ".py",
   "mimetype": "text/x-python",
   "name": "python",
   "nbconvert_exporter": "python",
   "pygments_lexer": "ipython3",
   "version": "3.10.14"
  }
 },
 "nbformat": 4,
 "nbformat_minor": 5
}
