{
 "cells": [
  {
   "cell_type": "markdown",
   "id": "28e1ab3c-05bc-4788-81e9-35b7e2a41851",
   "metadata": {},
   "source": [
    "# load required modules"
   ]
  },
  {
   "cell_type": "code",
   "execution_count": 1,
   "id": "c8a1f3b2-7007-44e3-9206-1b18eae4c194",
   "metadata": {},
   "outputs": [],
   "source": [
    "import sys, os, pygmt\n",
    "from pathlib import Path\n",
    "sys.path.insert(0, '/home/581/da1339/AFIM/src/AFIM/src')\n",
    "from sea_ice_processor   import SeaIceProcessor\n",
    "from sea_ice_plotter     import SeaIcePlotter\n",
    "from grounded_iceberg_processor import GroundedIcebergProcessor\n",
    "import numpy             as np\n",
    "import pandas            as pd\n",
    "import xarray            as xr\n",
    "from datetime            import timedelta, date, datetime\n",
    "import matplotlib.pyplot as plt\n",
    "import matplotlib.dates  as mdates"
   ]
  },
  {
   "cell_type": "markdown",
   "id": "06f6a975-728f-4256-b2e2-c63ea634726b",
   "metadata": {
    "jp-MarkdownHeadingCollapsed": true
   },
   "source": [
    "# grounded icebergs"
   ]
  },
  {
   "cell_type": "code",
   "execution_count": null,
   "id": "5e66eac8-29a4-4ea2-8873-68718cfe7777",
   "metadata": {},
   "outputs": [],
   "source": [
    "GI_proc = GroundedIcebergProcessor()\n",
    "GI_proc.process_raw_grounded_iceberg_database()\n",
    "GI_proc.modify_landmask_with_grounded_icebergs(p_min=0.1, p_max=0.9, scaling_exponent=.66)"
   ]
  },
  {
   "cell_type": "code",
   "execution_count": null,
   "id": "6ace0ef4-b8f5-4f12-be3a-882cac657fc5",
   "metadata": {},
   "outputs": [],
   "source": [
    "GI_proc.write_modified_landmask_and_counts_to_disk(write=True, overwrite=True)"
   ]
  },
  {
   "cell_type": "code",
   "execution_count": null,
   "id": "ab43a653-a8ec-4f68-9bb5-4d8697d7c25f",
   "metadata": {},
   "outputs": [],
   "source": [
    "SP = SeaIcePlotter(ice_type='fi', sim_name='baseline', show_figs=Falsoe)\n",
    "SP.plot_landmask_differences_per_region()"
   ]
  },
  {
   "cell_type": "markdown",
   "id": "a825c77b-15eb-45b8-a70e-a390adb04128",
   "metadata": {
    "jp-MarkdownHeadingCollapsed": true
   },
   "source": [
    "# process for fast ice"
   ]
  },
  {
   "cell_type": "code",
   "execution_count": null,
   "id": "6c923346-8555-4f14-ad7f-d041691a5d76",
   "metadata": {},
   "outputs": [],
   "source": [
    "dt0_str  = \"1993-08-01\"\n",
    "dtN_str  = \"1993-11-30\"\n",
    "sim_name = 'baseline'\n",
    "SI_proc  = SeaIceProcessor(sim_name                 = sim_name, \n",
    "                           ice_divergence_threshold = 0.01,\n",
    "                           fast_ice_masks           = ['aice','divu'])\n",
    "FI_div = SI_proc.process_window(dt0_str    = dt0_str,\n",
    "                                dtN_str    = dtN_str, \n",
    "                                write_zarr = False,\n",
    "                                ow_zarrs   = True)"
   ]
  },
  {
   "cell_type": "code",
   "execution_count": null,
   "id": "1efe06e1-16a9-472a-9dd8-f1b00d8fcb1b",
   "metadata": {},
   "outputs": [],
   "source": [
    "FI_div.FIA"
   ]
  },
  {
   "cell_type": "markdown",
   "id": "8da158f8-8c83-4415-8238-47a972178646",
   "metadata": {},
   "source": [
    "# process sea ice"
   ]
  },
  {
   "cell_type": "code",
   "execution_count": null,
   "id": "6593172f-4ee0-4b77-b61f-1cd5c18b003f",
   "metadata": {},
   "outputs": [],
   "source": [
    "SI_proc  = SeaIceProcessor(sim_name = sim_name,\n",
    "                           sea_ice  = True)\n",
    "SI_base = SI_proc.process_window(dt0_str   = dt0_str,\n",
    "                                dtN_str    = dtN_str, \n",
    "                                write_zarr = True,\n",
    "                                ow_zarrs   = False)"
   ]
  },
  {
   "cell_type": "code",
   "execution_count": null,
   "id": "62313f5b-16f5-4233-8b90-417cf0d77a7d",
   "metadata": {},
   "outputs": [],
   "source": [
    "dt0_str  = \"1994-01-01\"\n",
    "dtN_str  = \"1994-12-31\"\n",
    "sim_name = 'baseline'\n",
    "plotter = SeaIcePlotter(sim_name  = sim_name,\n",
    "                        ice_type  = 'FI',\n",
    "                        plot_type = 'regional',\n",
    "                        var_name  = 'FIP',\n",
    "                        dt0_str   = dt0_str,\n",
    "                        dtN_str   = dtN_str,\n",
    "                        show_fig  = True,\n",
    "                        save_fig  = False,\n",
    "                        overwrite = True)\n",
    "kwargs = {'fill_color': 'black' , 'sq_size_GI' : 0.1 }\n",
    "plotter.plot_map( **kwargs )"
   ]
  },
  {
   "cell_type": "code",
   "execution_count": null,
   "id": "c946497f-9cf3-4d0e-a7cb-f85d07dbb154",
   "metadata": {
    "jupyter": {
     "source_hidden": true
    },
    "scrolled": true
   },
   "outputs": [],
   "source": [
    "sim_name = 'baseline'\n",
    "ds = xr.open_mfdataset(f\"/g/data/gv90/da1339/afim_output/{sim_name}/FI/fast_ice_199*.zarr\", engine='zarr')\n",
    "time = pd.to_datetime(ds['t_dim'].values)\n",
    "fia = ds['FIA']\n",
    "fia_obs = ds['FIA_OBS'].sel(sector='circumpolar')\n",
    "# --- Model: Monthly cycle by year ---\n",
    "fia_df = pd.DataFrame({'FIA': fia.values}, index=time)\n",
    "fia_df['Year'] = fia_df.index.year\n",
    "fia_df['Month'] = fia_df.index.month\n",
    "monthly_fia = fia_df.groupby(['Year', 'Month']).mean().reset_index()\n",
    "monthly_cycle = monthly_fia.pivot(index='Month', columns='Year', values='FIA')\n",
    "# --- Obs: Monthly climatology (mean over available time) ---\n",
    "# If FIA_OBS is already time-averaged, we assume it has a 12-month length\n",
    "obs_df = fia_obs.to_dataframe().dropna().reset_index()\n",
    "# Try parsing month info from the time (or fallback if no datetime index)\n",
    "if 't_dim' in obs_df.columns and np.issubdtype(obs_df['t_dim'].dtype, np.datetime64):\n",
    "    obs_df['Month'] = obs_df['t_dim'].dt.month\n",
    "elif 'Month' not in obs_df.columns:\n",
    "    obs_df['Month'] = range(1, len(obs_df)+1)\n",
    "monthly_obs = obs_df.groupby('Month')['FIA_OBS'].mean()\n",
    "\n",
    "# --- Plot ---\n",
    "plt.figure(figsize=(12, 6))\n",
    "plt.style.use('ggplot')\n",
    "\n",
    "# Plot each year from model\n",
    "for year in monthly_cycle.columns:\n",
    "    plt.plot(monthly_cycle.index, monthly_cycle[year], label=f\"{year}\", linewidth=2)\n",
    "\n",
    "# Plot observed climatology\n",
    "plt.plot(monthly_obs.index, monthly_obs.values, label='Observed FIA (AF2020db)', \n",
    "         color='black', linestyle='--', linewidth=3)\n",
    "\n",
    "plt.title(\"Monthly Fast Ice Area Cycle (1993–1999)\", fontsize=16)\n",
    "plt.xlabel(\"Month\", fontsize=14)\n",
    "plt.ylabel(f\"Fast Ice Area ({fia.attrs.get('units', 'unknown')})\", fontsize=14)\n",
    "plt.xticks(ticks=range(1,13), labels=['Jan','Feb','Mar','Apr','May','Jun','Jul','Aug','Sep','Oct','Nov','Dec'])\n",
    "plt.grid(True, linestyle='--', alpha=0.5)\n",
    "plt.legend(loc='upper right', fontsize=10, title='Year')\n",
    "plt.tight_layout()\n",
    "plt.show()\n",
    "plt.savefig(f\"/g/data/gv90/da1339/GRAPHICAL/timeseries/{sim_name}_FIA_grouped_by_month.png\")"
   ]
  },
  {
   "cell_type": "code",
   "execution_count": null,
   "id": "210de4ee-58b2-44fd-b712-8d1da50ff876",
   "metadata": {
    "jupyter": {
     "source_hidden": true
    }
   },
   "outputs": [],
   "source": [
    "# sim_name = 'baseline'\n",
    "ds = xr.open_mfdataset(f\"/g/data/gv90/da1339/afim_output/{sim_name}/FI/fast_ice_199*.zarr\", engine='zarr')\n",
    "var_name = 'FIV'\n",
    "# Convert time to datetime index\n",
    "time = pd.to_datetime(ds['t_dim'].values)\n",
    "plot_da = ds[var_name]/1e12\n",
    "# --- Model: Monthly cycle by year ---\n",
    "plot_df = pd.DataFrame({var_name: plot_da.values}, index=time)\n",
    "plot_df['Year'] = plot_df.index.year\n",
    "plot_df['Month'] = plot_df.index.month\n",
    "monthly_plot = plot_df.groupby(['Year', 'Month']).mean().reset_index()\n",
    "monthly_cycle = monthly_plot.pivot(index='Month', columns='Year', values=var_name)\n",
    "plt.figure(figsize=(12, 6))\n",
    "plt.style.use('ggplot')\n",
    "for year in monthly_cycle.columns:\n",
    "    plt.plot(monthly_cycle.index, monthly_cycle[year], label=f\"{year}\", linewidth=2)\n",
    "plt.title(\"Monthly Fast Ice Thickness Cycle (1993–1999)\", fontsize=16)\n",
    "plt.xlabel(\"Month\", fontsize=14)\n",
    "plt.ylabel(f\"Fast Ice Volume ({fia.attrs.get('units', 'unknown')})\", fontsize=14)\n",
    "plt.xticks(ticks=range(1,13), labels=['Jan','Feb','Mar','Apr','May','Jun','Jul','Aug','Sep','Oct','Nov','Dec'])\n",
    "plt.grid(True, linestyle='--', alpha=0.5)\n",
    "plt.legend(loc='upper right', fontsize=10, title='Year')\n",
    "plt.tight_layout()\n",
    "plt.show()\n",
    "plt.savefig(f\"/g/data/gv90/da1339/GRAPHICAL/timeseries/{sim_name}_{var_name}_grouped_by_month.png\")"
   ]
  },
  {
   "cell_type": "code",
   "execution_count": null,
   "id": "78d1d4c7-4477-4af5-8cf0-a2f2c8df20f8",
   "metadata": {
    "jupyter": {
     "source_hidden": true
    }
   },
   "outputs": [],
   "source": [
    "SI_proc  = SeaIceProcessor(sim_name            = sim_name, \n",
    "                           ice_speed_threshold = 1e-3)\n",
    "FI_hi_spd = SI_proc.process_window(dt0_str    = dt0_str,\n",
    "                                    dtN_str    = dtN_str, \n",
    "                                    write_zarr = False,\n",
    "                                    ow_zarrs   = True)"
   ]
  },
  {
   "cell_type": "code",
   "execution_count": null,
   "id": "88c4c287-831f-49f8-8a21-1daa4bce9121",
   "metadata": {
    "jupyter": {
     "source_hidden": true
    }
   },
   "outputs": [],
   "source": [
    "plt.figure(figsize=(12, 6))\n",
    "plt.style.use('ggplot') \n",
    "plt.plot(FI_hi_spd['t_dim'], FI_hi_spd['FIA']    , label=f'{sim_name}-simulation' , linewidth=2, color='tab:blue')\n",
    "plt.plot(FI_hi_spd['t_dim'], FI_hi_spd['FIA_OBS'], label='Observed FIA (AF2020db)', linewidth=2, linestyle='--', color='tab:orange')\n",
    "plt.title(\"Fast Ice Area with simulation results masked with ice speed of <1 mm/s\", fontsize=16)\n",
    "plt.xlabel(\"Date\", fontsize=14)\n",
    "plt.ylabel(f\"Fast Ice Area ({FI_lo_spd.FIA.attrs.get('units', 'unknown')})\", fontsize=14)\n",
    "plt.gca().xaxis.set_major_locator(mdates.MonthLocator())\n",
    "plt.gca().xaxis.set_major_formatter(mdates.DateFormatter('%Y-%m'))\n",
    "plt.gcf().autofmt_xdate()\n",
    "plt.grid(True, linestyle='--', alpha=0.5)\n",
    "plt.legend(loc='upper left', fontsize=12)\n",
    "plt.tight_layout()\n",
    "plt.show()"
   ]
  },
  {
   "cell_type": "markdown",
   "id": "b368adbb-43ce-4790-a42c-c331fb7093fd",
   "metadata": {
    "jp-MarkdownHeadingCollapsed": true
   },
   "source": [
    "# plot 1D analysis"
   ]
  },
  {
   "cell_type": "code",
   "execution_count": null,
   "id": "7383022e-adf4-4d91-85c5-b153735b9d28",
   "metadata": {},
   "outputs": [],
   "source": [
    "dt0_str  = \"1993-01-01\"\n",
    "dtN_str  = \"1993-12-31\"\n",
    "sim_name = 'ktens-max'\n",
    "plotter  = SeaIcePlotter(sim_name, dt0_str, dtN_str, show_figs=True, ice_type='FI')\n",
    "plotter.plot_timeseries()"
   ]
  },
  {
   "cell_type": "code",
   "execution_count": null,
   "id": "8e90ea4e-594f-4c38-9afe-74ba57b2e7f2",
   "metadata": {},
   "outputs": [],
   "source": [
    "#plotter.plot_timeseries(var_names=[\"PI_STRESS\"])\n",
    "plotter.plot_timeseries_compare(\n",
    "    comparison_name = \"tensile-stars\",\n",
    "    sim_names       = [\"baseline\", \"ktens-max\", \"Pstar-max\", \"Cstar-min\"],\n",
    "    var_name        = \"PIA\",\n",
    "    label_dict      = {\"baseline\"  : \"tensile = 0.2, Pstar = 2.75e4, Cstar = 20\",\n",
    "                       \"ktens-max\" : \"tensile = 0.3, Pstar = 2.75e4, Cstar = 20\",\n",
    "                       \"Pstar-max\" : \"tensile = 0.2, Pstar = 5e4   , Cstar = 20\",\n",
    "                       \"Cstar-min\" : \"tensile = 0.2, Pstar = 2.75e4, Cstar = 10\"})"
   ]
  },
  {
   "cell_type": "markdown",
   "id": "71d24fef-1237-43e6-aeed-5a53e27260ec",
   "metadata": {
    "jp-MarkdownHeadingCollapsed": true
   },
   "source": [
    "# plot 2D analysis (requires existing FI/PI dataset)"
   ]
  },
  {
   "cell_type": "code",
   "execution_count": null,
   "id": "c8edc380-86f1-4f0c-b4e1-fb9cf5d469eb",
   "metadata": {},
   "outputs": [],
   "source": [
    "dt0_str  = \"1993-01-01\"\n",
    "dtN_str  = \"1999-12-31\"\n",
    "sim_names = [\"baseline\", \"ustar-low\", \"Cstar-max\", \"Cstar-min\", \"Pstar-max\", \"Pstar-min\",\n",
    "             \"ktens-nil\", \"ktens-min\", \"ktens-max\", \"gi-max\", \"gi-min\",\n",
    "             \"Rothrock\", \"elps-pack\", \"elps-fast\", \"elps-max\", \"elps-def\", \"elps-mid\" ]\n",
    "for sim_name in sim_names:\n",
    "    SI_plot = SeaIcePlotter(sim_name, dt0_str, dtN_str, show_figs=False, overwrite=True, single_figure=False)\n",
    "    SI_plot.prepare_data_for_plotting(var_name='FIP')\n",
    "    SI_plot.plot_regions()"
   ]
  },
  {
   "cell_type": "markdown",
   "id": "55e3e8e3-378e-4165-988d-a9b08dda4138",
   "metadata": {},
   "source": [
    "# generate PBS jobs for analysis"
   ]
  },
  {
   "cell_type": "code",
   "execution_count": null,
   "id": "7f1e80f1-e813-42fd-ac05-f55b8e3f996f",
   "metadata": {},
   "outputs": [],
   "source": [
    "import numpy as np\n",
    "from matplotlib.colors import LinearSegmentedColormap, to_rgb\n",
    "\n",
    "# Step 1: Define your ColorBrewer hex codes\n",
    "hex_colors = [\n",
    "    \"#ffffff\",  # added white start\n",
    "    \"#ffffd9\", \"#edf8b1\", \"#c7e9b4\", \"#7fcdbb\",\n",
    "    \"#41b6c4\", \"#1d91c0\", \"#225ea8\", \"#253494\", \"#081d58\"\n",
    "]\n",
    "\n",
    "# Step 2: Convert hex to RGB (0–1 range)\n",
    "rgb_colors = [to_rgb(hex) for hex in hex_colors]\n",
    "\n",
    "# Step 3: Create a matplotlib colormap and sample 256 values\n",
    "cmap = LinearSegmentedColormap.from_list(\"custom_ygnbu\", rgb_colors, N=256)\n",
    "sampled_rgb = cmap(np.linspace(0, 1, 256))[:, :3]  # strip alpha channel\n",
    "\n",
    "# Step 4: Generate CPT lines\n",
    "cpt_lines = []\n",
    "for i in range(255):\n",
    "    val1 = i\n",
    "    val2 = i + 1\n",
    "    r1, g1, b1 = (sampled_rgb[i] * 255).astype(int)\n",
    "    r2, g2, b2 = (sampled_rgb[i+1] * 255).astype(int)\n",
    "    cpt_lines.append(f\"{val1} {r1} {g1} {b1} {val2} {r2} {g2} {b2}\")\n",
    "\n",
    "# Add background (B), foreground (F), and NaN (N) colors\n",
    "cpt_lines.append(\"B 255 255 255\")\n",
    "cpt_lines.append(\"F 0 0 0\")\n",
    "cpt_lines.append(\"N 128 128 128\")\n",
    "\n",
    "# Save to a .cpt file\n",
    "with open(\"/g/data/gv90/da1339/GRAPHICAL/CPTs/AF2020_YlGnBu.cpt\", \"w\") as f:\n",
    "    f.write(\"\\n\".join(cpt_lines))\n"
   ]
  },
  {
   "cell_type": "code",
   "execution_count": null,
   "id": "8fdbe334-5b18-4ca2-9ed2-77cbf7bd5af4",
   "metadata": {},
   "outputs": [],
   "source": [
    "from pathlib import Path\n",
    "from datetime import datetime, timedelta\n",
    "\n",
    "type_of_sea_ice = 'sea_ice'     #'pack_ice' or 'sea_ice'\n",
    "turn_on_overwrite = False\n",
    "\n",
    "if turn_on_overwrite:\n",
    "    overwrite = '--overwrite'\n",
    "else:\n",
    "    overwrite = ''\n",
    "\n",
    "if type_of_sea_ice=='fast_ice':\n",
    "    abbreviation = 'FI'\n",
    "    switch       = ''\n",
    "elif type_of_sea_ice=='pack_ice':\n",
    "    abbreviation = 'PI'\n",
    "    switch       = '--pack_ice'\n",
    "elif type_of_sea_ice=='sea_ice':\n",
    "    abbreviation = 'SI'\n",
    "    switch       = '--sea_ice'\n",
    "\n",
    "sim_names = [\"Cstar-max\", \"Cstar-min\", \"Pstar-max\", \"Pstar-min\", \"Rothrock\",\"baseline\", \"oras-sfc-ctl\",\n",
    "             \"elps-def\", \"elps-fast\", \"elps-max\", \"elps-mid\", \"elps-pack\", \"gi-max\",\n",
    "             \"gi-min\", \"ktens-max\", \"ktens-min\", \"ktens-nil\", \"ustar-low\", \"van_achter\" ]\n",
    "\n",
    "# Base time: 5 minutes from now\n",
    "base_time = datetime.now() + timedelta(minutes=5)\n",
    "\n",
    "pbs_template = \"\"\"#!/bin/bash\n",
    "#PBS -N {abbrev}-proc-{name}\n",
    "#PBS -P gv90\n",
    "#PBS -l walltime=24:00:00\n",
    "#PBS -q normalbw\n",
    "#PBS -l mem=64GB\n",
    "#PBS -l ncpus=28\n",
    "#PBS -l storage=gdata/cj50+gdata/jk72+scratch/jk72+gdata/ik11+gdata/hh5+gdata/rt52+gdata/gb6+gdata/gv90\n",
    "#PBS -M daniel.atwater@utas.edu.au\n",
    "#PBS -a {start_time}\n",
    "\n",
    "module purge\n",
    "module use /g/data/hh5/public/modules\n",
    "module load conda/analysis3\n",
    "\n",
    "cd ~/AFIM/src/AFIM/scripts\n",
    "python3 ./compute_sea_ice.py {name} {switch} {overwrite}\n",
    "\"\"\"\n",
    "\n",
    "output_dir = Path(f\"/home/581/da1339/AFIM/src/sh/analysis/{type_of_sea_ice}\")\n",
    "output_dir.mkdir(exist_ok=True)\n",
    "\n",
    "for i, sim in enumerate(sim_names):\n",
    "    start_dt = base_time + timedelta(minutes=5 * i)\n",
    "    start_str = start_dt.strftime(\"%y%m%d%H%M\")  # YYMMDDhhmm format\n",
    "    script_content = pbs_template.format(name=sim, start_time=start_str, switch=switch, overwrite=overwrite, abbrev=abbreviation)\n",
    "    script_path = output_dir / f\"{abbreviation}-proc_{sim}.pbs\"\n",
    "    print(f\"writing file: {script_path}\")\n",
    "    with open(script_path, \"w\") as f:\n",
    "        f.write(script_content)\n",
    "\n",
    "print(f\"✓ Generated {len(sim_names)} staggered PBS scripts in: {output_dir.resolve()}\")\n"
   ]
  },
  {
   "cell_type": "code",
   "execution_count": null,
   "id": "6e4db5b6-84b4-45e3-8813-e58466093078",
   "metadata": {},
   "outputs": [],
   "source": []
  }
 ],
 "metadata": {
  "kernelspec": {
   "display_name": "Python [conda env:analysis3-24.07]",
   "language": "python",
   "name": "conda-env-analysis3-24.07-py"
  },
  "language_info": {
   "codemirror_mode": {
    "name": "ipython",
    "version": 3
   },
   "file_extension": ".py",
   "mimetype": "text/x-python",
   "name": "python",
   "nbconvert_exporter": "python",
   "pygments_lexer": "ipython3",
   "version": "3.10.16"
  }
 },
 "nbformat": 4,
 "nbformat_minor": 5
}
