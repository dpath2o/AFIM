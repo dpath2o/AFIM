{
 "cells": [
  {
   "cell_type": "markdown",
   "id": "28e1ab3c-05bc-4788-81e9-35b7e2a41851",
   "metadata": {},
   "source": [
    "# load required modules"
   ]
  },
  {
   "cell_type": "code",
   "execution_count": 1,
   "id": "c8a1f3b2-7007-44e3-9206-1b18eae4c194",
   "metadata": {},
   "outputs": [],
   "source": [
    "import sys, os, pygmt\n",
    "sys.path.insert(0, '/home/581/da1339/AFIM/src/AFIM/src')\n",
    "from fast_ice_processor import FastIceProcessor\n",
    "from pack_ice_processor import PackIceProcessor\n",
    "from sea_ice_plotter    import SeaIcePlotter\n",
    "import numpy            as np\n",
    "import pandas           as pd\n",
    "import xarray           as xr\n",
    "from datetime           import timedelta, date, datetime"
   ]
  },
  {
   "cell_type": "markdown",
   "id": "a825c77b-15eb-45b8-a70e-a390adb04128",
   "metadata": {},
   "source": [
    "# process for pack ice"
   ]
  },
  {
   "cell_type": "code",
   "execution_count": 2,
   "id": "6c923346-8555-4f14-ad7f-d041691a5d76",
   "metadata": {},
   "outputs": [
    {
     "name": "stderr",
     "output_type": "stream",
     "text": [
      "2025-04-01 14:21:58,760 - INFO - ✅ Model dataset loaded: shape Frozen({'time': 15, 'nj': 1080, 'ni': 1440}), time: 1.27 s\n",
      "INFO:ktens-max_PI:✅ Model dataset loaded: shape Frozen({'time': 15, 'nj': 1080, 'ni': 1440}), time: 1.27 s\n",
      "2025-04-01 14:21:58,764 - INFO - 🧭 Including NSIDC SIA/SIE into model dataset for ktens-max\n",
      "INFO:ktens-max_PI:🧭 Including NSIDC SIA/SIE into model dataset for ktens-max\n",
      "2025-04-01 14:21:59,083 - INFO - ✅ NSIDC dataset loaded: shape Frozen({'tdim': 15, 'y': 332, 'x': 316}), time: 0.32 s\n",
      "INFO:ktens-max_PI:✅ NSIDC dataset loaded: shape Frozen({'tdim': 15, 'y': 332, 'x': 316}), time: 0.32 s\n",
      "2025-04-01 14:21:59,087 - INFO - 🧭 Converting NSIDC Cartesian to spherical coordinates:\n",
      "INFO:ktens-max_PI:🧭 Converting NSIDC Cartesian to spherical coordinates:\n",
      "2025-04-01 14:21:59,154 - INFO - \t✅ Conversion complete in 0.07 seconds\n",
      "INFO:ktens-max_PI:\t✅ Conversion complete in 0.07 seconds\n",
      "2025-04-01 14:21:59,226 - INFO - ✅ Computed SIA/SIE in 0.07 seconds\n",
      "INFO:ktens-max_PI:✅ Computed SIA/SIE in 0.07 seconds\n",
      "2025-04-01 14:21:59,229 - INFO - ✅ NSIDC processing complete, time: 0.46 s\n",
      "INFO:ktens-max_PI:✅ NSIDC processing complete, time: 0.46 s\n",
      "2025-04-01 14:21:59,248 - INFO - Regridding uvel and vvel to T-grid...\n",
      "INFO:ktens-max_PI:Regridding uvel and vvel to T-grid...\n",
      "--------------------------------------------------------------------------\n",
      "WARNING: There was an error initializing an OpenFabrics device.\n",
      "\n",
      "  Local host:   gadi-cpu-bdw-0014\n",
      "  Local device: mlx5_0\n",
      "--------------------------------------------------------------------------\n",
      "2025-04-01 14:22:03,888 - INFO - compute rolling mean\n",
      "INFO:ktens-max_PI:compute rolling mean\n",
      "2025-04-01 14:22:04,361 - INFO - applying mask\n",
      "INFO:ktens-max_PI:applying mask\n",
      "2025-04-01 14:22:04,417 - INFO - compute pack ice 1D variables:\n",
      "INFO:ktens-max_PI:compute pack ice 1D variables:\n",
      "2025-04-01 14:22:04,547 - INFO - \t1D vars computed: ['PI_FRAZIL', 'PI_STRONG', 'PI_DIV', 'PI_SPEED', 'PIE', 'PI_AGROM', 'PI_VGROT', 'PI_AGROT', 'PI_AGING', 'PI_SHEAR', 'PI_VGROM', 'PIV', 'PIA', 'PI_STRESS']\n",
      "INFO:ktens-max_PI:\t1D vars computed: ['PI_FRAZIL', 'PI_STRONG', 'PI_DIV', 'PI_SPEED', 'PIE', 'PI_AGROM', 'PI_VGROT', 'PI_AGROT', 'PI_AGING', 'PI_SHEAR', 'PI_VGROM', 'PIV', 'PIA', 'PI_STRESS']\n",
      "2025-04-01 14:22:04,549 - INFO - compute pack ice 3D variables:\n",
      "INFO:ktens-max_PI:compute pack ice 3D variables:\n"
     ]
    },
    {
     "name": "stdout",
     "output_type": "stream",
     "text": [
      "\n",
      "\n",
      "\n",
      " ['PI_FRAZIL', 'PI_STRONG', 'PI_DIV', 'PI_SPEED', 'PIE', 'SIA', 'PI_AGROM', 'PI_VGROT', 'PI_AGROT', 'PI_AGING', 'PI_SHEAR', 'PI_VGROM', 'SIE', 'PIV', 'PIA', 'PI_STRESS'] \n",
      "\n",
      "\n",
      "\n"
     ]
    },
    {
     "name": "stderr",
     "output_type": "stream",
     "text": [
      "2025-04-01 14:22:04,660 - INFO - \t3D vars computed: ['PIHI', 'PIAT', 'PIC', 'PIAG', 'PIVT', 'PISPD', 'PIDIV', 'PIVD', 'PIAD', 'PISTR', 'PIFZL', 'PISH', 'PISTH']\n",
      "INFO:ktens-max_PI:\t3D vars computed: ['PIHI', 'PIAT', 'PIC', 'PIAG', 'PIVT', 'PISPD', 'PIDIV', 'PIVD', 'PIAD', 'PISTR', 'PIFZL', 'PISH', 'PISTH']\n",
      "2025-04-01 14:22:04,662 - INFO - compute temporal means to give spatial distributions over time (2D)\n",
      "INFO:ktens-max_PI:compute temporal means to give spatial distributions over time (2D)\n",
      "2025-04-01 14:23:09,769 - INFO - \t2D vars computed: ['PIAT_SD', 'PIAD_SD', 'PISTR_SD', 'PIC_SD', 'PIFZL_SD', 'PIVT_SD', 'PIAG_SD', 'PISPD_SD', 'PISTH_SD', 'PISH_SD', 'PIDIV_SD', 'PIVD_SD', 'PIHI_SD']\n",
      "INFO:ktens-max_PI:\t2D vars computed: ['PIAT_SD', 'PIAD_SD', 'PISTR_SD', 'PIC_SD', 'PIFZL_SD', 'PIVT_SD', 'PIAG_SD', 'PISPD_SD', 'PISTH_SD', 'PISH_SD', 'PIDIV_SD', 'PIVD_SD', 'PIHI_SD']\n",
      "2025-04-01 14:23:09,773 - INFO - create output dataset:\n",
      "INFO:ktens-max_PI:create output dataset:\n",
      "2025-04-01 14:23:09,895 - INFO - *** writing PI to disk: /g/data/gv90/da1339/afim_output/ktens-max/PI/pack_ice_1993-01-08.zarr\n",
      "INFO:ktens-max_PI:*** writing PI to disk: /g/data/gv90/da1339/afim_output/ktens-max/PI/pack_ice_1993-01-08.zarr\n",
      "2025-04-01 14:23:39,967 - INFO - ✅ Model dataset loaded: shape Frozen({'time': 15, 'nj': 1080, 'ni': 1440}), time: 1.39 s\n",
      "INFO:ktens-max_PI:✅ Model dataset loaded: shape Frozen({'time': 15, 'nj': 1080, 'ni': 1440}), time: 1.39 s\n",
      "2025-04-01 14:23:39,970 - INFO - 🧭 Including NSIDC SIA/SIE into model dataset for ktens-max\n",
      "INFO:ktens-max_PI:🧭 Including NSIDC SIA/SIE into model dataset for ktens-max\n",
      "2025-04-01 14:23:40,925 - INFO - ✅ NSIDC dataset loaded: shape Frozen({'tdim': 15, 'y': 332, 'x': 316}), time: 0.95 s\n",
      "INFO:ktens-max_PI:✅ NSIDC dataset loaded: shape Frozen({'tdim': 15, 'y': 332, 'x': 316}), time: 0.95 s\n",
      "2025-04-01 14:23:40,928 - INFO - 🧭 Converting NSIDC Cartesian to spherical coordinates:\n",
      "INFO:ktens-max_PI:🧭 Converting NSIDC Cartesian to spherical coordinates:\n",
      "2025-04-01 14:23:40,998 - INFO - \t✅ Conversion complete in 0.07 seconds\n",
      "INFO:ktens-max_PI:\t✅ Conversion complete in 0.07 seconds\n",
      "2025-04-01 14:23:41,054 - INFO - ✅ Computed SIA/SIE in 0.05 seconds\n",
      "INFO:ktens-max_PI:✅ Computed SIA/SIE in 0.05 seconds\n",
      "2025-04-01 14:23:41,057 - INFO - ✅ NSIDC processing complete, time: 1.08 s\n",
      "INFO:ktens-max_PI:✅ NSIDC processing complete, time: 1.08 s\n",
      "2025-04-01 14:23:41,107 - INFO - Regridding uvel and vvel to T-grid...\n",
      "INFO:ktens-max_PI:Regridding uvel and vvel to T-grid...\n",
      "2025-04-01 14:23:42,584 - INFO - compute rolling mean\n",
      "INFO:ktens-max_PI:compute rolling mean\n",
      "2025-04-01 14:23:43,062 - INFO - applying mask\n",
      "INFO:ktens-max_PI:applying mask\n",
      "2025-04-01 14:23:43,120 - INFO - compute pack ice 1D variables:\n",
      "INFO:ktens-max_PI:compute pack ice 1D variables:\n",
      "2025-04-01 14:23:43,250 - INFO - \t1D vars computed: ['PI_FRAZIL', 'PI_STRONG', 'PI_DIV', 'PI_SPEED', 'PIE', 'PI_AGROM', 'PI_VGROT', 'PI_AGROT', 'PI_AGING', 'PI_SHEAR', 'PI_VGROM', 'PIV', 'PIA', 'PI_STRESS']\n",
      "INFO:ktens-max_PI:\t1D vars computed: ['PI_FRAZIL', 'PI_STRONG', 'PI_DIV', 'PI_SPEED', 'PIE', 'PI_AGROM', 'PI_VGROT', 'PI_AGROT', 'PI_AGING', 'PI_SHEAR', 'PI_VGROM', 'PIV', 'PIA', 'PI_STRESS']\n",
      "2025-04-01 14:23:43,252 - INFO - compute pack ice 3D variables:\n",
      "INFO:ktens-max_PI:compute pack ice 3D variables:\n"
     ]
    },
    {
     "name": "stdout",
     "output_type": "stream",
     "text": [
      "\n",
      "\n",
      "\n",
      " ['PI_FRAZIL', 'PI_STRONG', 'PI_DIV', 'PI_SPEED', 'PIE', 'SIA', 'PI_AGROM', 'PI_VGROT', 'PI_AGROT', 'PI_AGING', 'PI_SHEAR', 'PI_VGROM', 'SIE', 'PIV', 'PIA', 'PI_STRESS'] \n",
      "\n",
      "\n",
      "\n"
     ]
    },
    {
     "name": "stderr",
     "output_type": "stream",
     "text": [
      "2025-04-01 14:23:43,343 - INFO - \t3D vars computed: ['PIHI', 'PIAT', 'PIC', 'PIAG', 'PIVT', 'PISPD', 'PIDIV', 'PIVD', 'PIAD', 'PISTR', 'PIFZL', 'PISH', 'PISTH']\n",
      "INFO:ktens-max_PI:\t3D vars computed: ['PIHI', 'PIAT', 'PIC', 'PIAG', 'PIVT', 'PISPD', 'PIDIV', 'PIVD', 'PIAD', 'PISTR', 'PIFZL', 'PISH', 'PISTH']\n",
      "2025-04-01 14:23:43,345 - INFO - compute temporal means to give spatial distributions over time (2D)\n",
      "INFO:ktens-max_PI:compute temporal means to give spatial distributions over time (2D)\n"
     ]
    },
    {
     "ename": "KeyboardInterrupt",
     "evalue": "",
     "output_type": "error",
     "traceback": [
      "\u001b[0;31m---------------------------------------------------------------------------\u001b[0m",
      "\u001b[0;31mKeyboardInterrupt\u001b[0m                         Traceback (most recent call last)",
      "Cell \u001b[0;32mIn[2], line 9\u001b[0m\n\u001b[1;32m      4\u001b[0m mask_fi  \u001b[38;5;241m=\u001b[39m \u001b[38;5;28;01mTrue\u001b[39;00m\n\u001b[1;32m      5\u001b[0m PI_proc  \u001b[38;5;241m=\u001b[39m PackIceProcessor(sim_name      \u001b[38;5;241m=\u001b[39m sim_name,\n\u001b[1;32m      6\u001b[0m                             dt0_str       \u001b[38;5;241m=\u001b[39m dt0_str,\n\u001b[1;32m      7\u001b[0m                             dtN_str       \u001b[38;5;241m=\u001b[39m dtN_str,\n\u001b[1;32m      8\u001b[0m                             mask_fast_ice \u001b[38;5;241m=\u001b[39m mask_fi)\n\u001b[0;32m----> 9\u001b[0m PI       \u001b[38;5;241m=\u001b[39m \u001b[43mPI_proc\u001b[49m\u001b[38;5;241;43m.\u001b[39;49m\u001b[43mprocess_window\u001b[49m\u001b[43m(\u001b[49m\u001b[43msave_zarr\u001b[49m\u001b[38;5;241;43m=\u001b[39;49m\u001b[38;5;28;43;01mTrue\u001b[39;49;00m\u001b[43m,\u001b[49m\u001b[43m \u001b[49m\u001b[43mow_zarrs\u001b[49m\u001b[38;5;241;43m=\u001b[39;49m\u001b[38;5;28;43;01mTrue\u001b[39;49;00m\u001b[43m)\u001b[49m\n",
      "File \u001b[0;32m~/AFIM/src/AFIM/src/pack_ice_processor.py:608\u001b[0m, in \u001b[0;36mPackIceProcessor.process_window\u001b[0;34m(self, var_list, save_zarr, ow_zarrs)\u001b[0m\n\u001b[1;32m    606\u001b[0m ds_dict \u001b[38;5;241m=\u001b[39m \u001b[38;5;28mself\u001b[39m\u001b[38;5;241m.\u001b[39mdataset_to_dictionary(ds, \u001b[38;5;28mself\u001b[39m\u001b[38;5;241m.\u001b[39mrequested_PI_vars)\n\u001b[1;32m    607\u001b[0m masked_vars \u001b[38;5;241m=\u001b[39m \u001b[38;5;28mself\u001b[39m\u001b[38;5;241m.\u001b[39mapply_PI_mask(ds_dict)\n\u001b[0;32m--> 608\u001b[0m PI \u001b[38;5;241m=\u001b[39m \u001b[38;5;28;43mself\u001b[39;49m\u001b[38;5;241;43m.\u001b[39;49m\u001b[43mcompute_pack_ice_outputs\u001b[49m\u001b[43m(\u001b[49m\u001b[43mmasked_vars\u001b[49m\u001b[43m,\u001b[49m\u001b[43m \u001b[49m\u001b[43mvar_list\u001b[49m\u001b[38;5;241;43m=\u001b[39;49m\u001b[38;5;28;43mself\u001b[39;49m\u001b[38;5;241;43m.\u001b[39;49m\u001b[43mrequested_PI_vars\u001b[49m\u001b[43m)\u001b[49m\n\u001b[1;32m    609\u001b[0m \u001b[38;5;66;03m# Output path\u001b[39;00m\n\u001b[1;32m    610\u001b[0m D_PI_zarr \u001b[38;5;241m=\u001b[39m Path(\u001b[38;5;28mself\u001b[39m\u001b[38;5;241m.\u001b[39mconfig[\u001b[38;5;124m'\u001b[39m\u001b[38;5;124mD_dict\u001b[39m\u001b[38;5;124m'\u001b[39m][\u001b[38;5;124m'\u001b[39m\u001b[38;5;124mAFIM_out\u001b[39m\u001b[38;5;124m'\u001b[39m], \u001b[38;5;28mself\u001b[39m\u001b[38;5;241m.\u001b[39msim_name, \u001b[38;5;124m\"\u001b[39m\u001b[38;5;124mPI\u001b[39m\u001b[38;5;124m\"\u001b[39m)\n",
      "File \u001b[0;32m~/AFIM/src/AFIM/src/pack_ice_processor.py:532\u001b[0m, in \u001b[0;36mPackIceProcessor.compute_pack_ice_outputs\u001b[0;34m(self, mask_vars, var_list)\u001b[0m\n\u001b[1;32m    529\u001b[0m data_sum \u001b[38;5;241m=\u001b[39m da\u001b[38;5;241m.\u001b[39msum(dim\u001b[38;5;241m=\u001b[39mtime_dim_auto)\n\u001b[1;32m    530\u001b[0m \u001b[38;5;28;01mif\u001b[39;00m base \u001b[38;5;129;01min\u001b[39;00m [\u001b[38;5;124m\"\u001b[39m\u001b[38;5;124mPIHI\u001b[39m\u001b[38;5;124m\"\u001b[39m, \u001b[38;5;124m\"\u001b[39m\u001b[38;5;124mPISTH\u001b[39m\u001b[38;5;124m\"\u001b[39m, \u001b[38;5;124m\"\u001b[39m\u001b[38;5;124mPISH\u001b[39m\u001b[38;5;124m\"\u001b[39m, \u001b[38;5;124m\"\u001b[39m\u001b[38;5;124mPIDIV\u001b[39m\u001b[38;5;124m\"\u001b[39m, \u001b[38;5;124m\"\u001b[39m\u001b[38;5;124mPIAG\u001b[39m\u001b[38;5;124m\"\u001b[39m, \u001b[38;5;124m\"\u001b[39m\u001b[38;5;124mPIAD\u001b[39m\u001b[38;5;124m\"\u001b[39m, \u001b[38;5;124m\"\u001b[39m\u001b[38;5;124mPIAT\u001b[39m\u001b[38;5;124m\"\u001b[39m,\n\u001b[1;32m    531\u001b[0m             \u001b[38;5;124m\"\u001b[39m\u001b[38;5;124mPIVD\u001b[39m\u001b[38;5;124m\"\u001b[39m, \u001b[38;5;124m\"\u001b[39m\u001b[38;5;124mPIVT\u001b[39m\u001b[38;5;124m\"\u001b[39m, \u001b[38;5;124m\"\u001b[39m\u001b[38;5;124mPISTR\u001b[39m\u001b[38;5;124m\"\u001b[39m, \u001b[38;5;124m\"\u001b[39m\u001b[38;5;124mPISPD\u001b[39m\u001b[38;5;124m\"\u001b[39m, \u001b[38;5;124m\"\u001b[39m\u001b[38;5;124mPIFZL\u001b[39m\u001b[38;5;124m\"\u001b[39m]:\n\u001b[0;32m--> 532\u001b[0m     max_val \u001b[38;5;241m=\u001b[39m \u001b[43mda\u001b[49m\u001b[38;5;241;43m.\u001b[39;49m\u001b[43mmax\u001b[49m\u001b[43m(\u001b[49m\u001b[43m)\u001b[49m\u001b[38;5;241;43m.\u001b[39;49m\u001b[43mvalues\u001b[49m\n\u001b[1;32m    533\u001b[0m     data_mean \u001b[38;5;241m=\u001b[39m data_sum \u001b[38;5;241m/\u001b[39m (norm \u001b[38;5;241m*\u001b[39m max_val)\n\u001b[1;32m    534\u001b[0m \u001b[38;5;28;01melse\u001b[39;00m:\n",
      "File \u001b[0;32m/g/data/hh5/public/apps/miniconda3/envs/analysis3-24.04/lib/python3.10/site-packages/xarray/core/dataarray.py:786\u001b[0m, in \u001b[0;36mDataArray.values\u001b[0;34m(self)\u001b[0m\n\u001b[1;32m    773\u001b[0m \u001b[38;5;129m@property\u001b[39m\n\u001b[1;32m    774\u001b[0m \u001b[38;5;28;01mdef\u001b[39;00m \u001b[38;5;21mvalues\u001b[39m(\u001b[38;5;28mself\u001b[39m) \u001b[38;5;241m-\u001b[39m\u001b[38;5;241m>\u001b[39m np\u001b[38;5;241m.\u001b[39mndarray:\n\u001b[1;32m    775\u001b[0m \u001b[38;5;250m    \u001b[39m\u001b[38;5;124;03m\"\"\"\u001b[39;00m\n\u001b[1;32m    776\u001b[0m \u001b[38;5;124;03m    The array's data converted to numpy.ndarray.\u001b[39;00m\n\u001b[1;32m    777\u001b[0m \n\u001b[0;32m   (...)\u001b[0m\n\u001b[1;32m    784\u001b[0m \u001b[38;5;124;03m    to this array may be reflected in the DataArray as well.\u001b[39;00m\n\u001b[1;32m    785\u001b[0m \u001b[38;5;124;03m    \"\"\"\u001b[39;00m\n\u001b[0;32m--> 786\u001b[0m     \u001b[38;5;28;01mreturn\u001b[39;00m \u001b[38;5;28;43mself\u001b[39;49m\u001b[38;5;241;43m.\u001b[39;49m\u001b[43mvariable\u001b[49m\u001b[38;5;241;43m.\u001b[39;49m\u001b[43mvalues\u001b[49m\n",
      "File \u001b[0;32m/g/data/hh5/public/apps/miniconda3/envs/analysis3-24.04/lib/python3.10/site-packages/xarray/core/variable.py:540\u001b[0m, in \u001b[0;36mVariable.values\u001b[0;34m(self)\u001b[0m\n\u001b[1;32m    537\u001b[0m \u001b[38;5;129m@property\u001b[39m\n\u001b[1;32m    538\u001b[0m \u001b[38;5;28;01mdef\u001b[39;00m \u001b[38;5;21mvalues\u001b[39m(\u001b[38;5;28mself\u001b[39m):\n\u001b[1;32m    539\u001b[0m \u001b[38;5;250m    \u001b[39m\u001b[38;5;124;03m\"\"\"The variable's data as a numpy.ndarray\"\"\"\u001b[39;00m\n\u001b[0;32m--> 540\u001b[0m     \u001b[38;5;28;01mreturn\u001b[39;00m \u001b[43m_as_array_or_item\u001b[49m\u001b[43m(\u001b[49m\u001b[38;5;28;43mself\u001b[39;49m\u001b[38;5;241;43m.\u001b[39;49m\u001b[43m_data\u001b[49m\u001b[43m)\u001b[49m\n",
      "File \u001b[0;32m/g/data/hh5/public/apps/miniconda3/envs/analysis3-24.04/lib/python3.10/site-packages/xarray/core/variable.py:338\u001b[0m, in \u001b[0;36m_as_array_or_item\u001b[0;34m(data)\u001b[0m\n\u001b[1;32m    324\u001b[0m \u001b[38;5;28;01mdef\u001b[39;00m \u001b[38;5;21m_as_array_or_item\u001b[39m(data):\n\u001b[1;32m    325\u001b[0m \u001b[38;5;250m    \u001b[39m\u001b[38;5;124;03m\"\"\"Return the given values as a numpy array, or as an individual item if\u001b[39;00m\n\u001b[1;32m    326\u001b[0m \u001b[38;5;124;03m    it's a 0d datetime64 or timedelta64 array.\u001b[39;00m\n\u001b[1;32m    327\u001b[0m \n\u001b[0;32m   (...)\u001b[0m\n\u001b[1;32m    336\u001b[0m \u001b[38;5;124;03m    TODO: remove this (replace with np.asarray) once these issues are fixed\u001b[39;00m\n\u001b[1;32m    337\u001b[0m \u001b[38;5;124;03m    \"\"\"\u001b[39;00m\n\u001b[0;32m--> 338\u001b[0m     data \u001b[38;5;241m=\u001b[39m \u001b[43mnp\u001b[49m\u001b[38;5;241;43m.\u001b[39;49m\u001b[43masarray\u001b[49m\u001b[43m(\u001b[49m\u001b[43mdata\u001b[49m\u001b[43m)\u001b[49m\n\u001b[1;32m    339\u001b[0m     \u001b[38;5;28;01mif\u001b[39;00m data\u001b[38;5;241m.\u001b[39mndim \u001b[38;5;241m==\u001b[39m \u001b[38;5;241m0\u001b[39m:\n\u001b[1;32m    340\u001b[0m         \u001b[38;5;28;01mif\u001b[39;00m data\u001b[38;5;241m.\u001b[39mdtype\u001b[38;5;241m.\u001b[39mkind \u001b[38;5;241m==\u001b[39m \u001b[38;5;124m\"\u001b[39m\u001b[38;5;124mM\u001b[39m\u001b[38;5;124m\"\u001b[39m:\n",
      "File \u001b[0;32m/g/data/hh5/public/apps/miniconda3/envs/analysis3-24.04/lib/python3.10/site-packages/dask/array/core.py:1693\u001b[0m, in \u001b[0;36mArray.__array__\u001b[0;34m(self, dtype, **kwargs)\u001b[0m\n\u001b[1;32m   1692\u001b[0m \u001b[38;5;28;01mdef\u001b[39;00m \u001b[38;5;21m__array__\u001b[39m(\u001b[38;5;28mself\u001b[39m, dtype\u001b[38;5;241m=\u001b[39m\u001b[38;5;28;01mNone\u001b[39;00m, \u001b[38;5;241m*\u001b[39m\u001b[38;5;241m*\u001b[39mkwargs):\n\u001b[0;32m-> 1693\u001b[0m     x \u001b[38;5;241m=\u001b[39m \u001b[38;5;28;43mself\u001b[39;49m\u001b[38;5;241;43m.\u001b[39;49m\u001b[43mcompute\u001b[49m\u001b[43m(\u001b[49m\u001b[43m)\u001b[49m\n\u001b[1;32m   1694\u001b[0m     \u001b[38;5;28;01mif\u001b[39;00m dtype \u001b[38;5;129;01mand\u001b[39;00m x\u001b[38;5;241m.\u001b[39mdtype \u001b[38;5;241m!=\u001b[39m dtype:\n\u001b[1;32m   1695\u001b[0m         x \u001b[38;5;241m=\u001b[39m x\u001b[38;5;241m.\u001b[39mastype(dtype)\n",
      "File \u001b[0;32m/g/data/hh5/public/apps/miniconda3/envs/analysis3-24.04/lib/python3.10/site-packages/dask/base.py:376\u001b[0m, in \u001b[0;36mDaskMethodsMixin.compute\u001b[0;34m(self, **kwargs)\u001b[0m\n\u001b[1;32m    352\u001b[0m \u001b[38;5;28;01mdef\u001b[39;00m \u001b[38;5;21mcompute\u001b[39m(\u001b[38;5;28mself\u001b[39m, \u001b[38;5;241m*\u001b[39m\u001b[38;5;241m*\u001b[39mkwargs):\n\u001b[1;32m    353\u001b[0m \u001b[38;5;250m    \u001b[39m\u001b[38;5;124;03m\"\"\"Compute this dask collection\u001b[39;00m\n\u001b[1;32m    354\u001b[0m \n\u001b[1;32m    355\u001b[0m \u001b[38;5;124;03m    This turns a lazy Dask collection into its in-memory equivalent.\u001b[39;00m\n\u001b[0;32m   (...)\u001b[0m\n\u001b[1;32m    374\u001b[0m \u001b[38;5;124;03m    dask.compute\u001b[39;00m\n\u001b[1;32m    375\u001b[0m \u001b[38;5;124;03m    \"\"\"\u001b[39;00m\n\u001b[0;32m--> 376\u001b[0m     (result,) \u001b[38;5;241m=\u001b[39m \u001b[43mcompute\u001b[49m\u001b[43m(\u001b[49m\u001b[38;5;28;43mself\u001b[39;49m\u001b[43m,\u001b[49m\u001b[43m \u001b[49m\u001b[43mtraverse\u001b[49m\u001b[38;5;241;43m=\u001b[39;49m\u001b[38;5;28;43;01mFalse\u001b[39;49;00m\u001b[43m,\u001b[49m\u001b[43m \u001b[49m\u001b[38;5;241;43m*\u001b[39;49m\u001b[38;5;241;43m*\u001b[39;49m\u001b[43mkwargs\u001b[49m\u001b[43m)\u001b[49m\n\u001b[1;32m    377\u001b[0m     \u001b[38;5;28;01mreturn\u001b[39;00m result\n",
      "File \u001b[0;32m/g/data/hh5/public/apps/miniconda3/envs/analysis3-24.04/lib/python3.10/site-packages/dask/base.py:662\u001b[0m, in \u001b[0;36mcompute\u001b[0;34m(traverse, optimize_graph, scheduler, get, *args, **kwargs)\u001b[0m\n\u001b[1;32m    659\u001b[0m     postcomputes\u001b[38;5;241m.\u001b[39mappend(x\u001b[38;5;241m.\u001b[39m__dask_postcompute__())\n\u001b[1;32m    661\u001b[0m \u001b[38;5;28;01mwith\u001b[39;00m shorten_traceback():\n\u001b[0;32m--> 662\u001b[0m     results \u001b[38;5;241m=\u001b[39m \u001b[43mschedule\u001b[49m\u001b[43m(\u001b[49m\u001b[43mdsk\u001b[49m\u001b[43m,\u001b[49m\u001b[43m \u001b[49m\u001b[43mkeys\u001b[49m\u001b[43m,\u001b[49m\u001b[43m \u001b[49m\u001b[38;5;241;43m*\u001b[39;49m\u001b[38;5;241;43m*\u001b[39;49m\u001b[43mkwargs\u001b[49m\u001b[43m)\u001b[49m\n\u001b[1;32m    664\u001b[0m \u001b[38;5;28;01mreturn\u001b[39;00m repack([f(r, \u001b[38;5;241m*\u001b[39ma) \u001b[38;5;28;01mfor\u001b[39;00m r, (f, a) \u001b[38;5;129;01min\u001b[39;00m \u001b[38;5;28mzip\u001b[39m(results, postcomputes)])\n",
      "File \u001b[0;32m/g/data/hh5/public/apps/miniconda3/envs/analysis3-24.04/lib/python3.10/site-packages/cytoolz/functoolz.pyx:518\u001b[0m, in \u001b[0;36mcytoolz.functoolz.Compose.__call__\u001b[0;34m()\u001b[0m\n",
      "File \u001b[0;32m/g/data/hh5/public/apps/miniconda3/envs/analysis3-24.04/lib/python3.10/site-packages/numpy/core/fromnumeric.py:2313\u001b[0m, in \u001b[0;36msum\u001b[0;34m(a, axis, dtype, out, keepdims, initial, where)\u001b[0m\n\u001b[1;32m   2310\u001b[0m         \u001b[38;5;28;01mreturn\u001b[39;00m out\n\u001b[1;32m   2311\u001b[0m     \u001b[38;5;28;01mreturn\u001b[39;00m res\n\u001b[0;32m-> 2313\u001b[0m \u001b[38;5;28;01mreturn\u001b[39;00m \u001b[43m_wrapreduction\u001b[49m\u001b[43m(\u001b[49m\u001b[43ma\u001b[49m\u001b[43m,\u001b[49m\u001b[43m \u001b[49m\u001b[43mnp\u001b[49m\u001b[38;5;241;43m.\u001b[39;49m\u001b[43madd\u001b[49m\u001b[43m,\u001b[49m\u001b[43m \u001b[49m\u001b[38;5;124;43m'\u001b[39;49m\u001b[38;5;124;43msum\u001b[39;49m\u001b[38;5;124;43m'\u001b[39;49m\u001b[43m,\u001b[49m\u001b[43m \u001b[49m\u001b[43maxis\u001b[49m\u001b[43m,\u001b[49m\u001b[43m \u001b[49m\u001b[43mdtype\u001b[49m\u001b[43m,\u001b[49m\u001b[43m \u001b[49m\u001b[43mout\u001b[49m\u001b[43m,\u001b[49m\u001b[43m \u001b[49m\u001b[43mkeepdims\u001b[49m\u001b[38;5;241;43m=\u001b[39;49m\u001b[43mkeepdims\u001b[49m\u001b[43m,\u001b[49m\n\u001b[1;32m   2314\u001b[0m \u001b[43m                      \u001b[49m\u001b[43minitial\u001b[49m\u001b[38;5;241;43m=\u001b[39;49m\u001b[43minitial\u001b[49m\u001b[43m,\u001b[49m\u001b[43m \u001b[49m\u001b[43mwhere\u001b[49m\u001b[38;5;241;43m=\u001b[39;49m\u001b[43mwhere\u001b[49m\u001b[43m)\u001b[49m\n",
      "File \u001b[0;32m/g/data/hh5/public/apps/miniconda3/envs/analysis3-24.04/lib/python3.10/site-packages/numpy/core/fromnumeric.py:88\u001b[0m, in \u001b[0;36m_wrapreduction\u001b[0;34m(obj, ufunc, method, axis, dtype, out, **kwargs)\u001b[0m\n\u001b[1;32m     85\u001b[0m         \u001b[38;5;28;01melse\u001b[39;00m:\n\u001b[1;32m     86\u001b[0m             \u001b[38;5;28;01mreturn\u001b[39;00m reduction(axis\u001b[38;5;241m=\u001b[39maxis, out\u001b[38;5;241m=\u001b[39mout, \u001b[38;5;241m*\u001b[39m\u001b[38;5;241m*\u001b[39mpasskwargs)\n\u001b[0;32m---> 88\u001b[0m \u001b[38;5;28;01mreturn\u001b[39;00m \u001b[43mufunc\u001b[49m\u001b[38;5;241;43m.\u001b[39;49m\u001b[43mreduce\u001b[49m\u001b[43m(\u001b[49m\u001b[43mobj\u001b[49m\u001b[43m,\u001b[49m\u001b[43m \u001b[49m\u001b[43maxis\u001b[49m\u001b[43m,\u001b[49m\u001b[43m \u001b[49m\u001b[43mdtype\u001b[49m\u001b[43m,\u001b[49m\u001b[43m \u001b[49m\u001b[43mout\u001b[49m\u001b[43m,\u001b[49m\u001b[43m \u001b[49m\u001b[38;5;241;43m*\u001b[39;49m\u001b[38;5;241;43m*\u001b[39;49m\u001b[43mpasskwargs\u001b[49m\u001b[43m)\u001b[49m\n",
      "\u001b[0;31mKeyboardInterrupt\u001b[0m: "
     ]
    }
   ],
   "source": [
    "dt0_str  = \"1993-01-01\"\n",
    "dtN_str  = \"1993-12-31\"\n",
    "sim_name = 'ktens-max'\n",
    "mask_fi  = True\n",
    "PI_proc  = PackIceProcessor(sim_name      = sim_name,\n",
    "                            dt0_str       = dt0_str,\n",
    "                            dtN_str       = dtN_str,\n",
    "                            mask_fast_ice = mask_fi)\n",
    "PI       = PI_proc.process_window(save_zarr=True, ow_zarrs=True)"
   ]
  },
  {
   "cell_type": "markdown",
   "id": "b368adbb-43ce-4790-a42c-c331fb7093fd",
   "metadata": {
    "jp-MarkdownHeadingCollapsed": true
   },
   "source": [
    "# plot 1D analysis"
   ]
  },
  {
   "cell_type": "code",
   "execution_count": 2,
   "id": "7383022e-adf4-4d91-85c5-b153735b9d28",
   "metadata": {},
   "outputs": [
    {
     "name": "stdout",
     "output_type": "stream",
     "text": [
      "No Zarr files found in /g/data/gv90/da1339/afim_output/ktens-max/PI\n",
      "returning empty list\n",
      "⏳ No Zarr time series found, generating for vars: ['PIA', 'SIA', 'PIE', 'SIE']\n"
     ]
    },
    {
     "name": "stderr",
     "output_type": "stream",
     "text": [
      "2025-04-01 09:40:43,536 - INFO - ✅ Model dataset loaded: shape Frozen({'time': 365, 'nj': 1080, 'ni': 1440}), time: 37.27 s\n",
      "INFO:ktens-max_PI:✅ Model dataset loaded: shape Frozen({'time': 365, 'nj': 1080, 'ni': 1440}), time: 37.27 s\n",
      "2025-04-01 09:40:43,540 - INFO - 🧭 Including NSIDC SIA/SIE into model dataset for ktens-max\n",
      "INFO:ktens-max_PI:🧭 Including NSIDC SIA/SIE into model dataset for ktens-max\n",
      "2025-04-01 09:41:14,212 - INFO - ✅ NSIDC dataset loaded: shape Frozen({'tdim': 365, 'y': 332, 'x': 316}), time: 30.66 s\n",
      "INFO:ktens-max_PI:✅ NSIDC dataset loaded: shape Frozen({'tdim': 365, 'y': 332, 'x': 316}), time: 30.66 s\n",
      "2025-04-01 09:41:14,216 - INFO - 🧭 Converting NSIDC Cartesian to spherical coordinates:\n",
      "INFO:ktens-max_PI:🧭 Converting NSIDC Cartesian to spherical coordinates:\n",
      "2025-04-01 09:41:14,283 - INFO - \t✅ Conversion complete in 0.07 seconds\n",
      "INFO:ktens-max_PI:\t✅ Conversion complete in 0.07 seconds\n",
      "2025-04-01 09:41:15,836 - INFO - ✅ Computed SIA/SIE in 1.55 seconds\n",
      "INFO:ktens-max_PI:✅ Computed SIA/SIE in 1.55 seconds\n",
      "2025-04-01 09:41:15,839 - INFO - ✅ NSIDC processing complete, time: 32.28 s\n",
      "INFO:ktens-max_PI:✅ NSIDC processing complete, time: 32.28 s\n",
      "2025-04-01 09:41:15,967 - INFO - Regridding uvel and vvel to T-grid...\n",
      "INFO:ktens-max_PI:Regridding uvel and vvel to T-grid...\n",
      "--------------------------------------------------------------------------\n",
      "WARNING: There was an error initializing an OpenFabrics device.\n",
      "\n",
      "  Local host:   gadi-cpu-bdw-0014\n",
      "  Local device: mlx5_0\n",
      "--------------------------------------------------------------------------\n",
      "2025-04-01 09:41:20,750 - INFO - compute rolling mean\n",
      "INFO:ktens-max_PI:compute rolling mean\n",
      "2025-04-01 09:41:20,910 - INFO - applying mask\n",
      "INFO:ktens-max_PI:applying mask\n",
      "2025-04-01 09:41:20,943 - INFO - compute pack ice 1D variables:\n",
      "INFO:ktens-max_PI:compute pack ice 1D variables:\n",
      "2025-04-01 09:41:20,977 - WARNING - ⚠️ Skipping 1D metric PIV — variable 'hi' not in masked data.\n",
      "WARNING:ktens-max_PI:⚠️ Skipping 1D metric PIV — variable 'hi' not in masked data.\n",
      "2025-04-01 09:41:20,978 - WARNING - ⚠️ Skipping 1D metric PI_STRONG — variable 'strength' not in masked data.\n",
      "WARNING:ktens-max_PI:⚠️ Skipping 1D metric PI_STRONG — variable 'strength' not in masked data.\n",
      "2025-04-01 09:41:20,980 - WARNING - ⚠️ Skipping 1D metric PI_SHEAR — variable 'shear' not in masked data.\n",
      "WARNING:ktens-max_PI:⚠️ Skipping 1D metric PI_SHEAR — variable 'shear' not in masked data.\n",
      "2025-04-01 09:41:20,982 - WARNING - ⚠️ Skipping 1D metric PI_DIV — variable 'divu' not in masked data.\n",
      "WARNING:ktens-max_PI:⚠️ Skipping 1D metric PI_DIV — variable 'divu' not in masked data.\n",
      "2025-04-01 09:41:20,983 - WARNING - ⚠️ Skipping 1D metric PI_AGING — variable 'iage' not in masked data.\n",
      "WARNING:ktens-max_PI:⚠️ Skipping 1D metric PI_AGING — variable 'iage' not in masked data.\n",
      "2025-04-01 09:41:20,985 - WARNING - ⚠️ Skipping 1D metric PI_AGROM — variable 'daidtd' not in masked data.\n",
      "WARNING:ktens-max_PI:⚠️ Skipping 1D metric PI_AGROM — variable 'daidtd' not in masked data.\n",
      "2025-04-01 09:41:20,987 - WARNING - ⚠️ Skipping 1D metric PI_AGROT — variable 'daidtt' not in masked data.\n",
      "WARNING:ktens-max_PI:⚠️ Skipping 1D metric PI_AGROT — variable 'daidtt' not in masked data.\n",
      "2025-04-01 09:41:20,988 - WARNING - ⚠️ Skipping 1D metric PI_VGROM — variable 'dvidtd' not in masked data.\n",
      "WARNING:ktens-max_PI:⚠️ Skipping 1D metric PI_VGROM — variable 'dvidtd' not in masked data.\n",
      "2025-04-01 09:41:20,990 - WARNING - ⚠️ Skipping 1D metric PI_VGROT — variable 'dvidtt' not in masked data.\n",
      "WARNING:ktens-max_PI:⚠️ Skipping 1D metric PI_VGROT — variable 'dvidtt' not in masked data.\n",
      "2025-04-01 09:41:20,991 - WARNING - ⚠️ Skipping 1D metric PI_STRESS — variable 'strint' not in masked data.\n",
      "WARNING:ktens-max_PI:⚠️ Skipping 1D metric PI_STRESS — variable 'strint' not in masked data.\n",
      "2025-04-01 09:41:21,019 - WARNING - ⚠️ Skipping 1D metric PI_FRAZIL — variable 'frazil' not in masked data.\n",
      "WARNING:ktens-max_PI:⚠️ Skipping 1D metric PI_FRAZIL — variable 'frazil' not in masked data.\n",
      "2025-04-01 09:41:21,023 - INFO - \t1D vars computed: ['PIA', 'PIE', 'PI_SPEED']\n",
      "INFO:ktens-max_PI:\t1D vars computed: ['PIA', 'PIE', 'PI_SPEED']\n",
      "2025-04-01 09:41:21,025 - INFO - compute pack ice 3D variables:\n",
      "INFO:ktens-max_PI:compute pack ice 3D variables:\n",
      "2025-04-01 09:41:21,040 - WARNING - ⚠️ Skipping 3D metric PIHI — variable 'hi' not found in masked data.\n",
      "WARNING:ktens-max_PI:⚠️ Skipping 3D metric PIHI — variable 'hi' not found in masked data.\n",
      "2025-04-01 09:41:21,041 - WARNING - ⚠️ Skipping 3D metric PISTH — variable 'strength' not found in masked data.\n",
      "WARNING:ktens-max_PI:⚠️ Skipping 3D metric PISTH — variable 'strength' not found in masked data.\n",
      "2025-04-01 09:41:21,042 - WARNING - ⚠️ Skipping 3D metric PISH — variable 'shear' not found in masked data.\n",
      "WARNING:ktens-max_PI:⚠️ Skipping 3D metric PISH — variable 'shear' not found in masked data.\n",
      "2025-04-01 09:41:21,044 - WARNING - ⚠️ Skipping 3D metric PIDIV — variable 'divu' not found in masked data.\n",
      "WARNING:ktens-max_PI:⚠️ Skipping 3D metric PIDIV — variable 'divu' not found in masked data.\n",
      "2025-04-01 09:41:21,045 - WARNING - ⚠️ Skipping 3D metric PIAG — variable 'iage' not found in masked data.\n",
      "WARNING:ktens-max_PI:⚠️ Skipping 3D metric PIAG — variable 'iage' not found in masked data.\n",
      "2025-04-01 09:41:21,046 - WARNING - ⚠️ Skipping 3D metric PIAD — variable 'daidtd' not found in masked data.\n",
      "WARNING:ktens-max_PI:⚠️ Skipping 3D metric PIAD — variable 'daidtd' not found in masked data.\n",
      "2025-04-01 09:41:21,047 - WARNING - ⚠️ Skipping 3D metric PIAT — variable 'daidtt' not found in masked data.\n",
      "WARNING:ktens-max_PI:⚠️ Skipping 3D metric PIAT — variable 'daidtt' not found in masked data.\n",
      "2025-04-01 09:41:21,048 - WARNING - ⚠️ Skipping 3D metric PIVD — variable 'dvidtd' not found in masked data.\n",
      "WARNING:ktens-max_PI:⚠️ Skipping 3D metric PIVD — variable 'dvidtd' not found in masked data.\n",
      "2025-04-01 09:41:21,050 - WARNING - ⚠️ Skipping 3D metric PIVT — variable 'dvidtt' not found in masked data.\n",
      "WARNING:ktens-max_PI:⚠️ Skipping 3D metric PIVT — variable 'dvidtt' not found in masked data.\n",
      "2025-04-01 09:41:21,053 - WARNING - ⚠️ Skipping 3D metric PISTR — variable 'strint' not found in masked data.\n",
      "WARNING:ktens-max_PI:⚠️ Skipping 3D metric PISTR — variable 'strint' not found in masked data.\n",
      "2025-04-01 09:41:21,066 - WARNING - ⚠️ Skipping 3D metric PIFZL — variable 'frazil' not found in masked data.\n",
      "WARNING:ktens-max_PI:⚠️ Skipping 3D metric PIFZL — variable 'frazil' not found in masked data.\n",
      "2025-04-01 09:41:21,068 - INFO - \t3D vars computed: ['PIC', 'PISPD']\n",
      "INFO:ktens-max_PI:\t3D vars computed: ['PIC', 'PISPD']\n",
      "2025-04-01 09:41:21,069 - INFO - compute temporal means to give spatial distributions over time (2D)\n",
      "INFO:ktens-max_PI:compute temporal means to give spatial distributions over time (2D)\n",
      "2025-04-01 09:41:21,070 - WARNING - ⚠️ Skipping 2D var PIC_SD due to error: 't_fi'\n",
      "WARNING:ktens-max_PI:⚠️ Skipping 2D var PIC_SD due to error: 't_fi'\n",
      "2025-04-01 09:41:21,071 - WARNING - ⚠️ Skipping 2D var PIHI_SD due to error: 'hi'\n",
      "WARNING:ktens-max_PI:⚠️ Skipping 2D var PIHI_SD due to error: 'hi'\n",
      "2025-04-01 09:41:21,072 - WARNING - ⚠️ Skipping 2D var PISTH_SD due to error: 'strength'\n",
      "WARNING:ktens-max_PI:⚠️ Skipping 2D var PISTH_SD due to error: 'strength'\n",
      "2025-04-01 09:41:21,073 - WARNING - ⚠️ Skipping 2D var PISH_SD due to error: 'shear'\n",
      "WARNING:ktens-max_PI:⚠️ Skipping 2D var PISH_SD due to error: 'shear'\n",
      "2025-04-01 09:41:21,074 - WARNING - ⚠️ Skipping 2D var PIDIV_SD due to error: 'divu'\n",
      "WARNING:ktens-max_PI:⚠️ Skipping 2D var PIDIV_SD due to error: 'divu'\n",
      "2025-04-01 09:41:21,075 - WARNING - ⚠️ Skipping 2D var PIAG_SD due to error: 'iage'\n",
      "WARNING:ktens-max_PI:⚠️ Skipping 2D var PIAG_SD due to error: 'iage'\n",
      "2025-04-01 09:41:21,076 - WARNING - ⚠️ Skipping 2D var PIAD_SD due to error: 'daidtd'\n",
      "WARNING:ktens-max_PI:⚠️ Skipping 2D var PIAD_SD due to error: 'daidtd'\n",
      "2025-04-01 09:41:21,077 - WARNING - ⚠️ Skipping 2D var PIAT_SD due to error: 'daidtt'\n",
      "WARNING:ktens-max_PI:⚠️ Skipping 2D var PIAT_SD due to error: 'daidtt'\n",
      "2025-04-01 09:41:21,079 - WARNING - ⚠️ Skipping 2D var PIVD_SD due to error: 'dvidtd'\n",
      "WARNING:ktens-max_PI:⚠️ Skipping 2D var PIVD_SD due to error: 'dvidtd'\n",
      "2025-04-01 09:41:21,080 - WARNING - ⚠️ Skipping 2D var PIVT_SD due to error: 'dvidtt'\n",
      "WARNING:ktens-max_PI:⚠️ Skipping 2D var PIVT_SD due to error: 'dvidtt'\n",
      "2025-04-01 09:41:21,081 - WARNING - ⚠️ Skipping 2D var PISTR_SD due to error: 'strint'\n",
      "WARNING:ktens-max_PI:⚠️ Skipping 2D var PISTR_SD due to error: 'strint'\n",
      "2025-04-01 09:41:21,082 - WARNING - ⚠️ Skipping 2D var PISPD_SD due to error: 't_fi'\n",
      "WARNING:ktens-max_PI:⚠️ Skipping 2D var PISPD_SD due to error: 't_fi'\n",
      "2025-04-01 09:41:21,083 - WARNING - ⚠️ Skipping 2D var PIFZL_SD due to error: 'frazil'\n",
      "WARNING:ktens-max_PI:⚠️ Skipping 2D var PIFZL_SD due to error: 'frazil'\n",
      "2025-04-01 09:41:21,084 - INFO - \t2D vars computed: []\n",
      "INFO:ktens-max_PI:\t2D vars computed: []\n",
      "2025-04-01 09:41:21,084 - INFO - create output dataset:\n",
      "INFO:ktens-max_PI:create output dataset:\n",
      "2025-04-01 09:41:21,192 - INFO - ✅ Pack ice processing complete.\n",
      "INFO:ktens-max_PI:✅ Pack ice processing complete.\n"
     ]
    },
    {
     "ename": "KeyboardInterrupt",
     "evalue": "",
     "output_type": "error",
     "traceback": [
      "\u001b[0;31m---------------------------------------------------------------------------\u001b[0m",
      "\u001b[0;31mKeyboardInterrupt\u001b[0m                         Traceback (most recent call last)",
      "Cell \u001b[0;32mIn[2], line 5\u001b[0m\n\u001b[1;32m      3\u001b[0m sim_name \u001b[38;5;241m=\u001b[39m \u001b[38;5;124m'\u001b[39m\u001b[38;5;124mktens-max\u001b[39m\u001b[38;5;124m'\u001b[39m\n\u001b[1;32m      4\u001b[0m plotter  \u001b[38;5;241m=\u001b[39m SeaIcePlotter(sim_name, dt0_str, dtN_str, show_figs\u001b[38;5;241m=\u001b[39m\u001b[38;5;28;01mTrue\u001b[39;00m, ice_type\u001b[38;5;241m=\u001b[39m\u001b[38;5;124m'\u001b[39m\u001b[38;5;124mPI\u001b[39m\u001b[38;5;124m'\u001b[39m, mask_fast_ice\u001b[38;5;241m=\u001b[39m\u001b[38;5;28;01mTrue\u001b[39;00m)\n\u001b[0;32m----> 5\u001b[0m \u001b[43mplotter\u001b[49m\u001b[38;5;241;43m.\u001b[39;49m\u001b[43mplot_timeseries\u001b[49m\u001b[43m(\u001b[49m\u001b[43m)\u001b[49m\n",
      "File \u001b[0;32m~/AFIM/src/AFIM/src/sea_ice_plotter.py:775\u001b[0m, in \u001b[0;36mSeaIcePlotter.plot_timeseries\u001b[0;34m(self, var_names, label, save_png)\u001b[0m\n\u001b[1;32m    773\u001b[0m             data_dict[var] \u001b[38;5;241m=\u001b[39m [np\u001b[38;5;241m.\u001b[39mnan] \u001b[38;5;241m*\u001b[39m \u001b[38;5;28mlen\u001b[39m(times)\n\u001b[1;32m    774\u001b[0m         \u001b[38;5;28;01melse\u001b[39;00m:\n\u001b[0;32m--> 775\u001b[0m             data_dict[var] \u001b[38;5;241m=\u001b[39m \u001b[43mds\u001b[49m\u001b[43m[\u001b[49m\u001b[43mvar\u001b[49m\u001b[43m]\u001b[49m\u001b[38;5;241;43m.\u001b[39;49m\u001b[43mvalues\u001b[49m\u001b[38;5;241m.\u001b[39mtolist()\n\u001b[1;32m    776\u001b[0m \u001b[38;5;28;01melse\u001b[39;00m:\n\u001b[1;32m    777\u001b[0m     \u001b[38;5;28;01mfor\u001b[39;00m P_zarr \u001b[38;5;129;01min\u001b[39;00m \u001b[38;5;28mself\u001b[39m\u001b[38;5;241m.\u001b[39mP_zarr_list:\n",
      "File \u001b[0;32m/g/data/hh5/public/apps/miniconda3/envs/analysis3-24.04/lib/python3.10/site-packages/xarray/core/dataarray.py:786\u001b[0m, in \u001b[0;36mDataArray.values\u001b[0;34m(self)\u001b[0m\n\u001b[1;32m    773\u001b[0m \u001b[38;5;129m@property\u001b[39m\n\u001b[1;32m    774\u001b[0m \u001b[38;5;28;01mdef\u001b[39;00m \u001b[38;5;21mvalues\u001b[39m(\u001b[38;5;28mself\u001b[39m) \u001b[38;5;241m-\u001b[39m\u001b[38;5;241m>\u001b[39m np\u001b[38;5;241m.\u001b[39mndarray:\n\u001b[1;32m    775\u001b[0m \u001b[38;5;250m    \u001b[39m\u001b[38;5;124;03m\"\"\"\u001b[39;00m\n\u001b[1;32m    776\u001b[0m \u001b[38;5;124;03m    The array's data converted to numpy.ndarray.\u001b[39;00m\n\u001b[1;32m    777\u001b[0m \n\u001b[0;32m   (...)\u001b[0m\n\u001b[1;32m    784\u001b[0m \u001b[38;5;124;03m    to this array may be reflected in the DataArray as well.\u001b[39;00m\n\u001b[1;32m    785\u001b[0m \u001b[38;5;124;03m    \"\"\"\u001b[39;00m\n\u001b[0;32m--> 786\u001b[0m     \u001b[38;5;28;01mreturn\u001b[39;00m \u001b[38;5;28;43mself\u001b[39;49m\u001b[38;5;241;43m.\u001b[39;49m\u001b[43mvariable\u001b[49m\u001b[38;5;241;43m.\u001b[39;49m\u001b[43mvalues\u001b[49m\n",
      "File \u001b[0;32m/g/data/hh5/public/apps/miniconda3/envs/analysis3-24.04/lib/python3.10/site-packages/xarray/core/variable.py:540\u001b[0m, in \u001b[0;36mVariable.values\u001b[0;34m(self)\u001b[0m\n\u001b[1;32m    537\u001b[0m \u001b[38;5;129m@property\u001b[39m\n\u001b[1;32m    538\u001b[0m \u001b[38;5;28;01mdef\u001b[39;00m \u001b[38;5;21mvalues\u001b[39m(\u001b[38;5;28mself\u001b[39m):\n\u001b[1;32m    539\u001b[0m \u001b[38;5;250m    \u001b[39m\u001b[38;5;124;03m\"\"\"The variable's data as a numpy.ndarray\"\"\"\u001b[39;00m\n\u001b[0;32m--> 540\u001b[0m     \u001b[38;5;28;01mreturn\u001b[39;00m \u001b[43m_as_array_or_item\u001b[49m\u001b[43m(\u001b[49m\u001b[38;5;28;43mself\u001b[39;49m\u001b[38;5;241;43m.\u001b[39;49m\u001b[43m_data\u001b[49m\u001b[43m)\u001b[49m\n",
      "File \u001b[0;32m/g/data/hh5/public/apps/miniconda3/envs/analysis3-24.04/lib/python3.10/site-packages/xarray/core/variable.py:338\u001b[0m, in \u001b[0;36m_as_array_or_item\u001b[0;34m(data)\u001b[0m\n\u001b[1;32m    324\u001b[0m \u001b[38;5;28;01mdef\u001b[39;00m \u001b[38;5;21m_as_array_or_item\u001b[39m(data):\n\u001b[1;32m    325\u001b[0m \u001b[38;5;250m    \u001b[39m\u001b[38;5;124;03m\"\"\"Return the given values as a numpy array, or as an individual item if\u001b[39;00m\n\u001b[1;32m    326\u001b[0m \u001b[38;5;124;03m    it's a 0d datetime64 or timedelta64 array.\u001b[39;00m\n\u001b[1;32m    327\u001b[0m \n\u001b[0;32m   (...)\u001b[0m\n\u001b[1;32m    336\u001b[0m \u001b[38;5;124;03m    TODO: remove this (replace with np.asarray) once these issues are fixed\u001b[39;00m\n\u001b[1;32m    337\u001b[0m \u001b[38;5;124;03m    \"\"\"\u001b[39;00m\n\u001b[0;32m--> 338\u001b[0m     data \u001b[38;5;241m=\u001b[39m \u001b[43mnp\u001b[49m\u001b[38;5;241;43m.\u001b[39;49m\u001b[43masarray\u001b[49m\u001b[43m(\u001b[49m\u001b[43mdata\u001b[49m\u001b[43m)\u001b[49m\n\u001b[1;32m    339\u001b[0m     \u001b[38;5;28;01mif\u001b[39;00m data\u001b[38;5;241m.\u001b[39mndim \u001b[38;5;241m==\u001b[39m \u001b[38;5;241m0\u001b[39m:\n\u001b[1;32m    340\u001b[0m         \u001b[38;5;28;01mif\u001b[39;00m data\u001b[38;5;241m.\u001b[39mdtype\u001b[38;5;241m.\u001b[39mkind \u001b[38;5;241m==\u001b[39m \u001b[38;5;124m\"\u001b[39m\u001b[38;5;124mM\u001b[39m\u001b[38;5;124m\"\u001b[39m:\n",
      "File \u001b[0;32m/g/data/hh5/public/apps/miniconda3/envs/analysis3-24.04/lib/python3.10/site-packages/dask/array/core.py:1693\u001b[0m, in \u001b[0;36mArray.__array__\u001b[0;34m(self, dtype, **kwargs)\u001b[0m\n\u001b[1;32m   1692\u001b[0m \u001b[38;5;28;01mdef\u001b[39;00m \u001b[38;5;21m__array__\u001b[39m(\u001b[38;5;28mself\u001b[39m, dtype\u001b[38;5;241m=\u001b[39m\u001b[38;5;28;01mNone\u001b[39;00m, \u001b[38;5;241m*\u001b[39m\u001b[38;5;241m*\u001b[39mkwargs):\n\u001b[0;32m-> 1693\u001b[0m     x \u001b[38;5;241m=\u001b[39m \u001b[38;5;28;43mself\u001b[39;49m\u001b[38;5;241;43m.\u001b[39;49m\u001b[43mcompute\u001b[49m\u001b[43m(\u001b[49m\u001b[43m)\u001b[49m\n\u001b[1;32m   1694\u001b[0m     \u001b[38;5;28;01mif\u001b[39;00m dtype \u001b[38;5;129;01mand\u001b[39;00m x\u001b[38;5;241m.\u001b[39mdtype \u001b[38;5;241m!=\u001b[39m dtype:\n\u001b[1;32m   1695\u001b[0m         x \u001b[38;5;241m=\u001b[39m x\u001b[38;5;241m.\u001b[39mastype(dtype)\n",
      "File \u001b[0;32m/g/data/hh5/public/apps/miniconda3/envs/analysis3-24.04/lib/python3.10/site-packages/dask/base.py:376\u001b[0m, in \u001b[0;36mDaskMethodsMixin.compute\u001b[0;34m(self, **kwargs)\u001b[0m\n\u001b[1;32m    352\u001b[0m \u001b[38;5;28;01mdef\u001b[39;00m \u001b[38;5;21mcompute\u001b[39m(\u001b[38;5;28mself\u001b[39m, \u001b[38;5;241m*\u001b[39m\u001b[38;5;241m*\u001b[39mkwargs):\n\u001b[1;32m    353\u001b[0m \u001b[38;5;250m    \u001b[39m\u001b[38;5;124;03m\"\"\"Compute this dask collection\u001b[39;00m\n\u001b[1;32m    354\u001b[0m \n\u001b[1;32m    355\u001b[0m \u001b[38;5;124;03m    This turns a lazy Dask collection into its in-memory equivalent.\u001b[39;00m\n\u001b[0;32m   (...)\u001b[0m\n\u001b[1;32m    374\u001b[0m \u001b[38;5;124;03m    dask.compute\u001b[39;00m\n\u001b[1;32m    375\u001b[0m \u001b[38;5;124;03m    \"\"\"\u001b[39;00m\n\u001b[0;32m--> 376\u001b[0m     (result,) \u001b[38;5;241m=\u001b[39m \u001b[43mcompute\u001b[49m\u001b[43m(\u001b[49m\u001b[38;5;28;43mself\u001b[39;49m\u001b[43m,\u001b[49m\u001b[43m \u001b[49m\u001b[43mtraverse\u001b[49m\u001b[38;5;241;43m=\u001b[39;49m\u001b[38;5;28;43;01mFalse\u001b[39;49;00m\u001b[43m,\u001b[49m\u001b[43m \u001b[49m\u001b[38;5;241;43m*\u001b[39;49m\u001b[38;5;241;43m*\u001b[39;49m\u001b[43mkwargs\u001b[49m\u001b[43m)\u001b[49m\n\u001b[1;32m    377\u001b[0m     \u001b[38;5;28;01mreturn\u001b[39;00m result\n",
      "File \u001b[0;32m/g/data/hh5/public/apps/miniconda3/envs/analysis3-24.04/lib/python3.10/site-packages/dask/base.py:662\u001b[0m, in \u001b[0;36mcompute\u001b[0;34m(traverse, optimize_graph, scheduler, get, *args, **kwargs)\u001b[0m\n\u001b[1;32m    659\u001b[0m     postcomputes\u001b[38;5;241m.\u001b[39mappend(x\u001b[38;5;241m.\u001b[39m__dask_postcompute__())\n\u001b[1;32m    661\u001b[0m \u001b[38;5;28;01mwith\u001b[39;00m shorten_traceback():\n\u001b[0;32m--> 662\u001b[0m     results \u001b[38;5;241m=\u001b[39m \u001b[43mschedule\u001b[49m\u001b[43m(\u001b[49m\u001b[43mdsk\u001b[49m\u001b[43m,\u001b[49m\u001b[43m \u001b[49m\u001b[43mkeys\u001b[49m\u001b[43m,\u001b[49m\u001b[43m \u001b[49m\u001b[38;5;241;43m*\u001b[39;49m\u001b[38;5;241;43m*\u001b[39;49m\u001b[43mkwargs\u001b[49m\u001b[43m)\u001b[49m\n\u001b[1;32m    664\u001b[0m \u001b[38;5;28;01mreturn\u001b[39;00m repack([f(r, \u001b[38;5;241m*\u001b[39ma) \u001b[38;5;28;01mfor\u001b[39;00m r, (f, a) \u001b[38;5;129;01min\u001b[39;00m \u001b[38;5;28mzip\u001b[39m(results, postcomputes)])\n",
      "File \u001b[0;32m/g/data/hh5/public/apps/miniconda3/envs/analysis3-24.04/lib/python3.10/site-packages/dask/array/routines.py:276\u001b[0m, in \u001b[0;36m_tensordot\u001b[0;34m(a, b, axes, is_sparse)\u001b[0m\n\u001b[1;32m    274\u001b[0m x \u001b[38;5;241m=\u001b[39m \u001b[38;5;28mmax\u001b[39m([a, b], key\u001b[38;5;241m=\u001b[39m\u001b[38;5;28;01mlambda\u001b[39;00m x: x\u001b[38;5;241m.\u001b[39m__array_priority__)\n\u001b[1;32m    275\u001b[0m tensordot \u001b[38;5;241m=\u001b[39m tensordot_lookup\u001b[38;5;241m.\u001b[39mdispatch(\u001b[38;5;28mtype\u001b[39m(x))\n\u001b[0;32m--> 276\u001b[0m x \u001b[38;5;241m=\u001b[39m \u001b[43mtensordot\u001b[49m\u001b[43m(\u001b[49m\u001b[43ma\u001b[49m\u001b[43m,\u001b[49m\u001b[43m \u001b[49m\u001b[43mb\u001b[49m\u001b[43m,\u001b[49m\u001b[43m \u001b[49m\u001b[43maxes\u001b[49m\u001b[38;5;241;43m=\u001b[39;49m\u001b[43maxes\u001b[49m\u001b[43m)\u001b[49m\n\u001b[1;32m    277\u001b[0m \u001b[38;5;28;01mif\u001b[39;00m is_sparse \u001b[38;5;129;01mand\u001b[39;00m \u001b[38;5;28mlen\u001b[39m(axes[\u001b[38;5;241m0\u001b[39m]) \u001b[38;5;241m==\u001b[39m \u001b[38;5;241m1\u001b[39m:\n\u001b[1;32m    278\u001b[0m     \u001b[38;5;28;01mreturn\u001b[39;00m x\n",
      "File \u001b[0;32m/g/data/hh5/public/apps/miniconda3/envs/analysis3-24.04/lib/python3.10/site-packages/sparse/_common.py:176\u001b[0m, in \u001b[0;36mtensordot\u001b[0;34m(a, b, axes, return_type)\u001b[0m\n\u001b[1;32m    173\u001b[0m     \u001b[38;5;28;01mreturn\u001b[39;00m res\n\u001b[1;32m    175\u001b[0m at \u001b[38;5;241m=\u001b[39m a\u001b[38;5;241m.\u001b[39mtranspose(newaxes_a)\u001b[38;5;241m.\u001b[39mreshape(newshape_a)\n\u001b[0;32m--> 176\u001b[0m bt \u001b[38;5;241m=\u001b[39m \u001b[43mb\u001b[49m\u001b[38;5;241;43m.\u001b[39;49m\u001b[43mtranspose\u001b[49m\u001b[43m(\u001b[49m\u001b[43mnewaxes_b\u001b[49m\u001b[43m)\u001b[49m\u001b[38;5;241m.\u001b[39mreshape(newshape_b)\n\u001b[1;32m    177\u001b[0m res \u001b[38;5;241m=\u001b[39m _dot(at, bt, return_type)\n\u001b[1;32m    178\u001b[0m \u001b[38;5;28;01mreturn\u001b[39;00m res\u001b[38;5;241m.\u001b[39mreshape(olda \u001b[38;5;241m+\u001b[39m oldb)\n",
      "File \u001b[0;32m/g/data/hh5/public/apps/miniconda3/envs/analysis3-24.04/lib/python3.10/site-packages/sparse/_coo/core.py:793\u001b[0m, in \u001b[0;36mCOO.transpose\u001b[0;34m(self, axes)\u001b[0m\n\u001b[1;32m    790\u001b[0m             \u001b[38;5;28;01mreturn\u001b[39;00m value\n\u001b[1;32m    792\u001b[0m shape \u001b[38;5;241m=\u001b[39m \u001b[38;5;28mtuple\u001b[39m(\u001b[38;5;28mself\u001b[39m\u001b[38;5;241m.\u001b[39mshape[ax] \u001b[38;5;28;01mfor\u001b[39;00m ax \u001b[38;5;129;01min\u001b[39;00m axes)\n\u001b[0;32m--> 793\u001b[0m result \u001b[38;5;241m=\u001b[39m \u001b[43mCOO\u001b[49m\u001b[43m(\u001b[49m\n\u001b[1;32m    794\u001b[0m \u001b[43m    \u001b[49m\u001b[38;5;28;43mself\u001b[39;49m\u001b[38;5;241;43m.\u001b[39;49m\u001b[43mcoords\u001b[49m\u001b[43m[\u001b[49m\u001b[43maxes\u001b[49m\u001b[43m,\u001b[49m\u001b[43m \u001b[49m\u001b[43m:\u001b[49m\u001b[43m]\u001b[49m\u001b[43m,\u001b[49m\n\u001b[1;32m    795\u001b[0m \u001b[43m    \u001b[49m\u001b[38;5;28;43mself\u001b[39;49m\u001b[38;5;241;43m.\u001b[39;49m\u001b[43mdata\u001b[49m\u001b[43m,\u001b[49m\n\u001b[1;32m    796\u001b[0m \u001b[43m    \u001b[49m\u001b[43mshape\u001b[49m\u001b[43m,\u001b[49m\n\u001b[1;32m    797\u001b[0m \u001b[43m    \u001b[49m\u001b[43mhas_duplicates\u001b[49m\u001b[38;5;241;43m=\u001b[39;49m\u001b[38;5;28;43;01mFalse\u001b[39;49;00m\u001b[43m,\u001b[49m\n\u001b[1;32m    798\u001b[0m \u001b[43m    \u001b[49m\u001b[43mcache\u001b[49m\u001b[38;5;241;43m=\u001b[39;49m\u001b[38;5;28;43mself\u001b[39;49m\u001b[38;5;241;43m.\u001b[39;49m\u001b[43m_cache\u001b[49m\u001b[43m \u001b[49m\u001b[38;5;129;43;01mis\u001b[39;49;00m\u001b[43m \u001b[49m\u001b[38;5;129;43;01mnot\u001b[39;49;00m\u001b[43m \u001b[49m\u001b[38;5;28;43;01mNone\u001b[39;49;00m\u001b[43m,\u001b[49m\n\u001b[1;32m    799\u001b[0m \u001b[43m    \u001b[49m\u001b[43mfill_value\u001b[49m\u001b[38;5;241;43m=\u001b[39;49m\u001b[38;5;28;43mself\u001b[39;49m\u001b[38;5;241;43m.\u001b[39;49m\u001b[43mfill_value\u001b[49m\u001b[43m,\u001b[49m\n\u001b[1;32m    800\u001b[0m \u001b[43m\u001b[49m\u001b[43m)\u001b[49m\n\u001b[1;32m    802\u001b[0m \u001b[38;5;28;01mif\u001b[39;00m \u001b[38;5;28mself\u001b[39m\u001b[38;5;241m.\u001b[39m_cache \u001b[38;5;129;01mis\u001b[39;00m \u001b[38;5;129;01mnot\u001b[39;00m \u001b[38;5;28;01mNone\u001b[39;00m:\n\u001b[1;32m    803\u001b[0m     \u001b[38;5;28mself\u001b[39m\u001b[38;5;241m.\u001b[39m_cache[\u001b[38;5;124m\"\u001b[39m\u001b[38;5;124mtranspose\u001b[39m\u001b[38;5;124m\"\u001b[39m]\u001b[38;5;241m.\u001b[39mappend((axes, result))\n",
      "File \u001b[0;32m/g/data/hh5/public/apps/miniconda3/envs/analysis3-24.04/lib/python3.10/site-packages/sparse/_coo/core.py:291\u001b[0m, in \u001b[0;36mCOO.__init__\u001b[0;34m(self, coords, data, shape, has_duplicates, sorted, prune, cache, fill_value, idx_dtype)\u001b[0m\n\u001b[1;32m    282\u001b[0m     warnings\u001b[38;5;241m.\u001b[39mwarn(\n\u001b[1;32m    283\u001b[0m         \u001b[38;5;124m\"\u001b[39m\u001b[38;5;124mAttempting to create a sparse array that takes no less \u001b[39m\u001b[38;5;124m\"\u001b[39m\n\u001b[1;32m    284\u001b[0m         \u001b[38;5;124m\"\u001b[39m\u001b[38;5;124mmemory than than an equivalent dense array. You may want to \u001b[39m\u001b[38;5;124m\"\u001b[39m\n\u001b[0;32m   (...)\u001b[0m\n\u001b[1;32m    287\u001b[0m         stacklevel\u001b[38;5;241m=\u001b[39m\u001b[38;5;241m1\u001b[39m,\n\u001b[1;32m    288\u001b[0m     )\n\u001b[1;32m    290\u001b[0m \u001b[38;5;28;01mif\u001b[39;00m \u001b[38;5;129;01mnot\u001b[39;00m \u001b[38;5;28msorted\u001b[39m:\n\u001b[0;32m--> 291\u001b[0m     \u001b[38;5;28;43mself\u001b[39;49m\u001b[38;5;241;43m.\u001b[39;49m\u001b[43m_sort_indices\u001b[49m\u001b[43m(\u001b[49m\u001b[43m)\u001b[49m\n\u001b[1;32m    293\u001b[0m \u001b[38;5;28;01mif\u001b[39;00m has_duplicates:\n\u001b[1;32m    294\u001b[0m     \u001b[38;5;28mself\u001b[39m\u001b[38;5;241m.\u001b[39m_sum_duplicates()\n",
      "File \u001b[0;32m/g/data/hh5/public/apps/miniconda3/envs/analysis3-24.04/lib/python3.10/site-packages/sparse/_coo/core.py:1313\u001b[0m, in \u001b[0;36mCOO._sort_indices\u001b[0;34m(self)\u001b[0m\n\u001b[1;32m   1310\u001b[0m \u001b[38;5;28;01mif\u001b[39;00m (np\u001b[38;5;241m.\u001b[39mdiff(linear) \u001b[38;5;241m>\u001b[39m\u001b[38;5;241m=\u001b[39m \u001b[38;5;241m0\u001b[39m)\u001b[38;5;241m.\u001b[39mall():  \u001b[38;5;66;03m# already sorted\u001b[39;00m\n\u001b[1;32m   1311\u001b[0m     \u001b[38;5;28;01mreturn\u001b[39;00m\n\u001b[0;32m-> 1313\u001b[0m order \u001b[38;5;241m=\u001b[39m \u001b[43mnp\u001b[49m\u001b[38;5;241;43m.\u001b[39;49m\u001b[43margsort\u001b[49m\u001b[43m(\u001b[49m\u001b[43mlinear\u001b[49m\u001b[43m,\u001b[49m\u001b[43m \u001b[49m\u001b[43mkind\u001b[49m\u001b[38;5;241;43m=\u001b[39;49m\u001b[38;5;124;43m\"\u001b[39;49m\u001b[38;5;124;43mmergesort\u001b[39;49m\u001b[38;5;124;43m\"\u001b[39;49m\u001b[43m)\u001b[49m\n\u001b[1;32m   1314\u001b[0m \u001b[38;5;28mself\u001b[39m\u001b[38;5;241m.\u001b[39mcoords \u001b[38;5;241m=\u001b[39m \u001b[38;5;28mself\u001b[39m\u001b[38;5;241m.\u001b[39mcoords[:, order]\n\u001b[1;32m   1315\u001b[0m \u001b[38;5;28mself\u001b[39m\u001b[38;5;241m.\u001b[39mdata \u001b[38;5;241m=\u001b[39m \u001b[38;5;28mself\u001b[39m\u001b[38;5;241m.\u001b[39mdata[order]\n",
      "File \u001b[0;32m/g/data/hh5/public/apps/miniconda3/envs/analysis3-24.04/lib/python3.10/site-packages/numpy/core/fromnumeric.py:1133\u001b[0m, in \u001b[0;36margsort\u001b[0;34m(a, axis, kind, order)\u001b[0m\n\u001b[1;32m   1025\u001b[0m \u001b[38;5;129m@array_function_dispatch\u001b[39m(_argsort_dispatcher)\n\u001b[1;32m   1026\u001b[0m \u001b[38;5;28;01mdef\u001b[39;00m \u001b[38;5;21margsort\u001b[39m(a, axis\u001b[38;5;241m=\u001b[39m\u001b[38;5;241m-\u001b[39m\u001b[38;5;241m1\u001b[39m, kind\u001b[38;5;241m=\u001b[39m\u001b[38;5;28;01mNone\u001b[39;00m, order\u001b[38;5;241m=\u001b[39m\u001b[38;5;28;01mNone\u001b[39;00m):\n\u001b[1;32m   1027\u001b[0m \u001b[38;5;250m    \u001b[39m\u001b[38;5;124;03m\"\"\"\u001b[39;00m\n\u001b[1;32m   1028\u001b[0m \u001b[38;5;124;03m    Returns the indices that would sort an array.\u001b[39;00m\n\u001b[1;32m   1029\u001b[0m \n\u001b[0;32m   (...)\u001b[0m\n\u001b[1;32m   1131\u001b[0m \n\u001b[1;32m   1132\u001b[0m \u001b[38;5;124;03m    \"\"\"\u001b[39;00m\n\u001b[0;32m-> 1133\u001b[0m     \u001b[38;5;28;01mreturn\u001b[39;00m \u001b[43m_wrapfunc\u001b[49m\u001b[43m(\u001b[49m\u001b[43ma\u001b[49m\u001b[43m,\u001b[49m\u001b[43m \u001b[49m\u001b[38;5;124;43m'\u001b[39;49m\u001b[38;5;124;43margsort\u001b[39;49m\u001b[38;5;124;43m'\u001b[39;49m\u001b[43m,\u001b[49m\u001b[43m \u001b[49m\u001b[43maxis\u001b[49m\u001b[38;5;241;43m=\u001b[39;49m\u001b[43maxis\u001b[49m\u001b[43m,\u001b[49m\u001b[43m \u001b[49m\u001b[43mkind\u001b[49m\u001b[38;5;241;43m=\u001b[39;49m\u001b[43mkind\u001b[49m\u001b[43m,\u001b[49m\u001b[43m \u001b[49m\u001b[43morder\u001b[49m\u001b[38;5;241;43m=\u001b[39;49m\u001b[43morder\u001b[49m\u001b[43m)\u001b[49m\n",
      "File \u001b[0;32m/g/data/hh5/public/apps/miniconda3/envs/analysis3-24.04/lib/python3.10/site-packages/numpy/core/fromnumeric.py:59\u001b[0m, in \u001b[0;36m_wrapfunc\u001b[0;34m(obj, method, *args, **kwds)\u001b[0m\n\u001b[1;32m     56\u001b[0m     \u001b[38;5;28;01mreturn\u001b[39;00m _wrapit(obj, method, \u001b[38;5;241m*\u001b[39margs, \u001b[38;5;241m*\u001b[39m\u001b[38;5;241m*\u001b[39mkwds)\n\u001b[1;32m     58\u001b[0m \u001b[38;5;28;01mtry\u001b[39;00m:\n\u001b[0;32m---> 59\u001b[0m     \u001b[38;5;28;01mreturn\u001b[39;00m \u001b[43mbound\u001b[49m\u001b[43m(\u001b[49m\u001b[38;5;241;43m*\u001b[39;49m\u001b[43margs\u001b[49m\u001b[43m,\u001b[49m\u001b[43m \u001b[49m\u001b[38;5;241;43m*\u001b[39;49m\u001b[38;5;241;43m*\u001b[39;49m\u001b[43mkwds\u001b[49m\u001b[43m)\u001b[49m\n\u001b[1;32m     60\u001b[0m \u001b[38;5;28;01mexcept\u001b[39;00m \u001b[38;5;167;01mTypeError\u001b[39;00m:\n\u001b[1;32m     61\u001b[0m     \u001b[38;5;66;03m# A TypeError occurs if the object does have such a method in its\u001b[39;00m\n\u001b[1;32m     62\u001b[0m     \u001b[38;5;66;03m# class, but its signature is not identical to that of NumPy's. This\u001b[39;00m\n\u001b[0;32m   (...)\u001b[0m\n\u001b[1;32m     66\u001b[0m     \u001b[38;5;66;03m# Call _wrapit from within the except clause to ensure a potential\u001b[39;00m\n\u001b[1;32m     67\u001b[0m     \u001b[38;5;66;03m# exception has a traceback chain.\u001b[39;00m\n\u001b[1;32m     68\u001b[0m     \u001b[38;5;28;01mreturn\u001b[39;00m _wrapit(obj, method, \u001b[38;5;241m*\u001b[39margs, \u001b[38;5;241m*\u001b[39m\u001b[38;5;241m*\u001b[39mkwds)\n",
      "\u001b[0;31mKeyboardInterrupt\u001b[0m: "
     ]
    }
   ],
   "source": [
    "dt0_str  = \"1993-01-01\"\n",
    "dtN_str  = \"1993-12-31\"\n",
    "sim_name = 'ktens-max'\n",
    "plotter  = SeaIcePlotter(sim_name, dt0_str, dtN_str, show_figs=True, ice_type='PI', mask_fast_ice=True)\n",
    "plotter.plot_timeseries()"
   ]
  },
  {
   "cell_type": "code",
   "execution_count": null,
   "id": "8e90ea4e-594f-4c38-9afe-74ba57b2e7f2",
   "metadata": {},
   "outputs": [],
   "source": [
    "#plotter.plot_timeseries(var_names=[\"PI_STRESS\"])\n",
    "plotter.plot_timeseries_compare(\n",
    "    comparison_name = \"tensile-stars\",\n",
    "    sim_names       = [\"baseline\", \"ktens-max\", \"Pstar-max\", \"Cstar-min\"],\n",
    "    var_name        = \"PIA\",\n",
    "    label_dict      = {\"baseline\"  : \"tensile = 0.2, Pstar = 2.75e4, Cstar = 20\",\n",
    "                       \"ktens-max\" : \"tensile = 0.3, Pstar = 2.75e4, Cstar = 20\",\n",
    "                       \"Pstar-max\" : \"tensile = 0.2, Pstar = 5e4   , Cstar = 20\",\n",
    "                       \"Cstar-min\" : \"tensile = 0.2, Pstar = 2.75e4, Cstar = 10\"})"
   ]
  },
  {
   "cell_type": "markdown",
   "id": "71d24fef-1237-43e6-aeed-5a53e27260ec",
   "metadata": {
    "jp-MarkdownHeadingCollapsed": true
   },
   "source": [
    "# plot 2D analysis (requires existing FI/PI dataset)"
   ]
  },
  {
   "cell_type": "code",
   "execution_count": null,
   "id": "c8edc380-86f1-4f0c-b4e1-fb9cf5d469eb",
   "metadata": {},
   "outputs": [],
   "source": [
    "dt0_str  = \"1993-01-01\"\n",
    "dtN_str  = \"1999-12-31\"\n",
    "sim_names = [\"baseline\", \"ustar-low\", \"Cstar-max\", \"Cstar-min\", \"Pstar-max\", \"Pstar-min\",\n",
    "             \"ktens-nil\", \"ktens-min\", \"ktens-max\", \"gi-max\", \"gi-min\",\n",
    "             \"Rothrock\", \"elps-pack\", \"elps-fast\", \"elps-max\", \"elps-def\", \"elps-mid\" ]\n",
    "for sim_name in sim_names:\n",
    "    SI_plot = SeaIcePlotter(sim_name, dt0_str, dtN_str, show_figs=False, overwrite=True, single_figure=False)\n",
    "    SI_plot.prepare_data_for_plotting(var_name='FIP')\n",
    "    SI_plot.plot_regions()"
   ]
  },
  {
   "cell_type": "markdown",
   "id": "55e3e8e3-378e-4165-988d-a9b08dda4138",
   "metadata": {},
   "source": [
    "# generate PBS jobs for analysis"
   ]
  },
  {
   "cell_type": "code",
   "execution_count": 3,
   "id": "8fdbe334-5b18-4ca2-9ed2-77cbf7bd5af4",
   "metadata": {},
   "outputs": [
    {
     "name": "stdout",
     "output_type": "stream",
     "text": [
      "✓ Generated 19 PBS scripts in: /home/581/da1339/AFIM/src/sh/analysis\n"
     ]
    }
   ],
   "source": [
    "from pathlib import Path\n",
    "\n",
    "sim_names = [\"Cstar-max\", \"Cstar-min\", \"Pstar-max\", \"Pstar-min\", \"Rothrock\", \"baseline\",\n",
    "             \"elps-def\", \"elps-fast\", \"elps-max\", \"elps-mid\", \"elps-pack\", \"gi-max\",\n",
    "             \"gi-min\", \"ktens-max\", \"ktens-min\", \"ktens-nil\", \"oras-sfc-ctl\", \"ustar-low\", \"van_achter\"]\n",
    "pbs_template = \"\"\"#!/bin/bash\n",
    "#PBS -N PI-proc-{name}\n",
    "#PBS -P gv90\n",
    "#PBS -l walltime=24:00:00\n",
    "#PBS -q normalbw\n",
    "#PBS -l mem=32GB\n",
    "#PBS -l ncpus=28\n",
    "#PBS -l storage=gdata/cj50+gdata/jk72+scratch/jk72+gdata/ik11+gdata/hh5+gdata/rt52+gdata/gb6+gdata/gv90\n",
    "#PBS -M daniel.atwater@utas.edu.au\n",
    "\n",
    "module purge\n",
    "module use /g/data/hh5/public/modules\n",
    "module load conda/analysis3\n",
    "\n",
    "cd ~/AFIM/src/AFIM/scripts\n",
    "python3 ./compute_pack_ice.py {name}\n",
    "\"\"\"\n",
    "\n",
    "output_dir = Path(\"/home/581/da1339/AFIM/src/sh/analysis\")\n",
    "output_dir.mkdir(exist_ok=True)\n",
    "\n",
    "for sim in sim_names:\n",
    "    script_content = pbs_template.format(name=sim)\n",
    "    script_path = Path(output_dir,f\"PI-proc_{sim}.pbs\")\n",
    "    with open(script_path, \"w\") as f:\n",
    "        f.write(script_content)\n",
    "print(f\"✓ Generated {len(sim_names)} PBS scripts in: {output_dir.resolve()}\")"
   ]
  },
  {
   "cell_type": "code",
   "execution_count": null,
   "id": "6e4db5b6-84b4-45e3-8813-e58466093078",
   "metadata": {},
   "outputs": [],
   "source": []
  }
 ],
 "metadata": {
  "kernelspec": {
   "display_name": "Python [conda env:analysis3-24.04] *",
   "language": "python",
   "name": "conda-env-analysis3-24.04-py"
  },
  "language_info": {
   "codemirror_mode": {
    "name": "ipython",
    "version": 3
   },
   "file_extension": ".py",
   "mimetype": "text/x-python",
   "name": "python",
   "nbconvert_exporter": "python",
   "pygments_lexer": "ipython3",
   "version": "3.10.14"
  }
 },
 "nbformat": 4,
 "nbformat_minor": 5
}
