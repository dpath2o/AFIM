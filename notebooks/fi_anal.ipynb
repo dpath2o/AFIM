{
 "cells": [
  {
   "cell_type": "markdown",
   "id": "28e1ab3c-05bc-4788-81e9-35b7e2a41851",
   "metadata": {},
   "source": [
    "# load required modules"
   ]
  },
  {
   "cell_type": "code",
   "execution_count": null,
   "id": "c8a1f3b2-7007-44e3-9206-1b18eae4c194",
   "metadata": {},
   "outputs": [],
   "source": [
    "import sys, os, pygmt\n",
    "sys.path.insert(0, '/home/581/da1339/AFIM/src/AFIM/src')\n",
    "from sea_ice_processor import SeaIceProcessor\n",
    "from sea_ice_plotter   import SeaIcePlotter\n",
    "import numpy           as np\n",
    "import pandas          as pd\n",
    "import xarray          as xr\n",
    "from datetime          import timedelta, date, datetime"
   ]
  },
  {
   "cell_type": "markdown",
   "id": "a825c77b-15eb-45b8-a70e-a390adb04128",
   "metadata": {},
   "source": [
    "# process for fast/pack ice"
   ]
  },
  {
   "cell_type": "code",
   "execution_count": null,
   "id": "6c923346-8555-4f14-ad7f-d041691a5d76",
   "metadata": {},
   "outputs": [],
   "source": [
    "dt0_str  = \"1998-08-01\"\n",
    "dtN_str  = \"1999-03-31\"\n",
    "sim_name = 'baseline'\n",
    "SI_proc  = SeaIceProcessor(sim_name            = sim_name, \n",
    "                           ice_speed_threshold = 1e-4)\n",
    "FI_lo_spd = SI_proc.process_window(dt0_str    = dt0_str,\n",
    "                                    dtN_str    = dtN_str, \n",
    "                                    write_zarr = False,\n",
    "                                    ow_zarrs   = True)"
   ]
  },
  {
   "cell_type": "code",
   "execution_count": null,
   "id": "c946497f-9cf3-4d0e-a7cb-f85d07dbb154",
   "metadata": {},
   "outputs": [],
   "source": [
    "import matplotlib.pyplot as plt\n",
    "import matplotlib.dates as mdates\n",
    "plt.figure(figsize=(12, 6))\n",
    "plt.style.use('ggplot') \n",
    "plt.plot(FI_lo_spd['t_dim'], FI_lo_spd['FIA']    , label=f'{sim_name}-simulation' , linewidth=2, color='tab:blue')\n",
    "plt.plot(FI_lo_spd['t_dim'], FI_lo_spd['FIA_OBS'], label='Observed FIA (AF2020db)', linewidth=2, linestyle='--', color='tab:orange')\n",
    "plt.title(\"Fast Ice Area with simulation results masked with ice speed of <1 micorn/s\", fontsize=16)\n",
    "plt.xlabel(\"Date\", fontsize=14)\n",
    "plt.ylabel(f\"Fast Ice Area ({FI_lo_spd.FIA.attrs.get('units', 'unknown')})\", fontsize=14)\n",
    "plt.gca().xaxis.set_major_locator(mdates.MonthLocator())\n",
    "plt.gca().xaxis.set_major_formatter(mdates.DateFormatter('%Y-%m'))\n",
    "plt.gcf().autofmt_xdate()\n",
    "plt.grid(True, linestyle='--', alpha=0.5)\n",
    "plt.legend(loc='upper left', fontsize=12)\n",
    "plt.tight_layout()\n",
    "plt.show()"
   ]
  },
  {
   "cell_type": "code",
   "execution_count": null,
   "id": "78d1d4c7-4477-4af5-8cf0-a2f2c8df20f8",
   "metadata": {},
   "outputs": [],
   "source": [
    "SI_proc  = SeaIceProcessor(sim_name            = sim_name, \n",
    "                           ice_speed_threshold = 1e-3)\n",
    "FI_hi_spd = SI_proc.process_window(dt0_str    = dt0_str,\n",
    "                                    dtN_str    = dtN_str, \n",
    "                                    write_zarr = False,\n",
    "                                    ow_zarrs   = True)"
   ]
  },
  {
   "cell_type": "code",
   "execution_count": null,
   "id": "88c4c287-831f-49f8-8a21-1daa4bce9121",
   "metadata": {},
   "outputs": [],
   "source": [
    "plt.figure(figsize=(12, 6))\n",
    "plt.style.use('ggplot') \n",
    "plt.plot(FI_hi_spd['t_dim'], FI_hi_spd['FIA']    , label=f'{sim_name}-simulation' , linewidth=2, color='tab:blue')\n",
    "plt.plot(FI_hi_spd['t_dim'], FI_hi_spd['FIA_OBS'], label='Observed FIA (AF2020db)', linewidth=2, linestyle='--', color='tab:orange')\n",
    "plt.title(\"Fast Ice Area with simulation results masked with ice speed of <1 mm/s\", fontsize=16)\n",
    "plt.xlabel(\"Date\", fontsize=14)\n",
    "plt.ylabel(f\"Fast Ice Area ({FI_lo_spd.FIA.attrs.get('units', 'unknown')})\", fontsize=14)\n",
    "plt.gca().xaxis.set_major_locator(mdates.MonthLocator())\n",
    "plt.gca().xaxis.set_major_formatter(mdates.DateFormatter('%Y-%m'))\n",
    "plt.gcf().autofmt_xdate()\n",
    "plt.grid(True, linestyle='--', alpha=0.5)\n",
    "plt.legend(loc='upper left', fontsize=12)\n",
    "plt.tight_layout()\n",
    "plt.show()"
   ]
  },
  {
   "cell_type": "markdown",
   "id": "b368adbb-43ce-4790-a42c-c331fb7093fd",
   "metadata": {},
   "source": [
    "# plot 1D analysis"
   ]
  },
  {
   "cell_type": "code",
   "execution_count": null,
   "id": "7383022e-adf4-4d91-85c5-b153735b9d28",
   "metadata": {},
   "outputs": [],
   "source": [
    "dt0_str  = \"1993-01-01\"\n",
    "dtN_str  = \"1993-12-31\"\n",
    "sim_name = 'ktens-max'\n",
    "plotter  = SeaIcePlotter(sim_name, dt0_str, dtN_str, show_figs=True, ice_type='FI')\n",
    "plotter.plot_timeseries()"
   ]
  },
  {
   "cell_type": "code",
   "execution_count": null,
   "id": "8e90ea4e-594f-4c38-9afe-74ba57b2e7f2",
   "metadata": {},
   "outputs": [],
   "source": [
    "#plotter.plot_timeseries(var_names=[\"PI_STRESS\"])\n",
    "plotter.plot_timeseries_compare(\n",
    "    comparison_name = \"tensile-stars\",\n",
    "    sim_names       = [\"baseline\", \"ktens-max\", \"Pstar-max\", \"Cstar-min\"],\n",
    "    var_name        = \"PIA\",\n",
    "    label_dict      = {\"baseline\"  : \"tensile = 0.2, Pstar = 2.75e4, Cstar = 20\",\n",
    "                       \"ktens-max\" : \"tensile = 0.3, Pstar = 2.75e4, Cstar = 20\",\n",
    "                       \"Pstar-max\" : \"tensile = 0.2, Pstar = 5e4   , Cstar = 20\",\n",
    "                       \"Cstar-min\" : \"tensile = 0.2, Pstar = 2.75e4, Cstar = 10\"})"
   ]
  },
  {
   "cell_type": "markdown",
   "id": "71d24fef-1237-43e6-aeed-5a53e27260ec",
   "metadata": {
    "jp-MarkdownHeadingCollapsed": true
   },
   "source": [
    "# plot 2D analysis (requires existing FI/PI dataset)"
   ]
  },
  {
   "cell_type": "code",
   "execution_count": null,
   "id": "c8edc380-86f1-4f0c-b4e1-fb9cf5d469eb",
   "metadata": {},
   "outputs": [],
   "source": [
    "dt0_str  = \"1993-01-01\"\n",
    "dtN_str  = \"1999-12-31\"\n",
    "sim_names = [\"baseline\", \"ustar-low\", \"Cstar-max\", \"Cstar-min\", \"Pstar-max\", \"Pstar-min\",\n",
    "             \"ktens-nil\", \"ktens-min\", \"ktens-max\", \"gi-max\", \"gi-min\",\n",
    "             \"Rothrock\", \"elps-pack\", \"elps-fast\", \"elps-max\", \"elps-def\", \"elps-mid\" ]\n",
    "for sim_name in sim_names:\n",
    "    SI_plot = SeaIcePlotter(sim_name, dt0_str, dtN_str, show_figs=False, overwrite=True, single_figure=False)\n",
    "    SI_plot.prepare_data_for_plotting(var_name='FIP')\n",
    "    SI_plot.plot_regions()"
   ]
  },
  {
   "cell_type": "markdown",
   "id": "55e3e8e3-378e-4165-988d-a9b08dda4138",
   "metadata": {},
   "source": [
    "# generate PBS jobs for analysis"
   ]
  },
  {
   "cell_type": "code",
   "execution_count": null,
   "id": "8fdbe334-5b18-4ca2-9ed2-77cbf7bd5af4",
   "metadata": {},
   "outputs": [],
   "source": [
    "from pathlib import Path\n",
    "from datetime import datetime, timedelta\n",
    "\n",
    "sim_names = [\n",
    "    \"Cstar-max\", \"Cstar-min\", \"Pstar-max\", \"Pstar-min\", \"Rothrock\",# \"baseline\", \"oras-sfc-ctl\"\n",
    "    \"elps-def\", \"elps-fast\", \"elps-max\", \"elps-mid\", \"elps-pack\", \"gi-max\",\n",
    "    \"gi-min\", \"ktens-max\", \"ktens-min\", \"ktens-nil\", \"ustar-low\", \"van_achter\"\n",
    "]\n",
    "\n",
    "# Base time: 5 minutes from now\n",
    "base_time = datetime.now() + timedelta(minutes=5)\n",
    "\n",
    "pbs_template = \"\"\"#!/bin/bash\n",
    "#PBS -N FI-proc-{name}\n",
    "#PBS -P gv90\n",
    "#PBS -l walltime=24:00:00\n",
    "#PBS -q normalbw\n",
    "#PBS -l mem=32GB\n",
    "#PBS -l ncpus=28\n",
    "#PBS -l storage=gdata/cj50+gdata/jk72+scratch/jk72+gdata/ik11+gdata/hh5+gdata/rt52+gdata/gb6+gdata/gv90\n",
    "#PBS -M daniel.atwater@utas.edu.au\n",
    "#PBS -a {start_time}\n",
    "\n",
    "module purge\n",
    "module use /g/data/hh5/public/modules\n",
    "module load conda/analysis3\n",
    "\n",
    "cd ~/AFIM/src/AFIM/scripts\n",
    "python3 ./compute_sea_ice.py {name} --overwrite\n",
    "\"\"\"\n",
    "\n",
    "output_dir = Path(\"/home/581/da1339/AFIM/src/sh/analysis/fast_ice\")\n",
    "output_dir.mkdir(exist_ok=True)\n",
    "\n",
    "for i, sim in enumerate(sim_names):\n",
    "    start_dt = base_time + timedelta(minutes=5 * i)\n",
    "    start_str = start_dt.strftime(\"%y%m%d%H%M\")  # YYMMDDhhmm format\n",
    "    script_content = pbs_template.format(name=sim, start_time=start_str)\n",
    "    script_path = output_dir / f\"FI-proc_{sim}.pbs\"\n",
    "    with open(script_path, \"w\") as f:\n",
    "        f.write(script_content)\n",
    "\n",
    "print(f\"✓ Generated {len(sim_names)} staggered PBS scripts in: {output_dir.resolve()}\")\n"
   ]
  },
  {
   "cell_type": "code",
   "execution_count": null,
   "id": "6e4db5b6-84b4-45e3-8813-e58466093078",
   "metadata": {},
   "outputs": [],
   "source": []
  }
 ],
 "metadata": {
  "kernelspec": {
   "display_name": "Python [conda env:analysis3-24.07]",
   "language": "python",
   "name": "conda-env-analysis3-24.07-py"
  },
  "language_info": {
   "codemirror_mode": {
    "name": "ipython",
    "version": 3
   },
   "file_extension": ".py",
   "mimetype": "text/x-python",
   "name": "python",
   "nbconvert_exporter": "python",
   "pygments_lexer": "ipython3",
   "version": "3.10.16"
  }
 },
 "nbformat": 4,
 "nbformat_minor": 5
}
