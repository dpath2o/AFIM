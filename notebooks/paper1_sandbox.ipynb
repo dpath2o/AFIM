{
 "cells": [
  {
   "cell_type": "code",
   "execution_count": 1,
   "id": "c94baf4e-8455-4287-8b7e-303d6feb8159",
   "metadata": {},
   "outputs": [],
   "source": [
    "import sys, os, pygmt, importlib, re, time\n",
    "mod_path = '/home/581/da1339/AFIM/src/AFIM/src'\n",
    "sys.path.insert(0, mod_path)\n",
    "from sea_ice_toolbox      import SeaIceToolbox\n",
    "from datetime             import timedelta, date, datetime\n",
    "from pathlib              import Path\n",
    "from dask.distributed     import Client, LocalCluster\n",
    "from dask.diagnostics     import ProgressBar\n",
    "from pyproj               import CRS, Transformer\n",
    "from collections          import defaultdict\n",
    "from scipy.interpolate    import interp1d\n",
    "from matplotlib.offsetbox import AnchoredOffsetbox, VPacker, TextArea\n",
    "import numpy              as np\n",
    "import pandas             as pd\n",
    "import xarray             as xr\n",
    "import xesmf              as xe\n",
    "import matplotlib.pyplot  as plt\n",
    "import matplotlib.dates   as mdates\n",
    "import matplotlib.animation as animation"
   ]
  },
  {
   "cell_type": "code",
   "execution_count": 105,
   "id": "b23eae6c-80db-4c83-ae56-a9e36d6cc1a7",
   "metadata": {},
   "outputs": [],
   "source": [
    "import sys\n",
    "import importlib\n",
    "# Step 1: Clear all relevant modules\n",
    "for mod in list(sys.modules):\n",
    "    if mod.startswith(\"sea_ice_toolbox\") or mod.startswith(\"sea_ice_\"):\n",
    "        del sys.modules[mod]\n",
    "# Step 2: Explicit reloads in dependency order\n",
    "import sea_ice_plotter\n",
    "import sea_ice_classification\n",
    "import sea_ice_icebergs\n",
    "import sea_ice_observations\n",
    "import sea_ice_metrics\n",
    "import sea_ice_toolbox\n",
    "importlib.reload(sea_ice_plotter)\n",
    "importlib.reload(sea_ice_classification)\n",
    "importlib.reload(sea_ice_icebergs)\n",
    "importlib.reload(sea_ice_observations)\n",
    "importlib.reload(sea_ice_metrics)\n",
    "importlib.reload(sea_ice_toolbox)\n",
    "importlib.reload(pygmt)\n",
    "# Step 3: Re-import key class from module (to refresh the class definition)\n",
    "from sea_ice_toolbox import SeaIceToolbox"
   ]
  },
  {
   "cell_type": "code",
   "execution_count": null,
   "id": "f308f6ee-078d-4d40-ba74-fc052e1bb1e2",
   "metadata": {
    "jupyter": {
     "source_hidden": true
    }
   },
   "outputs": [],
   "source": [
    "# G_CMEMS  = xr.open_dataset(\"/g/data/gv90/da1339/grids/GLORYS/CMEMS_0p25_grid.nc\").rename_dims({'x':'longitude','y':'latitude'})\n",
    "# CMEMS_SI = xr.open_mfdataset(\"/g/data/gv90/da1339/SeaIce/CMEMS/0p25/daily/199*_CMEMS_org.nc\")\n",
    "# G_CMEMS_SO = G_CMEMS.isel(latitude=slice(0,340))\n",
    "# CMEMS_SI_SO = CMEMS_SI.isel(latitude=slice(0,340))\n",
    "# print(G_CMEMS_SO)\n",
    "# print(CMEMS_SI_SO)\n",
    "OSI_SAF = xr.open_mfdataset(\"/g/data/gv90/da1339/SeaIce/OSI_SAF/ice_drift_455m/sh/ice_drift_sh_ease2-750_cdr-v1p0_24h-199*\")\n",
    "print(OSI_SAF)\n",
    "print(OSI_SAF['Lambert_Azimuthal_Equal_Area'].proj4_string)\n",
    "sim_name   = \"elps-min\"\n",
    "dt0_str    = \"1993-01-01\"\n",
    "dtN_str    = \"1999-12-31\"\n",
    "SI_tools   = SeaIceToolbox(sim_name             = sim_name,\n",
    "                           dt0_str              = dt0_str,\n",
    "                           dtN_str              = dtN_str,\n",
    "                           overwrite_zarr       = True,\n",
    "                           save_new_figs        = True,\n",
    "                           show_figs            = True,\n",
    "                           overwrite_saved_figs = True)\n",
    "SI_tools.load_bgrid()\n",
    "print(SI_tools.G_t.isel(nj=slice(0,540),nj_b=slice(0,541)))"
   ]
  },
  {
   "cell_type": "code",
   "execution_count": null,
   "id": "fff31e23-e6ed-4b26-8e5d-bc3e72e47948",
   "metadata": {
    "jupyter": {
     "source_hidden": true
    }
   },
   "outputs": [],
   "source": [
    "grid_src = {\"lon\": OSI_SAF[\"lon\"],\n",
    "            \"lat\": OSI_SAF[\"lat\"]}\n",
    "grid_dst = {\"lon\": SI_tools.G_t[\"lon\"],\n",
    "            \"lat\": SI_tools.G_t[\"lat\"]}\n",
    "reG      = xe.Regridder(grid_src, grid_dst, method=\"bilinear\", periodic=True, filename=\"/g/data/gv90/da1339/grids/weights/OSI-SAF_to_AOM2-025_tgrid_bil.nc\")"
   ]
  },
  {
   "cell_type": "code",
   "execution_count": null,
   "id": "cb95e71c-5f52-4ac4-b902-8fda7a9305d6",
   "metadata": {
    "jupyter": {
     "source_hidden": true
    }
   },
   "outputs": [],
   "source": [
    "vars_to_regrid = ['dX', 'dY', 'uncert_dX_and_dY', 'lat1', 'lon1', 'status_flag']\n",
    "regridded_vars = {}\n",
    "for var in vars_to_regrid:\n",
    "    print(f\"Regridding: {var}\")\n",
    "    regridded_vars[var]         = xr.concat( [reG(OSI_SAF[var].isel(time=i)) for i in range(OSI_SAF.dims['time'])], dim=\"time\")\n",
    "    regridded_vars[var]['time'] = OSI_SAF['time']"
   ]
  },
  {
   "cell_type": "code",
   "execution_count": null,
   "id": "f35ef754-a3d8-463c-a400-9d6f45490443",
   "metadata": {
    "jupyter": {
     "source_hidden": true
    }
   },
   "outputs": [],
   "source": [
    "dt = (OSI_SAF[\"time_bnds\"].isel(nv=1) - OSI_SAF[\"time_bnds\"].isel(nv=0)) / np.timedelta64(1, 's')  # in seconds\n",
    "dX = regridded_vars[\"dX\"]   # shape: (time, nj, ni), in meters\n",
    "dY = regridded_vars[\"dY\"]   # shape: (time, nj, ni), in meters\n",
    "disp_mag = np.sqrt(dX**2 + dY**2)\n",
    "dt_broadcast = dt.broadcast_like(disp_mag)\n",
    "ice_speed = disp_mag / dt_broadcast\n",
    "ice_speed.name = \"ice_speed\"\n",
    "ice_speed.attrs[\"units\"] = \"m s-1\"\n",
    "ice_speed.attrs[\"long_name\"] = \"Sea ice drift speed\"\n",
    "print(ice_speed)"
   ]
  },
  {
   "cell_type": "code",
   "execution_count": null,
   "id": "8be6ff58-e489-42c6-9f65-6de3012808f2",
   "metadata": {
    "jupyter": {
     "source_hidden": true
    }
   },
   "outputs": [],
   "source": [
    "years = range(1993, 2000)\n",
    "ice_speed_yearly = {}\n",
    "for yr in years:\n",
    "    ds = ice_speed.sel(time=slice(f\"{yr}-01-01\", f\"{yr}-12-31\"))\n",
    "    ds_chunked = ds.chunk({'time': 30, 'nj': 540, 'ni': 1440}).compute()\n",
    "    ds_chunked.to_netcdf(f\"/g/data/gv90/da1339/SeaIce/OSI_SAF/ispd_reG_SH_ice_drift_455m_{yr}.nc\")"
   ]
  },
  {
   "cell_type": "code",
   "execution_count": null,
   "id": "7cb55c93-f4c7-46fb-bdb9-fee51a6814bc",
   "metadata": {},
   "outputs": [],
   "source": [
    "sim_name   = \"elps-min\"\n",
    "dt0_str    = \"1993-01-01\"\n",
    "dtN_str    = \"1999-12-31\"\n",
    "SI_tools   = SeaIceToolbox(sim_name             = sim_name,\n",
    "                           dt0_str              = dt0_str,\n",
    "                           dtN_str              = dtN_str,\n",
    "                           overwrite_zarr       = True,\n",
    "                           save_new_figs        = True,\n",
    "                           show_figs            = True,\n",
    "                           overwrite_saved_figs = True)\n",
    "\n",
    "DS, CICE    = SI_tools.load_processed_cice(zarr_CICE = True)\n",
    "CICE_SO     = CICE.isel(nj=SI_tools.hemisphere_dict['nj_slice'])\n",
    "sim_name    = \"AOM2-ERA5\"\n",
    "dt0_str     = \"1993-01-01\"\n",
    "dtN_str     = \"1999-12-31\"\n",
    "SI_tools    = SeaIceToolbox(sim_name             = sim_name,\n",
    "                           dt0_str              = dt0_str,\n",
    "                           dtN_str              = dtN_str,\n",
    "                           overwrite_zarr       = True,\n",
    "                           save_new_figs        = True,\n",
    "                           show_figs            = True,\n",
    "                           overwrite_saved_figs = True)\n",
    "DS, AOM2    = SI_tools.load_processed_cice(zarr_CICE = True)\n",
    "AOM2_SO     = AOM2.isel(nj=SI_tools.hemisphere_dict['nj_slice'])\n",
    "OSI_SAF     = xr.open_mfdataset(\"/home/581/da1339/seaice/OSI_SAF/ispd_reG_SH*\")"
   ]
  },
  {
   "cell_type": "code",
   "execution_count": null,
   "id": "2ca62a07-e089-475c-bd1c-e749270d29d9",
   "metadata": {},
   "outputs": [],
   "source": [
    "AOM2_ispd   = SI_tools.compute_ice_magnitude_from_ice_components_on_Bgrid(AOM2, ivec_type = 'BT')\n",
    "CICE_ispd   = SI_tools.compute_ice_magnitude_from_ice_components_on_Bgrid(CICE, ivec_type = 'BT')"
   ]
  },
  {
   "cell_type": "code",
   "execution_count": null,
   "id": "807ec81d-0137-4168-bcfa-ac018ea58ed4",
   "metadata": {},
   "outputs": [],
   "source": [
    "da_obs      = OSI_SAF.isel(nj=slice(0,540)).ice_speed\n",
    "da_cice     = CICE.isel(nj=slice(0,540)).ispd_BT\n",
    "da_aom2     = AOM2.isel(nj=slice(0,540)).ispd_BT\n",
    "da_cice['time'] = pd.to_datetime(da_cice.time.values).normalize()\n",
    "da_aom2['time'] = pd.to_datetime(da_aom2.time.values).normalize()\n",
    "da_obs['time']  = pd.to_datetime(da_obs.time.values).normalize()\n",
    "t_common = np.intersect1d(da_cice.time.values, da_obs.time.values)\n",
    "t_common = np.intersect1d(t_common, da_aom2.time.values)\n",
    "da_cice = da_cice.sel(time=t_common)\n",
    "da_aom2 = da_aom2.sel(time=t_common)\n",
    "da_obs  = da_obs.sel(time=t_common)\n",
    "print(da_cice.time.values[:5])\n",
    "print(da_aom2.time.values[:5])\n",
    "print(da_obs.time.values[:5])"
   ]
  },
  {
   "cell_type": "code",
   "execution_count": 47,
   "id": "2a32ec15-8cb2-4894-8dba-fc09a7022477",
   "metadata": {},
   "outputs": [
    {
     "name": "stdout",
     "output_type": "stream",
     "text": [
      "0.0\n"
     ]
    }
   ],
   "source": [
    "print(da_obs.min().values)\n",
    "print(da_obs.max().values)"
   ]
  },
  {
   "cell_type": "code",
   "execution_count": 38,
   "id": "f39084fb-0f2f-43a3-81b9-dc4ce1717e61",
   "metadata": {},
   "outputs": [],
   "source": [
    "def compute_taylor_stats_streaming(da1, da2, chunk_size=30):\n",
    "    \"\"\"\n",
    "    Compute Taylor stats between two large 3D Dask-backed arrays\n",
    "    by chunking along time.\n",
    "    \"\"\"\n",
    "    assert da1.shape == da2.shape\n",
    "    assert da1.dims == da2.dims\n",
    "\n",
    "    all_model = []\n",
    "    all_obs   = []\n",
    "\n",
    "    for i in range(0, da1.sizes['time'], chunk_size):\n",
    "        # Safely slice a time chunk\n",
    "        chunk1 = da1.isel(time=slice(i, i+chunk_size)).compute()\n",
    "        chunk2 = da2.isel(time=slice(i, i+chunk_size)).compute()\n",
    "\n",
    "        # Flatten and filter valid\n",
    "        a = chunk1.values.flatten()\n",
    "        b = chunk2.values.flatten()\n",
    "        valid = np.isfinite(a) & np.isfinite(b)\n",
    "\n",
    "        if valid.sum() == 0:\n",
    "            continue\n",
    "\n",
    "        all_model.append(a[valid])\n",
    "        all_obs.append(b[valid])\n",
    "\n",
    "    # Concatenate all valid values\n",
    "    model = np.concatenate(all_model)\n",
    "    obs   = np.concatenate(all_obs)\n",
    "\n",
    "    if model.size == 0:\n",
    "        raise ValueError(\"No overlapping valid data between the two datasets.\")\n",
    "\n",
    "    corr = np.corrcoef(model, obs)[0, 1]\n",
    "    std_model = np.std(model)\n",
    "    std_obs   = np.std(obs)\n",
    "    rmsd = np.sqrt(np.mean((model - obs - (np.mean(model) - np.mean(obs)))**2))\n",
    "\n",
    "    return {\n",
    "        \"corr\": corr,\n",
    "        \"std_model\": std_model,\n",
    "        \"std_obs\": std_obs,\n",
    "        \"std_ratio\": std_model / std_obs,\n",
    "        \"rmsd\": rmsd,\n",
    "        \"rmsd_norm\": rmsd / std_obs\n",
    "    }"
   ]
  },
  {
   "cell_type": "code",
   "execution_count": 39,
   "id": "f8321dda-5926-4cba-a5ae-1c3ff532a3d6",
   "metadata": {},
   "outputs": [
    {
     "name": "stderr",
     "output_type": "stream",
     "text": [
      "/g/data/xp65/public/apps/med_conda/envs/analysis3-25.05/lib/python3.11/site-packages/distributed/client.py:3363: UserWarning: Sending large graph of size 132.87 MiB.\n",
      "This may cause some slowdown.\n",
      "Consider loading the data with Dask directly\n",
      " or using futures or delayed objects to embed the data into the graph without repetition.\n",
      "See also https://docs.dask.org/en/stable/best-practices.html#load-data-with-dask for more information.\n",
      "  warnings.warn(\n",
      "/g/data/xp65/public/apps/med_conda/envs/analysis3-25.05/lib/python3.11/site-packages/distributed/client.py:3363: UserWarning: Sending large graph of size 25.25 MiB.\n",
      "This may cause some slowdown.\n",
      "Consider loading the data with Dask directly\n",
      " or using futures or delayed objects to embed the data into the graph without repetition.\n",
      "See also https://docs.dask.org/en/stable/best-practices.html#load-data-with-dask for more information.\n",
      "  warnings.warn(\n",
      "/g/data/xp65/public/apps/med_conda/envs/analysis3-25.05/lib/python3.11/site-packages/distributed/client.py:3363: UserWarning: Sending large graph of size 131.85 MiB.\n",
      "This may cause some slowdown.\n",
      "Consider loading the data with Dask directly\n",
      " or using futures or delayed objects to embed the data into the graph without repetition.\n",
      "See also https://docs.dask.org/en/stable/best-practices.html#load-data-with-dask for more information.\n",
      "  warnings.warn(\n",
      "/g/data/xp65/public/apps/med_conda/envs/analysis3-25.05/lib/python3.11/site-packages/distributed/client.py:3363: UserWarning: Sending large graph of size 131.86 MiB.\n",
      "This may cause some slowdown.\n",
      "Consider loading the data with Dask directly\n",
      " or using futures or delayed objects to embed the data into the graph without repetition.\n",
      "See also https://docs.dask.org/en/stable/best-practices.html#load-data-with-dask for more information.\n",
      "  warnings.warn(\n"
     ]
    }
   ],
   "source": [
    "stats_cice_obs  = compute_taylor_stats_streaming(da_cice, da_obs)\n",
    "stats_aom2_obs  = compute_taylor_stats_streaming(da_aom2, da_obs)\n",
    "stats_cice_aom2 = compute_taylor_stats_streaming(da_cice, da_aom2)"
   ]
  },
  {
   "cell_type": "code",
   "execution_count": 40,
   "id": "7bf6de8a-c0cb-4f66-9e51-7081cfdbe1b6",
   "metadata": {},
   "outputs": [],
   "source": [
    "def plot_taylor(stats_dict, out_path):\n",
    "    fig = plt.figure(figsize=(6, 6))\n",
    "    ax = fig.add_subplot(111, polar=True)\n",
    "    ax.set_theta_zero_location('E')\n",
    "    ax.set_theta_direction(-1)\n",
    "\n",
    "    for rms in [0.2, 0.5, 1.0, 1.5]:\n",
    "        rs = np.linspace(0.5, 2.0, 500)\n",
    "        theta = np.arccos(np.clip(1 - (rms**2 - 1)/(2 * rs), -1, 1))\n",
    "        ax.plot(theta, rs, '--', color='gray', lw=0.6)\n",
    "    ax.plot([0], [1], 'ko', label='Reference')\n",
    "\n",
    "    for label, stat in stats_dict.items():\n",
    "        angle = np.arccos(stat[\"corr\"])\n",
    "        r = stat[\"std_ratio\"]\n",
    "        ax.plot(angle, r, 'o', label=label)\n",
    "\n",
    "    ax.set_rmax(2)\n",
    "    ax.set_rticks([0.5, 1.0, 1.5, 2.0])\n",
    "    ax.set_rlabel_position(135)\n",
    "    ax.set_title(\"Taylor Diagram: Sea Ice Speed Comparison\", fontsize=12)\n",
    "    ax.legend(loc='upper right', bbox_to_anchor=(1.45, 1.1))\n",
    "    plt.tight_layout()\n",
    "    plt.savefig(out_path)\n",
    "    plt.close()"
   ]
  },
  {
   "cell_type": "code",
   "execution_count": 42,
   "id": "d3adeca3-5ce5-46fc-baa8-17b06240197e",
   "metadata": {},
   "outputs": [
    {
     "data": {
      "text/plain": [
       "{'corr': 0.8948484480130919,\n",
       " 'std_model': 0.05573553,\n",
       " 'std_obs': 6.157805558673686e-05,\n",
       " 'std_ratio': 905.1199804543752,\n",
       " 'rmsd': 0.055689905401475864,\n",
       " 'rmsd_norm': 904.3790823020202}"
      ]
     },
     "execution_count": 42,
     "metadata": {},
     "output_type": "execute_result"
    }
   ],
   "source": [
    "stats_cice_obs"
   ]
  },
  {
   "cell_type": "code",
   "execution_count": 43,
   "id": "ffb4b1ea-aa84-466e-a0a5-176476f8e51c",
   "metadata": {},
   "outputs": [],
   "source": [
    "plot_taylor(\n",
    "    {\"CICE vs OSI-SAF\": stats_cice_obs},\n",
    "    os.path.join(\"/g/data/gv90/da1339/GRAPHICAL/AFIM/taylor_diagram\", \"elps-min_taylor_diagram_seaice_speed.png\")\n",
    ")"
   ]
  },
  {
   "cell_type": "code",
   "execution_count": 44,
   "id": "fc2089c4-f902-437d-a0be-921d88c9cda3",
   "metadata": {},
   "outputs": [],
   "source": [
    "da_obs = da_obs * 1000  # e.g. convert cm/s → m/s if needed\n",
    "da_o"
   ]
  },
  {
   "cell_type": "code",
   "execution_count": 21,
   "id": "c8d77695-9d7d-4167-9993-d133bc05eff4",
   "metadata": {
    "collapsed": true,
    "jupyter": {
     "outputs_hidden": true
    },
    "scrolled": true
   },
   "outputs": [
    {
     "name": "stderr",
     "output_type": "stream",
     "text": [
      "/g/data/xp65/public/apps/med_conda/envs/analysis3-25.05/lib/python3.11/site-packages/numpy/lib/function_base.py:520: RuntimeWarning: Mean of empty slice.\n",
      "  avg = a.mean(axis, **keepdims_kw)\n",
      "/g/data/xp65/public/apps/med_conda/envs/analysis3-25.05/lib/python3.11/site-packages/numpy/core/_methods.py:121: RuntimeWarning: invalid value encountered in divide\n",
      "  ret = um.true_divide(\n",
      "/g/data/xp65/public/apps/med_conda/envs/analysis3-25.05/lib/python3.11/site-packages/numpy/lib/function_base.py:2889: RuntimeWarning: Degrees of freedom <= 0 for slice\n",
      "  c = cov(x, y, rowvar, dtype=dtype)\n",
      "/g/data/xp65/public/apps/med_conda/envs/analysis3-25.05/lib/python3.11/site-packages/numpy/lib/function_base.py:2748: RuntimeWarning: divide by zero encountered in divide\n",
      "  c *= np.true_divide(1, fact)\n",
      "/g/data/xp65/public/apps/med_conda/envs/analysis3-25.05/lib/python3.11/site-packages/numpy/lib/function_base.py:2748: RuntimeWarning: invalid value encountered in multiply\n",
      "  c *= np.true_divide(1, fact)\n",
      "/g/data/xp65/public/apps/med_conda/envs/analysis3-25.05/lib/python3.11/site-packages/numpy/core/_methods.py:206: RuntimeWarning: Degrees of freedom <= 0 for slice\n",
      "  ret = _var(a, axis=axis, dtype=dtype, out=out, ddof=ddof,\n",
      "/g/data/xp65/public/apps/med_conda/envs/analysis3-25.05/lib/python3.11/site-packages/numpy/core/_methods.py:163: RuntimeWarning: invalid value encountered in divide\n",
      "  arrmean = um.true_divide(arrmean, div, out=arrmean,\n",
      "/g/data/xp65/public/apps/med_conda/envs/analysis3-25.05/lib/python3.11/site-packages/numpy/core/_methods.py:198: RuntimeWarning: invalid value encountered in divide\n",
      "  ret = ret.dtype.type(ret / rcount)\n",
      "/g/data/xp65/public/apps/med_conda/envs/analysis3-25.05/lib/python3.11/site-packages/numpy/core/_methods.py:198: RuntimeWarning: invalid value encountered in scalar divide\n",
      "  ret = ret.dtype.type(ret / rcount)\n",
      "/g/data/xp65/public/apps/med_conda/envs/analysis3-25.05/lib/python3.11/site-packages/numpy/core/fromnumeric.py:3504: RuntimeWarning: Mean of empty slice.\n",
      "  return _methods._mean(a, axis=axis, dtype=dtype,\n",
      "/g/data/xp65/public/apps/med_conda/envs/analysis3-25.05/lib/python3.11/site-packages/numpy/core/_methods.py:129: RuntimeWarning: invalid value encountered in divide\n",
      "  ret = ret.dtype.type(ret / rcount)\n",
      "/g/data/xp65/public/apps/med_conda/envs/analysis3-25.05/lib/python3.11/site-packages/numpy/core/_methods.py:129: RuntimeWarning: invalid value encountered in scalar divide\n",
      "  ret = ret.dtype.type(ret / rcount)\n"
     ]
    }
   ],
   "source": [
    "stats = {\"CICE vs OSI-SAF\": compute_taylor_stats(cice_vals, obs_vals),\n",
    "         \"AOM2 vs OSI-SAF\": compute_taylor_stats(aom2_vals, obs_vals),\n",
    "         \"CICE vs AOM2\"   : compute_taylor_stats(cice_vals, aom2_vals)}"
   ]
  },
  {
   "cell_type": "code",
   "execution_count": 22,
   "id": "4cd84128-c912-4cc4-9a9c-bfe2d2d01e4c",
   "metadata": {
    "jupyter": {
     "source_hidden": true
    }
   },
   "outputs": [],
   "source": [
    "def plot_taylor(stats_dict):\n",
    "    fig = plt.figure(figsize=(6,6))\n",
    "    ax = fig.add_subplot(111, polar=True)\n",
    "\n",
    "    ax.set_theta_zero_location('E')\n",
    "    ax.set_theta_direction(-1)\n",
    "\n",
    "    # Grid for contours\n",
    "    stds = np.linspace(0, 2, 100)\n",
    "    angles = np.arccos(np.linspace(0, 1, 100))\n",
    "    for rms in [0.2, 0.5, 1.0, 1.5]:\n",
    "        rs = np.linspace(0, 2, 500)\n",
    "        theta = np.arccos(np.clip(1 - (rms**2 - 1) / (2 * rs), -1, 1))\n",
    "        ax.plot(theta, rs, ls='--', color='gray', lw=0.7)\n",
    "\n",
    "    # Add reference point at (1, 0°)\n",
    "    ax.plot([0], [1], 'ko', label='Reference')\n",
    "\n",
    "    # Plot each dataset\n",
    "    for label, (corr, std_ratio, rmsd_ratio) in stats_dict.items():\n",
    "        angle = np.arccos(corr)\n",
    "        ax.plot(angle, std_ratio, 'o', label=label)\n",
    "\n",
    "    ax.set_rmax(2)\n",
    "    ax.set_rticks([0.5, 1.0, 1.5, 2.0])\n",
    "    ax.set_rlabel_position(135)\n",
    "    ax.set_title(\"Taylor Diagram: Sea Ice Speed Comparison\", fontsize=12)\n",
    "    ax.legend(loc='upper right', bbox_to_anchor=(1.5, 1.1))\n",
    "    plt.tight_layout()\n",
    "    plt.show()"
   ]
  },
  {
   "cell_type": "code",
   "execution_count": 104,
   "id": "1a6bb4b0-1b90-4760-9179-fbd050015921",
   "metadata": {},
   "outputs": [
    {
     "data": {
      "text/plain": [
       "<matplotlib.collections.QuadMesh at 0x14eaa4e17450>"
      ]
     },
     "execution_count": 104,
     "metadata": {},
     "output_type": "execute_result"
    },
    {
     "data": {
      "image/png": "[encoded data removed]",
      "text/plain": [
       "<Figure size 640x480 with 2 Axes>"
      ]
     },
     "metadata": {},
     "output_type": "display_data"
    }
   ],
   "source": [
    "DS['FI_mask'].isel(time=200).plot()"
   ]
  },
  {
   "cell_type": "code",
   "execution_count": null,
   "id": "a204d9b6-8b32-4229-991c-0fe1ea8d1498",
   "metadata": {
    "jupyter": {
     "source_hidden": true
    }
   },
   "outputs": [],
   "source": [
    "G_CMEMS     = xr.open_dataset(\"/g/data/gv90/da1339/grids/GLORYS/CMEMS_0p083_grid.nc\")#.rename_dims({'longitude':'lon','latitude':'lat'})\n",
    "CMEMS_SI    = xr.open_mfdataset(\"/g/data/gv90/da1339/SeaIce/CMEMS/0p083/daily/199*_CMEMS*_org.nc\",combine='by_coords', chunks={'time': 1})\n",
    "sim_name   = \"elps-min\"\n",
    "dt0_str    = \"1993-01-01\"\n",
    "dtN_str    = \"1999-12-31\"\n",
    "SI_tools   = SeaIceToolbox(sim_name             = sim_name,\n",
    "                           dt0_str              = dt0_str,\n",
    "                           dtN_str              = dtN_str,\n",
    "                           overwrite_zarr       = True,\n",
    "                           save_new_figs        = True,\n",
    "                           show_figs            = True,\n",
    "                           overwrite_saved_figs = True)\n",
    "SI_tools.load_bgrid()\n",
    "grid_src = {\"lon\": G_CMEMS[\"longitude\"],\n",
    "            \"lat\": G_CMEMS[\"latitude\"]}\n",
    "grid_dst = {\"lon\": SI_tools.G_t[\"lon\"],\n",
    "            \"lat\": SI_tools.G_t[\"lat\"]}\n",
    "reG      = xe.Regridder(grid_src, grid_dst, method=\"bilinear\", periodic=True, reuse_weights=True, weights=\"/g/data/gv90/da1339/grids/weights/CMEMS-ORAS-0p083_to_AOM2-025_tgrid_bil.nc\")\n",
    "\n",
    "\n",
    "# Optional: Initialize local Dask cluster\n",
    "# cluster = LocalCluster(n_workers=4, threads_per_worker=1, memory_limit='4GB')\n",
    "# client = Client(cluster)\n",
    "outpath = \"/g/data/gv90/da1339/SeaIce/CMEMS/0p083/daily/reG_CMEMS-ORAS-SI_1993-1999.zarr\"\n",
    "variables = ['siconc', 'sithick', 'usi', 'vsi']\n",
    "batch_size = 15\n",
    "n_time = CMEMS_SI.sizes[\"time\"]\n",
    "n_batches = n_time // batch_size + (1 if n_time % batch_size else 0)\n",
    "print(f\"Processing {n_time} timesteps in {n_batches} batches of size {batch_size}\")\n",
    "for i in range(n_batches):\n",
    "    t_loop_start = time.time()\n",
    "    t0 = i * batch_size\n",
    "    t1 = min(t0 + batch_size, n_time)\n",
    "    times = CMEMS_SI.isel(time=slice(t0, t1)).time.values\n",
    "    print(f\"\\nBatch {i+1}/{n_batches}: Regridding time {t0}:{t1} ({times[0]} to {times[-1]})\")\n",
    "    regridded_vars = {}\n",
    "    for var in variables:\n",
    "        t_var_start = time.time()\n",
    "        print(f\"  Regridding {var}... \", end=\"\")\n",
    "        sliced = CMEMS_SI[var].isel(time=slice(t0, t1)).load()\n",
    "        regridded = reG(sliced)  # expects shape (time, nj, ni)\n",
    "        regridded[\"time\"] = times\n",
    "        regridded_vars[var] = regridded\n",
    "        print(f\"{time.time() - t_var_start:.2f}s\")\n",
    "    usi, vsi = regridded_vars[\"usi\"], regridded_vars[\"vsi\"]\n",
    "    ispd = (usi ** 2 + vsi ** 2) ** 0.5\n",
    "    ispd[\"time\"] = times\n",
    "    ispd.attrs = {\"long_name\": \"ice speed\", \"units\": \"m/s\"}\n",
    "    regridded_vars[\"ispd\"] = ispd\n",
    "    ds_out = xr.Dataset(regridded_vars).chunk({\"time\": batch_size})\n",
    "    print(\"  Writing to Zarr... \", end=\"\")\n",
    "    t_write_start = time.time()\n",
    "    with ProgressBar():\n",
    "        if i == 0:\n",
    "            ds_out.to_zarr(outpath, mode='w', consolidated=False)\n",
    "        else:\n",
    "            ds_out.to_zarr(outpath, mode='a', append_dim='time', consolidated=False)\n",
    "    print(f\"{time.time() - t_write_start:.2f}s\")\n",
    "    print(f\"Batch {i+1} complete in {time.time() - t_loop_start:.2f}s\")\n",
    "print(\"✅ All batches regridded and saved.\")"
   ]
  },
  {
   "cell_type": "code",
   "execution_count": null,
   "id": "5cb7cebb-b779-4d53-8b24-ab4317e82b91",
   "metadata": {},
   "outputs": [],
   "source": [
    "reG_oras = xr.open_zarr(\"/g/data/gv90/da1339/SeaIce/CMEMS/0p083/daily/reG_CMEMS-ORAS-SI_1993-1999.zarr\")"
   ]
  },
  {
   "cell_type": "code",
   "execution_count": null,
   "id": "8a0d522b-4fb3-49a7-bdfe-1bce9bed05bd",
   "metadata": {},
   "outputs": [],
   "source": [
    "sim_name   = \"elps-min\"\n",
    "dt0_str    = \"2000-01-01\"\n",
    "dtN_str    = \"2018-12-31\"\n",
    "SI_tools   = SeaIceToolbox(sim_name             = sim_name,\n",
    "                           dt0_str              = dt0_str,\n",
    "                           dtN_str              = dtN_str,\n",
    "                           overwrite_zarr       = True,\n",
    "                           save_new_figs        = True,\n",
    "                           show_figs            = True,\n",
    "                           overwrite_saved_figs = True)\n",
    "DS, CICE    = SI_tools.load_processed_cice(zarr_CICE = True)\n",
    "FI_obs               = SI_tools.load_AF2020db()\n",
    "bool_mask            = SI_tools.boolean_fast_ice( DS['FI_mask'] )"
   ]
  },
  {
   "cell_type": "code",
   "execution_count": 107,
   "id": "ddda5e7d-1bd1-45d8-8fba-8b4e257766e2",
   "metadata": {
    "collapsed": true,
    "jupyter": {
     "outputs_hidden": true
    }
   },
   "outputs": [
    {
     "name": "stderr",
     "output_type": "stream",
     "text": [
      "/g/data/xp65/public/apps/med_conda/envs/analysis3-25.05/lib/python3.11/site-packages/distributed/client.py:3363: UserWarning: Sending large graph of size 10.96 MiB.\n",
      "This may cause some slowdown.\n",
      "Consider loading the data with Dask directly\n",
      " or using futures or delayed objects to embed the data into the graph without repetition.\n",
      "See also https://docs.dask.org/en/stable/best-practices.html#load-data-with-dask for more information.\n",
      "  warnings.warn(\n",
      "/g/data/xp65/public/apps/med_conda/envs/analysis3-25.05/lib/python3.11/site-packages/distributed/client.py:3363: UserWarning: Sending large graph of size 10.96 MiB.\n",
      "This may cause some slowdown.\n",
      "Consider loading the data with Dask directly\n",
      " or using futures or delayed objects to embed the data into the graph without repetition.\n",
      "See also https://docs.dask.org/en/stable/best-practices.html#load-data-with-dask for more information.\n",
      "  warnings.warn(\n",
      "/g/data/xp65/public/apps/med_conda/envs/analysis3-25.05/lib/python3.11/site-packages/distributed/client.py:3363: UserWarning: Sending large graph of size 10.96 MiB.\n",
      "This may cause some slowdown.\n",
      "Consider loading the data with Dask directly\n",
      " or using futures or delayed objects to embed the data into the graph without repetition.\n",
      "See also https://docs.dask.org/en/stable/best-practices.html#load-data-with-dask for more information.\n",
      "  warnings.warn(\n",
      "/g/data/xp65/public/apps/med_conda/envs/analysis3-25.05/lib/python3.11/site-packages/distributed/client.py:3363: UserWarning: Sending large graph of size 10.96 MiB.\n",
      "This may cause some slowdown.\n",
      "Consider loading the data with Dask directly\n",
      " or using futures or delayed objects to embed the data into the graph without repetition.\n",
      "See also https://docs.dask.org/en/stable/best-practices.html#load-data-with-dask for more information.\n",
      "  warnings.warn(\n",
      "2025-07-03 16:05:26,459 - INFO - ✅ Aligned model output to 456 obs windows\n",
      "INFO:elps-min:✅ Aligned model output to 456 obs windows\n"
     ]
    }
   ],
   "source": [
    "CICE_SO              = CICE.isel(nj=SI_tools.hemisphere_dict['nj_slice'])\n",
    "CICE_bool            = CICE_SO.where(bool_mask)\n",
    "CICE_bool['FI_mask'] = bool_mask\n",
    "CICE_coar            = SI_tools.coarsen_and_align_simulated_FI_to_observed_FI(CICE_bool, FI_obs)\n",
    "CICE_coar['FI_mask'] = CICE_coar['FI_mask'].astype(bool).astype(int)"
   ]
  },
  {
   "cell_type": "code",
   "execution_count": 108,
   "id": "73722af5-00b2-422b-955a-64a0bec68351",
   "metadata": {},
   "outputs": [
    {
     "name": "stderr",
     "output_type": "stream",
     "text": [
      "/g/data/xp65/public/apps/med_conda/envs/analysis3-25.05/lib/python3.11/site-packages/dask/array/core.py:4998: PerformanceWarning: Increasing number of chunks by factor of 11\n",
      "  result = blockwise(\n"
     ]
    }
   ],
   "source": [
    "FI_obs_SO     = FI_obs.isel(nj=SI_tools.hemisphere_dict['nj_slice'])\n",
    "FI_obs_raw    = FI_obs_SO['FI']\n",
    "FI_sim_raw    = CICE_coar['FI_mask']\n",
    "FI_obs_bin    = FI_obs_raw.where(FI_obs_raw.notnull()) > 0\n",
    "FI_sim_bin    = FI_sim_raw.where(FI_sim_raw == 1)             # True/NaN\n",
    "shared_mask   = (FI_obs_bin == True).any(dim=\"t_FI_obs\") | (FI_sim_bin == True).any(dim=\"t_FI_obs\")\n",
    "FI_obs_masked = FI_obs_bin.where(shared_mask)\n",
    "FI_sim_masked = FI_sim_bin.where(shared_mask)"
   ]
  },
  {
   "cell_type": "code",
   "execution_count": 109,
   "id": "1317a80b-1733-472c-b14f-053df8925dc9",
   "metadata": {},
   "outputs": [],
   "source": [
    "FIP_obs = SI_tools.compute_variable_aggregate( FI_obs_bin, time_coord_name='t_FI_obs' )\n",
    "FIP_sim = SI_tools.compute_variable_aggregate( FI_sim_bin, time_coord_name='t_FI_obs' )\n",
    "shared_mask = (FI_obs_bin == True).any(dim=\"t_FI_obs\") | (FI_sim_bin == True).any(dim=\"t_FI_obs\")\n",
    "FIP_obs = FIP_obs.where(shared_mask).compute()\n",
    "FIP_sim = FIP_sim.where(shared_mask).compute()\n",
    "FIP_obs = FIP_obs.assign_coords({\"TLAT\": CICE_coar[\"TLAT\"], \"TLON\": CICE_coar[\"TLON\"]})\n",
    "FIP_sim = FIP_sim.assign_coords({\"TLAT\": CICE_coar[\"TLAT\"], \"TLON\": CICE_coar[\"TLON\"]})"
   ]
  },
  {
   "cell_type": "code",
   "execution_count": 53,
   "id": "6481871d-3f0f-4702-877d-9bb0fe795a53",
   "metadata": {
    "collapsed": true,
    "jupyter": {
     "outputs_hidden": true
    }
   },
   "outputs": [
    {
     "data": {
      "text/html": [
       "<div><svg style=\"position: absolute; width: 0; height: 0; overflow: hidden\">\n",
       "<defs>\n",
       "<symbol id=\"icon-database\" viewBox=\"0 0 32 32\">\n",
       "<path d=\"M16 0c-8.837 0-16 2.239-16 5v4c0 2.761 7.163 5 16 5s16-2.239 16-5v-4c0-2.761-7.163-5-16-5z\"></path>\n",
       "<path d=\"M16 17c-8.837 0-16-2.239-16-5v6c0 2.761 7.163 5 16 5s16-2.239 16-5v-6c0 2.761-7.163 5-16 5z\"></path>\n",
       "<path d=\"M16 26c-8.837 0-16-2.239-16-5v6c0 2.761 7.163 5 16 5s16-2.239 16-5v-6c0 2.761-7.163 5-16 5z\"></path>\n",
       "</symbol>\n",
       "<symbol id=\"icon-file-text2\" viewBox=\"0 0 32 32\">\n",
       "<path d=\"M28.681 7.159c-0.694-0.947-1.662-2.053-2.724-3.116s-2.169-2.030-3.116-2.724c-1.612-1.182-2.393-1.319-2.841-1.319h-15.5c-1.378 0-2.5 1.121-2.5 2.5v27c0 1.378 1.122 2.5 2.5 2.5h23c1.378 0 2.5-1.122 2.5-2.5v-19.5c0-0.448-0.137-1.23-1.319-2.841zM24.543 5.457c0.959 0.959 1.712 1.825 2.268 2.543h-4.811v-4.811c0.718 0.556 1.584 1.309 2.543 2.268zM28 29.5c0 0.271-0.229 0.5-0.5 0.5h-23c-0.271 0-0.5-0.229-0.5-0.5v-27c0-0.271 0.229-0.5 0.5-0.5 0 0 15.499-0 15.5 0v7c0 0.552 0.448 1 1 1h7v19.5z\"></path>\n",
       "<path d=\"M23 26h-14c-0.552 0-1-0.448-1-1s0.448-1 1-1h14c0.552 0 1 0.448 1 1s-0.448 1-1 1z\"></path>\n",
       "<path d=\"M23 22h-14c-0.552 0-1-0.448-1-1s0.448-1 1-1h14c0.552 0 1 0.448 1 1s-0.448 1-1 1z\"></path>\n",
       "<path d=\"M23 18h-14c-0.552 0-1-0.448-1-1s0.448-1 1-1h14c0.552 0 1 0.448 1 1s-0.448 1-1 1z\"></path>\n",
       "</symbol>\n",
       "</defs>\n",
       "</svg>\n",
       "<style>/* CSS stylesheet for displaying xarray objects in jupyterlab.\n",
       " *\n",
       " */\n",
       "\n",
       ":root {\n",
       "  --xr-font-color0: var(--jp-content-font-color0, rgba(0, 0, 0, 1));\n",
       "  --xr-font-color2: var(--jp-content-font-color2, rgba(0, 0, 0, 0.54));\n",
       "  --xr-font-color3: var(--jp-content-font-color3, rgba(0, 0, 0, 0.38));\n",
       "  --xr-border-color: var(--jp-border-color2, #e0e0e0);\n",
       "  --xr-disabled-color: var(--jp-layout-color3, #bdbdbd);\n",
       "  --xr-background-color: var(--jp-layout-color0, white);\n",
       "  --xr-background-color-row-even: var(--jp-layout-color1, white);\n",
       "  --xr-background-color-row-odd: var(--jp-layout-color2, #eeeeee);\n",
       "}\n",
       "\n",
       "html[theme=\"dark\"],\n",
       "html[data-theme=\"dark\"],\n",
       "body[data-theme=\"dark\"],\n",
       "body.vscode-dark {\n",
       "  --xr-font-color0: rgba(255, 255, 255, 1);\n",
       "  --xr-font-color2: rgba(255, 255, 255, 0.54);\n",
       "  --xr-font-color3: rgba(255, 255, 255, 0.38);\n",
       "  --xr-border-color: #1f1f1f;\n",
       "  --xr-disabled-color: #515151;\n",
       "  --xr-background-color: #111111;\n",
       "  --xr-background-color-row-even: #111111;\n",
       "  --xr-background-color-row-odd: #313131;\n",
       "}\n",
       "\n",
       ".xr-wrap {\n",
       "  display: block !important;\n",
       "  min-width: 300px;\n",
       "  max-width: 700px;\n",
       "}\n",
       "\n",
       ".xr-text-repr-fallback {\n",
       "  /* fallback to plain text repr when CSS is not injected (untrusted notebook) */\n",
       "  display: none;\n",
       "}\n",
       "\n",
       ".xr-header {\n",
       "  padding-top: 6px;\n",
       "  padding-bottom: 6px;\n",
       "  margin-bottom: 4px;\n",
       "  border-bottom: solid 1px var(--xr-border-color);\n",
       "}\n",
       "\n",
       ".xr-header > div,\n",
       ".xr-header > ul {\n",
       "  display: inline;\n",
       "  margin-top: 0;\n",
       "  margin-bottom: 0;\n",
       "}\n",
       "\n",
       ".xr-obj-type,\n",
       ".xr-array-name {\n",
       "  margin-left: 2px;\n",
       "  margin-right: 10px;\n",
       "}\n",
       "\n",
       ".xr-obj-type {\n",
       "  color: var(--xr-font-color2);\n",
       "}\n",
       "\n",
       ".xr-sections {\n",
       "  padding-left: 0 !important;\n",
       "  display: grid;\n",
       "  grid-template-columns: 150px auto auto 1fr 0 20px 0 20px;\n",
       "}\n",
       "\n",
       ".xr-section-item {\n",
       "  display: contents;\n",
       "}\n",
       "\n",
       ".xr-section-item input {\n",
       "  display: inline-block;\n",
       "  opacity: 0;\n",
       "  height: 0;\n",
       "}\n",
       "\n",
       ".xr-section-item input + label {\n",
       "  color: var(--xr-disabled-color);\n",
       "}\n",
       "\n",
       ".xr-section-item input:enabled + label {\n",
       "  cursor: pointer;\n",
       "  color: var(--xr-font-color2);\n",
       "}\n",
       "\n",
       ".xr-section-item input:focus + label {\n",
       "  border: 2px solid var(--xr-font-color0);\n",
       "}\n",
       "\n",
       ".xr-section-item input:enabled + label:hover {\n",
       "  color: var(--xr-font-color0);\n",
       "}\n",
       "\n",
       ".xr-section-summary {\n",
       "  grid-column: 1;\n",
       "  color: var(--xr-font-color2);\n",
       "  font-weight: 500;\n",
       "}\n",
       "\n",
       ".xr-section-summary > span {\n",
       "  display: inline-block;\n",
       "  padding-left: 0.5em;\n",
       "}\n",
       "\n",
       ".xr-section-summary-in:disabled + label {\n",
       "  color: var(--xr-font-color2);\n",
       "}\n",
       "\n",
       ".xr-section-summary-in + label:before {\n",
       "  display: inline-block;\n",
       "  content: \"►\";\n",
       "  font-size: 11px;\n",
       "  width: 15px;\n",
       "  text-align: center;\n",
       "}\n",
       "\n",
       ".xr-section-summary-in:disabled + label:before {\n",
       "  color: var(--xr-disabled-color);\n",
       "}\n",
       "\n",
       ".xr-section-summary-in:checked + label:before {\n",
       "  content: \"▼\";\n",
       "}\n",
       "\n",
       ".xr-section-summary-in:checked + label > span {\n",
       "  display: none;\n",
       "}\n",
       "\n",
       ".xr-section-summary,\n",
       ".xr-section-inline-details {\n",
       "  padding-top: 4px;\n",
       "  padding-bottom: 4px;\n",
       "}\n",
       "\n",
       ".xr-section-inline-details {\n",
       "  grid-column: 2 / -1;\n",
       "}\n",
       "\n",
       ".xr-section-details {\n",
       "  display: none;\n",
       "  grid-column: 1 / -1;\n",
       "  margin-bottom: 5px;\n",
       "}\n",
       "\n",
       ".xr-section-summary-in:checked ~ .xr-section-details {\n",
       "  display: contents;\n",
       "}\n",
       "\n",
       ".xr-array-wrap {\n",
       "  grid-column: 1 / -1;\n",
       "  display: grid;\n",
       "  grid-template-columns: 20px auto;\n",
       "}\n",
       "\n",
       ".xr-array-wrap > label {\n",
       "  grid-column: 1;\n",
       "  vertical-align: top;\n",
       "}\n",
       "\n",
       ".xr-preview {\n",
       "  color: var(--xr-font-color3);\n",
       "}\n",
       "\n",
       ".xr-array-preview,\n",
       ".xr-array-data {\n",
       "  padding: 0 5px !important;\n",
       "  grid-column: 2;\n",
       "}\n",
       "\n",
       ".xr-array-data,\n",
       ".xr-array-in:checked ~ .xr-array-preview {\n",
       "  display: none;\n",
       "}\n",
       "\n",
       ".xr-array-in:checked ~ .xr-array-data,\n",
       ".xr-array-preview {\n",
       "  display: inline-block;\n",
       "}\n",
       "\n",
       ".xr-dim-list {\n",
       "  display: inline-block !important;\n",
       "  list-style: none;\n",
       "  padding: 0 !important;\n",
       "  margin: 0;\n",
       "}\n",
       "\n",
       ".xr-dim-list li {\n",
       "  display: inline-block;\n",
       "  padding: 0;\n",
       "  margin: 0;\n",
       "}\n",
       "\n",
       ".xr-dim-list:before {\n",
       "  content: \"(\";\n",
       "}\n",
       "\n",
       ".xr-dim-list:after {\n",
       "  content: \")\";\n",
       "}\n",
       "\n",
       ".xr-dim-list li:not(:last-child):after {\n",
       "  content: \",\";\n",
       "  padding-right: 5px;\n",
       "}\n",
       "\n",
       ".xr-has-index {\n",
       "  font-weight: bold;\n",
       "}\n",
       "\n",
       ".xr-var-list,\n",
       ".xr-var-item {\n",
       "  display: contents;\n",
       "}\n",
       "\n",
       ".xr-var-item > div,\n",
       ".xr-var-item label,\n",
       ".xr-var-item > .xr-var-name span {\n",
       "  background-color: var(--xr-background-color-row-even);\n",
       "  margin-bottom: 0;\n",
       "}\n",
       "\n",
       ".xr-var-item > .xr-var-name:hover span {\n",
       "  padding-right: 5px;\n",
       "}\n",
       "\n",
       ".xr-var-list > li:nth-child(odd) > div,\n",
       ".xr-var-list > li:nth-child(odd) > label,\n",
       ".xr-var-list > li:nth-child(odd) > .xr-var-name span {\n",
       "  background-color: var(--xr-background-color-row-odd);\n",
       "}\n",
       "\n",
       ".xr-var-name {\n",
       "  grid-column: 1;\n",
       "}\n",
       "\n",
       ".xr-var-dims {\n",
       "  grid-column: 2;\n",
       "}\n",
       "\n",
       ".xr-var-dtype {\n",
       "  grid-column: 3;\n",
       "  text-align: right;\n",
       "  color: var(--xr-font-color2);\n",
       "}\n",
       "\n",
       ".xr-var-preview {\n",
       "  grid-column: 4;\n",
       "}\n",
       "\n",
       ".xr-index-preview {\n",
       "  grid-column: 2 / 5;\n",
       "  color: var(--xr-font-color2);\n",
       "}\n",
       "\n",
       ".xr-var-name,\n",
       ".xr-var-dims,\n",
       ".xr-var-dtype,\n",
       ".xr-preview,\n",
       ".xr-attrs dt {\n",
       "  white-space: nowrap;\n",
       "  overflow: hidden;\n",
       "  text-overflow: ellipsis;\n",
       "  padding-right: 10px;\n",
       "}\n",
       "\n",
       ".xr-var-name:hover,\n",
       ".xr-var-dims:hover,\n",
       ".xr-var-dtype:hover,\n",
       ".xr-attrs dt:hover {\n",
       "  overflow: visible;\n",
       "  width: auto;\n",
       "  z-index: 1;\n",
       "}\n",
       "\n",
       ".xr-var-attrs,\n",
       ".xr-var-data,\n",
       ".xr-index-data {\n",
       "  display: none;\n",
       "  background-color: var(--xr-background-color) !important;\n",
       "  padding-bottom: 5px !important;\n",
       "}\n",
       "\n",
       ".xr-var-attrs-in:checked ~ .xr-var-attrs,\n",
       ".xr-var-data-in:checked ~ .xr-var-data,\n",
       ".xr-index-data-in:checked ~ .xr-index-data {\n",
       "  display: block;\n",
       "}\n",
       "\n",
       ".xr-var-data > table {\n",
       "  float: right;\n",
       "}\n",
       "\n",
       ".xr-var-name span,\n",
       ".xr-var-data,\n",
       ".xr-index-name div,\n",
       ".xr-index-data,\n",
       ".xr-attrs {\n",
       "  padding-left: 25px !important;\n",
       "}\n",
       "\n",
       ".xr-attrs,\n",
       ".xr-var-attrs,\n",
       ".xr-var-data,\n",
       ".xr-index-data {\n",
       "  grid-column: 1 / -1;\n",
       "}\n",
       "\n",
       "dl.xr-attrs {\n",
       "  padding: 0;\n",
       "  margin: 0;\n",
       "  display: grid;\n",
       "  grid-template-columns: 125px auto;\n",
       "}\n",
       "\n",
       ".xr-attrs dt,\n",
       ".xr-attrs dd {\n",
       "  padding: 0;\n",
       "  margin: 0;\n",
       "  float: left;\n",
       "  padding-right: 10px;\n",
       "  width: auto;\n",
       "}\n",
       "\n",
       ".xr-attrs dt {\n",
       "  font-weight: normal;\n",
       "  grid-column: 1;\n",
       "}\n",
       "\n",
       ".xr-attrs dt:hover span {\n",
       "  display: inline-block;\n",
       "  background: var(--xr-background-color);\n",
       "  padding-right: 10px;\n",
       "}\n",
       "\n",
       ".xr-attrs dd {\n",
       "  grid-column: 2;\n",
       "  white-space: pre-wrap;\n",
       "  word-break: break-all;\n",
       "}\n",
       "\n",
       ".xr-icon-database,\n",
       ".xr-icon-file-text2,\n",
       ".xr-no-icon {\n",
       "  display: inline-block;\n",
       "  vertical-align: middle;\n",
       "  width: 1em;\n",
       "  height: 1.5em !important;\n",
       "  stroke-width: 0;\n",
       "  stroke: currentColor;\n",
       "  fill: currentColor;\n",
       "}\n",
       "</style><pre class='xr-text-repr-fallback'>&lt;xarray.DataArray (nj: 540, ni: 1440)&gt; Size: 6MB\n",
       "dask.array&lt;where, shape=(540, 1440), dtype=float64, chunksize=(68, 180), chunktype=numpy.ndarray&gt;\n",
       "Coordinates:\n",
       "    lat      (nj, ni) float64 6MB -81.08 -81.08 -81.08 ... 10.32 10.32 10.32\n",
       "    lon      (nj, ni) float64 6MB -99.88 -99.62 -99.38 ... -100.6 -100.4 -100.1\n",
       "  * ni       (ni) int64 12kB 0 1 2 3 4 5 6 ... 1434 1435 1436 1437 1438 1439\n",
       "  * nj       (nj) int64 4kB 0 1 2 3 4 5 6 7 ... 532 533 534 535 536 537 538 539\n",
       "    TLAT     (nj, ni) float32 3MB -81.08 -81.08 -81.08 ... 10.32 10.32 10.32\n",
       "    TLON     (nj, ni) float32 3MB 79.88 80.12 80.38 80.62 ... 79.12 79.38 79.62\n",
       "    ULAT     (nj, ni) float32 3MB -81.02 -81.02 -81.02 ... 10.44 10.44 10.44\n",
       "    ULON     (nj, ni) float32 3MB -280.0 -279.8 -279.5 ... 79.25 79.5 79.75</pre><div class='xr-wrap' style='display:none'><div class='xr-header'><div class='xr-obj-type'>xarray.DataArray</div><div class='xr-array-name'></div><ul class='xr-dim-list'><li><span class='xr-has-index'>nj</span>: 540</li><li><span class='xr-has-index'>ni</span>: 1440</li></ul></div><ul class='xr-sections'><li class='xr-section-item'><div class='xr-array-wrap'><input id='section-6dfb16ab-c413-499c-8eac-ee9f4b8886e2' class='xr-array-in' type='checkbox' checked><label for='section-6dfb16ab-c413-499c-8eac-ee9f4b8886e2' title='Show/hide data repr'><svg class='icon xr-icon-database'><use xlink:href='#icon-database'></use></svg></label><div class='xr-array-preview xr-preview'><span>dask.array&lt;chunksize=(68, 180), meta=np.ndarray&gt;</span></div><div class='xr-array-data'><table>\n",
       "    <tr>\n",
       "        <td>\n",
       "            <table style=\"border-collapse: collapse;\">\n",
       "                <thead>\n",
       "                    <tr>\n",
       "                        <td> </td>\n",
       "                        <th> Array </th>\n",
       "                        <th> Chunk </th>\n",
       "                    </tr>\n",
       "                </thead>\n",
       "                <tbody>\n",
       "                    \n",
       "                    <tr>\n",
       "                        <th> Bytes </th>\n",
       "                        <td> 5.93 MiB </td>\n",
       "                        <td> 95.62 kiB </td>\n",
       "                    </tr>\n",
       "                    \n",
       "                    <tr>\n",
       "                        <th> Shape </th>\n",
       "                        <td> (540, 1440) </td>\n",
       "                        <td> (68, 180) </td>\n",
       "                    </tr>\n",
       "                    <tr>\n",
       "                        <th> Dask graph </th>\n",
       "                        <td colspan=\"2\"> 100 chunks in 2325 graph layers </td>\n",
       "                    </tr>\n",
       "                    <tr>\n",
       "                        <th> Data type </th>\n",
       "                        <td colspan=\"2\"> float64 numpy.ndarray </td>\n",
       "                    </tr>\n",
       "                </tbody>\n",
       "            </table>\n",
       "        </td>\n",
       "        <td>\n",
       "        <svg width=\"170\" height=\"95\" style=\"stroke:rgb(0,0,0);stroke-width:1\" >\n",
       "\n",
       "  <!-- Horizontal lines -->\n",
       "  <line x1=\"0\" y1=\"0\" x2=\"120\" y2=\"0\" style=\"stroke-width:2\" />\n",
       "  <line x1=\"0\" y1=\"5\" x2=\"120\" y2=\"5\" />\n",
       "  <line x1=\"0\" y1=\"11\" x2=\"120\" y2=\"11\" />\n",
       "  <line x1=\"0\" y1=\"15\" x2=\"120\" y2=\"15\" />\n",
       "  <line x1=\"0\" y1=\"17\" x2=\"120\" y2=\"17\" />\n",
       "  <line x1=\"0\" y1=\"22\" x2=\"120\" y2=\"22\" />\n",
       "  <line x1=\"0\" y1=\"28\" x2=\"120\" y2=\"28\" />\n",
       "  <line x1=\"0\" y1=\"30\" x2=\"120\" y2=\"30\" />\n",
       "  <line x1=\"0\" y1=\"34\" x2=\"120\" y2=\"34\" />\n",
       "  <line x1=\"0\" y1=\"39\" x2=\"120\" y2=\"39\" />\n",
       "  <line x1=\"0\" y1=\"45\" x2=\"120\" y2=\"45\" style=\"stroke-width:2\" />\n",
       "\n",
       "  <!-- Vertical lines -->\n",
       "  <line x1=\"0\" y1=\"0\" x2=\"0\" y2=\"45\" style=\"stroke-width:2\" />\n",
       "  <line x1=\"15\" y1=\"0\" x2=\"15\" y2=\"45\" />\n",
       "  <line x1=\"30\" y1=\"0\" x2=\"30\" y2=\"45\" />\n",
       "  <line x1=\"40\" y1=\"0\" x2=\"40\" y2=\"45\" />\n",
       "  <line x1=\"45\" y1=\"0\" x2=\"45\" y2=\"45\" />\n",
       "  <line x1=\"60\" y1=\"0\" x2=\"60\" y2=\"45\" />\n",
       "  <line x1=\"75\" y1=\"0\" x2=\"75\" y2=\"45\" />\n",
       "  <line x1=\"80\" y1=\"0\" x2=\"80\" y2=\"45\" />\n",
       "  <line x1=\"90\" y1=\"0\" x2=\"90\" y2=\"45\" />\n",
       "  <line x1=\"105\" y1=\"0\" x2=\"105\" y2=\"45\" />\n",
       "  <line x1=\"120\" y1=\"0\" x2=\"120\" y2=\"45\" style=\"stroke-width:2\" />\n",
       "\n",
       "  <!-- Colored Rectangle -->\n",
       "  <polygon points=\"0.0,0.0 120.0,0.0 120.0,45.0 0.0,45.0\" style=\"fill:#ECB172A0;stroke-width:0\"/>\n",
       "\n",
       "  <!-- Text -->\n",
       "  <text x=\"60.000000\" y=\"65.000000\" font-size=\"1.0rem\" font-weight=\"100\" text-anchor=\"middle\" >1440</text>\n",
       "  <text x=\"140.000000\" y=\"22.500000\" font-size=\"1.0rem\" font-weight=\"100\" text-anchor=\"middle\" transform=\"rotate(-90,140.000000,22.500000)\">540</text>\n",
       "</svg>\n",
       "        </td>\n",
       "    </tr>\n",
       "</table></div></div></li><li class='xr-section-item'><input id='section-e2b9af17-8ecf-493c-baa6-db98b8302737' class='xr-section-summary-in' type='checkbox'  checked><label for='section-e2b9af17-8ecf-493c-baa6-db98b8302737' class='xr-section-summary' >Coordinates: <span>(8)</span></label><div class='xr-section-inline-details'></div><div class='xr-section-details'><ul class='xr-var-list'><li class='xr-var-item'><div class='xr-var-name'><span>lat</span></div><div class='xr-var-dims'>(nj, ni)</div><div class='xr-var-dtype'>float64</div><div class='xr-var-preview xr-preview'>-81.08 -81.08 ... 10.32 10.32</div><input id='attrs-842b7412-b63c-4d5b-acd2-2006bc41192b' class='xr-var-attrs-in' type='checkbox' ><label for='attrs-842b7412-b63c-4d5b-acd2-2006bc41192b' title='Show/Hide attributes'><svg class='icon xr-icon-file-text2'><use xlink:href='#icon-file-text2'></use></svg></label><input id='data-a3e08944-4326-4b37-a624-ce6deb9251e9' class='xr-var-data-in' type='checkbox'><label for='data-a3e08944-4326-4b37-a624-ce6deb9251e9' title='Show/Hide data repr'><svg class='icon xr-icon-database'><use xlink:href='#icon-database'></use></svg></label><div class='xr-var-attrs'><dl class='xr-attrs'><dt><span>long_name :</span></dt><dd>latitude</dd><dt><span>units :</span></dt><dd>degrees_north</dd></dl></div><div class='xr-var-data'><pre>array([[-81.07700083, -81.07700083, -81.07700083, ..., -81.07700083,\n",
       "        -81.07700083, -81.07700083],\n",
       "       [-80.97140224, -80.97140224, -80.97140224, ..., -80.97140224,\n",
       "        -80.97140224, -80.97140224],\n",
       "       [-80.86580366, -80.86580366, -80.86580366, ..., -80.86580366,\n",
       "        -80.86580366, -80.86580366],\n",
       "       ...,\n",
       "       [  9.82650112,   9.82650112,   9.82650112, ...,   9.82650112,\n",
       "          9.82650112,   9.82650112],\n",
       "       [ 10.07274107,  10.07274107,  10.07274107, ...,  10.07274107,\n",
       "         10.07274107,  10.07274107],\n",
       "       [ 10.31879437,  10.31879437,  10.31879437, ...,  10.31879437,\n",
       "         10.31879437,  10.31879437]])</pre></div></li><li class='xr-var-item'><div class='xr-var-name'><span>lon</span></div><div class='xr-var-dims'>(nj, ni)</div><div class='xr-var-dtype'>float64</div><div class='xr-var-preview xr-preview'>-99.88 -99.62 ... -100.4 -100.1</div><input id='attrs-6e7a7482-9edf-44c3-a7b3-5dfe19f1f8aa' class='xr-var-attrs-in' type='checkbox' ><label for='attrs-6e7a7482-9edf-44c3-a7b3-5dfe19f1f8aa' title='Show/Hide attributes'><svg class='icon xr-icon-file-text2'><use xlink:href='#icon-file-text2'></use></svg></label><input id='data-bb1ce8cc-fd75-4e31-a089-1a0609397ba6' class='xr-var-data-in' type='checkbox'><label for='data-bb1ce8cc-fd75-4e31-a089-1a0609397ba6' title='Show/Hide data repr'><svg class='icon xr-icon-database'><use xlink:href='#icon-database'></use></svg></label><div class='xr-var-attrs'><dl class='xr-attrs'><dt><span>long_name :</span></dt><dd>longitude</dd><dt><span>units :</span></dt><dd>degrees_east</dd></dl></div><div class='xr-var-data'><pre>array([[ -99.875,  -99.625,  -99.375, ..., -100.625, -100.375, -100.125],\n",
       "       [ -99.875,  -99.625,  -99.375, ..., -100.625, -100.375, -100.125],\n",
       "       [ -99.875,  -99.625,  -99.375, ..., -100.625, -100.375, -100.125],\n",
       "       ...,\n",
       "       [ -99.875,  -99.625,  -99.375, ..., -100.625, -100.375, -100.125],\n",
       "       [ -99.875,  -99.625,  -99.375, ..., -100.625, -100.375, -100.125],\n",
       "       [ -99.875,  -99.625,  -99.375, ..., -100.625, -100.375, -100.125]])</pre></div></li><li class='xr-var-item'><div class='xr-var-name'><span class='xr-has-index'>ni</span></div><div class='xr-var-dims'>(ni)</div><div class='xr-var-dtype'>int64</div><div class='xr-var-preview xr-preview'>0 1 2 3 4 ... 1436 1437 1438 1439</div><input id='attrs-e20c8c9c-2924-42f2-b3ec-0eb1a7d68863' class='xr-var-attrs-in' type='checkbox' disabled><label for='attrs-e20c8c9c-2924-42f2-b3ec-0eb1a7d68863' title='Show/Hide attributes'><svg class='icon xr-icon-file-text2'><use xlink:href='#icon-file-text2'></use></svg></label><input id='data-94a92185-ca62-492e-b3e6-c6db6de149b5' class='xr-var-data-in' type='checkbox'><label for='data-94a92185-ca62-492e-b3e6-c6db6de149b5' title='Show/Hide data repr'><svg class='icon xr-icon-database'><use xlink:href='#icon-database'></use></svg></label><div class='xr-var-attrs'><dl class='xr-attrs'></dl></div><div class='xr-var-data'><pre>array([   0,    1,    2, ..., 1437, 1438, 1439])</pre></div></li><li class='xr-var-item'><div class='xr-var-name'><span class='xr-has-index'>nj</span></div><div class='xr-var-dims'>(nj)</div><div class='xr-var-dtype'>int64</div><div class='xr-var-preview xr-preview'>0 1 2 3 4 5 ... 535 536 537 538 539</div><input id='attrs-912e6b07-d5d5-422c-b3f8-8ae64dcb69d3' class='xr-var-attrs-in' type='checkbox' disabled><label for='attrs-912e6b07-d5d5-422c-b3f8-8ae64dcb69d3' title='Show/Hide attributes'><svg class='icon xr-icon-file-text2'><use xlink:href='#icon-file-text2'></use></svg></label><input id='data-a2c5388a-d604-4e86-8e42-20c9f580c6dc' class='xr-var-data-in' type='checkbox'><label for='data-a2c5388a-d604-4e86-8e42-20c9f580c6dc' title='Show/Hide data repr'><svg class='icon xr-icon-database'><use xlink:href='#icon-database'></use></svg></label><div class='xr-var-attrs'><dl class='xr-attrs'></dl></div><div class='xr-var-data'><pre>array([  0,   1,   2, ..., 537, 538, 539])</pre></div></li><li class='xr-var-item'><div class='xr-var-name'><span>TLAT</span></div><div class='xr-var-dims'>(nj, ni)</div><div class='xr-var-dtype'>float32</div><div class='xr-var-preview xr-preview'>-81.08 -81.08 ... 10.32 10.32</div><input id='attrs-a842a00b-6587-49d9-9c41-490f2f80bb47' class='xr-var-attrs-in' type='checkbox' ><label for='attrs-a842a00b-6587-49d9-9c41-490f2f80bb47' title='Show/Hide attributes'><svg class='icon xr-icon-file-text2'><use xlink:href='#icon-file-text2'></use></svg></label><input id='data-38a759d8-e547-42f1-8c5a-aaa1c156f492' class='xr-var-data-in' type='checkbox'><label for='data-38a759d8-e547-42f1-8c5a-aaa1c156f492' title='Show/Hide data repr'><svg class='icon xr-icon-database'><use xlink:href='#icon-database'></use></svg></label><div class='xr-var-attrs'><dl class='xr-attrs'><dt><span>long_name :</span></dt><dd>T grid center latitude</dd><dt><span>units :</span></dt><dd>degrees_north</dd></dl></div><div class='xr-var-data'><pre>array([[-81.07702 , -81.07702 , -81.07702 , ..., -81.07702 , -81.07702 ,\n",
       "        -81.07702 ],\n",
       "       [-80.97142 , -80.97142 , -80.97142 , ..., -80.97142 , -80.97142 ,\n",
       "        -80.97142 ],\n",
       "       [-80.86582 , -80.86582 , -80.86582 , ..., -80.86582 , -80.86582 ,\n",
       "        -80.86582 ],\n",
       "       ...,\n",
       "       [  9.826478,   9.826478,   9.826478, ...,   9.826478,   9.826478,\n",
       "          9.826478],\n",
       "       [ 10.072718,  10.072718,  10.072718, ...,  10.072718,  10.072718,\n",
       "         10.072718],\n",
       "       [ 10.31877 ,  10.31877 ,  10.31877 , ...,  10.31877 ,  10.31877 ,\n",
       "         10.31877 ]], dtype=float32)</pre></div></li><li class='xr-var-item'><div class='xr-var-name'><span>TLON</span></div><div class='xr-var-dims'>(nj, ni)</div><div class='xr-var-dtype'>float32</div><div class='xr-var-preview xr-preview'>79.88 80.12 80.38 ... 79.38 79.62</div><input id='attrs-19337213-26ef-4132-b96f-79d1dbbc8e89' class='xr-var-attrs-in' type='checkbox' ><label for='attrs-19337213-26ef-4132-b96f-79d1dbbc8e89' title='Show/Hide attributes'><svg class='icon xr-icon-file-text2'><use xlink:href='#icon-file-text2'></use></svg></label><input id='data-6f05e952-c2fb-4c84-9c0c-c609b12bf6e6' class='xr-var-data-in' type='checkbox'><label for='data-6f05e952-c2fb-4c84-9c0c-c609b12bf6e6' title='Show/Hide data repr'><svg class='icon xr-icon-database'><use xlink:href='#icon-database'></use></svg></label><div class='xr-var-attrs'><dl class='xr-attrs'><dt><span>long_name :</span></dt><dd>T grid center longitude</dd><dt><span>units :</span></dt><dd>degrees_east</dd></dl></div><div class='xr-var-data'><pre>array([[79.875, 80.125, 80.375, ..., 79.125, 79.375, 79.625],\n",
       "       [79.875, 80.125, 80.375, ..., 79.125, 79.375, 79.625],\n",
       "       [79.875, 80.125, 80.375, ..., 79.125, 79.375, 79.625],\n",
       "       ...,\n",
       "       [79.875, 80.125, 80.375, ..., 79.125, 79.375, 79.625],\n",
       "       [79.875, 80.125, 80.375, ..., 79.125, 79.375, 79.625],\n",
       "       [79.875, 80.125, 80.375, ..., 79.125, 79.375, 79.625]],\n",
       "      dtype=float32)</pre></div></li><li class='xr-var-item'><div class='xr-var-name'><span>ULAT</span></div><div class='xr-var-dims'>(nj, ni)</div><div class='xr-var-dtype'>float32</div><div class='xr-var-preview xr-preview'>-81.02 -81.02 ... 10.44 10.44</div><input id='attrs-ce2903db-93c7-42fa-8d94-f806abda7aaa' class='xr-var-attrs-in' type='checkbox' ><label for='attrs-ce2903db-93c7-42fa-8d94-f806abda7aaa' title='Show/Hide attributes'><svg class='icon xr-icon-file-text2'><use xlink:href='#icon-file-text2'></use></svg></label><input id='data-8586eb95-6684-43c1-b31d-c89b39f078e4' class='xr-var-data-in' type='checkbox'><label for='data-8586eb95-6684-43c1-b31d-c89b39f078e4' title='Show/Hide data repr'><svg class='icon xr-icon-database'><use xlink:href='#icon-database'></use></svg></label><div class='xr-var-attrs'><dl class='xr-attrs'><dt><span>comment :</span></dt><dd>Latitude of NE corner of T grid cell</dd><dt><span>long_name :</span></dt><dd>U grid center latitude</dd><dt><span>units :</span></dt><dd>degrees_north</dd></dl></div><div class='xr-var-data'><pre>array([[-81.0242  , -81.0242  , -81.0242  , ..., -81.0242  , -81.0242  ,\n",
       "        -81.0242  ],\n",
       "       [-80.9186  , -80.9186  , -80.9186  , ..., -80.9186  , -80.9186  ,\n",
       "        -80.9186  ],\n",
       "       [-80.813   , -80.813   , -80.813   , ..., -80.813   , -80.813   ,\n",
       "        -80.813   ],\n",
       "       ...,\n",
       "       [  9.949621,   9.949621,   9.949621, ...,   9.949621,   9.949621,\n",
       "          9.949621],\n",
       "       [ 10.195767,  10.195767,  10.195767, ...,  10.195767,  10.195767,\n",
       "         10.195767],\n",
       "       [ 10.441725,  10.441725,  10.441725, ...,  10.441725,  10.441725,\n",
       "         10.441725]], dtype=float32)</pre></div></li><li class='xr-var-item'><div class='xr-var-name'><span>ULON</span></div><div class='xr-var-dims'>(nj, ni)</div><div class='xr-var-dtype'>float32</div><div class='xr-var-preview xr-preview'>-280.0 -279.8 -279.5 ... 79.5 79.75</div><input id='attrs-6040a884-3803-47e0-82ad-6982cab72655' class='xr-var-attrs-in' type='checkbox' ><label for='attrs-6040a884-3803-47e0-82ad-6982cab72655' title='Show/Hide attributes'><svg class='icon xr-icon-file-text2'><use xlink:href='#icon-file-text2'></use></svg></label><input id='data-5c9c6897-a7e7-43d8-89a4-e3cc2acfa573' class='xr-var-data-in' type='checkbox'><label for='data-5c9c6897-a7e7-43d8-89a4-e3cc2acfa573' title='Show/Hide data repr'><svg class='icon xr-icon-database'><use xlink:href='#icon-database'></use></svg></label><div class='xr-var-attrs'><dl class='xr-attrs'><dt><span>long_name :</span></dt><dd>U grid center longitude</dd><dt><span>units :</span></dt><dd>degrees_east</dd></dl></div><div class='xr-var-data'><pre>array([[-280.  , -279.75, -279.5 , ...,   79.25,   79.5 ,   79.75],\n",
       "       [-280.  , -279.75, -279.5 , ...,   79.25,   79.5 ,   79.75],\n",
       "       [-280.  , -279.75, -279.5 , ...,   79.25,   79.5 ,   79.75],\n",
       "       ...,\n",
       "       [-280.  , -279.75, -279.5 , ...,   79.25,   79.5 ,   79.75],\n",
       "       [-280.  , -279.75, -279.5 , ...,   79.25,   79.5 ,   79.75],\n",
       "       [-280.  , -279.75, -279.5 , ...,   79.25,   79.5 ,   79.75]],\n",
       "      dtype=float32)</pre></div></li></ul></div></li><li class='xr-section-item'><input id='section-e9dde128-13ba-4339-9d17-c810aee083c7' class='xr-section-summary-in' type='checkbox'  ><label for='section-e9dde128-13ba-4339-9d17-c810aee083c7' class='xr-section-summary' >Indexes: <span>(2)</span></label><div class='xr-section-inline-details'></div><div class='xr-section-details'><ul class='xr-var-list'><li class='xr-var-item'><div class='xr-index-name'><div>ni</div></div><div class='xr-index-preview'>PandasIndex</div><input type='checkbox' disabled/><label></label><input id='index-cf48d859-8ba1-4d4e-8bb1-3f49724787fc' class='xr-index-data-in' type='checkbox'/><label for='index-cf48d859-8ba1-4d4e-8bb1-3f49724787fc' title='Show/Hide index repr'><svg class='icon xr-icon-database'><use xlink:href='#icon-database'></use></svg></label><div class='xr-index-data'><pre>PandasIndex(Index([   0,    1,    2,    3,    4,    5,    6,    7,    8,    9,\n",
       "       ...\n",
       "       1430, 1431, 1432, 1433, 1434, 1435, 1436, 1437, 1438, 1439],\n",
       "      dtype=&#x27;int64&#x27;, name=&#x27;ni&#x27;, length=1440))</pre></div></li><li class='xr-var-item'><div class='xr-index-name'><div>nj</div></div><div class='xr-index-preview'>PandasIndex</div><input type='checkbox' disabled/><label></label><input id='index-a666ac1d-01bd-4ce2-8c67-52e485060b9b' class='xr-index-data-in' type='checkbox'/><label for='index-a666ac1d-01bd-4ce2-8c67-52e485060b9b' title='Show/Hide index repr'><svg class='icon xr-icon-database'><use xlink:href='#icon-database'></use></svg></label><div class='xr-index-data'><pre>PandasIndex(Index([  0,   1,   2,   3,   4,   5,   6,   7,   8,   9,\n",
       "       ...\n",
       "       530, 531, 532, 533, 534, 535, 536, 537, 538, 539],\n",
       "      dtype=&#x27;int64&#x27;, name=&#x27;nj&#x27;, length=540))</pre></div></li></ul></div></li><li class='xr-section-item'><input id='section-3c2deafd-db16-4dab-bf21-49693dff2057' class='xr-section-summary-in' type='checkbox' disabled ><label for='section-3c2deafd-db16-4dab-bf21-49693dff2057' class='xr-section-summary'  title='Expand/collapse section'>Attributes: <span>(0)</span></label><div class='xr-section-inline-details'></div><div class='xr-section-details'><dl class='xr-attrs'></dl></div></li></ul></div></div>"
      ],
      "text/plain": [
       "<xarray.DataArray (nj: 540, ni: 1440)> Size: 6MB\n",
       "dask.array<where, shape=(540, 1440), dtype=float64, chunksize=(68, 180), chunktype=numpy.ndarray>\n",
       "Coordinates:\n",
       "    lat      (nj, ni) float64 6MB -81.08 -81.08 -81.08 ... 10.32 10.32 10.32\n",
       "    lon      (nj, ni) float64 6MB -99.88 -99.62 -99.38 ... -100.6 -100.4 -100.1\n",
       "  * ni       (ni) int64 12kB 0 1 2 3 4 5 6 ... 1434 1435 1436 1437 1438 1439\n",
       "  * nj       (nj) int64 4kB 0 1 2 3 4 5 6 7 ... 532 533 534 535 536 537 538 539\n",
       "    TLAT     (nj, ni) float32 3MB -81.08 -81.08 -81.08 ... 10.32 10.32 10.32\n",
       "    TLON     (nj, ni) float32 3MB 79.88 80.12 80.38 80.62 ... 79.12 79.38 79.62\n",
       "    ULAT     (nj, ni) float32 3MB -81.02 -81.02 -81.02 ... 10.44 10.44 10.44\n",
       "    ULON     (nj, ni) float32 3MB -280.0 -279.8 -279.5 ... 79.25 79.5 79.75"
      ]
     },
     "execution_count": 53,
     "metadata": {},
     "output_type": "execute_result"
    }
   ],
   "source": [
    "FIP_diff = FIP_obs - FIP_sim\n",
    "FIP_diff = FIP_diff.where(shared_mask)\n",
    "FIP_diff"
   ]
  },
  {
   "cell_type": "code",
   "execution_count": 114,
   "id": "c3986052-6fe9-4aee-8d76-1fdf20fa55e5",
   "metadata": {},
   "outputs": [
    {
     "name": "stderr",
     "output_type": "stream",
     "text": [
      "2025-07-03 16:29:04,715 - WARNING - Dask client already exists but was not passed to SeaIceToolbox.\n",
      "WARNING:elps-min:Dask client already exists but was not passed to SeaIceToolbox.\n",
      "2025-07-03 16:29:04,718 - WARNING - Please explicitly pass the existing Dask client using `client=...` to avoid confusion.\n",
      "WARNING:elps-min:Please explicitly pass the existing Dask client using `client=...` to avoid confusion.\n",
      "2025-07-03 16:29:04,722 - INFO - Dask distributed client can be accessed at url /proxy/8787/status\n",
      "INFO:elps-min:Dask distributed client can be accessed at url /proxy/8787/status\n",
      "2025-07-03 16:29:04,725 - INFO - hemisphere initialised: SH\n",
      "INFO:elps-min:hemisphere initialised: SH\n",
      "2025-07-03 16:29:04,733 - INFO - Rolling boolean presence: window = 15, min_count = 15\n",
      "INFO:elps-min:Rolling boolean presence: window = 15, min_count = 15\n",
      "/g/data/xp65/public/apps/med_conda/envs/analysis3-25.05/lib/python3.11/site-packages/distributed/client.py:3363: UserWarning: Sending large graph of size 10.96 MiB.\n",
      "This may cause some slowdown.\n",
      "Consider loading the data with Dask directly\n",
      " or using futures or delayed objects to embed the data into the graph without repetition.\n",
      "See also https://docs.dask.org/en/stable/best-practices.html#load-data-with-dask for more information.\n",
      "  warnings.warn(\n",
      "/g/data/xp65/public/apps/med_conda/envs/analysis3-25.05/lib/python3.11/site-packages/distributed/client.py:3363: UserWarning: Sending large graph of size 10.96 MiB.\n",
      "This may cause some slowdown.\n",
      "Consider loading the data with Dask directly\n",
      " or using futures or delayed objects to embed the data into the graph without repetition.\n",
      "See also https://docs.dask.org/en/stable/best-practices.html#load-data-with-dask for more information.\n",
      "  warnings.warn(\n",
      "/g/data/xp65/public/apps/med_conda/envs/analysis3-25.05/lib/python3.11/site-packages/distributed/client.py:3363: UserWarning: Sending large graph of size 10.96 MiB.\n",
      "This may cause some slowdown.\n",
      "Consider loading the data with Dask directly\n",
      " or using futures or delayed objects to embed the data into the graph without repetition.\n",
      "See also https://docs.dask.org/en/stable/best-practices.html#load-data-with-dask for more information.\n",
      "  warnings.warn(\n",
      "/g/data/xp65/public/apps/med_conda/envs/analysis3-25.05/lib/python3.11/site-packages/distributed/client.py:3363: UserWarning: Sending large graph of size 10.96 MiB.\n",
      "This may cause some slowdown.\n",
      "Consider loading the data with Dask directly\n",
      " or using futures or delayed objects to embed the data into the graph without repetition.\n",
      "See also https://docs.dask.org/en/stable/best-practices.html#load-data-with-dask for more information.\n",
      "  warnings.warn(\n",
      "2025-07-03 16:33:24,325 - INFO - ✅ Aligned model output to 456 obs windows\n",
      "INFO:elps-min:✅ Aligned model output to 456 obs windows\n"
     ]
    }
   ],
   "source": [
    "sim_name   = \"elps-min\"\n",
    "dt0_str    = \"2000-01-01\"\n",
    "dtN_str    = \"2018-12-31\"\n",
    "SI_tools   = SeaIceToolbox(sim_name             = sim_name,\n",
    "                           dt0_str              = dt0_str,\n",
    "                           dtN_str              = dtN_str)\n",
    "bool_mask            = SI_tools.boolean_fast_ice( DS['FI_mask'] , window=15, min_count=15)\n",
    "CICE_SO              = CICE.isel(nj=SI_tools.hemisphere_dict['nj_slice'])\n",
    "CICE_bool            = CICE_SO.where(bool_mask)\n",
    "CICE_bool['FI_mask'] = bool_mask\n",
    "CICE_coar            = SI_tools.coarsen_and_align_simulated_FI_to_observed_FI(CICE_bool, FI_obs)\n",
    "CICE_coar['FI_mask'] = CICE_coar['FI_mask'].astype(bool).astype(int)"
   ]
  },
  {
   "cell_type": "code",
   "execution_count": 64,
   "id": "4ef94c72-5540-481c-a431-9854a5c28ea6",
   "metadata": {
    "collapsed": true,
    "jupyter": {
     "outputs_hidden": true
    },
    "scrolled": true
   },
   "outputs": [
    {
     "name": "stderr",
     "output_type": "stream",
     "text": [
      "2025-07-03 11:09:00,709 - WARNING - Dask client already exists but was not passed to SeaIceToolbox.\n",
      "WARNING:elps-min:Dask client already exists but was not passed to SeaIceToolbox.\n",
      "2025-07-03 11:09:00,712 - WARNING - Please explicitly pass the existing Dask client using `client=...` to avoid confusion.\n",
      "WARNING:elps-min:Please explicitly pass the existing Dask client using `client=...` to avoid confusion.\n",
      "2025-07-03 11:09:00,715 - INFO - Dask distributed client can be accessed at url /proxy/8787/status\n",
      "INFO:elps-min:Dask distributed client can be accessed at url /proxy/8787/status\n",
      "2025-07-03 11:09:00,717 - INFO - hemisphere initialised: SH\n",
      "INFO:elps-min:hemisphere initialised: SH\n",
      "/g/data/xp65/public/apps/med_conda/envs/analysis3-25.05/lib/python3.11/site-packages/distributed/client.py:3363: UserWarning: Sending large graph of size 10.72 MiB.\n",
      "This may cause some slowdown.\n",
      "Consider loading the data with Dask directly\n",
      " or using futures or delayed objects to embed the data into the graph without repetition.\n",
      "See also https://docs.dask.org/en/stable/best-practices.html#load-data-with-dask for more information.\n",
      "  warnings.warn(\n",
      "2025-07-03 11:09:54,755 - INFO - method will plot eight Antarctic sectors regional dictionary\n",
      "INFO:elps-min:method will plot eight Antarctic sectors regional dictionary\n",
      "INFO:pyogrio._io:Created 357 records\n",
      "2025-07-03 11:10:01,041 - INFO - Saved figure to /g/data/gv90/da1339/GRAPHICAL/AFIM/elps-min/DML/FIP_delta/2000-2018_elps-min_DML_FIP_delta.png\n",
      "INFO:elps-min:Saved figure to /g/data/gv90/da1339/GRAPHICAL/AFIM/elps-min/DML/FIP_delta/2000-2018_elps-min_DML_FIP_delta.png\n",
      "INFO:pyogrio._io:Created 357 records\n",
      "2025-07-03 11:10:09,048 - INFO - Saved figure to /g/data/gv90/da1339/GRAPHICAL/AFIM/elps-min/WIO/FIP_delta/2000-2018_elps-min_WIO_FIP_delta.png\n",
      "INFO:elps-min:Saved figure to /g/data/gv90/da1339/GRAPHICAL/AFIM/elps-min/WIO/FIP_delta/2000-2018_elps-min_WIO_FIP_delta.png\n",
      "INFO:pyogrio._io:Created 357 records\n",
      "2025-07-03 11:10:14,534 - INFO - Saved figure to /g/data/gv90/da1339/GRAPHICAL/AFIM/elps-min/EIO/FIP_delta/2000-2018_elps-min_EIO_FIP_delta.png\n",
      "INFO:elps-min:Saved figure to /g/data/gv90/da1339/GRAPHICAL/AFIM/elps-min/EIO/FIP_delta/2000-2018_elps-min_EIO_FIP_delta.png\n",
      "INFO:pyogrio._io:Created 357 records\n",
      "2025-07-03 11:10:20,501 - INFO - Saved figure to /g/data/gv90/da1339/GRAPHICAL/AFIM/elps-min/Aus/FIP_delta/2000-2018_elps-min_Aus_FIP_delta.png\n",
      "INFO:elps-min:Saved figure to /g/data/gv90/da1339/GRAPHICAL/AFIM/elps-min/Aus/FIP_delta/2000-2018_elps-min_Aus_FIP_delta.png\n",
      "INFO:pyogrio._io:Created 357 records\n",
      "2025-07-03 11:10:27,872 - INFO - Saved figure to /g/data/gv90/da1339/GRAPHICAL/AFIM/elps-min/VOL/FIP_delta/2000-2018_elps-min_VOL_FIP_delta.png\n",
      "INFO:elps-min:Saved figure to /g/data/gv90/da1339/GRAPHICAL/AFIM/elps-min/VOL/FIP_delta/2000-2018_elps-min_VOL_FIP_delta.png\n",
      "INFO:pyogrio._io:Created 357 records\n",
      "2025-07-03 11:10:34,373 - INFO - Saved figure to /g/data/gv90/da1339/GRAPHICAL/AFIM/elps-min/AS/FIP_delta/2000-2018_elps-min_AS_FIP_delta.png\n",
      "INFO:elps-min:Saved figure to /g/data/gv90/da1339/GRAPHICAL/AFIM/elps-min/AS/FIP_delta/2000-2018_elps-min_AS_FIP_delta.png\n",
      "INFO:pyogrio._io:Created 357 records\n",
      "2025-07-03 11:10:40,322 - INFO - Saved figure to /g/data/gv90/da1339/GRAPHICAL/AFIM/elps-min/BS/FIP_delta/2000-2018_elps-min_BS_FIP_delta.png\n",
      "INFO:elps-min:Saved figure to /g/data/gv90/da1339/GRAPHICAL/AFIM/elps-min/BS/FIP_delta/2000-2018_elps-min_BS_FIP_delta.png\n",
      "INFO:pyogrio._io:Created 357 records\n",
      "2025-07-03 11:10:47,986 - INFO - Saved figure to /g/data/gv90/da1339/GRAPHICAL/AFIM/elps-min/WS/FIP_delta/2000-2018_elps-min_WS_FIP_delta.png\n",
      "INFO:elps-min:Saved figure to /g/data/gv90/da1339/GRAPHICAL/AFIM/elps-min/WS/FIP_delta/2000-2018_elps-min_WS_FIP_delta.png\n"
     ]
    }
   ],
   "source": [
    "SI_tools = SeaIceToolbox(sim_name = \"elps-min\")\n",
    "SI_tools.pygmt_map_plot_one_var(FIP_diff, 'FIP_delta',\n",
    "                                diff_plot      = True,\n",
    "                                plot_regions   = 8,\n",
    "                                time_stamp     = \"2000-2018\",\n",
    "                                tit_str        = \"2000-2018\",\n",
    "                                plot_GI        = False,\n",
    "                                cbar_label     = \"fast ice persistence difference (obs-sim)\",\n",
    "                                #cbar_units     = \"1/100\",\n",
    "                                extend_cbar    = False,\n",
    "                                lon_coord_name = \"TLON\",\n",
    "                                lat_coord_name = \"TLAT\",\n",
    "                                var_sq_size    = 0.175,\n",
    "                                GI_sq_size     = 0.1,\n",
    "                                GI_fill_color  = \"black\",\n",
    "                                overwrite_fig  = True)"
   ]
  },
  {
   "cell_type": "code",
   "execution_count": 68,
   "id": "4590e916-9846-480e-8339-e73542b213fd",
   "metadata": {
    "jupyter": {
     "source_hidden": true
    }
   },
   "outputs": [
    {
     "name": "stdout",
     "output_type": "stream",
     "text": [
      "✅ Saved stitched figure: /g/data/gv90/da1339/GRAPHICAL/AFIM/elps-min/FIP_panel_AF20_vs_elps-min.png\n"
     ]
    }
   ],
   "source": [
    "from PIL import Image\n",
    "def stitch_fip_side_by_side(sim_model, sim_obs, base_dir, region_list, output_path, dpi=200):\n",
    "    nrows = len(region_list)\n",
    "    fig, axs = plt.subplots(nrows=nrows, ncols=3, figsize=(20,60))\n",
    "    for row, region in enumerate(region_list):\n",
    "        for col, sim in enumerate([sim_obs, sim_model, \"FIP_delta\"]):  # left: obs, right: model\n",
    "            if col==2:\n",
    "                path = os.path.join(base_dir, sim_model, region, \"FIP_delta\", f\"2000-2018_{sim_model}_{region}_FIP_delta.png\")\n",
    "            else:\n",
    "                path = os.path.join(base_dir, sim, region, \"FIP\", f\"2000-2018_{sim}_{region}_FIP.png\")\n",
    "            if not os.path.exists(path):\n",
    "                print(f\"❌ Missing: {path}\")\n",
    "                axs[row, col].axis(\"off\")\n",
    "                continue\n",
    "            img = Image.open(path)\n",
    "            axs[row, col].imshow(img)\n",
    "            axs[row, col].axis(\"off\")\n",
    "    axs[0, 0].set_title(\"AF2020 (obs)\"       , fontsize=14, fontweight=\"bold\")\n",
    "    axs[0, 1].set_title(f\"{sim_model} (sim)\" , fontsize=14, fontweight=\"bold\")\n",
    "    axs[0, 2].set_title(\"Difference: obs-sim\", fontsize=14, fontweight=\"bold\")\n",
    "    plt.tight_layout()\n",
    "    plt.savefig(output_path, dpi=dpi)\n",
    "    plt.close()\n",
    "    print(f\"✅ Saved stitched figure: {output_path}\")\n",
    "region_list = [\"DML\", \"WIO\", \"EIO\", \"Aus\", \"VOL\", \"AS\", \"BS\", \"WS\"]\n",
    "stitch_fip_side_by_side(\"elps-min\", \"AF20\",\n",
    "                  base_dir=\"/g/data/gv90/da1339/GRAPHICAL/AFIM\",\n",
    "                  region_list=region_list,\n",
    "                  output_path=\"/g/data/gv90/da1339/GRAPHICAL/AFIM/elps-min/FIP_panel_AF20_vs_elps-min.png\")"
   ]
  },
  {
   "cell_type": "code",
   "execution_count": 112,
   "id": "3d98637c-2ddd-4d61-88c8-be7b69869274",
   "metadata": {},
   "outputs": [
    {
     "name": "stderr",
     "output_type": "stream",
     "text": [
      "2025-07-03 16:17:02,449 - INFO - 66791608021.64 m^2 total circumpolar grounded iceberg area for elps-min\n",
      "INFO:elps-min:66791608021.64 m^2 total circumpolar grounded iceberg area for elps-min\n",
      "2025-07-03 16:17:02,451 - INFO - 🧮 Spatially-integrating the product of sea ice concentrations and grid cell areas\n",
      "INFO:elps-min:🧮 Spatially-integrating the product of sea ice concentrations and grid cell areas\n",
      "/g/data/xp65/public/apps/med_conda/envs/analysis3-25.05/lib/python3.11/site-packages/distributed/client.py:3363: UserWarning: Sending large graph of size 11.37 MiB.\n",
      "This may cause some slowdown.\n",
      "Consider loading the data with Dask directly\n",
      " or using futures or delayed objects to embed the data into the graph without repetition.\n",
      "See also https://docs.dask.org/en/stable/best-practices.html#load-data-with-dask for more information.\n",
      "  warnings.warn(\n",
      "2025-07-03 16:17:03,368 - INFO - 66791608021.64 m^2 total circumpolar grounded iceberg area for elps-min\n",
      "INFO:elps-min:66791608021.64 m^2 total circumpolar grounded iceberg area for elps-min\n",
      "2025-07-03 16:17:03,370 - INFO - 🧮 Spatially-integrating the product of sea ice concentrations and grid cell areas\n",
      "INFO:elps-min:🧮 Spatially-integrating the product of sea ice concentrations and grid cell areas\n",
      "/g/data/xp65/public/apps/med_conda/envs/analysis3-25.05/lib/python3.11/site-packages/dask/array/core.py:4998: PerformanceWarning: Increasing number of chunks by factor of 11\n",
      "  result = blockwise(\n",
      "/g/data/xp65/public/apps/med_conda/envs/analysis3-25.05/lib/python3.11/site-packages/distributed/client.py:3363: UserWarning: Sending large graph of size 20.20 MiB.\n",
      "This may cause some slowdown.\n",
      "Consider loading the data with Dask directly\n",
      " or using futures or delayed objects to embed the data into the graph without repetition.\n",
      "See also https://docs.dask.org/en/stable/best-practices.html#load-data-with-dask for more information.\n",
      "  warnings.warn(\n"
     ]
    }
   ],
   "source": [
    "#print(CICE_coar['FI_mask'])\n",
    "#print(FI_obs_raw)\n",
    "FIA_sim = SI_tools.compute_ice_area(CICE_coar['FI_mask'],CICE_coar.tarea)\n",
    "FIA_obs = SI_tools.compute_ice_area(FI_obs_raw,CICE_coar.tarea)\n",
    "#print(FIA_obs)\n",
    "#print(FIA_sim)"
   ]
  },
  {
   "cell_type": "code",
   "execution_count": 113,
   "id": "75ca576e-1268-4ef0-80bf-a41b54122819",
   "metadata": {},
   "outputs": [
    {
     "name": "stderr",
     "output_type": "stream",
     "text": [
      "2025-07-03 16:17:09,545 - WARNING - Dask client already exists but was not passed to SeaIceToolbox.\n",
      "WARNING:elps-min:Dask client already exists but was not passed to SeaIceToolbox.\n",
      "2025-07-03 16:17:09,678 - WARNING - Please explicitly pass the existing Dask client using `client=...` to avoid confusion.\n",
      "WARNING:elps-min:Please explicitly pass the existing Dask client using `client=...` to avoid confusion.\n",
      "2025-07-03 16:17:09,732 - INFO - Dask distributed client can be accessed at url /proxy/8787/status\n",
      "INFO:elps-min:Dask distributed client can be accessed at url /proxy/8787/status\n",
      "2025-07-03 16:17:09,802 - INFO - hemisphere initialised: SH\n",
      "INFO:elps-min:hemisphere initialised: SH\n"
     ]
    },
    {
     "name": "stdout",
     "output_type": "stream",
     "text": [
      "📏 Saved plot to /g/data/gv90/da1339/GRAPHICAL/AFIM/timeseries/FIA_elps-min_and_AF2020_2000-2018_full_ts.png\n"
     ]
    },
    {
     "data": {
      "image/png": "[encoded data removed]",
      "text/plain": [
       "<IPython.core.display.Image object>"
      ]
     },
     "metadata": {
      "image/png": {
       "width": 500
      }
     },
     "output_type": "display_data"
    }
   ],
   "source": [
    "ts_dict = {'FI_obs' : FIA_obs, 'FI_sim': FIA_sim}\n",
    "SI_tools = SeaIceToolbox(sim_name=\"elps-min\")\n",
    "SI_tools.plot_timeseries(ts_dict, ylabel=\"fast ice area (1000-km²)\",\n",
    "                        tit_str=\"AF2020 (obs) and elps-min (sim) after composite re-grid and binary-day filter\",\n",
    "                        ylim=[100,800],\n",
    "                        P_png=\"/g/data/gv90/da1339/GRAPHICAL/AFIM/timeseries/FIA_elps-min_and_AF2020_2000-2018_full_ts.png\",\n",
    "                        fig_width=\"15c\",\n",
    "                        fig_height=\"5c\",\n",
    "                        pen_styles = {\"FI_obs\" : \"1p,black\", \"FI_sim\" : \"1p,blue\"},\n",
    "                        time_coord = \"t_FI_obs\", show_fig=True)\n"
   ]
  },
  {
   "cell_type": "code",
   "execution_count": 100,
   "id": "6de0ee9d-68aa-444a-9a1a-82c69127c688",
   "metadata": {},
   "outputs": [
    {
     "data": {
      "image/png": "[encoded data removed]",
      "text/plain": [
       "<IPython.core.display.Image object>"
      ]
     },
     "execution_count": 100,
     "metadata": {},
     "output_type": "execute_result"
    }
   ],
   "source": [
    "from IPython.display      import Image, HTML, Video\n",
    "Image(filename=\"/g/data/gv90/da1339/GRAPHICAL/AFIM/timeseries/FIA_elps-min_and_AF2020_2000-2018_full_ts.png\")"
   ]
  },
  {
   "cell_type": "code",
   "execution_count": null,
   "id": "035deffa-00f7-4791-93f4-a41be7b6b0da",
   "metadata": {},
   "outputs": [],
   "source": [
    "years = np.unique(pd.to_datetime(CICE_coar['t_FI_obs'].values).year)\n",
    "for year in years:\n",
    "    yearly_ds = CICE_coar.sel(t_FI_obs=str(year))\n",
    "    outpath   = f\"/g/data/gv90/da1339/afim_output/elps-min/FI-sim-TS_elps-min_{year}.nc\"\n",
    "    encoding  = {var: {\"zlib\": True} for var in yearly_ds.data_vars}\n",
    "    yearly_ds.to_netcdf(path=outpath, mode=\"w\", format=\"NETCDF4\", unlimited_dims=[\"t_FI_obs\"], encoding=encoding,)\n",
    "    print(f\"✅ Saved: {outpath}\")"
   ]
  },
  {
   "cell_type": "code",
   "execution_count": null,
   "id": "6c136e91-bf19-4221-a7c0-0cdc7c91310d",
   "metadata": {},
   "outputs": [],
   "source": [
    "sim_name = \"elps-min\"\n",
    "dt0_str  = \"2000-01-01\"\n",
    "dtN_str  = \"2018-12-31\"\n",
    "years    = range(2000, 2019)\n",
    "SI_tools = SeaIceToolbox(sim_name             = sim_name,\n",
    "                        client               = None,\n",
    "                        dt0_str              = dt0_str,\n",
    "                        dtN_str              = dtN_str,\n",
    "                        ice_speed_threshold  = 5e-4,\n",
    "                        ice_speed_type       = \"ispd_BT\",\n",
    "                        ice_type             = \"FI_BT\",\n",
    "                        overwrite_zarr       = False,\n",
    "                        save_new_figs        = True,\n",
    "                        show_figs            = True,\n",
    "                        overwrite_saved_figs = True)"
   ]
  },
  {
   "cell_type": "code",
   "execution_count": null,
   "id": "8fab71a9-238c-4d50-a846-bdf4b7357c47",
   "metadata": {},
   "outputs": [],
   "source": [
    "CICE_coar = xr.open_mfdataset(f\"/g/data/gv90/da1339/afim_output/elps-min/FI-sim-TS_elps-min_*.nc\")\n",
    "FI_obs = SI_tools.load_AF2020db()\n",
    "FI_obs_SO = FI_obs.isel(nj=SI_tools.hemisphere_dict['nj_slice'])\n",
    "FI_obs_bin = FI_obs_SO['FI'].astype(bool).where(FI_obs_SO['FI'].notnull())\n",
    "FI_sim_bin = CICE_coar['FI_mask'].astype(bool).where(CICE_coar['FI_mask']==1)#FI_obs_SO['FI'].notnull())\n",
    "FI_obs_bin, FI_sim_bin = xr.align(FI_obs_bin, FI_sim_bin, join=\"inner\")\n",
    "FI_diff = xr.full_like(FI_obs_bin, np.nan, dtype=float)\n",
    "only_obs = (FI_obs_bin == True) & (FI_sim_bin != True)\n",
    "only_sim = (FI_sim_bin == True) & (FI_obs_bin != True)\n",
    "agree    = (FI_obs_bin == FI_sim_bin)\n",
    "FI_diff = xr.where(only_obs,     2, FI_diff)  # observation-only\n",
    "FI_diff = xr.where(only_sim,     1, FI_diff)  # simulation-only\n",
    "FI_diff = xr.where(agree,        0, FI_diff)  # agreement\n",
    "FI_diff.name = \"FI_diff\"\n",
    "FI_diff_computed = FI_diff.chunk({\"t_FI_obs\": 13, \"nj\": 540, \"ni\": 1440}).compute()\n",
    "FI_diff_computed.to_netcdf(f\"/g/data/gv90/da1339/afim_output/elps-min/FI-diff_obs-elps-min_2000-2018.nc\")"
   ]
  },
  {
   "cell_type": "code",
   "execution_count": null,
   "id": "4b92a8bd-c4f9-4ba9-ad2c-86dcf1fca996",
   "metadata": {},
   "outputs": [],
   "source": [
    "#for i in range(len(FI_diff_computed.t_FI_obs)):\n",
    "i=10\n",
    "dt  = pd.Timestamp(FI_diff.isel(t_FI_obs=i)['t_FI_obs'].values)\n",
    "dt_str = f\"{dt:%Y-%m-%d}\"\n",
    "SI_tools.pygmt_map_plot_one_var(FI_diff_computed.isel(t_FI_obs=i), 'FI_diff',\n",
    "                            plot_regions   = 8,\n",
    "                            time_stamp     = dt_str,\n",
    "                            tit_str        = dt_str,\n",
    "                            plot_GI        = True,\n",
    "                            cbar_label     = \"fast ice observation and simulation locations\",\n",
    "                            cbar_units     = \"\",\n",
    "                            extend_cbar    = False,\n",
    "                            lon_coord_name = \"TLON\",\n",
    "                            lat_coord_name = \"TLAT\",\n",
    "                            var_sq_size    = 0.125,\n",
    "                            GI_sq_size     = 0.075,\n",
    "                            GI_fill_color  = \"yellow\")"
   ]
  },
  {
   "cell_type": "code",
   "execution_count": null,
   "id": "7ac98d63-b012-4b3e-9986-426ed843d353",
   "metadata": {},
   "outputs": [],
   "source": []
  },
  {
   "cell_type": "code",
   "execution_count": null,
   "id": "dc4e025f-1a47-40ce-ae3c-d7a2ac2e6717",
   "metadata": {},
   "outputs": [],
   "source": [
    "P_FI_diff = Path(\"/g/data/gv90/da1339/afim_output/elps-min/FI-diff_obs-elps-min_2000-2018.nc\")\n",
    "P_FI_diff.exists()"
   ]
  },
  {
   "cell_type": "code",
   "execution_count": null,
   "id": "3abf271a-8a2b-4e77-b3d8-34c4e8701154",
   "metadata": {},
   "outputs": [],
   "source": [
    "#SI_tools.compute_grounded_iceberg_area()\n",
    "sims        = [\"elps-min\", \"gi-nil\", \"AOM2-ERA5\", \"FI-heavy\", \"Roth-cf-def\", \"re-evp-off\", \"ndte-max\", \"ndte-min\", \"ktens-ext\", \"elps-ext\", \"elps-max\"]\n",
    "regions     = [\"north\", \"south\"]\n",
    "var_names   = [\"aice\", \"hi\", \"dvidtd\", \"dvidtt\"]\n",
    "video_paths = {sim: {region: {} for region in regions} for sim in sims}\n",
    "dt0_str     = \"1999-01-01\"\n",
    "dtN_str     = \"1999-12-31\"\n",
    "# # STEP 1: Generate PNG frames\n",
    "# for sim_name in sims:\n",
    "#     for var_name in var_names:\n",
    "SI_tools = SeaIceToolbox(sim_name             = sim_name,\n",
    "                         dt0_str              = dt0_str,\n",
    "                         dtN_str              = dtN_str,\n",
    "                         P_log                = f\"/g/data/gv90/da1339/logs/SeaIceToolBox_{sims[0]}_{var_names[0]}_plotting.log\",\n",
    "                         save_new_figs        = True,\n",
    "                         show_figs            = True,\n",
    "                         overwrite_saved_figs = True)\n",
    "CICE_all   = SI_tools.load_iceh_zarr()\n",
    "CICE_slice = CICE_all.sel(time=slice(dt0_str,dtN_str))\n",
    "#        for i,dt in enumerate(CICE_slice['time'].values):"
   ]
  },
  {
   "cell_type": "code",
   "execution_count": null,
   "id": "ab41fed8-6487-43da-8afa-2d10e61132e8",
   "metadata": {},
   "outputs": [],
   "source": [
    "#FI_sim = xr.open_mfdataset(\"/g/data/gv90/da1339/afim_output/elps-min/FI-sim-TS_elps-min_*.nc\")#zarr/ispd_thresh_5.0e-4/metrics/FI_BT_bool_mets.zarr\", engine=\"zarr\")\n",
    "FI_sim = xr.open_zarr(\"/g/data/gv90/da1339/afim_output/elps-min/zarr/ispd_thresh_5.0e-4/cice_daily_1996-09.zarr\", group=\"FI_BT\")"
   ]
  },
  {
   "cell_type": "code",
   "execution_count": null,
   "id": "92d7caed-241e-4f0a-975a-088c3a2e904c",
   "metadata": {
    "jupyter": {
     "source_hidden": true
    }
   },
   "outputs": [],
   "source": [
    "FI_sim['FI_mask'].isel(time=10,nj=slice(25,75),ni=slice(300,400)).plot(figsize=(10,10))\n",
    "\n",
    "FI_sim['aice'].isel(time=10,nj=slice(25,75),ni=slice(300,400)).plot(figsize=(10,10))\n",
    "FI_sim['ispd_BT'].isel(time=10,nj=slice(25,75),ni=slice(300,400)).plot(figsize=(10,10))"
   ]
  },
  {
   "cell_type": "code",
   "execution_count": null,
   "id": "db23b706-bf08-401e-ae7d-7e9f723cf420",
   "metadata": {
    "jupyter": {
     "source_hidden": true
    }
   },
   "outputs": [],
   "source": [
    "FI_sim['FI_mask'].isel(t_FI_obs=18+4,nj=slice(25,75),ni=slice(300,400)).plot(figsize=(10,10))"
   ]
  },
  {
   "cell_type": "code",
   "execution_count": null,
   "id": "146595f2-1928-4330-bbc8-2544fefbe385",
   "metadata": {
    "jupyter": {
     "source_hidden": true
    }
   },
   "outputs": [],
   "source": [
    "da_FI_sim = FI_sim['FI_mask'].isel(t_FI_obs=18+4,nj=slice(25,75),ni=slice(300,400))\n",
    "da_FI_obs = FI_obs.FI.isel(t_FI_obs=18,nj=slice(25,75),ni=slice(300,400))\n",
    "da_FI_diff = da_FI_obs - da_FI_sim\n",
    "da_FI_diff.plot(figsize=(10,10))"
   ]
  },
  {
   "cell_type": "code",
   "execution_count": null,
   "id": "c6990e0f-1930-4db4-a0c4-ce3502d1fb2a",
   "metadata": {},
   "outputs": [],
   "source": [
    "\n",
    "FI_obs = xr.open_dataset(\"/g/data/gv90/da1339/SeaIce/FI_obs/AF-FI-2020db_org-timestep_reG.zarr\", engine=\"zarr\")\n",
    "FI_obs.FI.isel(t_FI_obs=18,nj=slice(25,75),ni=slice(300,400)).plot(figsize=(10,10))\n",
    "#print(FI_sim['FIP'])\n",
    "#print(FI_obs)\n",
    "#FI_obs_FIP = FI_obs.FI.sum(dim=\"t_FI_obs\") / len(FI_obs.t_FI_obs)\n",
    "#print(FI_obs_FIP)\n",
    "#FI_ttl_mean_diff = ds.FI_diff.sum(dim='t_FI_obs') / len(ds.t_FI_obs)\n",
    "#FI_ttl_mean_diff"
   ]
  },
  {
   "cell_type": "code",
   "execution_count": null,
   "id": "c4fc0c97-cacb-4584-9f28-870b3993f44a",
   "metadata": {},
   "outputs": [],
   "source": [
    "FIP_diff = FI_obs_FIP.isel(nj=slice(0,540)) - FI_sim['FIP']\n",
    "FIP_diff"
   ]
  },
  {
   "cell_type": "code",
   "execution_count": null,
   "id": "93153f9a-ea7b-4f5e-ab79-75d00ef7e820",
   "metadata": {},
   "outputs": [],
   "source": [
    "ds_slice = FI_sim.sel(time=\"2008-12-23\")#,nj=SI_tools.hemisphere_dict['nj_slice'])\n",
    "# plt_da   = ds_slice[var_names[0]]\n",
    "# dt       = pd.Timestamp(plt_da.time.values)\n",
    "# dt_str   = f\"{dt.year}-{dt.month:02d}-{dt.day:02d}\"\n",
    "SI_tools.pygmt_map_plot_one_var(ds_slice, 'aice',\n",
    "                                plot_regions  = 2,\n",
    "                                time_stamp    = \"2008-12-23\",\n",
    "                                tit_str       = \"2008-12-23\",\n",
    "                                lon_coord_name = 'lon',\n",
    "                                lat_coord_name = 'lat',\n",
    "                                plot_GI        = True,\n",
    "                                    cbar_label     = \"fast ice concentration\",\n",
    "                                    cbar_units     = \"1/100\",\n",
    "                                    var_sq_size    = 0.05,\n",
    "                                show_fig      = True)"
   ]
  },
  {
   "cell_type": "code",
   "execution_count": null,
   "id": "acef50c7-334a-45ce-9989-811359d0e417",
   "metadata": {
    "scrolled": true
   },
   "outputs": [],
   "source": [
    "af2020_df                = pd.read_csv(SI_tools.AF_FI_dict['P_AF2020_cli_csv'])\n",
    "FIA_dict[\"AF2020db_cli\"] = SI_tools.interpolate_obs_fia(af2020_df)\n",
    "ice_types                = [ice_type, f\"{ice_type}_roll\", f\"{ice_type}_bool\"]"
   ]
  },
  {
   "cell_type": "code",
   "execution_count": null,
   "id": "14d72c9e-9a61-491c-b37a-73d541a566c6",
   "metadata": {},
   "outputs": [],
   "source": [
    "for i_type in ice_types:\n",
    "    P_METS = Path(SI_tools.D_metrics, f\"{i_type}_mets.zarr\")\n",
    "    P_sum  = Path(SI_tools.D_metrics, f\"{i_type}_summary.csv\")\n",
    "    if P_METS.exists() and not SI_tools.overwrite_zarr_group:\n",
    "        print(f\"{P_METS} exists and not overwriting--loading\")\n",
    "        METS             = xr.open_zarr(P_METS)\n",
    "        FIA_dict[i_type] = METS['FIA']\n",
    "    else:\n",
    "        print(f\"{P_METS} does NOT exists and/or overwriting--computing\")\n",
    "        roll        = i_type.endswith(\"_roll\")\n",
    "        DS, CICE_SO = SI_tools.load_processed_cice(ice_type    = ice_type,\n",
    "                                                  zarr_CICE   = True,\n",
    "                                                  rolling     = roll,\n",
    "                                                  slice_hem   = True)\n",
    "        if i_type==f\"{ice_type}_bool\":\n",
    "            bool_mask          = SI_tools.boolean_fast_ice(DS['FI_mask'], dim=\"time\", window=7, min_count=6)\n",
    "            DS_bool            = CICE_SO.where(bool_mask)\n",
    "            DS_bool[\"FI_mask\"] = DS[\"FI_mask\"]\n",
    "            DS                 = DS_bool\n",
    "        METS = SI_tools.compute_sea_ice_metrics(DS, sim_name, i_type, SI_tools.ispd_thresh_str, P_METS, P_sum, FIA_dict[\"AF2020db_cli\"])\n",
    "    FIA_dict[i_type] = METS['FIA']"
   ]
  },
  {
   "cell_type": "code",
   "execution_count": null,
   "id": "9edccb51-774b-4d8f-970f-e3dcb75b03c2",
   "metadata": {
    "scrolled": true
   },
   "outputs": [],
   "source": [
    "FIA_dict"
   ]
  },
  {
   "cell_type": "code",
   "execution_count": null,
   "id": "4c62ee5c-583b-49ff-a1a2-6d7dc4c84505",
   "metadata": {
    "scrolled": true
   },
   "outputs": [],
   "source": [
    "P_png = Path(SI_tools.D_graph, sim_name, f\"FIA_FIP_{sim_name}_{dt_rng_str}.png\")\n",
    "SI_tools.plot_FIA_FIP_faceted(FIA_dict, METS['FIP'], P_png=P_png, plot_GI=True)"
   ]
  },
  {
   "cell_type": "code",
   "execution_count": null,
   "id": "41236a0a-0385-446e-a67f-1d599016abd0",
   "metadata": {
    "scrolled": true
   },
   "outputs": [],
   "source": [
    "#SI_tools.correct_timestamp_for_all_monthly_zarr_iceh(sim_names=)\n",
    "for sim in [\"Cstar-min\",\"eap-FI\",\"elps-max\",\"elps-min\",\"gi-max\",\"gi-min\",\"gi-nil-def\",\n",
    "            \"ktens-ext\",\"ktens-min\",\"ndte-max\",\"Pstar-max\",\"re-evp-off\",\"Roth-cf-max\",\"ry93\",\n",
    "            \"Cstar-max\",\"eap-def\",\"elps-ext\",\"elps-mid\",\"FI-heavy\",\"gi-mid\",\"gi-nil\",\"ktens-max\",\n",
    "            \"ktens-nil\",\"ndte-min\",\"Pstar-min\",\"Roth-cf-def\",\"Roth-cf-min\",\"visc-meth\"]:\n",
    "    SI_tools = SeaIceToolbox(sim_name             = sim,\n",
    "                             dt0_str              = dt0_str,\n",
    "                             dtN_str              = \"2023-12-31\",\n",
    "                             ice_speed_threshold  = 5e-4,\n",
    "                             ice_speed_type       = \"ispd_BT\",\n",
    "                             ice_type             = \"FI_BT\",\n",
    "                             overwrite_zarr       = False,\n",
    "                             save_new_figs        = True,\n",
    "                             show_figs            = True,\n",
    "                             overwrite_saved_figs = True)\n",
    "    SI_tools.daily_iceh_to_monthly_zarr(overwrite=False, delete_original=True)"
   ]
  },
  {
   "cell_type": "code",
   "execution_count": null,
   "id": "f31a74ed-129a-4403-87c1-2a6df593772a",
   "metadata": {
    "scrolled": true
   },
   "outputs": [],
   "source": [
    "var_name = \"hi\""
   ]
  },
  {
   "cell_type": "code",
   "execution_count": null,
   "id": "7f1d0cbb-06b4-444b-b4a3-26d03714c2bb",
   "metadata": {
    "scrolled": true
   },
   "outputs": [],
   "source": [
    "DS, CICE            = SI_tools.load_processed_cice(ispd_thresh = 5e-4,\n",
    "                                                   ice_type    = \"FI_BT\",\n",
    "                                                   zarr_CICE   = True,\n",
    "                                                   rolling     = False,\n",
    "                                                   slice_hem   = False)"
   ]
  },
  {
   "cell_type": "code",
   "execution_count": null,
   "id": "20c38395-67ac-4cbe-a7c9-f6853c939e2e",
   "metadata": {
    "scrolled": true
   },
   "outputs": [],
   "source": [
    "CICE_ispds          = SI_tools.compute_ice_speed_types( CICE , ['ispd_BT'] )\n",
    "CICE_reM            = SI_tools.reapply_landmask( CICE_ispds )\n",
    "CICE_reM['ispd_BT'] = SI_tools.compute_composite_ice_speed( CICE_reM )"
   ]
  },
  {
   "cell_type": "code",
   "execution_count": null,
   "id": "055cc63c-ab83-483a-8ed8-b9b8a92564a1",
   "metadata": {},
   "outputs": [],
   "source": [
    "CICE_reM"
   ]
  },
  {
   "cell_type": "code",
   "execution_count": null,
   "id": "e6f4766f-926b-4709-a8a4-6d1810bf2e43",
   "metadata": {},
   "outputs": [],
   "source": [
    "ds_slice = CICE_reM.isel(time=2400, nj=SI_proc.hemisphere_dict['nj_slice'])\n",
    "plt_da   = ds_slice[var_name]\n",
    "SIA = SI_proc.compute_ice_area( ds_slice['aice'] , ds_slice['tarea'] , ice_area_scale=SI_proc.SIC_scale )\n",
    "SIA.values"
   ]
  },
  {
   "cell_type": "code",
   "execution_count": null,
   "id": "eb5b9037-9e13-4ebe-b6c6-80bef37c54ed",
   "metadata": {
    "scrolled": true
   },
   "outputs": [],
   "source": [
    "sim_name   = \"elps-min\"\n",
    "dt0_str    = \"1993-01-01\"\n",
    "dtN_str    = \"1999-12-31\"\n",
    "dt_rng_str = f\"{dt0_str[:4]}-{dtN_str[:4]}\"\n",
    "ice_type   = \"FI_BT\"\n",
    "SIA_dict   = {}\n",
    "FIA_dict   = {}\n",
    "SI_tools   = SeaIceToolbox(sim_name             = sim_name,\n",
    "                           dt0_str              = dt0_str,\n",
    "                           dtN_str              = dtN_str,\n",
    "                           ice_speed_threshold  = 5e-4,\n",
    "                           ice_speed_type       = \"ispd_BT\",\n",
    "                           ice_type             = \"FI_BT\",\n",
    "                           overwrite_zarr       = True,\n",
    "                           save_new_figs        = True,\n",
    "                           show_figs            = True,\n",
    "                           overwrite_saved_figs = True)\n",
    "CICE_all            = SI_tools.load_iceh_zarr()\n",
    "CICE_ispds          = SI_tools.compute_ice_speed_types( CICE_all, ['ispd_BT'] )\n",
    "CICE_reM            = SI_tools.reapply_landmask( CICE_ispds )\n",
    "CICE_reM['ispd_BT'] = SI_tools.compute_composite_ice_speed( CICE_reM )\n",
    "for i in np.arange(2400,2500,1):\n",
    "    ds_slice = CICE_reM.isel(time=i, nj=SI_tools.hemisphere_dict['nj_slice'])\n",
    "    plt_da   = ds_slice['ispd_BT']\n",
    "    dt       = pd.Timestamp( plt_da.time.values )\n",
    "    dt_str   = f\"{dt.year}-{dt.month:02d}-{dt.day:02d}\"\n",
    "    SI_tools.pygmt_map_plot_one_var(plt_da, 'ispd_BT',\n",
    "                                    plot_regions  = 8,\n",
    "                                    time_stamp    = dt_str,\n",
    "                                    tit_str       = dt_str,\n",
    "                                    plot_GI       = True,\n",
    "                                    var_sq_size   = 0.2,\n",
    "                                    series        = (0,.5),\n",
    "                                    GI_fill_color = 'red', \n",
    "                                    GI_sq_size    = 0.075,\n",
    "                                    extend_cbar   = True,\n",
    "                                    show_fig      = False)"
   ]
  },
  {
   "cell_type": "code",
   "execution_count": null,
   "id": "e8c7d913-055e-4a60-bd5f-a53e2e9fcd16",
   "metadata": {
    "scrolled": true
   },
   "outputs": [],
   "source": [
    "#sim_names       = SI_proc.config.get('sim_dict').keys()\n",
    "#SI_proc.correct_timestamp_for_all_monthly_zarr_iceh( sim_names=sim_names, dry_run=False )\n",
    "SI_proc.daily_iceh_to_monthly_zarr(overwrite=overwrite_zarr, delete_original=delete_original)\n",
    "NSIDC             = SI_proc.compute_NSIDC_metrics()\n",
    "SIA_dict['NSIDC'] = NSIDC['SIA']\n",
    "# if daily:\n",
    "#     DS_daily = SI_proc.process_daily_cice(ispd_type            = ispd_types,\n",
    "#                                           overwrite_zarr_group = overwrite_zarr)\n",
    "# if rolling:\n",
    "#     DS_roll = SI_proc.process_rolling_cice(mean_period          = roll_period,\n",
    "#                                            ispd_type            = ispd_types,\n",
    "#                                            overwrite_zarr_group = overwrite_zarr)\n",
    "DS, CICE_SO       = SI_proc.load_processed_cice(ispd_thresh = ispd_thresh,\n",
    "                                          ice_type    = ice_types[0],\n",
    "                                          zarr_CICE   = True,\n",
    "                                          rolling     = True if ice_types[0]==f\"{ice_types[0]}_roll\" else False,\n",
    "                                          slice_hem   = True)\n",
    "SIA_dict[sim_name] = SI_proc.compute_ice_area(CICE_SO['aice'], CICE_SO['tarea'], ice_area_scale=SI_proc.SIC_scale)\n",
    "SI_plot.plot_monthly_ice_area_by_year(SIA_dict,\n",
    "                                      ice_type = \"SI\",\n",
    "                                      tit_str  = tit_str,\n",
    "                                      P_png    = P_png,\n",
    "                                      ylim     = (1,20))"
   ]
  },
  {
   "cell_type": "code",
   "execution_count": null,
   "id": "509f12b4-f921-47be-9fe6-f4d8a3b07eba",
   "metadata": {},
   "outputs": [],
   "source": [
    "SI_proc.sim_config"
   ]
  },
  {
   "cell_type": "code",
   "execution_count": null,
   "id": "a13991ee-4d12-4f8d-b218-cf1d5e0468a0",
   "metadata": {},
   "outputs": [],
   "source": [
    "#FIA_dict[sim_name]       = SI_proc.compute_ice_area(DS['aice'], DS['tarea']).compute()\n",
    "#tit_str = f\"Fast Ice Area Southern Ocean, {dt_rng_str}, AF2020db Climatology and Station Names: {sim_name}\"\n",
    "ktens    = SI_proc.sim_config['Ktens']\n",
    "elps     = SI_proc.sim_config['e_yieldcurve']\n",
    "ndte     = SI_proc.sim_config['ndte']\n",
    "Cf       = SI_proc.sim_config['Cf']\n",
    "GI_thin  = 1 - SI_proc.sim_config['GI_thin_fact']\n",
    "#Pstar = float(SI_proc.sim_config['Pstar'].replace(\"D\", \"E\"))\n",
    "tit_str  = f\"simulation name: {sim_name}\\ntested CICE namelist parameter: Rothrock Strength Formulation; Cf={Cf}, ktens={ktens}, e={elps}, GI-concentration={GI_thin:0.2f};\"\n",
    "P_png    = Path(SI_plot.D_graph, \"timeseries\", f\"FIA_AF2020db_and_{sim_name}_{dt_rng_str}.png\")\n",
    "SI_plot.plot_monthly_ice_area_by_year(FIA_dict,\n",
    "                                      ice_type = \"FI\",\n",
    "                                      tit_str  = tit_str,\n",
    "                                      P_png    = P_png)"
   ]
  }
 ],
 "metadata": {
  "kernelspec": {
   "display_name": "Python 3 (ipykernel)",
   "language": "python",
   "name": "python3"
  },
  "language_info": {
   "codemirror_mode": {
    "name": "ipython",
    "version": 3
   },
   "file_extension": ".py",
   "mimetype": "text/x-python",
   "name": "python",
   "nbconvert_exporter": "python",
   "pygments_lexer": "ipython3",
   "version": "3.11.12"
  }
 },
 "nbformat": 4,
 "nbformat_minor": 5
}
