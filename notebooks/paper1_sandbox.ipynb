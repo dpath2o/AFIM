{
 "cells": [
  {
   "cell_type": "code",
   "execution_count": 2,
   "id": "c94baf4e-8455-4287-8b7e-303d6feb8159",
   "metadata": {},
   "outputs": [],
   "source": [
    "import sys, os, pygmt, importlib, re, time\n",
    "mod_path = '/home/581/da1339/AFIM/src/AFIM/src'\n",
    "sys.path.insert(0, mod_path)\n",
    "from sea_ice_toolbox      import SeaIceToolbox\n",
    "from datetime             import timedelta, date, datetime\n",
    "from pathlib              import Path\n",
    "from dask.distributed     import Client, LocalCluster\n",
    "from dask.diagnostics     import ProgressBar\n",
    "from pyproj               import CRS, Transformer\n",
    "from collections          import defaultdict\n",
    "from scipy.interpolate    import interp1d\n",
    "from matplotlib.offsetbox import AnchoredOffsetbox, VPacker, TextArea\n",
    "import numpy                as np\n",
    "import pandas               as pd\n",
    "import xarray               as xr\n",
    "import xesmf                as xe\n",
    "import matplotlib.pyplot    as plt\n",
    "import matplotlib.dates     as mdates\n",
    "import matplotlib.animation as animation\n",
    "from IPython.display      import Image, HTML, Video"
   ]
  },
  {
   "cell_type": "code",
   "execution_count": 1,
   "id": "b23eae6c-80db-4c83-ae56-a9e36d6cc1a7",
   "metadata": {
    "collapsed": true,
    "jupyter": {
     "outputs_hidden": true,
     "source_hidden": true
    }
   },
   "outputs": [
    {
     "ename": "ModuleNotFoundError",
     "evalue": "No module named 'sea_ice_plotter'",
     "output_type": "error",
     "traceback": [
      "\u001b[0;31m---------------------------------------------------------------------------\u001b[0m",
      "\u001b[0;31mModuleNotFoundError\u001b[0m                       Traceback (most recent call last)",
      "Cell \u001b[0;32mIn[1], line 8\u001b[0m\n\u001b[1;32m      6\u001b[0m         \u001b[38;5;28;01mdel\u001b[39;00m sys\u001b[38;5;241m.\u001b[39mmodules[mod]\n\u001b[1;32m      7\u001b[0m \u001b[38;5;66;03m# Step 2: Explicit reloads in dependency order\u001b[39;00m\n\u001b[0;32m----> 8\u001b[0m \u001b[38;5;28;01mimport\u001b[39;00m\u001b[38;5;250m \u001b[39m\u001b[38;5;21;01msea_ice_plotter\u001b[39;00m\n\u001b[1;32m      9\u001b[0m \u001b[38;5;28;01mimport\u001b[39;00m\u001b[38;5;250m \u001b[39m\u001b[38;5;21;01msea_ice_classification\u001b[39;00m\n\u001b[1;32m     10\u001b[0m \u001b[38;5;28;01mimport\u001b[39;00m\u001b[38;5;250m \u001b[39m\u001b[38;5;21;01msea_ice_icebergs\u001b[39;00m\n",
      "\u001b[0;31mModuleNotFoundError\u001b[0m: No module named 'sea_ice_plotter'"
     ]
    }
   ],
   "source": [
    "import sys\n",
    "import importlib\n",
    "# Step 1: Clear all relevant modules\n",
    "for mod in list(sys.modules):\n",
    "    if mod.startswith(\"sea_ice_toolbox\") or mod.startswith(\"sea_ice_\"):\n",
    "        del sys.modules[mod]\n",
    "# Step 2: Explicit reloads in dependency order\n",
    "import sea_ice_plotter\n",
    "import sea_ice_classification\n",
    "import sea_ice_icebergs\n",
    "import sea_ice_observations\n",
    "import sea_ice_metrics\n",
    "import sea_ice_toolbox\n",
    "importlib.reload(sea_ice_plotter)\n",
    "importlib.reload(sea_ice_classification)\n",
    "importlib.reload(sea_ice_icebergs)\n",
    "importlib.reload(sea_ice_observations)\n",
    "importlib.reload(sea_ice_metrics)\n",
    "importlib.reload(sea_ice_toolbox)\n",
    "importlib.reload(pygmt)\n",
    "# Step 3: Re-import key class from module (to refresh the class definition)\n",
    "from sea_ice_toolbox import SeaIceToolbox"
   ]
  },
  {
   "cell_type": "code",
   "execution_count": 3,
   "id": "a47bcf3b-0e1d-4059-b3f5-74b967203787",
   "metadata": {},
   "outputs": [
    {
     "name": "stderr",
     "output_type": "stream",
     "text": [
      "2025-07-10 09:35:58,569 - INFO - log file initialised: /g/data/gv90/da1339/logs/SeaIceToolbox_elps-min.log\n",
      "2025-07-10 09:36:01,430 - INFO - Initialized new Dask client.\n",
      "2025-07-10 09:36:01,435 - INFO - Dask distributed client can be accessed at url /proxy/8787/status\n",
      "2025-07-10 09:36:01,437 - INFO - hemisphere initialised: SH\n",
      "2025-07-10 09:36:01,453 - INFO - searching for files between 1994-01-01 00:00:00 and 1999-12-31 00:00:00 in /g/data/gv90/da1339/afim_output/elps-min/zarr/ispd_thresh_5.0e-4\n",
      "2025-07-10 09:36:01,457 - INFO - Found 72 zarr files\n",
      "2025-07-10 09:37:41,606 - INFO - Loaded FI_BT: 2191 time steps from 72 files\n",
      "INFO:elps-min:Loaded FI_BT: 2191 time steps from 72 files\n",
      "2025-07-10 09:37:41,609 - INFO - Memory after Zarr load: 6.8% used\n",
      "INFO:elps-min:Memory after Zarr load: 6.8% used\n",
      "2025-07-10 09:37:41,611 - INFO - Load monthly iceh_*.zarr files between 1994-01-01 and 1999-12-31\n",
      "INFO:elps-min:Load monthly iceh_*.zarr files between 1994-01-01 and 1999-12-31\n",
      "2025-07-10 09:37:41,639 - INFO - Found 72 zarr files\n",
      "INFO:elps-min:Found 72 zarr files\n",
      "2025-07-10 09:38:30,446 - INFO - Rolling boolean presence: window = 11, min_count = 9\n",
      "INFO:elps-min:Rolling boolean presence: window = 11, min_count = 9\n"
     ]
    }
   ],
   "source": [
    "sim_name   = \"elps-min\"\n",
    "dt0_str    = \"1994-01-01\"\n",
    "dtN_str    = \"1999-12-31\"\n",
    "SI_tools   = SeaIceToolbox(sim_name             = sim_name,\n",
    "                           dt0_str              = dt0_str,\n",
    "                           dtN_str              = dtN_str,\n",
    "                           overwrite_zarr       = True,\n",
    "                           save_new_figs        = True,\n",
    "                           show_figs            = True,\n",
    "                           overwrite_saved_figs = True)\n",
    "FI_raw, CICE = SI_tools.load_processed_cice( zarr_CICE = True )\n",
    "FI_bool      = SI_tools.boolean_fast_ice(FI_raw['FI_mask'])\n",
    "CICE_SO      = CICE.isel(nj=SI_tools.hemisphere_dict['nj_slice'])\n",
    "hi_SO        = CICE_SO['hi']\n",
    "aice_SO      = CICE_SO['aice']\n",
    "tarea_SO     = CICE_SO['tarea']\n",
    "hi_FI        = hi_SO.where(FI_bool)\n",
    "aice_FI      = aice_SO.where(FI_bool)\n",
    "tarea_SO     = tarea_SO.where(FI_bool)"
   ]
  },
  {
   "cell_type": "code",
   "execution_count": 4,
   "id": "b04c3516-d5d6-41fa-ae2a-0c74d5a6fd1d",
   "metadata": {},
   "outputs": [
    {
     "name": "stderr",
     "output_type": "stream",
     "text": [
      "2025-07-10 09:38:49,404 - INFO - log file initialised: /g/data/gv90/da1339/logs/SeaIceToolbox_AOM2-ERA5.log\n",
      "INFO:AOM2-ERA5:log file initialised: /g/data/gv90/da1339/logs/SeaIceToolbox_AOM2-ERA5.log\n",
      "2025-07-10 09:38:49,407 - WARNING - Dask client already exists but was not passed to SeaIceToolbox.\n",
      "WARNING:AOM2-ERA5:Dask client already exists but was not passed to SeaIceToolbox.\n",
      "2025-07-10 09:38:49,409 - WARNING - Please explicitly pass the existing Dask client using `client=...` to avoid confusion.\n",
      "WARNING:AOM2-ERA5:Please explicitly pass the existing Dask client using `client=...` to avoid confusion.\n",
      "2025-07-10 09:38:49,412 - INFO - Dask distributed client can be accessed at url /proxy/8787/status\n",
      "INFO:AOM2-ERA5:Dask distributed client can be accessed at url /proxy/8787/status\n",
      "2025-07-10 09:38:49,415 - INFO - hemisphere initialised: SH\n",
      "INFO:AOM2-ERA5:hemisphere initialised: SH\n",
      "2025-07-10 09:38:49,443 - INFO - searching for files between 1994-01-01 00:00:00 and 1999-12-31 00:00:00 in /g/data/gv90/da1339/afim_output/AOM2-ERA5/zarr/ispd_thresh_5.0e-4\n",
      "INFO:AOM2-ERA5:searching for files between 1994-01-01 00:00:00 and 1999-12-31 00:00:00 in /g/data/gv90/da1339/afim_output/AOM2-ERA5/zarr/ispd_thresh_5.0e-4\n",
      "2025-07-10 09:38:49,446 - INFO - Found 72 zarr files\n",
      "INFO:AOM2-ERA5:Found 72 zarr files\n",
      "2025-07-10 09:40:09,374 - INFO - Loaded FI_BT: 2190 time steps from 72 files\n",
      "INFO:AOM2-ERA5:Loaded FI_BT: 2190 time steps from 72 files\n",
      "2025-07-10 09:40:09,378 - INFO - Memory after Zarr load: 11.1% used\n",
      "INFO:AOM2-ERA5:Memory after Zarr load: 11.1% used\n",
      "2025-07-10 09:40:09,380 - INFO - Load monthly iceh_*.zarr files between 1994-01-01 and 1999-12-31\n",
      "INFO:AOM2-ERA5:Load monthly iceh_*.zarr files between 1994-01-01 and 1999-12-31\n",
      "2025-07-10 09:40:09,412 - INFO - Found 72 zarr files\n",
      "INFO:AOM2-ERA5:Found 72 zarr files\n"
     ]
    }
   ],
   "source": [
    "sim_name    = \"AOM2-ERA5\"\n",
    "SI_tools    = SeaIceToolbox(sim_name            = sim_name,\n",
    "                           dt0_str              = dt0_str,\n",
    "                           dtN_str              = dtN_str,\n",
    "                           overwrite_zarr       = True,\n",
    "                           save_new_figs        = True,\n",
    "                           show_figs            = True,\n",
    "                           overwrite_saved_figs = True)\n",
    "_,AOM2      = SI_tools.load_processed_cice(zarr_CICE = True)\n",
    "AOM2_SO     = AOM2.isel(nj=SI_tools.hemisphere_dict['nj_slice'])\n",
    "hi_AOM2     = AOM2_SO['hi']\n",
    "aice_AOM2   = AOM2_SO['aice']\n",
    "tarea_AOM2  = AOM2_SO['tarea']"
   ]
  },
  {
   "cell_type": "code",
   "execution_count": 5,
   "id": "e90b9aab-9f37-4d63-8482-3bee35605ac4",
   "metadata": {},
   "outputs": [],
   "source": [
    "P_ESA_CCI_reG           = Path(Path.home(),\"seaice\",\"ESA_CCI\",\"L2P\",\"envisat\",\"sh\",\"reG\",\"ESA_CCI_SIT_regridded.zarr\")\n",
    "ESA_CCI                 = xr.open_zarr(P_ESA_CCI_reG)\n",
    "dt                      = pd.to_datetime(ESA_CCI[\"time\"].values)\n",
    "ESA_CCI.coords['doy']   = ('time', dt.dayofyear)\n",
    "ESA_CCI['ESA_sit_clim'] = ESA_CCI['ESA_sit'].groupby('doy').mean('time')\n",
    "ESA_valid_mask          = ~xr.ufuncs.isnan(ESA_CCI['ESA_sit_clim'].isel(doy=0))  # or use `.isel(doy=slice(None)).any('doy')`"
   ]
  },
  {
   "cell_type": "code",
   "execution_count": null,
   "id": "61ec0aa6-89ec-4578-a145-a580627ca344",
   "metadata": {},
   "outputs": [],
   "source": []
  },
  {
   "cell_type": "code",
   "execution_count": null,
   "id": "51661732-deba-45ca-aaf5-bed8b2079679",
   "metadata": {},
   "outputs": [],
   "source": [
    "def compute_model_climatology(sit):\n",
    "    return sit.assign_coords(doy=sit['time'].dt.dayofyear).groupby('doy').mean('time', skipna=True)\n",
    "def compute_volume_climatology(sic, sit, area):\n",
    "    return SI_tools.compute_ice_volume( sic, sit, area ).groubby('doy')\n",
    "def spatially_integrated_sit(clim, valid_mask):\n",
    "    return clim.where(valid_mask).mean(dim=['nj', 'ni'], skipna=True)"
   ]
  },
  {
   "cell_type": "code",
   "execution_count": null,
   "id": "c0e2e894-b609-47c5-8ae6-abcaab1fc5c7",
   "metadata": {},
   "outputs": [],
   "source": [
    "sit_CICE_clim = compute_model_climatology(hi_SO)\n",
    "sit_FI_clim   = compute_model_climatology(hi_FI)\n",
    "sit_AOM2_clim = compute_model_climatology(hi_AOM2)\n",
    "siv_CICE_clim = compute_volume_climatology(aice_SO, hi_SO, tarea_SO)\n",
    "siv_FI_clim   = compute_volume_climatology(aice_FI, hi_FI, tarea_FI)\n",
    "siv_AOM2_clim = compute_volume_climatology(aice_AOM2, hi_AOM2, tarea_AOM2)"
   ]
  },
  {
   "cell_type": "code",
   "execution_count": null,
   "id": "d2c45f5e-cb08-4a1f-873b-ed11e6a23582",
   "metadata": {},
   "outputs": [],
   "source": [
    "\n",
    "    "
   ]
  },
  {
   "cell_type": "code",
   "execution_count": null,
   "id": "56b22e92-904b-4906-8f79-355178c8be60",
   "metadata": {},
   "outputs": [],
   "source": [
    "esa_daily_mean     = spatially_integrated_sit(ESA_CCI['ESA_sit_clim'], ESA_valid_mask)\n",
    "cice_daily_mean    = spatially_integrated_sit(sit_CICE_clim, ESA_valid_mask)\n",
    "fast_daily_mean    = spatially_integrated_sit(sit_FI_clim, ESA_valid_mask)\n",
    "aom2_daily_mean    = spatially_integrated_sit(sit_AOM2_clim, ESA_valid_mask)"
   ]
  },
  {
   "cell_type": "code",
   "execution_count": null,
   "id": "e585d72d-5dd4-40aa-8228-4301a316d714",
   "metadata": {},
   "outputs": [],
   "source": [
    "plt.figure(figsize=(18,10))\n",
    "doy = esa_daily_mean['doy']\n",
    "plt.plot(doy, esa_daily_mean, label='ESA-CCI (2002-2012)', color=\"black\")\n",
    "plt.plot(doy, cice_daily_mean, label='CICE6-SA (elps-min) all sea ice (1994-1999)')\n",
    "plt.plot(doy, fast_daily_mean, label='CICE6-SA (elps-min) fast ice only (1994-1999)')\n",
    "plt.plot(doy, aom2_daily_mean, label='ACCESS-OM2 (ERA5-forced) all sea ice (1994-1999)')\n",
    "plt.xlabel('Day of Year', fontsize=12)\n",
    "plt.xlim([5,360])\n",
    "plt.ylabel('Sea Ice Thickness (m)', fontsize=12)\n",
    "plt.ylim([0,5])\n",
    "plt.legend()\n",
    "plt.tight_layout()\n",
    "plt.savefig(Path(SI_tools.D_graph, sim_name, \"SIT_vs_ESA_CCI_climatology.png\"), dpi=150)\n",
    "plt.show()"
   ]
  },
  {
   "cell_type": "code",
   "execution_count": null,
   "id": "9fe77522-2fd9-45bb-b410-1b53ceb9ed1a",
   "metadata": {},
   "outputs": [],
   "source": [
    "sim_name = \"elps-min\"\n",
    "dt0_str  = \"1994-01-01\"\n",
    "dtN_str  = \"1999-12-31\"\n",
    "SI_tools = SeaIceToolbox(sim_name             = sim_name,\n",
    "                         dt0_str              = dt0_str,\n",
    "                         dtN_str              = dtN_str,\n",
    "                         overwrite_zarr       = True,\n",
    "                         save_new_figs        = True,\n",
    "                         show_figs            = True,\n",
    "                         overwrite_saved_figs = True)\n",
    "P_met    = Path(SI_tools.D_sim,\"zarr\",\"ispd_thresh_5.0e-4\",\"metrics\",\"FI_BT_bool_mets.zarr\")\n",
    "FI_met   = xr.open_zarr(P_met)\n",
    "FI_met['FIV'].plot()\n",
    "# FI_BT_bool = xr.open_zarr( \"/g/data/gv90/da1339/afim_output/ndte-max-re-off/zarr/ispd_thresh_5.0e-4/metrics/FI_BT_bool_mets.zarr\" )\n",
    "# AF2020_CSV = SI_tools.load_AF2020_FIA_summary( start=dt0_str, end=dtN_str )\n",
    "# FIA_obs    = AF2020_CSV['FIA_clim_repeat'].sel(region='circumpolar')\n",
    "# # print(FI_BT_bool['FIA'])\n",
    "# # print(FIA_obs)\n",
    "# P_png = Path(SI_tools.D_graph, sim_name, f\"FIA_FIP_{sim_name}_{SI_tools.ispd_thresh_str}_1994-1999.png\")\n",
    "# #SI_tools.pygmt_map_plot_one_var(FI_BT_bool['FIP'], 'FIP', plot_regions=2, plot_bathymetry=False, plot_GI=True if SI_tools.use_gi else False)\n",
    "# SI_tools.plot_FIA_FIP_faceted( {'FI_BT_bool':FI_BT_bool['FIA']}, FI_BT_bool['FIP'], P_png=P_png, plot_GI=True if SI_tools.use_gi else False)"
   ]
  },
  {
   "cell_type": "code",
   "execution_count": 62,
   "id": "28b926d3-2678-428f-a648-aa5e75d12099",
   "metadata": {},
   "outputs": [
    {
     "name": "stderr",
     "output_type": "stream",
     "text": [
      "2025-07-10 11:41:29,773 - WARNING - Dask client already exists but was not passed to SeaIceToolbox.\n",
      "WARNING:elps-min:Dask client already exists but was not passed to SeaIceToolbox.\n",
      "2025-07-10 11:41:29,775 - WARNING - Please explicitly pass the existing Dask client using `client=...` to avoid confusion.\n",
      "WARNING:elps-min:Please explicitly pass the existing Dask client using `client=...` to avoid confusion.\n",
      "2025-07-10 11:41:29,778 - INFO - Dask distributed client can be accessed at url /proxy/8787/status\n",
      "INFO:elps-min:Dask distributed client can be accessed at url /proxy/8787/status\n",
      "2025-07-10 11:41:29,780 - INFO - hemisphere initialised: SH\n",
      "INFO:elps-min:hemisphere initialised: SH\n",
      "ffmpeg version 7.1 Copyright (c) 2000-2024 the FFmpeg developers\n",
      "  built with gcc 13.3.0 (conda-forge gcc 13.3.0-1)\n",
      "  configuration: --prefix=/g/data/xp65/public/./apps/med_conda/envs/analysis3-25.05 --cc=/home/conda/feedstock_root/build_artifacts/ffmpeg_1732155191655/_build_env/bin/x86_64-conda-linux-gnu-cc --cxx=/home/conda/feedstock_root/build_artifacts/ffmpeg_1732155191655/_build_env/bin/x86_64-conda-linux-gnu-c++ --nm=/home/conda/feedstock_root/build_artifacts/ffmpeg_1732155191655/_build_env/bin/x86_64-conda-linux-gnu-nm --ar=/home/conda/feedstock_root/build_artifacts/ffmpeg_1732155191655/_build_env/bin/x86_64-conda-linux-gnu-ar --disable-doc --enable-openssl --enable-demuxer=dash --enable-hardcoded-tables --enable-libfreetype --enable-libharfbuzz --enable-libfontconfig --enable-libopenh264 --enable-libdav1d --disable-gnutls --enable-libmp3lame --enable-libvpx --enable-libass --enable-pthreads --enable-vaapi --enable-libopenvino --enable-gpl --enable-libx264 --enable-libx265 --enable-libaom --enable-libsvtav1 --enable-libxml2 --enable-pic --enable-shared --disable-static --enable-version3 --enable-zlib --enable-libopus --enable-librsvg --pkg-config=/home/conda/feedstock_root/build_artifacts/ffmpeg_1732155191655/_build_env/bin/pkg-config\n",
      "  libavutil      59. 39.100 / 59. 39.100\n",
      "  libavcodec     61. 19.100 / 61. 19.100\n",
      "  libavformat    61.  7.100 / 61.  7.100\n",
      "  libavdevice    61.  3.100 / 61.  3.100\n",
      "  libavfilter    10.  4.100 / 10.  4.100\n",
      "  libswscale      8.  3.100 /  8.  3.100\n",
      "  libswresample   5.  3.100 /  5.  3.100\n",
      "  libpostproc    58.  3.100 / 58.  3.100\n",
      "Input #0, image2, from '/g/data/gv90/da1339/tmp/frame_%04d.png':\n",
      "  Duration: 00:00:16.76, start: 0.000000, bitrate: N/A\n",
      "  Stream #0:0: Video: png, rgb24(pc, gbr/bt709/iec61966-2-1), 2390x2887 [SAR 11811:11811 DAR 2390:2887], 25 fps, 25 tbr, 25 tbn\n",
      "Stream mapping:\n",
      "  Stream #0:0 -> #0:0 (png (native) -> h264 (libx264))\n",
      "Press [q] to stop, [?] for help\n",
      "[libx264 @ 0x5615a8842b00] using SAR=2888/2887\n",
      "[libx264 @ 0x5615a8842b00] using cpu capabilities: MMX2 SSE2Fast SSSE3 SSE4.2 AVX FMA3 BMI2 AVX2\n",
      "[libx264 @ 0x5615a8842b00] profile High, level 5.1, 4:2:0, 8-bit\n",
      "[libx264 @ 0x5615a8842b00] 264 - core 164 r3095 baee400 - H.264/MPEG-4 AVC codec - Copyleft 2003-2022 - http://www.videolan.org/x264.html - options: cabac=1 ref=3 deblock=1:0:0 analyse=0x3:0x113 me=hex subme=7 psy=1 psy_rd=1.00:0.00 mixed_ref=1 me_range=16 chroma_me=1 trellis=1 8x8dct=1 cqm=0 deadzone=21,11 fast_pskip=1 chroma_qp_offset=-2 threads=42 lookahead_threads=7 sliced_threads=0 nr=0 decimate=1 interlaced=0 bluray_compat=0 constrained_intra=0 bframes=3 b_pyramid=2 b_adapt=1 b_bias=0 direct=1 weightb=1 open_gop=0 weightp=2 keyint=250 keyint_min=2 scenecut=40 intra_refresh=0 rc_lookahead=40 rc=crf mbtree=1 crf=23.0 qcomp=0.60 qpmin=0 qpmax=69 qpstep=4 ip_ratio=1.40 aq=1:1.00\n",
      "Output #0, mp4, to '/g/data/gv90/da1339/GRAPHICAL/AFIM/animations/elps-min/hi/elps-min_hi_south.mp4':\n",
      "  Metadata:\n",
      "    encoder         : Lavf61.7.100\n",
      "  Stream #0:0: Video: h264 (avc1 / 0x31637661), yuv420p(tv, unknown/bt709/iec61966-2-1, progressive), 2390x2888 [SAR 2888:2887 DAR 2390:2887], q=2-31, 2 fps, 16384 tbn\n",
      "      Metadata:\n",
      "        encoder         : Lavc61.19.100 libx264\n",
      "      Side data:\n",
      "        cpb: bitrate max/min/avg: 0/0/0 buffer size: 0 vbv_delay: N/A\n",
      "[vf#0:0 @ 0x5615a8847040] Reconfiguring filter graph because video parameters changed to rgb24(pc, gbr), 3051x2887\n",
      "[vf#0:0 @ 0x5615a8847040] Reconfiguring filter graph because video parameters changed to rgb24(pc, gbr), 3048x2887\n",
      "[vf#0:0 @ 0x5615a8847040] Reconfiguring filter graph because video parameters changed to rgb24(pc, gbr), 2390x2887\n",
      "[vf#0:0 @ 0x5615a8847040] Reconfiguring filter graph because video parameters changed to rgb24(pc, gbr), 3048x2887\n",
      "[vf#0:0 @ 0x5615a8847040] Reconfiguring filter graph because video parameters changed to rgb24(pc, gbr), 3051x2887\n",
      "[vf#0:0 @ 0x5615a8847040] Reconfiguring filter graph because video parameters changed to rgb24(pc, gbr), 3048x2887\n",
      "[vf#0:0 @ 0x5615a8847040] Reconfiguring filter graph because video parameters changed to rgb24(pc, gbr), 3023x2887\n",
      "[vf#0:0 @ 0x5615a8847040] Reconfiguring filter graph because video parameters changed to rgb24(pc, gbr), 3020x2887\n",
      "[vf#0:0 @ 0x5615a8847040] Reconfiguring filter graph because video parameters changed to rgb24(pc, gbr), 3023x2887\n",
      "[vf#0:0 @ 0x5615a8847040] Reconfiguring filter graph because video parameters changed to rgb24(pc, gbr), 3051x2887\n",
      "[vf#0:0 @ 0x5615a8847040] Reconfiguring filter graph because video parameters changed to rgb24(pc, gbr), 3048x2887\n",
      "[vf#0:0 @ 0x5615a8847040] Reconfiguring filter graph because video parameters changed to rgb24(pc, gbr), 2995x2887\n",
      "[vf#0:0 @ 0x5615a8847040] Reconfiguring filter graph because video parameters changed to rgb24(pc, gbr), 3051x2887\n",
      "[vf#0:0 @ 0x5615a8847040] Reconfiguring filter graph because video parameters changed to rgb24(pc, gbr), 3076x2887\n",
      "[vf#0:0 @ 0x5615a8847040] Reconfiguring filter graph because video parameters changed to rgb24(pc, gbr), 2390x2887\n",
      "[out#0/mp4 @ 0x5615a8841980] video:23000KiB audio:0KiB subtitle:0KiB other streams:0KiB global headers:0KiB muxing overhead: 0.026486%\n",
      "frame=  419 fps=6.5 q=-1.0 Lsize=   23006KiB time=00:03:28.50 bitrate= 903.9kbits/s speed=3.22x    \n",
      "[libx264 @ 0x5615a8842b00] frame I:4     Avg QP: 9.65  size:398352\n",
      "[libx264 @ 0x5615a8842b00] frame P:108   Avg QP:12.56  size:110085\n",
      "[libx264 @ 0x5615a8842b00] frame B:307   Avg QP:16.95  size: 32798\n",
      "[libx264 @ 0x5615a8842b00] consecutive B-frames:  1.9%  1.0%  0.7% 96.4%\n",
      "[libx264 @ 0x5615a8842b00] mb I  I16..4: 34.5% 49.3% 16.2%\n",
      "[libx264 @ 0x5615a8842b00] mb P  I16..4:  1.2%  4.4%  1.1%  P16..4:  6.8%  6.0%  3.5%  0.0%  0.0%    skip:77.1%\n",
      "[libx264 @ 0x5615a8842b00] mb B  I16..4:  0.1%  0.2%  0.1%  B16..8:  8.4%  3.5%  1.2%  direct: 3.3%  skip:83.3%  L0:38.4% L1:42.5% BI:19.0%\n",
      "[libx264 @ 0x5615a8842b00] 8x8 transform intra:61.0% inter:62.0%\n",
      "[libx264 @ 0x5615a8842b00] coded y,uvDC,uvAC intra: 53.5% 58.4% 50.5% inter: 8.2% 6.4% 1.3%\n",
      "[libx264 @ 0x5615a8842b00] i16 v,h,dc,p: 76%  7%  3% 14%\n",
      "[libx264 @ 0x5615a8842b00] i8 v,h,dc,ddl,ddr,vr,hd,vl,hu: 29% 13% 23%  4%  6%  7%  6%  6%  5%\n",
      "[libx264 @ 0x5615a8842b00] i4 v,h,dc,ddl,ddr,vr,hd,vl,hu: 31% 20% 18%  5%  6%  6%  5%  5%  4%\n",
      "[libx264 @ 0x5615a8842b00] i8c dc,h,v,p: 62% 13% 15%  9%\n",
      "[libx264 @ 0x5615a8842b00] Weighted P-Frames: Y:0.0% UV:0.0%\n",
      "[libx264 @ 0x5615a8842b00] ref P L0: 59.5% 13.5% 17.2%  9.8%\n",
      "[libx264 @ 0x5615a8842b00] ref B L0: 88.4%  9.4%  2.3%\n",
      "[libx264 @ 0x5615a8842b00] ref B L1: 97.0%  3.0%\n",
      "[libx264 @ 0x5615a8842b00] kb/s:899.34\n"
     ]
    },
    {
     "data": {
      "text/plain": [
       "0"
      ]
     },
     "execution_count": 62,
     "metadata": {},
     "output_type": "execute_result"
    }
   ],
   "source": [
    "sim_name = \"elps-min\"\n",
    "#for region in SI_tools.Ant_8sectors.keys():\n",
    "SI_tools = SeaIceToolbox(sim_name=sim_name)\n",
    "D_png = Path(SI_tools.D_graph, sim_name, \"south\", \"hi\")\n",
    "D_ani = Path(SI_tools.D_graph, \"animations\", sim_name, \"hi\")\n",
    "F_ani = f\"{sim_name}_hi_south.mp4\"\n",
    "P_ani = Path(D_ani,F_ani)\n",
    "P_mp4 = Path.home() / \"AFIM\" / \"src\" / \"AFIM\" / \"docs\" / \"figures\" / F_ani\n",
    "D_ani.mkdir(parents=True, exist_ok=True)\n",
    "frames = sorted([f for f in os.listdir(D_png) if f.endswith(\".png\")])\n",
    "os.system(f\"rm {SI_tools.D_tmp}/frame_*.png\")\n",
    "for i, f in enumerate(frames):\n",
    "    src = D_png / f\n",
    "    dst = Path(SI_tools.D_tmp) / f\"frame_{i:04d}.png\"\n",
    "    if not dst.exists():\n",
    "        os.symlink(src, dst)\n",
    "os.system(f\"ffmpeg -y -r 2 -i {SI_tools.D_tmp}/frame_%04d.png -vf \\\"scale=iw:ih+mod(2-ih\\\\,2)\\\" -c:v libx264 -pix_fmt yuv420p {P_ani}\")\n",
    "os.system(f\"cp {P_ani} {P_mp4}\")"
   ]
  },
  {
   "cell_type": "code",
   "execution_count": null,
   "id": "a245ff5c-9f88-479f-b08f-e97409adeb56",
   "metadata": {},
   "outputs": [],
   "source": [
    "CICE_SO     = CICE.isel(nj=SI_tools.hemisphere_dict['nj_slice'])\n",
    "sim_name    = \"AOM2-ERA5\"\n",
    "dt0_str     = \"1993-01-01\"\n",
    "dtN_str     = \"1999-12-31\"\n",
    "SI_tools    = SeaIceToolbox(sim_name             = sim_name,\n",
    "                           dt0_str              = dt0_str,\n",
    "                           dtN_str              = dtN_str,\n",
    "                           overwrite_zarr       = True,\n",
    "                           save_new_figs        = True,\n",
    "                           show_figs            = True,\n",
    "                           overwrite_saved_figs = True)\n",
    "DS, AOM2    = SI_tools.load_processed_cice(zarr_CICE = True)\n",
    "AOM2_SO     = AOM2.isel(nj=SI_tools.hemisphere_dict['nj_slice'])\n",
    "OSI_SAF     = xr.open_mfdataset(\"/home/581/da1339/seaice/OSI_SAF/ispd_reG_SH*\")"
   ]
  },
  {
   "cell_type": "code",
   "execution_count": null,
   "id": "2ca62a07-e089-475c-bd1c-e749270d29d9",
   "metadata": {},
   "outputs": [],
   "source": [
    "AOM2_ispd   = SI_tools.compute_ice_magnitude_from_ice_components_on_Bgrid(AOM2, ivec_type = 'BT')\n",
    "CICE_ispd   = SI_tools.compute_ice_magnitude_from_ice_components_on_Bgrid(CICE, ivec_type = 'BT')"
   ]
  },
  {
   "cell_type": "code",
   "execution_count": null,
   "id": "4590e916-9846-480e-8339-e73542b213fd",
   "metadata": {},
   "outputs": [],
   "source": [
    "from PIL import Image\n",
    "def stitch_fip_side_by_side(sim_model, sim_obs, base_dir, region_list, output_path, dpi=200):\n",
    "    nrows = len(region_list)\n",
    "    fig, axs = plt.subplots(nrows=nrows, ncols=3, figsize=(20,60))\n",
    "    for row, region in enumerate(region_list):\n",
    "        for col, sim in enumerate([sim_obs, sim_model, \"FIP_delta\"]):  # left: obs, right: model\n",
    "            if col==2:\n",
    "                path = os.path.join(base_dir, sim_model, region, \"FIP_delta\", f\"2000-2018_{sim_model}_{region}_FIP_delta.png\")\n",
    "            else:\n",
    "                path = os.path.join(base_dir, sim, region, \"FIP\", f\"2000-2018_{sim}_{region}_FIP.png\")\n",
    "            if not os.path.exists(path):\n",
    "                print(f\"❌ Missing: {path}\")\n",
    "                axs[row, col].axis(\"off\")\n",
    "                continue\n",
    "            img = Image.open(path)\n",
    "            axs[row, col].imshow(img)\n",
    "            axs[row, col].axis(\"off\")\n",
    "    axs[0, 0].set_title(\"AF2020 (obs)\"       , fontsize=14, fontweight=\"bold\")\n",
    "    axs[0, 1].set_title(f\"{sim_model} (sim)\" , fontsize=14, fontweight=\"bold\")\n",
    "    axs[0, 2].set_title(\"Difference: obs-sim\", fontsize=14, fontweight=\"bold\")\n",
    "    plt.tight_layout()\n",
    "    plt.savefig(output_path, dpi=dpi)\n",
    "    plt.close()\n",
    "    print(f\"✅ Saved stitched figure: {output_path}\")\n",
    "region_list = [\"DML\", \"WIO\", \"EIO\", \"Aus\", \"VOL\", \"AS\", \"BS\", \"WS\"]\n",
    "stitch_fip_side_by_side(\"elps-min\", \"AF20\",\n",
    "                  base_dir=\"/g/data/gv90/da1339/GRAPHICAL/AFIM\",\n",
    "                  region_list=region_list,\n",
    "                  output_path=\"/g/data/gv90/da1339/GRAPHICAL/AFIM/elps-min/FIP_panel_AF20_vs_elps-min.png\")"
   ]
  }
 ],
 "metadata": {
  "kernelspec": {
   "display_name": "Python 3 (ipykernel)",
   "language": "python",
   "name": "python3"
  },
  "language_info": {
   "codemirror_mode": {
    "name": "ipython",
    "version": 3
   },
   "file_extension": ".py",
   "mimetype": "text/x-python",
   "name": "python",
   "nbconvert_exporter": "python",
   "pygments_lexer": "ipython3",
   "version": "3.11.12"
  }
 },
 "nbformat": 4,
 "nbformat_minor": 5
}
